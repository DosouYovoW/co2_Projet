{
 "cells": [
  {
   "cell_type": "markdown",
   "metadata": {},
   "source": [
    "# Temperature sensitivity of CO2 emissions in layered cranberry soils\n",
    "*Wilfried Dossou-Yovo, Serge Étienne Parent,Noura Ziadi, Bertrand Normand, and Léon Étienne parent*"
   ]
  },
  {
   "cell_type": "code",
   "execution_count": 27,
   "metadata": {},
   "outputs": [
    {
     "name": "stdout",
     "output_type": "stream",
     "text": [
      "[1] \"2021-04-21\"\n"
     ]
    }
   ],
   "source": [
    "print(Sys.Date())"
   ]
  },
  {
   "cell_type": "markdown",
   "metadata": {},
   "source": [
    "## 1. Objective"
   ]
  },
  {
   "cell_type": "markdown",
   "metadata": {},
   "source": [
    "This notebook generate the result of CO2 data analysis. Data set contains a collection of soil caracteristics, measured co2 emission collected from incubation study. Soil samples was collected from two cranberry fied stand of eastern canada. Incubation study was carried out at Agriculture and Agri-food Canada(sainte-foy, quebec,qc) from February to Mai 2019. The aim of this study was to measure CO2 emission rates in cranberry soils of Eastern Canada as related to soil temperature and depth"
   ]
  },
  {
   "cell_type": "markdown",
   "metadata": {},
   "source": [
    "## 2. Statistical questions\n",
    "\n",
    "In addition to data exploration, this notebook will answer the following statistical questions.\n",
    " \n",
    "1. What is the influence of soil depth and temperature on CO2 emission?\n",
    "2. Can Arrhenius equation and Q10 be useful to describe temperature sensitivity of carbon decomposition across layers? "
   ]
  },
  {
   "cell_type": "markdown",
   "metadata": {},
   "source": [
    "## 3. Packages"
   ]
  },
  {
   "cell_type": "markdown",
   "metadata": {},
   "source": [
    "We need package [tidyverse](https://www.tidyverse.org/) which loads a set of packages for easy data manipulation(Ex: [dplyr](https://www.rdocumentation.org/packages/dplyr/versions/0.7.8)) and visualization (ex: [ggplot2](https://www.rdocumentation.org/packages/ggplot2/versions/3.2.1)). We also use [ggpubr](https://www.rdocumentation.org/packages/ggpubr/versions/0.1.1) to customise publication ready plot, [ggpmisc](https://www.rdocumentation.org/packages/ggpmisc/versions/0.2.17) and [grid](https://www.rdocumentation.org/packages/grid/versions/3.6.2) are useful packages as extensions to [ggplot2](https://www.rdocumentation.org/packages/ggplot2/versions/3.2.1)."
   ]
  },
  {
   "cell_type": "code",
   "execution_count": 28,
   "metadata": {},
   "outputs": [],
   "source": [
    "library(\"tidyverse\")\n",
    "library(ggpubr)\n",
    "library(ggpmisc)\n",
    "library(grid)"
   ]
  },
  {
   "cell_type": "markdown",
   "metadata": {},
   "source": [
    "### 4. Import data\n",
    "We load two data `data_pot` and `data_co2` involved in our anylisis. `data_pot` contained details about sites sampling, soil sampling(soil depth, weight, water content and bulk density), laboratory incubation temperature while `data_co2` contained details about laboratory incubation time, co2 emission and jar masson details.\n",
    "`data_co2` was combined with `data_pot` with `left_join` function"
   ]
  },
  {
   "cell_type": "code",
   "execution_count": 29,
   "metadata": {},
   "outputs": [
    {
     "name": "stderr",
     "output_type": "stream",
     "text": [
      "\u001b[36mi\u001b[39m Using \u001b[34m\u001b[34m','\u001b[34m\u001b[39m as decimal and \u001b[34m\u001b[34m'.'\u001b[34m\u001b[39m as grouping mark. Use \u001b[30m\u001b[47m\u001b[30m\u001b[47m`read_delim()`\u001b[47m\u001b[30m\u001b[49m\u001b[39m for more control.\n",
      "\n",
      "\n",
      "\u001b[36m--\u001b[39m \u001b[1m\u001b[1mColumn specification\u001b[1m\u001b[22m \u001b[36m--------------------------------------------------------\u001b[39m\n",
      "cols(\n",
      "  `ID pot` = \u001b[32mcol_double()\u001b[39m,\n",
      "  Sites = \u001b[31mcol_character()\u001b[39m,\n",
      "  `Depth (cm)` = \u001b[32mcol_double()\u001b[39m,\n",
      "  Repetition = \u001b[32mcol_double()\u001b[39m,\n",
      "  `Temperature (°C)` = \u001b[32mcol_double()\u001b[39m,\n",
      "  `Pot weight (g)` = \u001b[32mcol_double()\u001b[39m,\n",
      "  `Soil weight (g)` = \u001b[32mcol_double()\u001b[39m,\n",
      "  `Water volume (ml)` = \u001b[32mcol_double()\u001b[39m,\n",
      "  `Water content (%)` = \u001b[32mcol_double()\u001b[39m,\n",
      "  `Bulk density (g/cm3)` = \u001b[32mcol_double()\u001b[39m,\n",
      "  `Carbone(%)` = \u001b[32mcol_double()\u001b[39m,\n",
      "  pHCaCl2 = \u001b[32mcol_double()\u001b[39m\n",
      ")\n",
      "\n",
      "\n",
      "\n",
      "\u001b[36m--\u001b[39m \u001b[1m\u001b[1mColumn specification\u001b[1m\u001b[22m \u001b[36m--------------------------------------------------------\u001b[39m\n",
      "cols(\n",
      "  `ID pot` = \u001b[32mcol_double()\u001b[39m,\n",
      "  `Time (days)` = \u001b[32mcol_double()\u001b[39m,\n",
      "  `Initial CO2 (ppm)` = \u001b[32mcol_double()\u001b[39m,\n",
      "  `Final CO2 (ppm)` = \u001b[32mcol_double()\u001b[39m,\n",
      "  `Time final (h)` = \u001b[32mcol_double()\u001b[39m\n",
      ")\n",
      "\n",
      "\n"
     ]
    }
   ],
   "source": [
    "data_pots <- read_csv2('data/pots.csv')\n",
    "data_co2 <- read_csv('data/co2.csv')\n",
    "data_co2 <- data_co2 %>%\n",
    "left_join(data_pots, by = \"ID pot\")"
   ]
  },
  {
   "cell_type": "markdown",
   "metadata": {},
   "source": [
    "## 5. Some calculations "
   ]
  },
  {
   "cell_type": "markdown",
   "metadata": {},
   "source": [
    "Several variables have been added to our data in order to proceed for analysis. The added variables are the following: `Temperature (Kelvin)`, `Molar Volume (L/mol)`, `Headspace Volume (mL)`, `Dry soil weight (g)`, `CO2 emission (ug/h/g)`, `CO2 emission (mg/kg)`, `decomposition rate K`, `lnK`and `1/T(T = Temperature(Kelvin)`"
   ]
  },
  {
   "cell_type": "code",
   "execution_count": 30,
   "metadata": {},
   "outputs": [
    {
     "name": "stderr",
     "output_type": "stream",
     "text": [
      "Warning message in log(K):\n",
      "\"production de NaN\"\n"
     ]
    }
   ],
   "source": [
    "container_volume <- 250 # mL\n",
    "gas_constant <- 8.31446 # unit\n",
    "atm_pressure_n <- 101.325\n",
    "\n",
    "data_co2 <- data_co2 %>%\n",
    "  mutate(`Temperature (K)` = `Temperature (°C)` + 273,\n",
    "         `Total carbon (Mg/ha)` = `Bulk density (g/cm3)` * `Carbone(%)` * 10,\n",
    "         `Molar Volume (L/mol)` = gas_constant * `Temperature (K)` / atm_pressure_n,\n",
    "         `Headspace Volume (mL)` = container_volume - (`Soil weight (g)` / `Bulk density (g/cm3)`), # 250 mL is the volume of the container\n",
    "         `Dry soil weight (g)` = `Soil weight (g)` - (`Soil weight (g)` * `Water content (%)` / 100),\n",
    "         `CO2 emission (ug/h/g)` = (`Final CO2 (ppm)` - `Initial CO2 (ppm)`) * 0.000001 * 44000000 /\n",
    "                                   `Molar Volume (L/mol)` * (`Headspace Volume (mL)` / 1000) * (12 / 44) /\n",
    "                                   `Time final (h)` / `Dry soil weight (g)`,\n",
    "         `CO2 emission (mg/kg)` = `CO2 emission (ug/h/g)` * 24 * `Time (days)`,\n",
    "         `CO2 emission (Mg/ha)` = `CO2 emission (mg/kg)` * `Bulk density (g/cm3)` * 10 * 0.0001,\n",
    "         K = log(`Total carbon (Mg/ha)` / (`Total carbon (Mg/ha)` - `CO2 emission (Mg/ha)`)) / `Time (days)`,\n",
    "         lnK = log(K),\n",
    "         `1/T` = 1 / `Temperature (K)`)"
   ]
  },
  {
   "cell_type": "markdown",
   "metadata": {},
   "source": [
    "## 6. Data Exploration"
   ]
  },
  {
   "cell_type": "markdown",
   "metadata": {},
   "source": [
    "### 6.1 Boxplot"
   ]
  },
  {
   "cell_type": "code",
   "execution_count": 31,
   "metadata": {},
   "outputs": [],
   "source": [
    "New.labs <- c(\"10°C\", \"20°C\", \"30°C\") # Change labels \n",
    "names(New.labs) <- c(\"10\", \"20\", \"30\")\n",
    "\n",
    "New.labs_b <-  c(\"[0-10 cm]\", \"[10-20 cm]\", \"[20-30 cm]\") # Change labels\n",
    "names(New.labs_b) <- c(\"10\", \"20\", \"30\")"
   ]
  },
  {
   "cell_type": "code",
   "execution_count": 32,
   "metadata": {},
   "outputs": [
    {
     "data": {
      "image/png": "[encoded data removed]",
      "text/plain": [
       "plot without title"
      ]
     },
     "metadata": {
      "image/png": {
       "height": 420,
       "width": 360
      }
     },
     "output_type": "display_data"
    }
   ],
   "source": [
    "options(repr.plot.width = 6, repr.plot.height = 7)\n",
    "pg <- ggplot(data=data_co2, aes(x = `Time (days)`,y = `CO2 emission (ug/h/g)` , group = `Temperature (°C)`)) +\n",
    "geom_boxplot() + \n",
    "facet_grid(`Depth (cm)` ~ `Temperature (°C)`,   scales = \"free\", \n",
    "          labeller = labeller(`Depth (cm)` = New.labs_b, `Temperature (°C)` = New.labs))+ \n",
    "geom_jitter(width = 1/40, # very small width for the random noise\n",
    "                                  height = 1/20, # very small height for the random noise\n",
    "                                  alpha = 1/2, # transparent so we can see clustering\n",
    "                                  size = 1) + # very small points \n",
    "  theme(legend.position = \"none\") +\n",
    "        geom_boxplot(alpha=0.5)+\n",
    " xlab(\"Incubation time (days)\") + ylab(bquote(~CO[2]~ 'emision ('*mu~'g'~ h^-1~g^-1*')'))\n",
    "pg \n",
    "ggsave(\"figures/Boxplot.png\", width = 6, height = 7, dpi = 600)# export plot high resolution"
   ]
  },
  {
   "cell_type": "markdown",
   "metadata": {},
   "source": [
    "## 7.What is the influence of soil depth and temperature on CO2 emission?"
   ]
  },
  {
   "cell_type": "markdown",
   "metadata": {},
   "source": [
    "### 7.1 linear regression"
   ]
  },
  {
   "cell_type": "code",
   "execution_count": 33,
   "metadata": {},
   "outputs": [],
   "source": [
    "data_co2 <- data_co2 %>%\n",
    "  rename(Co2 = `CO2 emission (ug/h/g)`,\n",
    "         Time = `Time (days)`,\n",
    "         Layers = `Depth (cm)`,\n",
    "         Temperature = `Temperature (°C)`,\n",
    "         Total_carbon = `Total carbon (Mg/ha)`,\n",
    "         Id = `ID pot`)%>%\n",
    "  drop_na() %>%\n",
    "  droplevels()\n",
    "\n",
    "co2_lm <- lm((log10(Co2)) ~ Time + Layers + Temperature,\n",
    "                     data = data_co2) "
   ]
  },
  {
   "cell_type": "code",
   "execution_count": 34,
   "metadata": {},
   "outputs": [
    {
     "data": {
      "text/plain": [
       "\n",
       "Call:\n",
       "lm(formula = (log10(Co2)) ~ Time + Layers + Temperature, data = data_co2)\n",
       "\n",
       "Residuals:\n",
       "    Min      1Q  Median      3Q     Max \n",
       "-1.3504 -0.1473  0.0314  0.1692  0.7925 \n",
       "\n",
       "Coefficients:\n",
       "              Estimate Std. Error t value Pr(>|t|)    \n",
       "(Intercept) -0.8351070  0.0407928  -20.47   <2e-16 ***\n",
       "Time        -0.0034012  0.0003185  -10.68   <2e-16 ***\n",
       "Layers      -0.0749675  0.0013240  -56.62   <2e-16 ***\n",
       "Temperature  0.0360113  0.0013288   27.10   <2e-16 ***\n",
       "---\n",
       "Signif. codes:  0 '***' 0.001 '**' 0.01 '*' 0.05 '.' 0.1 ' ' 1\n",
       "\n",
       "Residual standard error: 0.2625 on 607 degrees of freedom\n",
       "Multiple R-squared:  0.8622,\tAdjusted R-squared:  0.8615 \n",
       "F-statistic:  1266 on 3 and 607 DF,  p-value: < 2.2e-16\n"
      ]
     },
     "metadata": {},
     "output_type": "display_data"
    }
   ],
   "source": [
    "summary(co2_lm)"
   ]
  },
  {
   "cell_type": "markdown",
   "metadata": {},
   "source": [
    "### Residual sum of squares:"
   ]
  },
  {
   "cell_type": "code",
   "execution_count": 35,
   "metadata": {},
   "outputs": [
    {
     "data": {
      "text/html": [
       "41.8321037522188"
      ],
      "text/latex": [
       "41.8321037522188"
      ],
      "text/markdown": [
       "41.8321037522188"
      ],
      "text/plain": [
       "[1] 41.8321"
      ]
     },
     "metadata": {},
     "output_type": "display_data"
    }
   ],
   "source": [
    "RSS <- c(crossprod(co2_lm$residuals))\n",
    "RSS"
   ]
  },
  {
   "cell_type": "markdown",
   "metadata": {},
   "source": [
    "### Mean squared error"
   ]
  },
  {
   "cell_type": "code",
   "execution_count": 36,
   "metadata": {},
   "outputs": [
    {
     "data": {
      "text/html": [
       "0.0684649815911928"
      ],
      "text/latex": [
       "0.0684649815911928"
      ],
      "text/markdown": [
       "0.0684649815911928"
      ],
      "text/plain": [
       "[1] 0.06846498"
      ]
     },
     "metadata": {},
     "output_type": "display_data"
    }
   ],
   "source": [
    "MSE <- RSS / length(co2_lm$residuals)\n",
    "MSE"
   ]
  },
  {
   "cell_type": "markdown",
   "metadata": {},
   "source": [
    "### Root MSE"
   ]
  },
  {
   "cell_type": "code",
   "execution_count": 37,
   "metadata": {},
   "outputs": [
    {
     "data": {
      "text/html": [
       "0.261658138782635"
      ],
      "text/latex": [
       "0.261658138782635"
      ],
      "text/markdown": [
       "0.261658138782635"
      ],
      "text/plain": [
       "[1] 0.2616581"
      ]
     },
     "metadata": {},
     "output_type": "display_data"
    }
   ],
   "source": [
    "RMSE <- sqrt(MSE)\n",
    "RMSE"
   ]
  },
  {
   "cell_type": "markdown",
   "metadata": {},
   "source": [
    "### P-value"
   ]
  },
  {
   "cell_type": "code",
   "execution_count": 38,
   "metadata": {},
   "outputs": [
    {
     "data": {
      "text/html": [
       "<style>\n",
       ".dl-inline {width: auto; margin:0; padding: 0}\n",
       ".dl-inline>dt, .dl-inline>dd {float: none; width: auto; display: inline-block}\n",
       ".dl-inline>dt::after {content: \":\\0020\"; padding-right: .5ex}\n",
       ".dl-inline>dt:not(:first-of-type) {padding-left: .5ex}\n",
       "</style><dl class=dl-inline><dt>(Intercept)</dt><dd>3.20086628982338e-71</dd><dt>Time</dt><dd>1.63535763161054e-24</dd><dt>Layers</dt><dd>2.15460079395193e-244</dd><dt>Temperature</dt><dd>1.33322777208933e-106</dd></dl>\n"
      ],
      "text/latex": [
       "\\begin{description*}\n",
       "\\item[(Intercept)] 3.20086628982338e-71\n",
       "\\item[Time] 1.63535763161054e-24\n",
       "\\item[Layers] 2.15460079395193e-244\n",
       "\\item[Temperature] 1.33322777208933e-106\n",
       "\\end{description*}\n"
      ],
      "text/markdown": [
       "(Intercept)\n",
       ":   3.20086628982338e-71Time\n",
       ":   1.63535763161054e-24Layers\n",
       ":   2.15460079395193e-244Temperature\n",
       ":   1.33322777208933e-106\n",
       "\n"
      ],
      "text/plain": [
       "  (Intercept)          Time        Layers   Temperature \n",
       " 3.200866e-71  1.635358e-24 2.154601e-244 1.333228e-106 "
      ]
     },
     "metadata": {},
     "output_type": "display_data"
    }
   ],
   "source": [
    "summary(co2_lm)$coefficients[,4]"
   ]
  },
  {
   "cell_type": "markdown",
   "metadata": {},
   "source": [
    "### 7.2 Reporting the results of the linear regression"
   ]
  },
  {
   "cell_type": "code",
   "execution_count": 39,
   "metadata": {},
   "outputs": [
    {
     "data": {
      "image/png": "[encoded data removed]",
      "text/plain": [
       "plot without title"
      ]
     },
     "metadata": {
      "image/png": {
       "height": 120,
       "width": 480
      }
     },
     "output_type": "display_data"
    }
   ],
   "source": [
    "options(repr.plot.width = 8, repr.plot.height = 2)\n",
    "ic <- confint(co2_lm, level = 0.95)\n",
    "co <- coef(co2_lm)\n",
    "co2_lm_res <- tibble(variable = rownames(ic),\n",
    "                         ll = ic[, 1], est = co, ul = ic[, 2])\n",
    "\n",
    "co2_lm_res %>%\n",
    "  filter(variable != \"(Intercept)\") %>%\n",
    "  ggplot(aes(x = est, y = variable)) +\n",
    "  geom_vline(xintercept = 0, lty = 2) +\n",
    "  geom_segment(mapping = aes(\n",
    "    x = ll,\n",
    "    xend = ul,\n",
    "    yend = variable\n",
    "    )\n",
    "  ) +\n",
    "xlab('Coefficient') +\n",
    "  ylab('') +\n",
    "  geom_point() +\n",
    "theme(strip.text.y = element_text(angle=0),\n",
    "        legend.title = element_blank(),\n",
    "        legend.position = \"bottom\",\n",
    "        text = element_text(size = 18, face=\"bold\"),\n",
    "      axis.title=element_text(size=14,face=\"bold\")) +\n",
    "ggsave(\"figures/Linear-model-Co2.png\", width = 8, height = 2, dpi = 600)"
   ]
  },
  {
   "cell_type": "markdown",
   "metadata": {},
   "source": [
    "### 7.3 Prediction model of CO2 emission in cranberry soils in three-layer positions (0-10 cm, 10-20 cm, 20-30 cm) and at three temperatures (10, 20 and 30oC).\n",
    "Here, we use our model `co2_lm` to predict co2 emission trend. In order to do that, we create a new data called `Data_exp` following predicted Co2 column. The trend line was drawn with `data_exp`"
   ]
  },
  {
   "cell_type": "code",
   "execution_count": 40,
   "metadata": {},
   "outputs": [
    {
     "data": {
      "image/png": "[encoded data removed]",
      "text/plain": [
       "plot without title"
      ]
     },
     "metadata": {
      "image/png": {
       "height": 360,
       "width": 480
      }
     },
     "output_type": "display_data"
    }
   ],
   "source": [
    "New.labs <- c(\"10°C\", \"20°C\", \"30°C\") # Change labels \n",
    "names(New.labs) <- c(\"10\", \"20\", \"30\")\n",
    "\n",
    "New.labs_b <-  c(\"[0-10 cm]\", \"[10-20 cm]\", \"[20-30 cm]\") # Change labels\n",
    "names(New.labs_b) <- c(\"10\", \"20\", \"30\")\n",
    "\n",
    "Data_exp <- expand.grid(Time = seq(0, 105, 5), Layers = c(10, 20, 30), Temperature = c(10, 20, 30))\n",
    "Data_exp$Co2 <- 10^predict(co2_lm, newdata = Data_exp, level=0)\n",
    "\n",
    "options(repr.plot.width = 8, repr.plot.height = 6)\n",
    "theme_set(theme_bw())\n",
    "pl <- ggplot(data = data_co2, aes(x = Time, y = Co2)) +\n",
    " facet_grid(Layers ~ Temperature, scales = \"free\", labeller = labeller(`Layers` = New.labs_b, `Temperature` = New.labs)) +\n",
    "  xlab(\"Incubation time (days)\") + ylab(bquote(~CO[2]~ 'emision rate ('*mu~'g'~ h^-1~g^-1*')'))\n",
    "pl + geom_point(shape=1, size = 1.5) +\n",
    "  geom_line(data = Data_exp) +\n",
    "scale_y_log10() +\n",
    "theme_bw() +\n",
    "theme(strip.text = element_text(size = 14), axis.text=element_text(size=14),\n",
    "        axis.title=element_text(size=16),\n",
    "     axis.title.y = element_text(size=16)) +\n",
    "  \n",
    "ggsave(\"figures/CO2 emission.png\", width = 8, height = 6, dpi = 600)# export plot high resolution"
   ]
  },
  {
   "cell_type": "markdown",
   "metadata": {},
   "source": [
    "### 7.4 Normality test"
   ]
  },
  {
   "cell_type": "code",
   "execution_count": 41,
   "metadata": {},
   "outputs": [
    {
     "data": {
      "text/plain": [
       "\n",
       "\tShapiro-Wilk normality test\n",
       "\n",
       "data:  data_co2$Co2\n",
       "W = 0.64207, p-value < 2.2e-16\n"
      ]
     },
     "metadata": {},
     "output_type": "display_data"
    }
   ],
   "source": [
    "shapiro.test(data_co2$Co2)"
   ]
  },
  {
   "cell_type": "code",
   "execution_count": null,
   "metadata": {},
   "outputs": [],
   "source": []
  },
  {
   "cell_type": "code",
   "execution_count": 42,
   "metadata": {},
   "outputs": [
    {
     "data": {
      "image/png": "[encoded data removed]",
      "text/plain": [
       "Plot with title \"\""
      ]
     },
     "metadata": {
      "image/png": {
       "height": 480,
       "width": 480
      }
     },
     "output_type": "display_data"
    }
   ],
   "source": [
    "options(repr.plot.width=8, repr.plot.height=8)\n",
    "par(mfrow = c(2, 2))\n",
    "plot(co2_lm)"
   ]
  },
  {
   "cell_type": "markdown",
   "metadata": {},
   "source": [
    "## 8. What is the temperature sensitivity across cranberry soil layers?"
   ]
  },
  {
   "cell_type": "markdown",
   "metadata": {},
   "source": [
    "### 8.1 Fit of Arrhenius equation"
   ]
  },
  {
   "cell_type": "markdown",
   "metadata": {},
   "source": [
    "The Arrhenius equation has been used to describe temperature sensitivity to CO2 emission. The Arrhenius equation was computed as follows: \n",
    "\n",
    "\n",
    "\n",
    "$$k = A e^{{\\frac{-Ea}{RT}}}$$\n",
    "\n",
    "$$log \\left( k \\right) = log \\left( A e^{\\frac{-Ea}{RT}} \\right)$$\n",
    "\n",
    "$$log \\left( k \\right) = log \\left( A \\right) + log \\left(e^{\\frac{-Ea}{RT}} \\right)$$\n",
    "\n",
    "$$log \\left( k \\right) = log \\left( A \\right) - \\frac{1}{T} \\times \\left(\\frac{Ea}{R}\\right)$$\n",
    "\n",
    "Where $A$ is the pre-exponential factor and $Ea$ is activation energy assumed to be independent of temperature, $R$ is the universal gas constant and $T$ is absolute temperature (Kelvin)"
   ]
  },
  {
   "cell_type": "code",
   "execution_count": 43,
   "metadata": {},
   "outputs": [],
   "source": [
    "models_co2 <- data_co2 %>%\n",
    "  group_by(`Layers`) %>%\n",
    "  summarise(linmod = list(lm(lnK ~ `1/T`)))\n",
    "\n",
    "linmod_coef <- list()\n",
    "for (i in seq_along(models_co2$linmod)) linmod_coef[[i]] <- models_co2$linmod[[i]]$coefficients\n",
    "linmod_coef <- do.call(rbind.data.frame, linmod_coef)\n",
    "names(linmod_coef) <- c(\"Intercept\", \"Slope\")\n",
    "linmod_coef <- bind_cols(unique(data_co2[\"Layers\"]), linmod_coef)"
   ]
  },
  {
   "cell_type": "code",
   "execution_count": 44,
   "metadata": {},
   "outputs": [
    {
     "data": {
      "image/png": "[encoded data removed]",
      "text/plain": [
       "plot without title"
      ]
     },
     "metadata": {
      "image/png": {
       "height": 240,
       "width": 480
      }
     },
     "output_type": "display_data"
    }
   ],
   "source": [
    "options(repr.plot.width = 8, repr.plot.height = 4)\n",
    "  data_co2 %>%\n",
    "  ggplot(aes(x = `1/T`, y = lnK)) +\n",
    "  facet_grid(~`Layers`, labeller = labeller(`Layers` = New.labs_b)) +\n",
    "  geom_boxplot(aes(group = factor(`1/T`))) +\n",
    "stat_regline_equation(aes(label =  paste(..eq.label.., ..rr.label.., sep = \"~~\")), label.x = 0.00331, label.y = -7) +\n",
    "  geom_abline(data = linmod_coef, aes(intercept = Intercept, slope = Slope), lwd = 2) +\n",
    "  labs(y = \"ln(K)\") +\n",
    "theme_bw() +\n",
    "theme(strip.text = element_text(size = 14), axis.text=element_text(size=14),\n",
    "        axis.title=element_text(size=14)) +\n",
    "ggsave(\"figures/Arrhénius équation.png\", width = 8, height = 4, dpi = 600)# export plot high resolution"
   ]
  },
  {
   "cell_type": "markdown",
   "metadata": {},
   "source": [
    "### 8.2 Activation Energy computation"
   ]
  },
  {
   "cell_type": "code",
   "execution_count": 45,
   "metadata": {},
   "outputs": [],
   "source": [
    "Activation_energy <- tibble(\n",
    "    Soil_layers = c(\"10\", \"20\", \"30\"),\n",
    "    intercept = NA,\n",
    "    slope = NA,\n",
    "    adj_r_sq = NA\n",
    ")"
   ]
  },
  {
   "cell_type": "code",
   "execution_count": 46,
   "metadata": {},
   "outputs": [],
   "source": [
    "lm_arrhenius <- for (i in 1:nrow(Activation_energy)) {\n",
    "    \n",
    "    lm_Activation_energy <- data_co2 %>%\n",
    "      filter(`Layers` == Activation_energy$Soil_layers[i]) %>%\n",
    "      lm(lnK ~ `1/T`, data = .)\n",
    "    \n",
    "    # intercept\n",
    "    Activation_energy$intercept[i] <- coef(lm_Activation_energy)[1]\n",
    "\n",
    "    # Slope\n",
    "     Activation_energy$slope[i] <- coef(lm_Activation_energy)[2]\n",
    "   \n",
    "    # statistics\n",
    "    Activation_energy$adj_r_sq[i] <- summary(lm_Activation_energy)$adj.r.squared\n",
    "}"
   ]
  },
  {
   "cell_type": "code",
   "execution_count": 47,
   "metadata": {},
   "outputs": [
    {
     "data": {
      "text/html": [
       "<table class=\"dataframe\">\n",
       "<caption>A tibble: 3 × 3</caption>\n",
       "<thead>\n",
       "\t<tr><th scope=col>Soil_layers</th><th scope=col>adj_r_sq</th><th scope=col>Ea</th></tr>\n",
       "\t<tr><th scope=col>&lt;chr&gt;</th><th scope=col>&lt;dbl&gt;</th><th scope=col>&lt;dbl&gt;</th></tr>\n",
       "</thead>\n",
       "<tbody>\n",
       "\t<tr><td>10</td><td>0.4880430</td><td>49.90107</td></tr>\n",
       "\t<tr><td>20</td><td>0.4015598</td><td>58.63364</td></tr>\n",
       "\t<tr><td>30</td><td>0.4897419</td><td>71.15313</td></tr>\n",
       "</tbody>\n",
       "</table>\n"
      ],
      "text/latex": [
       "A tibble: 3 × 3\n",
       "\\begin{tabular}{lll}\n",
       " Soil\\_layers & adj\\_r\\_sq & Ea\\\\\n",
       " <chr> & <dbl> & <dbl>\\\\\n",
       "\\hline\n",
       "\t 10 & 0.4880430 & 49.90107\\\\\n",
       "\t 20 & 0.4015598 & 58.63364\\\\\n",
       "\t 30 & 0.4897419 & 71.15313\\\\\n",
       "\\end{tabular}\n"
      ],
      "text/markdown": [
       "\n",
       "A tibble: 3 × 3\n",
       "\n",
       "| Soil_layers &lt;chr&gt; | adj_r_sq &lt;dbl&gt; | Ea &lt;dbl&gt; |\n",
       "|---|---|---|\n",
       "| 10 | 0.4880430 | 49.90107 |\n",
       "| 20 | 0.4015598 | 58.63364 |\n",
       "| 30 | 0.4897419 | 71.15313 |\n",
       "\n"
      ],
      "text/plain": [
       "  Soil_layers adj_r_sq  Ea      \n",
       "1 10          0.4880430 49.90107\n",
       "2 20          0.4015598 58.63364\n",
       "3 30          0.4897419 71.15313"
      ]
     },
     "metadata": {},
     "output_type": "display_data"
    }
   ],
   "source": [
    "R = 8.3144621 / 1000 # Gas constant Kj/mol/K \n",
    "Activation_energy <-  Activation_energy %>%\n",
    "  mutate(Ea = -slope * R) %>%\n",
    "  select(Soil_layers, adj_r_sq, Ea)\n",
    "Activation_energy"
   ]
  },
  {
   "cell_type": "markdown",
   "metadata": {},
   "source": [
    "### 8.3 Computing K median in order to compute Q10 value accross soil depth"
   ]
  },
  {
   "cell_type": "code",
   "execution_count": 48,
   "metadata": {},
   "outputs": [
    {
     "data": {
      "text/html": [
       "<table class=\"dataframe\">\n",
       "<caption>A tibble: 3 × 6</caption>\n",
       "<thead>\n",
       "\t<tr><th scope=col>Layers</th><th scope=col>10</th><th scope=col>20</th><th scope=col>30</th><th scope=col>Q_20_10</th><th scope=col>Q_30_20</th></tr>\n",
       "\t<tr><th scope=col>&lt;dbl&gt;</th><th scope=col>&lt;dbl&gt;</th><th scope=col>&lt;dbl&gt;</th><th scope=col>&lt;dbl&gt;</th><th scope=col>&lt;dbl&gt;</th><th scope=col>&lt;dbl&gt;</th></tr>\n",
       "</thead>\n",
       "<tbody>\n",
       "\t<tr><td>10</td><td>5.997791e-05</td><td>1.390499e-04</td><td>2.502378e-04</td><td>2.318351</td><td>1.799627</td></tr>\n",
       "\t<tr><td>20</td><td>1.704718e-05</td><td>4.075907e-05</td><td>8.805731e-05</td><td>2.390957</td><td>2.160435</td></tr>\n",
       "\t<tr><td>30</td><td>8.780531e-06</td><td>1.993569e-05</td><td>6.657057e-05</td><td>2.270443</td><td>3.339266</td></tr>\n",
       "</tbody>\n",
       "</table>\n"
      ],
      "text/latex": [
       "A tibble: 3 × 6\n",
       "\\begin{tabular}{llllll}\n",
       " Layers & 10 & 20 & 30 & Q\\_20\\_10 & Q\\_30\\_20\\\\\n",
       " <dbl> & <dbl> & <dbl> & <dbl> & <dbl> & <dbl>\\\\\n",
       "\\hline\n",
       "\t 10 & 5.997791e-05 & 1.390499e-04 & 2.502378e-04 & 2.318351 & 1.799627\\\\\n",
       "\t 20 & 1.704718e-05 & 4.075907e-05 & 8.805731e-05 & 2.390957 & 2.160435\\\\\n",
       "\t 30 & 8.780531e-06 & 1.993569e-05 & 6.657057e-05 & 2.270443 & 3.339266\\\\\n",
       "\\end{tabular}\n"
      ],
      "text/markdown": [
       "\n",
       "A tibble: 3 × 6\n",
       "\n",
       "| Layers &lt;dbl&gt; | 10 &lt;dbl&gt; | 20 &lt;dbl&gt; | 30 &lt;dbl&gt; | Q_20_10 &lt;dbl&gt; | Q_30_20 &lt;dbl&gt; |\n",
       "|---|---|---|---|---|---|\n",
       "| 10 | 5.997791e-05 | 1.390499e-04 | 2.502378e-04 | 2.318351 | 1.799627 |\n",
       "| 20 | 1.704718e-05 | 4.075907e-05 | 8.805731e-05 | 2.390957 | 2.160435 |\n",
       "| 30 | 8.780531e-06 | 1.993569e-05 | 6.657057e-05 | 2.270443 | 3.339266 |\n",
       "\n"
      ],
      "text/plain": [
       "  Layers 10           20           30           Q_20_10  Q_30_20 \n",
       "1 10     5.997791e-05 1.390499e-04 2.502378e-04 2.318351 1.799627\n",
       "2 20     1.704718e-05 4.075907e-05 8.805731e-05 2.390957 2.160435\n",
       "3 30     8.780531e-06 1.993569e-05 6.657057e-05 2.270443 3.339266"
      ]
     },
     "metadata": {},
     "output_type": "display_data"
    }
   ],
   "source": [
    "K_median <- aggregate(K ~ `Layers` + `Temperature`, data = data_co2, FUN = median)\n",
    "K_median_01 <- K_median %>%\n",
    "  pivot_wider(names_from = `Temperature`, values_from = K)\n",
    "\n",
    "K_median_01$Q_20_10 <- K_median_01$`20` / K_median_01$`10`\n",
    "K_median_01$Q_30_20 <- K_median_01$`30` / K_median_01$`20`\n",
    "K_median_01"
   ]
  },
  {
   "cell_type": "code",
   "execution_count": 49,
   "metadata": {},
   "outputs": [],
   "source": [
    "K_median_02 <- aggregate(K ~ `Sites` + `Time` + `Layers` + `Temperature`, data = data_co2, FUN = median)\n",
    "\n",
    "K_median_02 <- K_median_02 %>%\n",
    "  pivot_wider(names_from = `Temperature`, values_from = K)\n",
    "\n",
    "#K_median_02\n",
    "K_median_02$Q_20_10 <- K_median_02$`20` / K_median_02$`10`\n",
    "K_median_02$Q_30_20 <- K_median_02$`30` / K_median_02$`20`\n",
    "K_median_02 <- K_median_02 %>%\n",
    "na.omit(K_median_02)\n",
    "data_Q10 <- gather(data = K_median_02, key = `Temperature range`, value = Q10, c(`Q_20_10`, `Q_30_20`),\n",
    "                    factor_key=TRUE)\n"
   ]
  },
  {
   "cell_type": "code",
   "execution_count": 50,
   "metadata": {},
   "outputs": [],
   "source": [
    "data_Q10$Log_Q10 <- log10(data_Q10$Q10)\n",
    "\n",
    "Q10_lm <- lm(log(Q10) ~  Layers,\n",
    "                     data = data_Q10) "
   ]
  },
  {
   "cell_type": "code",
   "execution_count": 51,
   "metadata": {},
   "outputs": [
    {
     "data": {
      "text/plain": [
       "\n",
       "Call:\n",
       "lm(formula = log(Q10) ~ Layers, data = data_Q10)\n",
       "\n",
       "Residuals:\n",
       "     Min       1Q   Median       3Q      Max \n",
       "-1.42266 -0.19647 -0.05162  0.20068  0.97976 \n",
       "\n",
       "Coefficients:\n",
       "            Estimate Std. Error t value Pr(>|t|)    \n",
       "(Intercept) 0.530342   0.092118   5.757 1.02e-07 ***\n",
       "Layers      0.014186   0.004482   3.165  0.00208 ** \n",
       "---\n",
       "Signif. codes:  0 '***' 0.001 '**' 0.01 '*' 0.05 '.' 0.1 ' ' 1\n",
       "\n",
       "Residual standard error: 0.35 on 96 degrees of freedom\n",
       "Multiple R-squared:  0.09449,\tAdjusted R-squared:  0.08506 \n",
       "F-statistic: 10.02 on 1 and 96 DF,  p-value: 0.002077\n"
      ]
     },
     "metadata": {},
     "output_type": "display_data"
    }
   ],
   "source": [
    "summary(Q10_lm)"
   ]
  },
  {
   "cell_type": "code",
   "execution_count": 52,
   "metadata": {},
   "outputs": [
    {
     "name": "stderr",
     "output_type": "stream",
     "text": [
      "`geom_smooth()` using formula 'y ~ x'\n",
      "\n",
      "`geom_smooth()` using formula 'y ~ x'\n",
      "\n"
     ]
    },
    {
     "data": {
      "image/png": "[encoded data removed]",
      "text/plain": [
       "plot without title"
      ]
     },
     "metadata": {
      "image/png": {
       "height": 240,
       "width": 480
      }
     },
     "output_type": "display_data"
    }
   ],
   "source": [
    "options(repr.plot.width = 8, repr.plot.height = 4)\n",
    "data_Q10$`Layers` <- as.character(data_Q10$`Layers`)\n",
    "ggplot(data=data_Q10, aes(x = `Time`, y = `Q10`)) +\n",
    "facet_grid(.~`Layers`, labeller = labeller(`Layers` = New.labs_b)) +\n",
    "geom_smooth(method = \"lm\", se = FALSE, color = \"Black\") +\n",
    "geom_point(shape=1, size = 1.5) +\n",
    "theme_bw() + \n",
    "theme(strip.text = element_text(size = 14), axis.text=element_text(size=14),\n",
    "        axis.title=element_text(size=14)) \n",
    "ggsave(\"figures/Variation of Q10 across layers.png\", width = 8, height = 4, dpi = 600)# export plot high resolution"
   ]
  },
  {
   "cell_type": "markdown",
   "metadata": {},
   "source": [
    "## 9. Soil description"
   ]
  },
  {
   "cell_type": "markdown",
   "metadata": {},
   "source": [
    "### 9.1 Soil layers properties"
   ]
  },
  {
   "cell_type": "markdown",
   "metadata": {},
   "source": [
    "Import data"
   ]
  },
  {
   "cell_type": "code",
   "execution_count": 53,
   "metadata": {},
   "outputs": [
    {
     "name": "stderr",
     "output_type": "stream",
     "text": [
      "\u001b[36mi\u001b[39m Using \u001b[34m\u001b[34m','\u001b[34m\u001b[39m as decimal and \u001b[34m\u001b[34m'.'\u001b[34m\u001b[39m as grouping mark. Use \u001b[30m\u001b[47m\u001b[30m\u001b[47m`read_delim()`\u001b[47m\u001b[30m\u001b[49m\u001b[39m for more control.\n",
      "\n",
      "\n",
      "\u001b[36m--\u001b[39m \u001b[1m\u001b[1mColumn specification\u001b[1m\u001b[22m \u001b[36m--------------------------------------------------------\u001b[39m\n",
      "cols(\n",
      "  Sample = \u001b[32mcol_double()\u001b[39m,\n",
      "  Location = \u001b[31mcol_character()\u001b[39m,\n",
      "  `Layer (cm)` = \u001b[31mcol_character()\u001b[39m,\n",
      "  `0_30_ID` = \u001b[31mcol_character()\u001b[39m,\n",
      "  `Site age` = \u001b[32mcol_double()\u001b[39m,\n",
      "  Repetition = \u001b[32mcol_double()\u001b[39m,\n",
      "  `Bulk density (kg m-3)` = \u001b[32mcol_double()\u001b[39m,\n",
      "  pHCaCl2 = \u001b[32mcol_double()\u001b[39m,\n",
      "  `Sand carbon (%)` = \u001b[32mcol_double()\u001b[39m,\n",
      "  `Carbone (%)` = \u001b[32mcol_double()\u001b[39m,\n",
      "  `Sulfur (%)` = \u001b[32mcol_double()\u001b[39m,\n",
      "  `Nitrogen (%)` = \u001b[32mcol_double()\u001b[39m,\n",
      "  `C stock (kg m-3)` = \u001b[32mcol_double()\u001b[39m,\n",
      "  `Total porosity` = \u001b[32mcol_double()\u001b[39m,\n",
      "  `Water content (%)` = \u001b[32mcol_double()\u001b[39m\n",
      ")\n",
      "\n",
      "\n"
     ]
    }
   ],
   "source": [
    "data_carbon_credit <- read_csv2('data/data_carbon_credit.csv')\n",
    "data_carbon_credit <- data_carbon_credit %>%\n",
    "mutate(`C:N ratio` = `Carbone (%)` / `Nitrogen (%)`)"
   ]
  },
  {
   "cell_type": "markdown",
   "metadata": {},
   "source": [
    "Some calculations"
   ]
  },
  {
   "cell_type": "code",
   "execution_count": 54,
   "metadata": {},
   "outputs": [
    {
     "data": {
      "image/png": "[encoded data removed]",
      "text/plain": [
       "plot without title"
      ]
     },
     "metadata": {
      "image/png": {
       "height": 360,
       "width": 480
      }
     },
     "output_type": "display_data"
    }
   ],
   "source": [
    "New.labs_c <-  c(\"Site/A9\", \"Site/45\") # Change labels\n",
    "names(New.labs_c) <- c(\"Belanger/ A9\", \"Fortier/ 45\")\n",
    "\n",
    "plot1 <- ggplot(data_carbon_credit, aes(`Layer (cm)`, `C stock (kg m-3)`)) +\n",
    "facet_grid( . ~ `Location`, scales = \"free\", labeller = labeller(`Location` = New.labs_c)) +\n",
    "geom_boxplot() + \n",
    "theme(strip.text = element_text(size = 11), axis.text=element_text(size=11),\n",
    "        axis.title=element_text(size=11)) \n",
    "plot2 <- ggplot(data_carbon_credit, aes(`Layer (cm)`, `C:N ratio`)) +\n",
    "facet_grid( . ~ `Location`, scales = \"free\", labeller = labeller(`Location` = New.labs_c)) +\n",
    "geom_boxplot() + \n",
    "theme(strip.text = element_text(size = 11), axis.text=element_text(size=11),\n",
    "        axis.title=element_text(size=11)) \n",
    "plot3 <- ggplot(data_carbon_credit, aes(`Layer (cm)`, `Bulk density (kg m-3)`)) +\n",
    "facet_grid( . ~ `Location`, scales = \"free\", labeller = labeller(`Location` = New.labs_c)) +\n",
    "geom_boxplot() + \n",
    "theme(strip.text = element_text(size = 11), axis.text=element_text(size=11),\n",
    "        axis.title=element_text(size=11)) \n",
    "plot4 <- ggplot(data_carbon_credit, aes(`Layer (cm)`, `pHCaCl2`)) +\n",
    "facet_grid( . ~ `Location`, scales = \"free\", labeller = labeller(`Location` = New.labs_c)) +\n",
    "geom_boxplot() + \n",
    "theme(strip.text = element_text(size = 11), axis.text=element_text(size=11),\n",
    "        axis.title=element_text(size=11)) \n",
    "plot5 <- ggplot(data_carbon_credit, aes(`Layer (cm)`, `Total porosity`)) +\n",
    "facet_grid( . ~ `Location`, scales = \"free\", labeller = labeller(`Location` = New.labs_c)) +\n",
    "geom_point() + \n",
    "theme(strip.text = element_text(size = 11), axis.text=element_text(size=11),\n",
    "        axis.title=element_text(size=11)) \n",
    "plot6 <- ggplot(data_carbon_credit, aes(`Layer (cm)`, `Water content (%)`)) +\n",
    "facet_grid( . ~ `Location`, scales = \"free\", labeller = labeller(`Location` = New.labs_c)) +\n",
    "geom_point() + \n",
    "theme(strip.text = element_text(size = 11), axis.text=element_text(size=11),\n",
    "        axis.title=element_text(size=11)) \n",
    "options(repr.plot.width = 8, repr.plot.height = 6)\n",
    "figure <- ggarrange(plot1, plot2, plot3, plot4, plot5, plot6,\n",
    "                    labels = c(\"A\", \"B\", \"C\", \"D\", \"E\", \"F\"), label.x = 0.05, label.y = 1.01,\n",
    "                    ncol = 2, nrow = 3)\n",
    "figure\n",
    "ggsave(\"figures/Soil description.png\", width = 8, height = 5, dpi = 600)# export plot high resolution"
   ]
  },
  {
   "cell_type": "markdown",
   "metadata": {},
   "source": [
    "## 9.2 C:N ratio in alternate sublayers of sand and organic matter"
   ]
  },
  {
   "cell_type": "markdown",
   "metadata": {},
   "source": [
    "Data loading"
   ]
  },
  {
   "cell_type": "code",
   "execution_count": 55,
   "metadata": {},
   "outputs": [
    {
     "name": "stderr",
     "output_type": "stream",
     "text": [
      "\u001b[36mi\u001b[39m Using \u001b[34m\u001b[34m','\u001b[34m\u001b[39m as decimal and \u001b[34m\u001b[34m'.'\u001b[34m\u001b[39m as grouping mark. Use \u001b[30m\u001b[47m\u001b[30m\u001b[47m`read_delim()`\u001b[47m\u001b[30m\u001b[49m\u001b[39m for more control.\n",
      "\n",
      "\n",
      "\u001b[36m--\u001b[39m \u001b[1m\u001b[1mColumn specification\u001b[1m\u001b[22m \u001b[36m--------------------------------------------------------\u001b[39m\n",
      "cols(\n",
      "  .default = col_double(),\n",
      "  Projet = \u001b[31mcol_character()\u001b[39m,\n",
      "  Site = \u001b[31mcol_character()\u001b[39m,\n",
      "  Horizon = \u001b[31mcol_character()\u001b[39m,\n",
      "  Layers = \u001b[31mcol_character()\u001b[39m,\n",
      "  `Soil texture` = \u001b[31mcol_character()\u001b[39m,\n",
      "  Munsell_color = \u001b[31mcol_character()\u001b[39m\n",
      ")\n",
      "\u001b[36mi\u001b[39m Use \u001b[30m\u001b[47m\u001b[30m\u001b[47m`spec()`\u001b[47m\u001b[30m\u001b[49m\u001b[39m for the full column specifications.\n",
      "\n",
      "\n"
     ]
    }
   ],
   "source": [
    "Carbon_credit <- read_csv2('data/data_carbon_sublayer.csv')"
   ]
  },
  {
   "cell_type": "markdown",
   "metadata": {},
   "source": [
    "Some computations"
   ]
  },
  {
   "cell_type": "code",
   "execution_count": 56,
   "metadata": {},
   "outputs": [],
   "source": [
    "Carbon_credit <- Carbon_credit %>%\n",
    "mutate(`C/N` = C_pourc/N_pourc)"
   ]
  },
  {
   "cell_type": "code",
   "execution_count": 57,
   "metadata": {},
   "outputs": [
    {
     "data": {
      "text/html": [
       "<table class=\"dataframe\">\n",
       "<caption>A data.frame: 2 × 2</caption>\n",
       "<thead>\n",
       "\t<tr><th scope=col>Soil texture</th><th scope=col>C/N</th></tr>\n",
       "\t<tr><th scope=col>&lt;chr&gt;</th><th scope=col>&lt;dbl&gt;</th></tr>\n",
       "</thead>\n",
       "<tbody>\n",
       "\t<tr><td>Organic matter</td><td>31.25977</td></tr>\n",
       "\t<tr><td>Sand          </td><td>14.24512</td></tr>\n",
       "</tbody>\n",
       "</table>\n"
      ],
      "text/latex": [
       "A data.frame: 2 × 2\n",
       "\\begin{tabular}{ll}\n",
       " Soil texture & C/N\\\\\n",
       " <chr> & <dbl>\\\\\n",
       "\\hline\n",
       "\t Organic matter & 31.25977\\\\\n",
       "\t Sand           & 14.24512\\\\\n",
       "\\end{tabular}\n"
      ],
      "text/markdown": [
       "\n",
       "A data.frame: 2 × 2\n",
       "\n",
       "| Soil texture &lt;chr&gt; | C/N &lt;dbl&gt; |\n",
       "|---|---|\n",
       "| Organic matter | 31.25977 |\n",
       "| Sand           | 14.24512 |\n",
       "\n"
      ],
      "text/plain": [
       "  Soil texture   C/N     \n",
       "1 Organic matter 31.25977\n",
       "2 Sand           14.24512"
      ]
     },
     "metadata": {},
     "output_type": "display_data"
    }
   ],
   "source": [
    "Carbon_credit$Layers <- factor(Carbon_credit$Layers,levels = Carbon_credit$Layers)\n",
    "Mean_C_over_N <- aggregate(`C/N` ~ `Soil texture` , data = Carbon_credit, FUN = median)\n",
    "Mean_C_over_N"
   ]
  },
  {
   "cell_type": "markdown",
   "metadata": {},
   "source": [
    "Generating the plots"
   ]
  },
  {
   "cell_type": "code",
   "execution_count": 58,
   "metadata": {},
   "outputs": [
    {
     "name": "stderr",
     "output_type": "stream",
     "text": [
      "Warning message:\n",
      "\"`expand_scale()` is deprecated; use `expansion()` instead.\"\n",
      "Warning message:\n",
      "\"`expand_scale()` is deprecated; use `expansion()` instead.\"\n"
     ]
    },
    {
     "data": {
      "image/png": "[encoded data removed]",
      "text/plain": [
       "plot without title"
      ]
     },
     "metadata": {
      "image/png": {
       "height": 240,
       "width": 480
      }
     },
     "output_type": "display_data"
    }
   ],
   "source": [
    "options(repr.plot.width=8, repr.plot.height=4)\n",
    "pd <- position_dodge(width = 0.2)\n",
    "New.labs_d <-  c(\"Site/A9\", \"Site/45\") # Change labels\n",
    "names(New.labs_d) <- c(\"Belanger/A9\", \"Fortier/45\")\n",
    "\n",
    "p <- ggplot(data=Carbon_credit, aes(x= `Depht (cm)`, y= `C/N`)) +\n",
    "facet_grid(.~Site, labeller = labeller(`Site` = New.labs_d)) +\n",
    "geom_line(linetype = \"twodash\") +\n",
    "labs(y= \"C/N Ratio\") +\n",
    "geom_point(aes(shape = `Soil texture`, fill = `Soil texture`), size = 3) +\n",
    "scale_shape_manual(values=c(21, 21))+\n",
    "scale_fill_manual(values = c(\"#000000\", \"#FFFFFF\")) +\n",
    "\n",
    "scale_y_continuous(breaks = 5*0:1000,\n",
    "                     expand = expand_scale(add = 5)) +\n",
    "scale_x_continuous(breaks = 5*0:1000,\n",
    "                     expand = expand_scale(add = 5)) +\n",
    "theme(strip.text = element_text(size = 14), axis.text=element_text(size=14),\n",
    "        axis.title=element_text(size=14) , legend.title= element_text(size=14),\n",
    "     legend.text = element_text(size=12)) \n",
    "p + coord_flip()\n",
    "ggsave(\"figures/(C_over_N).png\", width = 8, height = 4, dpi = 800)"
   ]
  }
 ],
 "metadata": {
  "kernelspec": {
   "display_name": "R",
   "language": "R",
   "name": "ir"
  },
  "language_info": {
   "codemirror_mode": "r",
   "file_extension": ".r",
   "mimetype": "text/x-r-source",
   "name": "R",
   "pygments_lexer": "r",
   "version": "4.0.3"
  }
 },
 "nbformat": 4,
 "nbformat_minor": 4
}
