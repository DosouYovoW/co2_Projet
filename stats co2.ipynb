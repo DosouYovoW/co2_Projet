{
 "cells": [
  {
   "cell_type": "markdown",
   "metadata": {},
   "source": [
    "# Depth-dependency and temperature sensitivity of $CO2$ emissions in cranberry soils\n",
    "*Wilfried Dossou-Yovo, Serge Étienne Parent,Noura Ziadi, Bertrand Normand, and Léon Étienne parent*"
   ]
  },
  {
   "cell_type": "code",
   "execution_count": 1,
   "metadata": {},
   "outputs": [
    {
     "name": "stdout",
     "output_type": "stream",
     "text": [
      "[1] \"2021-01-28\"\n"
     ]
    }
   ],
   "source": [
    "print(Sys.Date())"
   ]
  },
  {
   "cell_type": "markdown",
   "metadata": {},
   "source": [
    "## 1. Objective"
   ]
  },
  {
   "cell_type": "markdown",
   "metadata": {},
   "source": [
    "This notebook generate the result of CO2 data analysis. Data set contains a collection of soil caracteristics, measured co2 emission collected from incubation study. Soil samples was collected from two cranberry fied stand of eastern canada. Incubation study was carried out at Agriculture and Agri-food Canada(sainte-foy, quebec,qc) from February to Mai 2019. The aim of this study was to measure CO2 emission rates in cranberry soils of Eastern Canada as related to soil temperature and depth"
   ]
  },
  {
   "cell_type": "markdown",
   "metadata": {},
   "source": [
    "## 2. Statistical questions\n",
    "\n",
    "In addition to data exploration, this notebook will answer the following statistical questions.\n",
    " \n",
    "1. What is the influence of soil depth and temperature on CO2 emission?\n",
    "2. Can Arrhenius equation and Q10 be useful to describe temperature sensitivity of carbon decomposition across layers? "
   ]
  },
  {
   "cell_type": "markdown",
   "metadata": {},
   "source": [
    "## 3. Packages"
   ]
  },
  {
   "cell_type": "markdown",
   "metadata": {},
   "source": [
    "We need package [tidyverse](https://www.tidyverse.org/) which loads a set of packages for easy data manipulation(Ex: [dplyr](https://www.rdocumentation.org/packages/dplyr/versions/0.7.8)) and visualization (ex: [ggplot2](https://www.rdocumentation.org/packages/ggplot2/versions/3.2.1)). We also use [ggpubr](https://www.rdocumentation.org/packages/ggpubr/versions/0.1.1) to customise publication ready plot, [ggpmisc](https://www.rdocumentation.org/packages/ggpmisc/versions/0.2.17) and [grid](https://www.rdocumentation.org/packages/grid/versions/3.6.2) are useful packages as extensions to [ggplot2](https://www.rdocumentation.org/packages/ggplot2/versions/3.2.1)."
   ]
  },
  {
   "cell_type": "code",
   "execution_count": 2,
   "metadata": {},
   "outputs": [
    {
     "name": "stderr",
     "output_type": "stream",
     "text": [
      "Warning message:\n",
      "\"package 'tidyverse' was built under R version 3.6.2\"-- Attaching packages --------------------------------------- tidyverse 1.3.0 --\n",
      "v ggplot2 3.3.2     v purrr   0.3.3\n",
      "v tibble  2.1.3     v dplyr   0.8.3\n",
      "v tidyr   1.0.0     v stringr 1.4.0\n",
      "v readr   1.3.1     v forcats 0.4.0\n",
      "Warning message:\n",
      "\"package 'ggplot2' was built under R version 3.6.3\"Warning message:\n",
      "\"package 'tibble' was built under R version 3.6.2\"Warning message:\n",
      "\"package 'tidyr' was built under R version 3.6.2\"Warning message:\n",
      "\"package 'readr' was built under R version 3.6.2\"Warning message:\n",
      "\"package 'purrr' was built under R version 3.6.2\"Warning message:\n",
      "\"package 'dplyr' was built under R version 3.6.2\"Warning message:\n",
      "\"package 'stringr' was built under R version 3.6.2\"Warning message:\n",
      "\"package 'forcats' was built under R version 3.6.2\"-- Conflicts ------------------------------------------ tidyverse_conflicts() --\n",
      "x dplyr::filter() masks stats::filter()\n",
      "x dplyr::lag()    masks stats::lag()\n",
      "Warning message:\n",
      "\"package 'ggpubr' was built under R version 3.6.2\"Loading required package: magrittr\n",
      "Warning message:\n",
      "\"package 'magrittr' was built under R version 3.6.2\"\n",
      "Attaching package: 'magrittr'\n",
      "\n",
      "The following object is masked from 'package:purrr':\n",
      "\n",
      "    set_names\n",
      "\n",
      "The following object is masked from 'package:tidyr':\n",
      "\n",
      "    extract\n",
      "\n",
      "Warning message:\n",
      "\"package 'ggpmisc' was built under R version 3.6.2\""
     ]
    }
   ],
   "source": [
    "library(\"tidyverse\")\n",
    "library(ggpubr)\n",
    "library(ggpmisc)\n",
    "library(grid)"
   ]
  },
  {
   "cell_type": "markdown",
   "metadata": {},
   "source": [
    "### 4. Import data\n",
    "We load two data `data_pot` and `data_co2` involved in our anylisis. `data_pot` contained details about sites sampling, soil sampling(soil depth, weight, water content and bulk density), laboratory incubation temperature while `data_co2` contained details about laboratory incubation time, co2 emission and jar masson details.\n",
    "`data_co2` was combined with `data_pot` with `left_join` function"
   ]
  },
  {
   "cell_type": "code",
   "execution_count": 3,
   "metadata": {},
   "outputs": [
    {
     "name": "stderr",
     "output_type": "stream",
     "text": [
      "Using ',' as decimal and '.' as grouping mark. Use read_delim() for more control.\n",
      "Parsed with column specification:\n",
      "cols(\n",
      "  `ID pot` = col_double(),\n",
      "  Sites = col_character(),\n",
      "  `Depth (cm)` = col_double(),\n",
      "  Repetition = col_double(),\n",
      "  `Temperature (°C)` = col_double(),\n",
      "  `Pot weight (g)` = col_double(),\n",
      "  `Soil weight (g)` = col_double(),\n",
      "  `Water volume (ml)` = col_double(),\n",
      "  `Water content (%)` = col_double(),\n",
      "  `Bulk density (g/cm3)` = col_double(),\n",
      "  `Carbone(%)` = col_double(),\n",
      "  pHCaCl2 = col_double()\n",
      ")\n",
      "Parsed with column specification:\n",
      "cols(\n",
      "  `ID pot` = col_double(),\n",
      "  `Time (days)` = col_double(),\n",
      "  `Initial CO2 (ppm)` = col_double(),\n",
      "  `Final CO2 (ppm)` = col_double(),\n",
      "  `Time final (h)` = col_double()\n",
      ")\n"
     ]
    }
   ],
   "source": [
    "data_pots <- read_csv2('data/pots.csv')\n",
    "data_co2 <- read_csv('data/co2.csv')\n",
    "data_co2 <- data_co2 %>%\n",
    "left_join(data_pots, by = \"ID pot\")"
   ]
  },
  {
   "cell_type": "markdown",
   "metadata": {},
   "source": [
    "## 5. Some calculations "
   ]
  },
  {
   "cell_type": "markdown",
   "metadata": {},
   "source": [
    "Several variables have been added to our data in order to proceed for analysis. The added variables are the following: `Temperature (Kelvin)`, `Molar Volume (L/mol)`, `Headspace Volume (mL)`, `Dry soil weight (g)`, `CO2 emission (ug/h/g)`, `CO2 emission (mg/kg)`, `decomposition rate K`, `lnK`and `1/T(T = Temperature(Kelvin)`"
   ]
  },
  {
   "cell_type": "code",
   "execution_count": 4,
   "metadata": {},
   "outputs": [
    {
     "name": "stderr",
     "output_type": "stream",
     "text": [
      "Warning message in log(K):\n",
      "\"production de NaN\""
     ]
    }
   ],
   "source": [
    "container_volume <- 250 # mL\n",
    "gas_constant <- 8.31446 # unit\n",
    "atm_pressure_n <- 101.325\n",
    "\n",
    "data_co2 <- data_co2 %>%\n",
    "  mutate(`Temperature (K)` = `Temperature (°C)` + 273,\n",
    "         `Total carbon (Mg/ha)` = `Bulk density (g/cm3)` * `Carbone(%)` * 10,\n",
    "         `Molar Volume (L/mol)` = gas_constant * `Temperature (K)` / atm_pressure_n,\n",
    "         `Headspace Volume (mL)` = container_volume - (`Soil weight (g)` / `Bulk density (g/cm3)`), # 250 mL is the volume of the container\n",
    "         `Dry soil weight (g)` = `Soil weight (g)` - (`Soil weight (g)` * `Water content (%)` / 100),\n",
    "         `CO2 emission (ug/h/g)` = (`Final CO2 (ppm)` - `Initial CO2 (ppm)`) * 0.000001 * 44000000 /\n",
    "                                   `Molar Volume (L/mol)` * (`Headspace Volume (mL)` / 1000) * (12 / 44) /\n",
    "                                   `Time final (h)` / `Dry soil weight (g)`,\n",
    "         `CO2 emission (mg/kg)` = `CO2 emission (ug/h/g)` * 24 * `Time (days)`,\n",
    "         `CO2 emission (Mg/ha)` = `CO2 emission (mg/kg)` * `Bulk density (g/cm3)` * 10 * 0.0001,\n",
    "         K = log(`Total carbon (Mg/ha)` / (`Total carbon (Mg/ha)` - `CO2 emission (Mg/ha)`)) / `Time (days)`,\n",
    "         lnK = log(K),\n",
    "         `1/T` = 1 / `Temperature (K)`)"
   ]
  },
  {
   "cell_type": "markdown",
   "metadata": {},
   "source": [
    "## 6. Data Exploration"
   ]
  },
  {
   "cell_type": "markdown",
   "metadata": {},
   "source": [
    "### 6.1 Boxplot"
   ]
  },
  {
   "cell_type": "code",
   "execution_count": 5,
   "metadata": {},
   "outputs": [],
   "source": [
    "New.labs <- c(\"10°C\", \"20°C\", \"30°C\") # Change labels \n",
    "names(New.labs) <- c(\"10\", \"20\", \"30\")\n",
    "\n",
    "New.labs_b <-  c(\"[0-10 cm]\", \"[10-20 cm]\", \"[20-30 cm]\") # Change labels\n",
    "names(New.labs_b) <- c(\"10\", \"20\", \"30\")"
   ]
  },
  {
   "cell_type": "code",
   "execution_count": 6,
   "metadata": {},
   "outputs": [
    {
     "data": {
      "image/png": "[encoded data removed]",
      "text/plain": [
       "plot without title"
      ]
     },
     "metadata": {},
     "output_type": "display_data"
    }
   ],
   "source": [
    "options(repr.plot.width = 6, repr.plot.height = 7)\n",
    "pg <- ggplot(data=data_co2, aes(x = `Time (days)`,y = `CO2 emission (ug/h/g)` , group = `Temperature (°C)`)) +\n",
    "geom_boxplot() + \n",
    "facet_grid(`Depth (cm)` ~ `Temperature (°C)`,   scales = \"free\", \n",
    "          labeller = labeller(`Depth (cm)` = New.labs_b, `Temperature (°C)` = New.labs))+ \n",
    "geom_jitter(width = 1/40, # very small width for the random noise\n",
    "                                  height = 1/20, # very small height for the random noise\n",
    "                                  alpha = 1/2, # transparent so we can see clustering\n",
    "                                  size = 1) + # very small points \n",
    "  theme(legend.position = \"none\") +\n",
    "        geom_boxplot(alpha=0.5)+\n",
    " xlab(\"Incubation time (days)\") + ylab(bquote(~CO[2]~ 'emision ('*mu~'g'~ h^-1~g^-1*')'))\n",
    "pg \n",
    "ggsave(\"figures/Boxplot.png\", width = 6, height = 7, dpi = 600)# export plot high resolution"
   ]
  },
  {
   "cell_type": "markdown",
   "metadata": {},
   "source": [
    "## 7.What is the influence of soil depth and temperature on CO2 emission?"
   ]
  },
  {
   "cell_type": "markdown",
   "metadata": {},
   "source": [
    "### 7.1 linear regression"
   ]
  },
  {
   "cell_type": "code",
   "execution_count": 7,
   "metadata": {},
   "outputs": [],
   "source": [
    "data_co2 <- data_co2 %>%\n",
    "  rename(Co2 = `CO2 emission (ug/h/g)`,\n",
    "         Time = `Time (days)`,\n",
    "         Layers = `Depth (cm)`,\n",
    "         Temperature = `Temperature (°C)`,\n",
    "         Total_carbon = `Total carbon (Mg/ha)`,\n",
    "         Id = `ID pot`)%>%\n",
    "  drop_na() %>%\n",
    "  droplevels()\n",
    "\n",
    "co2_lm <- lm((log10(Co2)) ~ Time + Layers + Temperature,\n",
    "                     data = data_co2) "
   ]
  },
  {
   "cell_type": "code",
   "execution_count": 8,
   "metadata": {},
   "outputs": [
    {
     "data": {
      "text/plain": [
       "\n",
       "Call:\n",
       "lm(formula = (log10(Co2)) ~ Time + Layers + Temperature, data = data_co2)\n",
       "\n",
       "Residuals:\n",
       "    Min      1Q  Median      3Q     Max \n",
       "-1.3504 -0.1473  0.0314  0.1692  0.7925 \n",
       "\n",
       "Coefficients:\n",
       "              Estimate Std. Error t value Pr(>|t|)    \n",
       "(Intercept) -0.8351070  0.0407928  -20.47   <2e-16 ***\n",
       "Time        -0.0034012  0.0003185  -10.68   <2e-16 ***\n",
       "Layers      -0.0749675  0.0013240  -56.62   <2e-16 ***\n",
       "Temperature  0.0360113  0.0013288   27.10   <2e-16 ***\n",
       "---\n",
       "Signif. codes:  0 '***' 0.001 '**' 0.01 '*' 0.05 '.' 0.1 ' ' 1\n",
       "\n",
       "Residual standard error: 0.2625 on 607 degrees of freedom\n",
       "Multiple R-squared:  0.8622,\tAdjusted R-squared:  0.8615 \n",
       "F-statistic:  1266 on 3 and 607 DF,  p-value: < 2.2e-16\n"
      ]
     },
     "metadata": {},
     "output_type": "display_data"
    }
   ],
   "source": [
    "summary(co2_lm)"
   ]
  },
  {
   "cell_type": "markdown",
   "metadata": {},
   "source": [
    "### 7.2 Reporting the results of the linear regression"
   ]
  },
  {
   "cell_type": "code",
   "execution_count": 9,
   "metadata": {},
   "outputs": [
    {
     "data": {
      "image/png": "[encoded data removed]",
      "text/plain": [
       "plot without title"
      ]
     },
     "metadata": {},
     "output_type": "display_data"
    }
   ],
   "source": [
    "options(repr.plot.width = 8, repr.plot.height = 6)\n",
    "ic <- confint(co2_lm, level = 0.95)\n",
    "co <- coef(co2_lm)\n",
    "co2_lm_res <- tibble(variable = rownames(ic),\n",
    "                         ll = ic[, 1], est = co, ul = ic[, 2])\n",
    "\n",
    "co2_lm_res %>%\n",
    "  filter(variable != \"(Intercept)\") %>%\n",
    "  ggplot(aes(x = est, y = variable)) +\n",
    "  geom_vline(xintercept = 0, lty = 2) +\n",
    "  geom_segment(mapping = aes(\n",
    "    x = ll,\n",
    "    xend = ul,\n",
    "    yend = variable\n",
    "    )\n",
    "  ) +\n",
    "xlab('Coefficient') +\n",
    "  ylab('') +\n",
    "  geom_point() +\n",
    "theme(strip.text.y = element_text(angle=0),\n",
    "        legend.title = element_blank(),\n",
    "        legend.position = \"bottom\",\n",
    "        text = element_text(size = 16, face=\"bold\"),\n",
    "      axis.title=element_text(size=14,face=\"bold\")) +\n",
    "ggsave(\"figures/Linear-model-Co2.png\", width = 8, height = 6, dpi = 600)"
   ]
  },
  {
   "cell_type": "markdown",
   "metadata": {},
   "source": [
    "### 7.3 Prediction model of CO2 emission in cranberry soils in three-layer positions (0-10 cm, 10-20 cm, 20-30 cm) and at three temperatures (10, 20 and 30oC).\n",
    "Here, we use our model `co2_lm` to predict co2 emission trend. In order to do that, we create a new data called `Data_exp` following predicted Co2 column. The trend line was drawn with `data_exp`"
   ]
  },
  {
   "cell_type": "code",
   "execution_count": 10,
   "metadata": {},
   "outputs": [
    {
     "data": {
      "image/png": "[encoded data removed]",
      "text/plain": [
       "plot without title"
      ]
     },
     "metadata": {},
     "output_type": "display_data"
    }
   ],
   "source": [
    "New.labs <- c(\"10°C\", \"20°C\", \"30°C\") # Change labels \n",
    "names(New.labs) <- c(\"10\", \"20\", \"30\")\n",
    "\n",
    "New.labs_b <-  c(\"[0-10 cm]\", \"[10-20 cm]\", \"[20-30 cm]\") # Change labels\n",
    "names(New.labs_b) <- c(\"10\", \"20\", \"30\")\n",
    "\n",
    "Data_exp <- expand.grid(Time = seq(0, 105, 5), Layers = c(10, 20, 30), Temperature = c(10, 20, 30))\n",
    "Data_exp$Co2 <- 10^predict(co2_lm, newdata = Data_exp, level=0)\n",
    "\n",
    "options(repr.plot.width = 8, repr.plot.height = 6)\n",
    "theme_set(theme_bw())\n",
    "pl <- ggplot(data = data_co2, aes(x = Time, y = Co2)) +\n",
    " facet_grid(Layers ~ Temperature, scales = \"free\", labeller = labeller(`Layers` = New.labs_b, `Temperature` = New.labs)) +\n",
    "  xlab(\"Incubation time (days)\") + ylab(bquote(~CO[2]~ 'emision rate ('*mu~'g'~ h^-1~g^-1*')'))\n",
    "pl + geom_point(color=\"#993399\", aes(group= Id), alpha=0.15) +\n",
    "  geom_line(data = Data_exp) +\n",
    "scale_y_log10() +\n",
    "theme(strip.text = element_text(size = 11, face=\"bold\"), axis.text=element_text(size=11, face=\"bold\"),\n",
    "        axis.title=element_text(size=16,face=\"bold\"),\n",
    "     axis.title.y = element_text(size=16,face=\"bold\")) +\n",
    "  \n",
    "ggsave(\"figures/CO2 emission.png\", width = 8, height = 6, dpi = 600)# export plot high resolution"
   ]
  },
  {
   "cell_type": "markdown",
   "metadata": {},
   "source": [
    "### 7.4 Normality test"
   ]
  },
  {
   "cell_type": "code",
   "execution_count": 11,
   "metadata": {},
   "outputs": [
    {
     "data": {
      "image/png": "[encoded data removed]",
      "text/plain": [
       "Plot with title \"Histogram of Residuals\""
      ]
     },
     "metadata": {},
     "output_type": "display_data"
    }
   ],
   "source": [
    "options(repr.plot.width=6, repr.plot.height=4)\n",
    "#Histogram of Residuals\n",
    "residu <- resid(co2_lm)\n",
    "hist(residu, main=\"Histogram of Residuals\",\n",
    " ylab=\"Residuals\")"
   ]
  },
  {
   "cell_type": "markdown",
   "metadata": {},
   "source": [
    "### 7.5 Relationship between predicted and observed CO2 emission"
   ]
  },
  {
   "cell_type": "code",
   "execution_count": 12,
   "metadata": {},
   "outputs": [
    {
     "data": {
      "image/png": "[encoded data removed]",
      "text/plain": [
       "plot without title"
      ]
     },
     "metadata": {},
     "output_type": "display_data"
    }
   ],
   "source": [
    "options(repr.plot.width = 5, repr.plot.height = 5)\n",
    "plot <- plot(x = data_co2$Co2, y = 10**predict(co2_lm), xlab = (bquote('Observed'~CO[2]~ 'emision ('*mu~'g' ~ h^-1~g^-1*')')),\n",
    "             ylab = (bquote('Predicted'~CO[2]~ 'emision ('*mu~'g' ~ h^-1~g^-1*')'))) \n",
    "abline(0,1, col = \"red\")"
   ]
  },
  {
   "cell_type": "markdown",
   "metadata": {},
   "source": [
    "## 8. What is the temperature sensitivity across cranberry soil layers?"
   ]
  },
  {
   "cell_type": "markdown",
   "metadata": {},
   "source": [
    "### 8.1 Fit of Arrhenius equation"
   ]
  },
  {
   "cell_type": "markdown",
   "metadata": {},
   "source": [
    "The Arrhenius equation has been used to describe temperature sensitivity to CO2 emission. The Arrhenius equation was computed as follows: \n",
    "\n",
    "\n",
    "\n",
    "$$k = A e^{{\\frac{-Ea}{RT}}}$$\n",
    "\n",
    "$$log \\left( k \\right) = log \\left( A e^{\\frac{-Ea}{RT}} \\right)$$\n",
    "\n",
    "$$log \\left( k \\right) = log \\left( A \\right) + log \\left(e^{\\frac{-Ea}{RT}} \\right)$$\n",
    "\n",
    "$$log \\left( k \\right) = log \\left( A \\right) - \\frac{1}{T} \\times \\left(\\frac{Ea}{R}\\right)$$\n",
    "\n",
    "Where $A$ is the pre-exponential factor and $Ea$ is activation energy assumed to be independent of temperature, $R$ is the universal gas constant and $T$ is absolute temperature (Kelvin)"
   ]
  },
  {
   "cell_type": "code",
   "execution_count": 13,
   "metadata": {},
   "outputs": [],
   "source": [
    "models_co2 <- data_co2 %>%\n",
    "  group_by(`Layers`) %>%\n",
    "  summarise(linmod = list(lm(lnK ~ `1/T`)))\n",
    "\n",
    "linmod_coef <- list()\n",
    "for (i in seq_along(models_co2$linmod)) linmod_coef[[i]] <- models_co2$linmod[[i]]$coefficients\n",
    "linmod_coef <- do.call(rbind.data.frame, linmod_coef)\n",
    "names(linmod_coef) <- c(\"Intercept\", \"Slope\")\n",
    "linmod_coef <- bind_cols(unique(data_co2[\"Layers\"]), linmod_coef)"
   ]
  },
  {
   "cell_type": "code",
   "execution_count": 14,
   "metadata": {},
   "outputs": [
    {
     "data": {
      "image/png": "[encoded data removed]",
      "text/plain": [
       "plot without title"
      ]
     },
     "metadata": {},
     "output_type": "display_data"
    }
   ],
   "source": [
    "options(repr.plot.width = 8, repr.plot.height = 6)\n",
    "  data_co2 %>%\n",
    "  ggplot(aes(x = `1/T`, y = lnK)) +\n",
    "  facet_grid(~`Layers`, labeller = labeller(`Layers` = New.labs_b)) +\n",
    "  geom_boxplot(aes(group = factor(`1/T`))) +\n",
    "stat_regline_equation(aes(label =  paste(..eq.label.., ..rr.label.., sep = \"~~\")), label.y = -7) +\n",
    "  geom_abline(data = linmod_coef, aes(intercept = Intercept, slope = Slope), lwd = 2) +\n",
    "  labs(y = \"ln(K)\") +\n",
    "theme_bw() +\n",
    "theme(strip.text = element_text(size = 11, face=\"bold\"), axis.text=element_text(size=11, face=\"bold\"),\n",
    "        axis.title=element_text(size=12,face=\"bold\")) +\n",
    "ggsave(\"figures/Arrhénius équation.png\", width = 8, height = 6, dpi = 600)# export plot high resolution"
   ]
  },
  {
   "cell_type": "markdown",
   "metadata": {},
   "source": [
    "### 8.2 Activation Energy computation"
   ]
  },
  {
   "cell_type": "code",
   "execution_count": 15,
   "metadata": {},
   "outputs": [],
   "source": [
    "Activation_energy <- tibble(\n",
    "    Soil_layers = c(\"10\", \"20\", \"30\"),\n",
    "    intercept = NA,\n",
    "    slope = NA,\n",
    "    adj_r_sq = NA\n",
    ")"
   ]
  },
  {
   "cell_type": "code",
   "execution_count": 16,
   "metadata": {},
   "outputs": [],
   "source": [
    "lm_arrhenius <- for (i in 1:nrow(Activation_energy)) {\n",
    "    \n",
    "    lm_Activation_energy <- data_co2 %>%\n",
    "      filter(`Layers` == Activation_energy$Soil_layers[i]) %>%\n",
    "      lm(lnK ~ `1/T`, data = .)\n",
    "    \n",
    "    # intercept\n",
    "    Activation_energy$intercept[i] <- coef(lm_Activation_energy)[1]\n",
    "\n",
    "    # Slope\n",
    "     Activation_energy$slope[i] <- coef(lm_Activation_energy)[2]\n",
    "   \n",
    "    # statistics\n",
    "    Activation_energy$adj_r_sq[i] <- summary(lm_Activation_energy)$adj.r.squared\n",
    "}"
   ]
  },
  {
   "cell_type": "code",
   "execution_count": 17,
   "metadata": {},
   "outputs": [
    {
     "data": {
      "text/html": [
       "<table>\n",
       "<thead><tr><th scope=col>Soil_layers</th><th scope=col>adj_r_sq</th><th scope=col>Ea</th></tr></thead>\n",
       "<tbody>\n",
       "\t<tr><td>10       </td><td>0.4880430</td><td>49.90107 </td></tr>\n",
       "\t<tr><td>20       </td><td>0.4015598</td><td>58.63364 </td></tr>\n",
       "\t<tr><td>30       </td><td>0.4897419</td><td>71.15313 </td></tr>\n",
       "</tbody>\n",
       "</table>\n"
      ],
      "text/latex": [
       "\\begin{tabular}{r|lll}\n",
       " Soil\\_layers & adj\\_r\\_sq & Ea\\\\\n",
       "\\hline\n",
       "\t 10        & 0.4880430 & 49.90107 \\\\\n",
       "\t 20        & 0.4015598 & 58.63364 \\\\\n",
       "\t 30        & 0.4897419 & 71.15313 \\\\\n",
       "\\end{tabular}\n"
      ],
      "text/markdown": [
       "\n",
       "| Soil_layers | adj_r_sq | Ea |\n",
       "|---|---|---|\n",
       "| 10        | 0.4880430 | 49.90107  |\n",
       "| 20        | 0.4015598 | 58.63364  |\n",
       "| 30        | 0.4897419 | 71.15313  |\n",
       "\n"
      ],
      "text/plain": [
       "  Soil_layers adj_r_sq  Ea      \n",
       "1 10          0.4880430 49.90107\n",
       "2 20          0.4015598 58.63364\n",
       "3 30          0.4897419 71.15313"
      ]
     },
     "metadata": {},
     "output_type": "display_data"
    }
   ],
   "source": [
    "R = 8.3144621 / 1000 # Gas constant Kj/mol/K \n",
    "Activation_energy <-  Activation_energy %>%\n",
    "  mutate(Ea = -slope * R) %>%\n",
    "  select(Soil_layers, adj_r_sq, Ea)\n",
    "Activation_energy"
   ]
  },
  {
   "cell_type": "markdown",
   "metadata": {},
   "source": [
    "### 8.3 Computing K median in order to compute Q10 value accross soil depth"
   ]
  },
  {
   "cell_type": "code",
   "execution_count": 18,
   "metadata": {},
   "outputs": [
    {
     "data": {
      "text/html": [
       "<table>\n",
       "<thead><tr><th scope=col>Layers</th><th scope=col>10</th><th scope=col>20</th><th scope=col>30</th><th scope=col>Q_20_10</th><th scope=col>Q_30_20</th></tr></thead>\n",
       "<tbody>\n",
       "\t<tr><td>10          </td><td>5.997791e-05</td><td>1.390499e-04</td><td>2.502378e-04</td><td>2.318351    </td><td>1.799627    </td></tr>\n",
       "\t<tr><td>20          </td><td>1.704718e-05</td><td>4.075907e-05</td><td>8.805731e-05</td><td>2.390957    </td><td>2.160435    </td></tr>\n",
       "\t<tr><td>30          </td><td>8.780531e-06</td><td>1.993569e-05</td><td>6.657057e-05</td><td>2.270443    </td><td>3.339266    </td></tr>\n",
       "</tbody>\n",
       "</table>\n"
      ],
      "text/latex": [
       "\\begin{tabular}{r|llllll}\n",
       " Layers & 10 & 20 & 30 & Q\\_20\\_10 & Q\\_30\\_20\\\\\n",
       "\\hline\n",
       "\t 10           & 5.997791e-05 & 1.390499e-04 & 2.502378e-04 & 2.318351     & 1.799627    \\\\\n",
       "\t 20           & 1.704718e-05 & 4.075907e-05 & 8.805731e-05 & 2.390957     & 2.160435    \\\\\n",
       "\t 30           & 8.780531e-06 & 1.993569e-05 & 6.657057e-05 & 2.270443     & 3.339266    \\\\\n",
       "\\end{tabular}\n"
      ],
      "text/markdown": [
       "\n",
       "| Layers | 10 | 20 | 30 | Q_20_10 | Q_30_20 |\n",
       "|---|---|---|---|---|---|\n",
       "| 10           | 5.997791e-05 | 1.390499e-04 | 2.502378e-04 | 2.318351     | 1.799627     |\n",
       "| 20           | 1.704718e-05 | 4.075907e-05 | 8.805731e-05 | 2.390957     | 2.160435     |\n",
       "| 30           | 8.780531e-06 | 1.993569e-05 | 6.657057e-05 | 2.270443     | 3.339266     |\n",
       "\n"
      ],
      "text/plain": [
       "  Layers 10           20           30           Q_20_10  Q_30_20 \n",
       "1 10     5.997791e-05 1.390499e-04 2.502378e-04 2.318351 1.799627\n",
       "2 20     1.704718e-05 4.075907e-05 8.805731e-05 2.390957 2.160435\n",
       "3 30     8.780531e-06 1.993569e-05 6.657057e-05 2.270443 3.339266"
      ]
     },
     "metadata": {},
     "output_type": "display_data"
    }
   ],
   "source": [
    "K_median <- aggregate(K ~ `Layers` + `Temperature`, data = data_co2, FUN = median)\n",
    "K_median_01 <- K_median %>%\n",
    "  pivot_wider(names_from = `Temperature`, values_from = K)\n",
    "\n",
    "K_median_01$Q_20_10 <- K_median_01$`20` / K_median_01$`10`\n",
    "K_median_01$Q_30_20 <- K_median_01$`30` / K_median_01$`20`\n",
    "K_median_01"
   ]
  },
  {
   "cell_type": "code",
   "execution_count": 19,
   "metadata": {},
   "outputs": [],
   "source": [
    "K_median_02 <- aggregate(K ~ `Sites` + `Time` + `Layers` + `Temperature`, data = data_co2, FUN = median)\n",
    "\n",
    "K_median_02 <- K_median_02 %>%\n",
    "  pivot_wider(names_from = `Temperature`, values_from = K)\n",
    "\n",
    "#K_median_02\n",
    "K_median_02$Q_20_10 <- K_median_02$`20` / K_median_02$`10`\n",
    "K_median_02$Q_30_20 <- K_median_02$`30` / K_median_02$`20`\n",
    "K_median_02 <- K_median_02 %>%\n",
    "na.omit(K_median_02)\n",
    "data_Q10 <- gather(data = K_median_02, key = `Temperature range`, value = Q10, c(`Q_20_10`, `Q_30_20`),\n",
    "                    factor_key=TRUE)\n"
   ]
  },
  {
   "cell_type": "code",
   "execution_count": 20,
   "metadata": {},
   "outputs": [],
   "source": [
    "data_Q10$Log_Q10 <- log10(data_Q10$Q10)\n",
    "\n",
    "Q10_lm <- lm(log(Q10) ~  Layers,\n",
    "                     data = data_Q10) "
   ]
  },
  {
   "cell_type": "code",
   "execution_count": 21,
   "metadata": {},
   "outputs": [
    {
     "data": {
      "text/plain": [
       "\n",
       "Call:\n",
       "lm(formula = log(Q10) ~ Layers, data = data_Q10)\n",
       "\n",
       "Residuals:\n",
       "     Min       1Q   Median       3Q      Max \n",
       "-1.42266 -0.19647 -0.05162  0.20068  0.97976 \n",
       "\n",
       "Coefficients:\n",
       "            Estimate Std. Error t value Pr(>|t|)    \n",
       "(Intercept) 0.530342   0.092118   5.757 1.02e-07 ***\n",
       "Layers      0.014186   0.004482   3.165  0.00208 ** \n",
       "---\n",
       "Signif. codes:  0 '***' 0.001 '**' 0.01 '*' 0.05 '.' 0.1 ' ' 1\n",
       "\n",
       "Residual standard error: 0.35 on 96 degrees of freedom\n",
       "Multiple R-squared:  0.09449,\tAdjusted R-squared:  0.08506 \n",
       "F-statistic: 10.02 on 1 and 96 DF,  p-value: 0.002077\n"
      ]
     },
     "metadata": {},
     "output_type": "display_data"
    }
   ],
   "source": [
    "summary(Q10_lm)"
   ]
  },
  {
   "cell_type": "code",
   "execution_count": 22,
   "metadata": {},
   "outputs": [
    {
     "name": "stderr",
     "output_type": "stream",
     "text": [
      "`geom_smooth()` using formula 'y ~ x'\n",
      "`geom_smooth()` using formula 'y ~ x'\n"
     ]
    },
    {
     "data": {
      "image/png": "[encoded data removed]",
      "text/plain": [
       "plot without title"
      ]
     },
     "metadata": {},
     "output_type": "display_data"
    }
   ],
   "source": [
    "data_Q10$`Layers` <- as.character(data_Q10$`Layers`)\n",
    "options(repr.plot.width = 8, repr.plot.height = 6)\n",
    "pl <- ggplot(data=data_Q10, aes(x = `Time`, y = `Q10`, group = `Layers`, color= `Layers`, linetype =  `Layers` )) +\n",
    "geom_smooth(method = \"lm\", se = FALSE) +\n",
    "geom_point(aes(shape = `Layers`), size = 2)+ \n",
    "scale_color_discrete(name = \"Layers\", labels = c(\"[0-10 cm]\", \"[10-20 cm]\", \"[20-30 cm]\"))+\n",
    "scale_linetype_discrete(name = \"Layers\", labels = c(\"[0-10 cm]\", \"[10-20 cm]\", \"[20-30 cm]\")) +\n",
    "scale_shape_discrete(name = \"Layers\", labels = c(\"[0-10 cm]\", \"[10-20 cm]\", \"[20-30 cm]\")) +\n",
    "  theme(legend.position = \"none\", legend.text = \"Temperature (°C)\") +\n",
    " xlab(\"Time (days)\") + ylab(\"Q10\") +\n",
    "theme_bw() +\n",
    "theme(strip.text = element_text(size = 18), axis.text=element_text(size=18),\n",
    "        axis.title=element_text(size=18) , legend.title=element_blank(), legend.position = c(0.15, 0.9),\n",
    "     legend.text = element_text(size=18)) \n",
    "legend_title <- \"Layers\"\n",
    "pl \n",
    "ggsave(\"figures/Variation of Q10 across layers.png\", width = 8, height = 6, dpi = 600)# export plot high resolution"
   ]
  },
  {
   "cell_type": "markdown",
   "metadata": {},
   "source": [
    "## 9. Soil description"
   ]
  },
  {
   "cell_type": "markdown",
   "metadata": {},
   "source": [
    "### 9.1 Soil layers properties"
   ]
  },
  {
   "cell_type": "markdown",
   "metadata": {},
   "source": [
    "Import data"
   ]
  },
  {
   "cell_type": "code",
   "execution_count": 23,
   "metadata": {},
   "outputs": [
    {
     "name": "stderr",
     "output_type": "stream",
     "text": [
      "Using ',' as decimal and '.' as grouping mark. Use read_delim() for more control.\n",
      "Parsed with column specification:\n",
      "cols(\n",
      "  Sample = col_double(),\n",
      "  Location = col_character(),\n",
      "  `Layer (cm)` = col_character(),\n",
      "  `0_30_ID` = col_character(),\n",
      "  `Site age` = col_double(),\n",
      "  Repetition = col_double(),\n",
      "  `Bulk density(kg m-3)` = col_double(),\n",
      "  pHCaCl2 = col_double(),\n",
      "  `Sand carbon (%)` = col_double(),\n",
      "  `Carbone(%)` = col_double(),\n",
      "  `Sulfur(%)` = col_double(),\n",
      "  `Nitrogen(%)` = col_double(),\n",
      "  `C stock(kg m-3)` = col_double(),\n",
      "  `Total porosity` = col_double(),\n",
      "  `Water content(%)` = col_double()\n",
      ")\n"
     ]
    }
   ],
   "source": [
    "data_carbon_credit <- read_csv2('data/data_carbon_credit.csv')\n",
    "data_carbon_credit <- data_carbon_credit %>%\n",
    "mutate(`C:N ratio` = `Carbone(%)` / `Nitrogen(%)`)"
   ]
  },
  {
   "cell_type": "markdown",
   "metadata": {},
   "source": [
    "Some calculations"
   ]
  },
  {
   "cell_type": "code",
   "execution_count": 24,
   "metadata": {},
   "outputs": [
    {
     "data": {
      "image/png": "[encoded data removed]",
      "text/plain": [
       "plot without title"
      ]
     },
     "metadata": {},
     "output_type": "display_data"
    }
   ],
   "source": [
    "New.labs_c <-  c(\"Site/A9\", \"Site/45\") # Change labels\n",
    "names(New.labs_c) <- c(\"Belanger/ A9\", \"Fortier/ 45\")\n",
    "\n",
    "plot1 <- ggplot(data_carbon_credit, aes(`Layer (cm)`, `C stock(kg m-3)`)) +\n",
    "facet_grid( . ~ `Location`, scales = \"free\", labeller = labeller(`Location` = New.labs_c)) +\n",
    "geom_boxplot()            \n",
    "plot2 <- ggplot(data_carbon_credit, aes(`Layer (cm)`, `C:N ratio`)) +\n",
    "facet_grid( . ~ `Location`, scales = \"free\", labeller = labeller(`Location` = New.labs_c)) +\n",
    "geom_boxplot()\n",
    "plot3 <- ggplot(data_carbon_credit, aes(`Layer (cm)`, `Bulk density(kg m-3)`)) +\n",
    "facet_grid( . ~ `Location`, scales = \"free\", labeller = labeller(`Location` = New.labs_c)) +\n",
    "geom_boxplot() \n",
    "plot4 <- ggplot(data_carbon_credit, aes(`Layer (cm)`, `pHCaCl2`)) +\n",
    "facet_grid( . ~ `Location`, scales = \"free\", labeller = labeller(`Location` = New.labs_c)) +\n",
    "geom_boxplot() \n",
    "plot5 <- ggplot(data_carbon_credit, aes(`Layer (cm)`, `Total porosity`)) +\n",
    "facet_grid( . ~ `Location`, scales = \"free\", labeller = labeller(`Location` = New.labs_c)) +\n",
    "geom_point()\n",
    "plot6 <- ggplot(data_carbon_credit, aes(`Layer (cm)`, `Water content(%)`)) +\n",
    "facet_grid( . ~ `Location`, scales = \"free\", labeller = labeller(`Location` = New.labs_c)) +\n",
    "geom_point()\n",
    "\n",
    "options(repr.plot.width = 8, repr.plot.height = 6)\n",
    "figure <- ggarrange(plot1, plot2, plot3, plot4, plot5, plot6,\n",
    "                    labels = c(\"A\", \"B\", \"C\", \"D\", \"E\", \"F\"), label.x = 0.05, label.y = 1.01,\n",
    "                    ncol = 2, nrow = 3)\n",
    "figure\n",
    "ggsave(\"figures/Soil description.png\", width = 8, height = 6, dpi = 600)# export plot high resolution"
   ]
  },
  {
   "cell_type": "markdown",
   "metadata": {},
   "source": [
    "## 9.2 C:N ratio in alternate sublayers of sand and organic matter"
   ]
  },
  {
   "cell_type": "markdown",
   "metadata": {},
   "source": [
    "Data loading"
   ]
  },
  {
   "cell_type": "code",
   "execution_count": 26,
   "metadata": {},
   "outputs": [
    {
     "name": "stderr",
     "output_type": "stream",
     "text": [
      "Using ',' as decimal and '.' as grouping mark. Use read_delim() for more control.\n",
      "Parsed with column specification:\n",
      "cols(\n",
      "  .default = col_double(),\n",
      "  Projet = col_character(),\n",
      "  Site = col_character(),\n",
      "  Horizon = col_character(),\n",
      "  Layers = col_character(),\n",
      "  `Soil texture` = col_character(),\n",
      "  Munsell_color = col_character()\n",
      ")\n",
      "See spec(...) for full column specifications.\n"
     ]
    }
   ],
   "source": [
    "Carbon_credit <- read_csv2('data/Carbon_credit.csv')"
   ]
  },
  {
   "cell_type": "markdown",
   "metadata": {},
   "source": [
    "Some computations"
   ]
  },
  {
   "cell_type": "code",
   "execution_count": 27,
   "metadata": {},
   "outputs": [],
   "source": [
    "Carbon_credit <- Carbon_credit %>%\n",
    "mutate(`C/N` = C_pourc/N_pourc)"
   ]
  },
  {
   "cell_type": "code",
   "execution_count": 28,
   "metadata": {},
   "outputs": [
    {
     "data": {
      "text/html": [
       "<table>\n",
       "<thead><tr><th scope=col>Soil texture</th><th scope=col>C/N</th></tr></thead>\n",
       "<tbody>\n",
       "\t<tr><td>Organic matter</td><td>31.25977      </td></tr>\n",
       "\t<tr><td>Sand          </td><td>14.24512      </td></tr>\n",
       "</tbody>\n",
       "</table>\n"
      ],
      "text/latex": [
       "\\begin{tabular}{r|ll}\n",
       " Soil texture & C/N\\\\\n",
       "\\hline\n",
       "\t Organic matter & 31.25977      \\\\\n",
       "\t Sand           & 14.24512      \\\\\n",
       "\\end{tabular}\n"
      ],
      "text/markdown": [
       "\n",
       "| Soil texture | C/N |\n",
       "|---|---|\n",
       "| Organic matter | 31.25977       |\n",
       "| Sand           | 14.24512       |\n",
       "\n"
      ],
      "text/plain": [
       "  Soil texture   C/N     \n",
       "1 Organic matter 31.25977\n",
       "2 Sand           14.24512"
      ]
     },
     "metadata": {},
     "output_type": "display_data"
    }
   ],
   "source": [
    "Carbon_credit$Layers <- factor(Carbon_credit$Layers,levels = Carbon_credit$Layers)\n",
    "Mean_C_over_N <- aggregate(`C/N` ~ `Soil texture` , data = Carbon_credit, FUN = median)\n",
    "Mean_C_over_N"
   ]
  },
  {
   "cell_type": "markdown",
   "metadata": {},
   "source": [
    "Generating the plots"
   ]
  },
  {
   "cell_type": "code",
   "execution_count": 29,
   "metadata": {},
   "outputs": [
    {
     "name": "stderr",
     "output_type": "stream",
     "text": [
      "Warning message:\n",
      "\"`expand_scale()` is deprecated; use `expansion()` instead.\""
     ]
    },
    {
     "data": {
      "image/png": "[encoded data removed]",
      "text/plain": [
       "plot without title"
      ]
     },
     "metadata": {},
     "output_type": "display_data"
    }
   ],
   "source": [
    "New.labs_d <-  c(\"Site/A9\", \"Site/45\") # Change labels\n",
    "names(New.labs_d) <- c(\"Belanger/A9\", \"Fortier/45\")\n",
    "\n",
    "options(repr.plot.width=12, repr.plot.height=8)\n",
    "plot2 <- Carbon_credit %>%\n",
    "subset(Site == \"Fortier/45\")%>%\n",
    "ggplot(Carbon_credit, mapping = aes(x = `Layers`, y = `C/N`)) +\n",
    "  facet_grid(`Site` ~ ., scales = \"free\", labeller = labeller(`Site` = New.labs_d)) +\n",
    "  geom_bar(aes(fill= `Soil texture`), colour = \"black\", stat=\"identity\", position=\"dodge\") +\n",
    "labs(x = \"Sublayers (cm)\", y = \"C:N ratio\") +\n",
    "scale_y_continuous(breaks = 2*0:1000,\n",
    "                     expand = expand_scale(add = 0)) +\n",
    "  theme_bw() +\n",
    "scale_fill_manual(values = c(\"black\",\"grey\")) +\n",
    "  theme(strip.background = element_rect(fill = \"transparent\", colour = \"transparent\"),\n",
    "        strip.placement = \"outside\", legend.direction = \"horizontal\",legend.text=element_text(size=12, angle = 90),\n",
    "        legend.key.size = unit(0.5, \"cm\"), legend.title.align = 0.6,\n",
    "       strip.text = element_text(size = 19),\n",
    "        axis.text=element_text(size=14), \n",
    "        legend.title = element_text(size=17, angle = 90), legend.position = c(0.70, 0.85),\n",
    "        axis.title=element_text(size=19, angle = 180), axis.text.x = element_text( \n",
    "                           size = 10, angle = 90),\n",
    "          axis.text.y = element_text( \n",
    "                           size = 10, angle = 90)) +\n",
    "theme(strip.text.y = element_text(angle = 90))\n",
    "plot2\n",
    "ggsave(\"figures/(Fortier_C_over_N).png\", width = 4, height = 8, dpi = 600)"
   ]
  },
  {
   "cell_type": "code",
   "execution_count": 30,
   "metadata": {},
   "outputs": [
    {
     "name": "stderr",
     "output_type": "stream",
     "text": [
      "Warning message:\n",
      "\"`expand_scale()` is deprecated; use `expansion()` instead.\""
     ]
    },
    {
     "data": {
      "image/png": "[encoded data removed]",
      "text/plain": [
       "plot without title"
      ]
     },
     "metadata": {},
     "output_type": "display_data"
    }
   ],
   "source": [
    "options(repr.plot.width=10, repr.plot.height=6)\n",
    "plot <- Carbon_credit %>%\n",
    "subset(Site == \"Belanger/A9\") %>%\n",
    " ggplot(Carbon_credit, mapping = aes(x = `Layers`, y = `C/N`)) +\n",
    "  facet_grid(`Site` ~ ., scales = \"free\", labeller = labeller(`Site` = New.labs_d)) +\n",
    "  geom_bar(aes(fill= `Soil texture`), colour = \"black\", stat=\"identity\", position=\"dodge\") +\n",
    "labs(x = \"Sublayers (cm)\", y = \"\") +\n",
    "scale_y_continuous(breaks = 2*0:1000,\n",
    "                     expand = expand_scale(add = 0)) +\n",
    "  theme_bw() +\n",
    "scale_fill_manual(values = c(\"black\",\"grey\")) +\n",
    "  theme(strip.background = element_rect(fill = \"transparent\", colour = \"transparent\"),\n",
    "        strip.placement = \"outside\",\n",
    "        legend.key.size = unit(0.5, \"cm\"), legend.title.align = 0.6,\n",
    "       strip.text = element_text(size = 19),\n",
    "        axis.text=element_text(size=14), legend.position = 'none',\n",
    "        axis.title=element_text(size=19, angle = 180), axis.text.x = element_text( \n",
    "                           size = 10, angle = 90),\n",
    "          axis.text.y = element_blank()) +\n",
    "theme(strip.text.y = element_text(angle = 90))\n",
    "\n",
    "\n",
    "\n",
    "plot \n",
    "ggsave(\"figures/(C_over_N).png\", width = 4, height = 8, dpi = 600)"
   ]
  }
 ],
 "metadata": {
  "kernelspec": {
   "display_name": "R",
   "language": "R",
   "name": "ir"
  },
  "language_info": {
   "codemirror_mode": "r",
   "file_extension": ".r",
   "mimetype": "text/x-r-source",
   "name": "R",
   "pygments_lexer": "r",
   "version": "3.6.1"
  }
 },
 "nbformat": 4,
 "nbformat_minor": 4
}
