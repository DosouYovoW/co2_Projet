{
 "cells": [
  {
   "cell_type": "markdown",
   "metadata": {},
   "source": [
    "# Carbon sequestration and temperature-dependent CO2-C emission kinetics in cranberry soils\n",
    "*Wilfried Dossou-Yovo, Serge Étienne Parent,Noura Ziadi and Bertrand Normand*"
   ]
  },
  {
   "cell_type": "code",
   "execution_count": 21,
   "metadata": {},
   "outputs": [
    {
     "name": "stdout",
     "output_type": "stream",
     "text": [
      "[1] \"2020-04-29\"\n"
     ]
    }
   ],
   "source": [
    "print(Sys.Date())"
   ]
  },
  {
   "cell_type": "markdown",
   "metadata": {},
   "source": [
    "## Objective"
   ]
  },
  {
   "cell_type": "markdown",
   "metadata": {},
   "source": [
    "This notebook generate the result of co2 data analysis. Data set contains a collection of soil caracteristics, measured co2 emission collected from incubation study. Soil samples was collected from two cranberry fied stand of eastern canada. Incubation study was carried out at Agriculture and Agri-food Canada(sainte-foy, quebec,qc) from February to Mai 2019. The objectif of this study was to measure CO2 emission rate across cranberry soil profiles as related to change in soil temperature in cranberry soils of eastern Canada. "
   ]
  },
  {
   "cell_type": "markdown",
   "metadata": {},
   "source": [
    "## Packages"
   ]
  },
  {
   "cell_type": "markdown",
   "metadata": {},
   "source": [
    "We need package [tidyverse](https://www.tidyverse.org/) which loads a set of packages for easy data manipulation(Ex: [dplyr](https://www.rdocumentation.org/packages/dplyr/versions/0.7.8)) and visualization (ex: [ggplot2](https://www.rdocumentation.org/packages/ggplot2/versions/3.2.1)). We also need [nlme](https://www.rdocumentation.org/packages/nlme/versions/3.1-143/topics/nlme) for fitting a nonlinear mixed-effects model and [e1071](https://www.rdocumentation.org/packages/e1071/versions/1.7-3) package for latent class analysis."
   ]
  },
  {
   "cell_type": "code",
   "execution_count": 22,
   "metadata": {},
   "outputs": [],
   "source": [
    "library(\"tidyverse\") # imports ggplot2, dplyr, etc.\n",
    "library(nlme)\n",
    "library('e1071')"
   ]
  },
  {
   "cell_type": "markdown",
   "metadata": {},
   "source": [
    "## Import data\n",
    "We load two data `data_pot` and `data_co2` involved in our anylisis. `data_pot` contained details about sites sampling, soil sampling(soil depth, weight, water content and bulk density), laboratory incubation temperature while `data_co2` contained details about laboratory incubation time, co2 emission and jar masson details."
   ]
  },
  {
   "cell_type": "code",
   "execution_count": 23,
   "metadata": {},
   "outputs": [
    {
     "name": "stderr",
     "output_type": "stream",
     "text": [
      "Parsed with column specification:\n",
      "cols(\n",
      "  `ID pot` = col_double(),\n",
      "  Sites = col_character(),\n",
      "  `Total carbon (ppm)` = col_double(),\n",
      "  `Depth (cm)` = col_double(),\n",
      "  Block = col_double(),\n",
      "  `Temperature (°C)` = col_double(),\n",
      "  `Pot weight (g)` = col_double(),\n",
      "  `Soil weight (g)` = col_double(),\n",
      "  `Water volume (ml)` = col_double(),\n",
      "  `Water content (%)` = col_double(),\n",
      "  `Bulk density (g/mL)` = col_double()\n",
      ")\n",
      "Parsed with column specification:\n",
      "cols(\n",
      "  `ID pot` = col_double(),\n",
      "  `Time (days)` = col_double(),\n",
      "  `Initial CO2 (ppm)` = col_double(),\n",
      "  `Final CO2 (ppm)` = col_double(),\n",
      "  `Time final (h)` = col_double()\n",
      ")\n"
     ]
    }
   ],
   "source": [
    "data_pots <- read_csv('data/pots.csv')\n",
    "data_co2 <- read_csv('data/co2.csv')\n",
    "#data_soil <- read_csv('data/data_soil.csv')\n",
    "\n",
    "data_co2 <- data_co2 %>%\n",
    "  left_join(data_pots, by = \"ID pot\")"
   ]
  },
  {
   "cell_type": "markdown",
   "metadata": {},
   "source": [
    "## Some calculations "
   ]
  },
  {
   "cell_type": "markdown",
   "metadata": {},
   "source": [
    "Arrhenius equation:\n",
    "\n",
    "$$k = A e^{\\frac{-E_{a}}{R T}}$$"
   ]
  },
  {
   "cell_type": "code",
   "execution_count": 24,
   "metadata": {},
   "outputs": [],
   "source": [
    "arrhenius_f <- function(A, Ea, T, R = 8.3144621) {\n",
    "    k <- A * exp(-Ea / (R * T))\n",
    "    return(k)\n",
    "}"
   ]
  },
  {
   "cell_type": "markdown",
   "metadata": {},
   "source": [
    "### Molar volume"
   ]
  },
  {
   "cell_type": "markdown",
   "metadata": {},
   "source": [
    "Several variables have been added to our data in order to proceed for analysis. The added variables are the following: `Temperature (Kelvin)`, `Molar Volume (L/mol)`, `Headspace Volume (mL)`, `Dry soil weight (g)`, `CO2 emission (ug/h/g)`, `CO2 emission (mg/kg)`, `decomposition rate K`, `lnK`and `1/T(T = Temperature(Kelvin)`"
   ]
  },
  {
   "cell_type": "code",
   "execution_count": 25,
   "metadata": {},
   "outputs": [
    {
     "name": "stderr",
     "output_type": "stream",
     "text": [
      "Warning message in log(K):\n",
      "\"production de NaN\""
     ]
    }
   ],
   "source": [
    "container_volume <- 250 # mL\n",
    "gas_constant <- 8.31446 # unit\n",
    "atm_pressure_n <- 101.325\n",
    "\n",
    "data_co2 <- data_co2 %>%\n",
    "  mutate(`Temperature (K)` = `Temperature (°C)` + 273,\n",
    "         `Molar Volume (L/mol)` = gas_constant * `Temperature (K)` / atm_pressure_n,\n",
    "         `Headspace Volume (mL)` = container_volume - (`Soil weight (g)` / `Bulk density (g/mL)`), # 250 mL is the volume of the container\n",
    "         `Dry soil weight (g)` = `Soil weight (g)` - (`Soil weight (g)` * `Water content (%)` / 100),\n",
    "         `CO2 emission (ug/h/g)` = (`Final CO2 (ppm)` - `Initial CO2 (ppm)`) * 0.000001 * 44000000 /\n",
    "                                   `Molar Volume (L/mol)` * (`Headspace Volume (mL)` / 1000) * (12 / 44) /\n",
    "                                   `Time final (h)` / `Dry soil weight (g)`,\n",
    "         `CO2 emission (mg/kg)` = `CO2 emission (ug/h/g)` * 24 * `Time (days)`,\n",
    "         K = log(`Total carbon (ppm)` / (`Total carbon (ppm)` - `CO2 emission (mg/kg)`)) / `Time (days)`,\n",
    "         lnK = log(K),\n",
    "         `1/T` = 1 / `Temperature (K)`)"
   ]
  },
  {
   "cell_type": "markdown",
   "metadata": {},
   "source": [
    "### Computing K median in order to compute Q10 value accross soil depth"
   ]
  },
  {
   "cell_type": "code",
   "execution_count": 26,
   "metadata": {},
   "outputs": [
    {
     "data": {
      "text/html": [
       "<table>\n",
       "<thead><tr><th scope=col>Depth (cm)</th><th scope=col>10</th><th scope=col>20</th><th scope=col>30</th><th scope=col>Q_20_10</th><th scope=col>Q_30_20</th></tr></thead>\n",
       "<tbody>\n",
       "\t<tr><td>10          </td><td>5.423944e-05</td><td>1.243877e-04</td><td>2.167872e-04</td><td> 2.293308   </td><td>1.742835    </td></tr>\n",
       "\t<tr><td>20          </td><td>1.432778e-05</td><td>3.899537e-05</td><td>7.573282e-05</td><td> 2.721661   </td><td>1.942098    </td></tr>\n",
       "\t<tr><td>30          </td><td>7.804890e-07</td><td>1.691689e-05</td><td>5.341681e-05</td><td>21.674729   </td><td>3.157603    </td></tr>\n",
       "</tbody>\n",
       "</table>\n"
      ],
      "text/latex": [
       "\\begin{tabular}{r|llllll}\n",
       " Depth (cm) & 10 & 20 & 30 & Q\\_20\\_10 & Q\\_30\\_20\\\\\n",
       "\\hline\n",
       "\t 10           & 5.423944e-05 & 1.243877e-04 & 2.167872e-04 &  2.293308    & 1.742835    \\\\\n",
       "\t 20           & 1.432778e-05 & 3.899537e-05 & 7.573282e-05 &  2.721661    & 1.942098    \\\\\n",
       "\t 30           & 7.804890e-07 & 1.691689e-05 & 5.341681e-05 & 21.674729    & 3.157603    \\\\\n",
       "\\end{tabular}\n"
      ],
      "text/markdown": [
       "\n",
       "| Depth (cm) | 10 | 20 | 30 | Q_20_10 | Q_30_20 |\n",
       "|---|---|---|---|---|---|\n",
       "| 10           | 5.423944e-05 | 1.243877e-04 | 2.167872e-04 |  2.293308    | 1.742835     |\n",
       "| 20           | 1.432778e-05 | 3.899537e-05 | 7.573282e-05 |  2.721661    | 1.942098     |\n",
       "| 30           | 7.804890e-07 | 1.691689e-05 | 5.341681e-05 | 21.674729    | 3.157603     |\n",
       "\n"
      ],
      "text/plain": [
       "  Depth (cm) 10           20           30           Q_20_10   Q_30_20 \n",
       "1 10         5.423944e-05 1.243877e-04 2.167872e-04  2.293308 1.742835\n",
       "2 20         1.432778e-05 3.899537e-05 7.573282e-05  2.721661 1.942098\n",
       "3 30         7.804890e-07 1.691689e-05 5.341681e-05 21.674729 3.157603"
      ]
     },
     "metadata": {},
     "output_type": "display_data"
    }
   ],
   "source": [
    "K_median <- aggregate(K ~ `Depth (cm)` + `Temperature (°C)`, data = data_co2, FUN = median)\n",
    "\n",
    "K_median_01 <- K_median %>%\n",
    "  pivot_wider(names_from = `Temperature (°C)`, values_from = K)\n",
    "\n",
    "K_median_01$Q_20_10 <- K_median_01$`20` / K_median_01$`10`\n",
    "K_median_01$Q_30_20 <- K_median_01$`30` / K_median_01$`20`\n",
    "K_median_01"
   ]
  },
  {
   "cell_type": "markdown",
   "metadata": {},
   "source": [
    "### Fit of Arrhenius equation"
   ]
  },
  {
   "cell_type": "code",
   "execution_count": 27,
   "metadata": {},
   "outputs": [],
   "source": [
    "models_co2 <- data_co2 %>%\n",
    "  group_by(`Depth (cm)`) %>%\n",
    "  summarise(linmod = list(lm(lnK ~ `1/T`)))"
   ]
  },
  {
   "cell_type": "code",
   "execution_count": 28,
   "metadata": {},
   "outputs": [],
   "source": [
    "linmod_coef <- list()\n",
    "for (i in seq_along(models_co2$linmod)) linmod_coef[[i]] <- models_co2$linmod[[i]]$coefficients\n",
    "linmod_coef <- do.call(rbind.data.frame, linmod_coef)\n",
    "names(linmod_coef) <- c(\"Intercept\", \"Slope\")\n",
    "linmod_coef <- bind_cols(unique(data_co2[\"Depth (cm)\"]), linmod_coef)"
   ]
  },
  {
   "cell_type": "code",
   "execution_count": 33,
   "metadata": {},
   "outputs": [
    {
     "name": "stderr",
     "output_type": "stream",
     "text": [
      "Warning message:\n",
      "\"Removed 191 rows containing missing values (geom_point).\"Warning message:\n",
      "\"Removed 191 rows containing missing values (geom_point).\""
     ]
    },
    {
     "data": {
      "image/png": "[encoded data removed]",
      "text/plain": [
       "plot without title"
      ]
     },
     "metadata": {},
     "output_type": "display_data"
    }
   ],
   "source": [
    "data_co2 %>%\n",
    "  ggplot(aes(x = `1/T`, y = lnK)) +\n",
    "  facet_grid(~`Depth (cm)`, labeller = label_bquote(cols = \"Depth (cm):\"~.(`Depth (cm)`))) +\n",
    "  geom_abline(data = linmod_coef, aes(intercept = Intercept, slope = Slope)) +\n",
    "  geom_point() +\n",
    "  labs(y = \"ln(K)\") +\n",
    "  theme_bw()\n",
    "ggsave(\"figures/Arrhénius équation.png\", width = 8, height = 5, dpi = 150)# export plot high resolution"
   ]
  },
  {
   "cell_type": "code",
   "execution_count": 30,
   "metadata": {},
   "outputs": [
    {
     "name": "stderr",
     "output_type": "stream",
     "text": [
      "Warning message:\n",
      "\"Removed 191 rows containing non-finite values (stat_boxplot).\""
     ]
    },
    {
     "data": {
      "image/png": "[encoded data removed]",
      "text/plain": [
       "plot without title"
      ]
     },
     "metadata": {},
     "output_type": "display_data"
    }
   ],
   "source": [
    "data_co2 %>%\n",
    "  ggplot(aes(x = `1/T`, y = lnK)) +\n",
    "  facet_grid(~`Depth (cm)`, labeller = label_bquote(cols = \"Depth (cm):\"~.(`Depth (cm)`))) +\n",
    "  geom_boxplot(aes(group = factor(`1/T`))) +\n",
    "  geom_abline(data = linmod_coef, aes(intercept = Intercept, slope = Slope), lwd = 2) +\n",
    "  labs(y = \"ln(K)\") +\n",
    "  theme_bw()"
   ]
  },
  {
   "cell_type": "markdown",
   "metadata": {},
   "source": [
    "### Activation Energy computation"
   ]
  },
  {
   "cell_type": "code",
   "execution_count": 34,
   "metadata": {},
   "outputs": [
    {
     "data": {
      "text/html": [
       "<strong>Ea_10:</strong> 48.8887850165988"
      ],
      "text/latex": [
       "\\textbf{Ea\\textbackslash{}\\_10:} 48.8887850165988"
      ],
      "text/markdown": [
       "**Ea_10:** 48.8887850165988"
      ],
      "text/plain": [
       "   Ea_10 \n",
       "48.88879 "
      ]
     },
     "metadata": {},
     "output_type": "display_data"
    },
    {
     "data": {
      "text/html": [
       "<strong>Ea_20:</strong> 58.8157073990039"
      ],
      "text/latex": [
       "\\textbf{Ea\\textbackslash{}\\_20:} 58.8157073990039"
      ],
      "text/markdown": [
       "**Ea_20:** 58.8157073990039"
      ],
      "text/plain": [
       "   Ea_20 \n",
       "58.81571 "
      ]
     },
     "metadata": {},
     "output_type": "display_data"
    },
    {
     "data": {
      "text/html": [
       "<strong>Ea_30:</strong> 77.8162269593658"
      ],
      "text/latex": [
       "\\textbf{Ea\\textbackslash{}\\_30:} 77.8162269593658"
      ],
      "text/markdown": [
       "**Ea_30:** 77.8162269593658"
      ],
      "text/plain": [
       "   Ea_30 \n",
       "77.81623 "
      ]
     },
     "metadata": {},
     "output_type": "display_data"
    }
   ],
   "source": [
    "modlin_depth10 <- lm(lnK ~ `1/T`, data_co2, subset = (`Depth (cm)` == 10))\n",
    "modlin_depth20 <- lm(lnK ~ `1/T`, data_co2, subset = (`Depth (cm)` == 20))\n",
    "modlin_depth30 <- lm(lnK ~ `1/T`, data_co2, subset = (`Depth (cm)` == 30))\n",
    "\n",
    "slope_depth10 <- coef(modlin_depth10)[2]\n",
    "slope_depth20 <- coef(modlin_depth20)[2]\n",
    "slope_depth30 <- coef(modlin_depth30)[2]\n",
    "\n",
    "R = 8.3144621 / 1000 # Kj/mol/K \n",
    "Ea_depth10 <- - slope_depth10 * R\n",
    "names(Ea_depth10) <- \"Ea_10\"\n",
    "Ea_depth10\n",
    "Ea_depth20 <- - slope_depth20 * R\n",
    "names(Ea_depth20) <- \"Ea_20\"\n",
    "Ea_depth20\n",
    "Ea_depth30 <- - slope_depth30 * R\n",
    "names(Ea_depth30) <- \"Ea_30\"\n",
    "Ea_depth30"
   ]
  },
  {
   "cell_type": "code",
   "execution_count": 37,
   "metadata": {},
   "outputs": [
    {
     "data": {
      "text/html": [
       "0.475338316163302"
      ],
      "text/latex": [
       "0.475338316163302"
      ],
      "text/markdown": [
       "0.475338316163302"
      ],
      "text/plain": [
       "[1] 0.4753383"
      ]
     },
     "metadata": {},
     "output_type": "display_data"
    },
    {
     "data": {
      "text/html": [
       "<table>\n",
       "<thead><tr><th></th><th scope=col>Estimate</th><th scope=col>Std. Error</th><th scope=col>t value</th><th scope=col>Pr(&gt;|t|)</th></tr></thead>\n",
       "<tbody>\n",
       "\t<tr><th scope=row>(Intercept)</th><td>   11.10778 </td><td>  1.657889  </td><td>  6.699955  </td><td>3.371670e-10</td></tr>\n",
       "\t<tr><th scope=row>`1/T`</th><td>-5879.96968 </td><td>485.195538  </td><td>-12.118763  </td><td>2.139041e-24</td></tr>\n",
       "</tbody>\n",
       "</table>\n"
      ],
      "text/latex": [
       "\\begin{tabular}{r|llll}\n",
       "  & Estimate & Std. Error & t value & Pr(>\\textbar{}t\\textbar{})\\\\\n",
       "\\hline\n",
       "\t(Intercept) &    11.10778  &   1.657889   &   6.699955   & 3.371670e-10\\\\\n",
       "\t`1/T` & -5879.96968  & 485.195538   & -12.118763   & 2.139041e-24\\\\\n",
       "\\end{tabular}\n"
      ],
      "text/markdown": [
       "\n",
       "| <!--/--> | Estimate | Std. Error | t value | Pr(>|t|) |\n",
       "|---|---|---|---|---|\n",
       "| (Intercept) |    11.10778  |   1.657889   |   6.699955   | 3.371670e-10 |\n",
       "| `1/T` | -5879.96968  | 485.195538   | -12.118763   | 2.139041e-24 |\n",
       "\n"
      ],
      "text/plain": [
       "            Estimate    Std. Error t value    Pr(>|t|)    \n",
       "(Intercept)    11.10778   1.657889   6.699955 3.371670e-10\n",
       "`1/T`       -5879.96968 485.195538 -12.118763 2.139041e-24"
      ]
     },
     "metadata": {},
     "output_type": "display_data"
    }
   ],
   "source": [
    "summary(modlin_depth10)$adj.r.squared\n",
    "summary(modlin_depth10)$coefficients"
   ]
  },
  {
   "cell_type": "code",
   "execution_count": 38,
   "metadata": {},
   "outputs": [
    {
     "data": {
      "text/html": [
       "0.444781795624955"
      ],
      "text/latex": [
       "0.444781795624955"
      ],
      "text/markdown": [
       "0.444781795624955"
      ],
      "text/plain": [
       "[1] 0.4447818"
      ]
     },
     "metadata": {},
     "output_type": "display_data"
    },
    {
     "data": {
      "text/html": [
       "<table>\n",
       "<thead><tr><th></th><th scope=col>Estimate</th><th scope=col>Std. Error</th><th scope=col>t value</th><th scope=col>Pr(&gt;|t|)</th></tr></thead>\n",
       "<tbody>\n",
       "\t<tr><th scope=row>(Intercept)</th><td>   13.93185 </td><td>  2.139542  </td><td>  6.511606  </td><td>9.536927e-10</td></tr>\n",
       "\t<tr><th scope=row>`1/T`</th><td>-7073.90408 </td><td>626.296695  </td><td>-11.294813  </td><td>4.990664e-22</td></tr>\n",
       "</tbody>\n",
       "</table>\n"
      ],
      "text/latex": [
       "\\begin{tabular}{r|llll}\n",
       "  & Estimate & Std. Error & t value & Pr(>\\textbar{}t\\textbar{})\\\\\n",
       "\\hline\n",
       "\t(Intercept) &    13.93185  &   2.139542   &   6.511606   & 9.536927e-10\\\\\n",
       "\t`1/T` & -7073.90408  & 626.296695   & -11.294813   & 4.990664e-22\\\\\n",
       "\\end{tabular}\n"
      ],
      "text/markdown": [
       "\n",
       "| <!--/--> | Estimate | Std. Error | t value | Pr(>|t|) |\n",
       "|---|---|---|---|---|\n",
       "| (Intercept) |    13.93185  |   2.139542   |   6.511606   | 9.536927e-10 |\n",
       "| `1/T` | -7073.90408  | 626.296695   | -11.294813   | 4.990664e-22 |\n",
       "\n"
      ],
      "text/plain": [
       "            Estimate    Std. Error t value    Pr(>|t|)    \n",
       "(Intercept)    13.93185   2.139542   6.511606 9.536927e-10\n",
       "`1/T`       -7073.90408 626.296695 -11.294813 4.990664e-22"
      ]
     },
     "metadata": {},
     "output_type": "display_data"
    }
   ],
   "source": [
    "summary(modlin_depth20)$adj.r.squared\n",
    "summary(modlin_depth20)$coefficients"
   ]
  },
  {
   "cell_type": "code",
   "execution_count": 39,
   "metadata": {},
   "outputs": [
    {
     "data": {
      "text/html": [
       "0.356483089383516"
      ],
      "text/latex": [
       "0.356483089383516"
      ],
      "text/markdown": [
       "0.356483089383516"
      ],
      "text/plain": [
       "[1] 0.3564831"
      ]
     },
     "metadata": {},
     "output_type": "display_data"
    },
    {
     "data": {
      "text/html": [
       "<table>\n",
       "<thead><tr><th></th><th scope=col>Estimate</th><th scope=col>Std. Error</th><th scope=col>t value</th><th scope=col>Pr(&gt;|t|)</th></tr></thead>\n",
       "<tbody>\n",
       "\t<tr><th scope=row>(Intercept)</th><td>   20.83335 </td><td>   3.650929 </td><td> 5.706314   </td><td>7.082031e-08</td></tr>\n",
       "\t<tr><th scope=row>`1/T`</th><td>-9359.14146 </td><td>1075.091066 </td><td>-8.705441   </td><td>1.024174e-14</td></tr>\n",
       "</tbody>\n",
       "</table>\n"
      ],
      "text/latex": [
       "\\begin{tabular}{r|llll}\n",
       "  & Estimate & Std. Error & t value & Pr(>\\textbar{}t\\textbar{})\\\\\n",
       "\\hline\n",
       "\t(Intercept) &    20.83335  &    3.650929  &  5.706314    & 7.082031e-08\\\\\n",
       "\t`1/T` & -9359.14146  & 1075.091066  & -8.705441    & 1.024174e-14\\\\\n",
       "\\end{tabular}\n"
      ],
      "text/markdown": [
       "\n",
       "| <!--/--> | Estimate | Std. Error | t value | Pr(>|t|) |\n",
       "|---|---|---|---|---|\n",
       "| (Intercept) |    20.83335  |    3.650929  |  5.706314    | 7.082031e-08 |\n",
       "| `1/T` | -9359.14146  | 1075.091066  | -8.705441    | 1.024174e-14 |\n",
       "\n"
      ],
      "text/plain": [
       "            Estimate    Std. Error  t value   Pr(>|t|)    \n",
       "(Intercept)    20.83335    3.650929  5.706314 7.082031e-08\n",
       "`1/T`       -9359.14146 1075.091066 -8.705441 1.024174e-14"
      ]
     },
     "metadata": {},
     "output_type": "display_data"
    }
   ],
   "source": [
    "summary(modlin_depth30)$adj.r.squared\n",
    "summary(modlin_depth30)$coefficients"
   ]
  },
  {
   "cell_type": "markdown",
   "metadata": {},
   "source": [
    "## Some custom functions.\n",
    "Pseudo R-square allows to measure how well variables of our model explain co2 emission rate"
   ]
  },
  {
   "cell_type": "code",
   "execution_count": 12,
   "metadata": {},
   "outputs": [],
   "source": [
    "pseudoR2 <- function(y, y_hat) {\n",
    "  1 - (sum((y - y_hat)^2) / sum((y - mean(y))^2))\n",
    "}\n",
    "\n",
    "# Residuals\n",
    "residues <- function(model, level = 0, computeResidues = TRUE, residues,\n",
    "                   main = \"\") {\n",
    "  library(e1071)\n",
    "  if (computeResidues) {\n",
    "    r = residuals(model, type=\"normalized\", level)\n",
    "  } else {\n",
    "    r = residues\n",
    "  }\n",
    "  hist(r, freq=F, main = main, breaks=20)\n",
    "  xfit<-seq(min(r),max(r),length=40)\n",
    "  yfit<-dnorm(xfit)\n",
    "  lines(xfit, yfit, col=\"red\", lwd=2)\n",
    "  print(\"Shapiro-Wilk:\")\n",
    "  print(shapiro.test(r))\n",
    "  print(paste(\"Kurtosis:\", kurtosis(r)))\n",
    "  print(paste(\"Skewness:\", skewness(r)))\n",
    "}\n"
   ]
  },
  {
   "cell_type": "markdown",
   "metadata": {},
   "source": [
    "## Data Exploration"
   ]
  },
  {
   "cell_type": "markdown",
   "metadata": {},
   "source": [
    "### Boxplot"
   ]
  },
  {
   "cell_type": "code",
   "execution_count": 13,
   "metadata": {},
   "outputs": [
    {
     "data": {
      "text/plain": [
       "<ScaleContinuousPosition>\n",
       " Range:  \n",
       " Limits:    0 --    1"
      ]
     },
     "metadata": {},
     "output_type": "display_data"
    },
    {
     "data": {
      "image/png": "[encoded data removed]",
      "text/plain": [
       "plot without title"
      ]
     },
     "metadata": {},
     "output_type": "display_data"
    }
   ],
   "source": [
    "options(repr.plot.width = 6, repr.plot.height = 7)\n",
    "pg <- ggplot(data=data_co2, aes(x = `Time (days)`,y = `CO2 emission (ug/h/g)` , group = `Temperature (°C)`)) +# geom_point(color= \"black\", size=2) +\n",
    " facet_grid(`Depth (cm)` ~ `Temperature (°C)`,labeller = label_both)+  #scales = \"free\", \n",
    " #geom_jitter(width=0.25)+ \n",
    "        geom_boxplot(alpha=0.5)+\n",
    "  xlab(\"Time (days)\") + ylab(\"co2 emission\")\n",
    "pg +geom_boxplot() #boxplot(color=\"#993399\", aes(group= PROFONDEUR)) +\n",
    "scale_y_log10()"
   ]
  },
  {
   "cell_type": "markdown",
   "metadata": {},
   "source": [
    "## linear regression"
   ]
  },
  {
   "cell_type": "code",
   "execution_count": 14,
   "metadata": {},
   "outputs": [],
   "source": [
    "data_co2 <- data_co2 %>%\n",
    "  rename(Co2 = `CO2 emission (ug/h/g)`,\n",
    "         Time = `Time (days)`,\n",
    "         Depth = `Depth (cm)`,\n",
    "         Temperature = `Temperature (°C)`,\n",
    "         Id = `ID pot`)%>%\n",
    "  drop_na() %>%\n",
    "  droplevels()\n",
    "\n",
    "co2_lm <- lm((log10(Co2)) ~ Time + Depth + Temperature,\n",
    "                     data = data_co2) "
   ]
  },
  {
   "cell_type": "code",
   "execution_count": 15,
   "metadata": {},
   "outputs": [
    {
     "data": {
      "text/plain": [
       "\n",
       "Call:\n",
       "lm(formula = (log10(Co2)) ~ Time + Depth + Temperature, data = data_co2)\n",
       "\n",
       "Residuals:\n",
       "     Min       1Q   Median       3Q      Max \n",
       "-1.34296 -0.15630  0.03048  0.17729  0.80750 \n",
       "\n",
       "Coefficients:\n",
       "              Estimate Std. Error t value Pr(>|t|)    \n",
       "(Intercept) -0.8851447  0.0468129 -18.908   <2e-16 ***\n",
       "Time        -0.0031918  0.0003649  -8.748   <2e-16 ***\n",
       "Depth       -0.0741976  0.0015185 -48.861   <2e-16 ***\n",
       "Temperature  0.0361799  0.0015260  23.710   <2e-16 ***\n",
       "---\n",
       "Signif. codes:  0 '***' 0.001 '**' 0.01 '*' 0.05 '.' 0.1 ' ' 1\n",
       "\n",
       "Residual standard error: 0.2605 on 453 degrees of freedom\n",
       "Multiple R-squared:  0.8623,\tAdjusted R-squared:  0.8614 \n",
       "F-statistic: 945.7 on 3 and 453 DF,  p-value: < 2.2e-16\n"
      ]
     },
     "metadata": {},
     "output_type": "display_data"
    }
   ],
   "source": [
    "summary(co2_lm)"
   ]
  },
  {
   "cell_type": "markdown",
   "metadata": {},
   "source": [
    "### p-value"
   ]
  },
  {
   "cell_type": "code",
   "execution_count": 16,
   "metadata": {},
   "outputs": [
    {
     "data": {
      "text/html": [
       "<dl class=dl-horizontal>\n",
       "\t<dt>(Intercept)</dt>\n",
       "\t\t<dd>3.3239129312181e-59</dd>\n",
       "\t<dt>Time</dt>\n",
       "\t\t<dd>4.30629730108402e-17</dd>\n",
       "\t<dt>Depth</dt>\n",
       "\t\t<dd>1.06381467268956e-182</dd>\n",
       "\t<dt>Temperature</dt>\n",
       "\t\t<dd>2.13121832591047e-81</dd>\n",
       "</dl>\n"
      ],
      "text/latex": [
       "\\begin{description*}\n",
       "\\item[(Intercept)] 3.3239129312181e-59\n",
       "\\item[Time] 4.30629730108402e-17\n",
       "\\item[Depth] 1.06381467268956e-182\n",
       "\\item[Temperature] 2.13121832591047e-81\n",
       "\\end{description*}\n"
      ],
      "text/markdown": [
       "(Intercept)\n",
       ":   3.3239129312181e-59Time\n",
       ":   4.30629730108402e-17Depth\n",
       ":   1.06381467268956e-182Temperature\n",
       ":   2.13121832591047e-81\n",
       "\n"
      ],
      "text/plain": [
       "  (Intercept)          Time         Depth   Temperature \n",
       " 3.323913e-59  4.306297e-17 1.063815e-182  2.131218e-81 "
      ]
     },
     "metadata": {},
     "output_type": "display_data"
    }
   ],
   "source": [
    "summary(co2_lm)$coefficients[,4]"
   ]
  },
  {
   "cell_type": "markdown",
   "metadata": {},
   "source": [
    "### CO2 emission in cranberry soils in three-layer positions (0-10 cm, 10-20 cm, 20-30 cm) and at three temperatures (10, 20 and 30oC).\n",
    "Here, we use our model `co2_lm` to predict co2 emission trend. In order to do that, we create a new data called `Data_exp` following predicted Co2 column. The trend line was drawn with `data_exp`"
   ]
  },
  {
   "cell_type": "code",
   "execution_count": 64,
   "metadata": {},
   "outputs": [
    {
     "data": {
      "image/png": "[encoded data removed]",
      "text/plain": [
       "plot without title"
      ]
     },
     "metadata": {},
     "output_type": "display_data"
    }
   ],
   "source": [
    "Data_exp <- expand.grid(Time = seq(0, 105, 5), Depth = c(10, 20, 30), Temperature = c(10, 20, 30))\n",
    "Data_exp$Co2 <- 10^predict(co2_lm, newdata = Data_exp, level=0)\n",
    "\n",
    "options(repr.plot.width = 8, repr.plot.height = 8)\n",
    "theme_set(theme_bw())\n",
    "pl <- ggplot(data = data_co2, aes(x = Time, y = Co2)) +\n",
    " facet_grid(Depth ~ Temperature, labeller = label_both) +\n",
    "  xlab(\"Time (days)\") + ylab(bquote(~CO[2]~ 'emision ('*mu~'g'~ h^-1~g^-1*')'))\n",
    "pl + geom_line(color=\"#993399\", aes(group= Id), alpha=0.15) +\n",
    "  geom_line(data = Data_exp) +\n",
    "  scale_y_log10()\n",
    "ggsave(\"figures/CO2 emission.png\", width = 5, height = 5, dpi = 150)# export plot high resolution"
   ]
  },
  {
   "cell_type": "markdown",
   "metadata": {},
   "source": [
    "### Pseudo r-square"
   ]
  },
  {
   "cell_type": "code",
   "execution_count": 65,
   "metadata": {},
   "outputs": [
    {
     "data": {
      "text/html": [
       "0.862319890017184"
      ],
      "text/latex": [
       "0.862319890017184"
      ],
      "text/markdown": [
       "0.862319890017184"
      ],
      "text/plain": [
       "[1] 0.8623199"
      ]
     },
     "metadata": {},
     "output_type": "display_data"
    }
   ],
   "source": [
    "pseudoR2(y = log10(data_co2$Co2),\n",
    "         y_hat = predict(co2_lm))"
   ]
  },
  {
   "cell_type": "markdown",
   "metadata": {},
   "source": [
    "### Normality test"
   ]
  },
  {
   "cell_type": "code",
   "execution_count": 66,
   "metadata": {},
   "outputs": [
    {
     "data": {
      "image/png": "[encoded data removed]",
      "text/plain": [
       "Plot with title \"Old Faithful Eruptions\""
      ]
     },
     "metadata": {},
     "output_type": "display_data"
    },
    {
     "data": {
      "image/png": "[encoded data removed]",
      "text/plain": [
       "Plot with title \"Histogram of Residuals\""
      ]
     },
     "metadata": {},
     "output_type": "display_data"
    },
    {
     "data": {
      "image/png": "[encoded data removed]",
      "text/plain": [
       "Plot with title \"Normal Q-Q Plot\""
      ]
     },
     "metadata": {},
     "output_type": "display_data"
    }
   ],
   "source": [
    "options(repr.plot.width=6, repr.plot.height=4)\n",
    "residu <- resid(co2_lm)\n",
    "plot(data_co2$Co2, residu, \n",
    "     ylab=\"Residuals\", xlab=\"Waiting Time\", \n",
    "    main=\"Old Faithful Eruptions\") \n",
    " abline(0, 0)  \n",
    "\n",
    "#Histogram of Residuals\n",
    "hist(residu, main=\"Histogram of Residuals\",\n",
    " ylab=\"Residuals\")\n",
    "\n",
    "#Q-Q Plot\n",
    "qqnorm(residu)\n",
    "qqline(residu)"
   ]
  },
  {
   "cell_type": "markdown",
   "metadata": {},
   "source": [
    "## Relationship between predicted and observed CO2 emission"
   ]
  },
  {
   "cell_type": "code",
   "execution_count": 67,
   "metadata": {},
   "outputs": [
    {
     "data": {
      "image/png": "[encoded data removed]",
      "text/plain": [
       "plot without title"
      ]
     },
     "metadata": {},
     "output_type": "display_data"
    }
   ],
   "source": [
    "options(repr.plot.width = 5, repr.plot.height = 5)\n",
    "plot <- plot(x = data_co2$Co2, y = 10**predict(co2_lm), xlab = (bquote('Observed'~CO[2]~ 'emision ('*mu~'g' ~ h^-1~g^-1*')')),\n",
    "             ylab = (bquote('Predicted'~CO[2]~ 'emision ('*mu~'g' ~ h^-1~g^-1*')'))) \n",
    "abline(0,1, col = \"red\")"
   ]
  },
  {
   "cell_type": "code",
   "execution_count": null,
   "metadata": {},
   "outputs": [],
   "source": []
  }
 ],
 "metadata": {
  "kernelspec": {
   "display_name": "R",
   "language": "R",
   "name": "ir"
  },
  "language_info": {
   "codemirror_mode": "r",
   "file_extension": ".r",
   "mimetype": "text/x-r-source",
   "name": "R",
   "pygments_lexer": "r",
   "version": "3.6.1"
  }
 },
 "nbformat": 4,
 "nbformat_minor": 4
}
