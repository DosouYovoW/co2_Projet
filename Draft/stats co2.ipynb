{
 "cells": [
  {
   "cell_type": "markdown",
   "metadata": {},
   "source": [
    "# Temperature sensitivity of CO2 emissions in layered cranberry soils\n",
    "*Wilfried Dossou-Yovo, Serge Étienne Parent,Noura Ziadi, Bertrand Normand, and Léon Étienne parent*"
   ]
  },
  {
   "cell_type": "code",
   "execution_count": 1,
   "metadata": {},
   "outputs": [
    {
     "name": "stdout",
     "output_type": "stream",
     "text": [
      "[1] \"2022-02-11\"\n"
     ]
    }
   ],
   "source": [
    "print(Sys.Date())"
   ]
  },
  {
   "cell_type": "markdown",
   "metadata": {},
   "source": [
    "## 1. Objective"
   ]
  },
  {
   "cell_type": "markdown",
   "metadata": {},
   "source": [
    "This notebook generate the result of CO2 data analysis. Data set contains a collection of soil caracteristics, measured co2 emission collected from incubation study. Soil samples was collected from two cranberry fied stand of eastern canada. Incubation study was carried out at Agriculture and Agri-food Canada(sainte-foy, quebec,qc) from February to Mai 2019. The aim of this study was to measure CO2 emission rates in cranberry soils of Eastern Canada as related to soil temperature and depth"
   ]
  },
  {
   "cell_type": "markdown",
   "metadata": {},
   "source": [
    "## 2. Statistical questions\n",
    "\n",
    "In addition to data exploration, this notebook will answer the following statistical questions.\n",
    " \n",
    "1. What is the influence of soil depth and temperature on CO2 emission?\n",
    "2. Can Arrhenius equation and Q10 be useful to describe temperature sensitivity of carbon decomposition across layers? "
   ]
  },
  {
   "cell_type": "markdown",
   "metadata": {},
   "source": [
    "## 3. Packages"
   ]
  },
  {
   "cell_type": "markdown",
   "metadata": {},
   "source": [
    "We need package [tidyverse](https://www.tidyverse.org/) which loads a set of packages for easy data manipulation(Ex: [dplyr](https://www.rdocumentation.org/packages/dplyr/versions/0.7.8)) and visualization (ex: [ggplot2](https://www.rdocumentation.org/packages/ggplot2/versions/3.2.1)). We also use [ggpubr](https://www.rdocumentation.org/packages/ggpubr/versions/0.1.1) to customise publication ready plot, [ggpmisc](https://www.rdocumentation.org/packages/ggpmisc/versions/0.2.17) and [grid](https://www.rdocumentation.org/packages/grid/versions/3.6.2) are useful packages as extensions to [ggplot2](https://www.rdocumentation.org/packages/ggplot2/versions/3.2.1)."
   ]
  },
  {
   "cell_type": "code",
   "execution_count": 25,
   "metadata": {},
   "outputs": [
    {
     "name": "stderr",
     "output_type": "stream",
     "text": [
      "also installing the dependencies ‘SparseM’, ‘sp’, ‘minqa’, ‘nloptr’, ‘RcppEigen’, ‘pbkrtest’, ‘quantreg’, ‘maptools’, ‘lme4’, ‘car’, ‘ggrepel’, ‘rstatix’\n",
      "\n",
      "\n",
      "Warning message in install.packages(\"ggpubr\"):\n",
      "“installation of package ‘SparseM’ had non-zero exit status”\n",
      "Warning message in install.packages(\"ggpubr\"):\n",
      "“installation of package ‘sp’ had non-zero exit status”\n",
      "Warning message in install.packages(\"ggpubr\"):\n",
      "“installation of package ‘minqa’ had non-zero exit status”\n",
      "Warning message in install.packages(\"ggpubr\"):\n",
      "“installation of package ‘nloptr’ had non-zero exit status”\n",
      "Warning message in install.packages(\"ggpubr\"):\n",
      "“installation of package ‘RcppEigen’ had non-zero exit status”\n",
      "Warning message in install.packages(\"ggpubr\"):\n",
      "“installation of package ‘ggrepel’ had non-zero exit status”\n",
      "Warning message in install.packages(\"ggpubr\"):\n",
      "“installation of package ‘quantreg’ had non-zero exit status”\n",
      "Warning message in install.packages(\"ggpubr\"):\n",
      "“installation of package ‘maptools’ had non-zero exit status”\n",
      "Warning message in install.packages(\"ggpubr\"):\n",
      "“installation of package ‘lme4’ had non-zero exit status”\n",
      "Warning message in install.packages(\"ggpubr\"):\n",
      "“installation of package ‘pbkrtest’ had non-zero exit status”\n",
      "Warning message in install.packages(\"ggpubr\"):\n",
      "“installation of package ‘car’ had non-zero exit status”\n",
      "Warning message in install.packages(\"ggpubr\"):\n",
      "“installation of package ‘rstatix’ had non-zero exit status”\n",
      "Warning message in install.packages(\"ggpubr\"):\n",
      "“installation of package ‘ggpubr’ had non-zero exit status”\n",
      "Updating HTML index of packages in '.Library'\n",
      "\n",
      "Making 'packages.html' ...\n",
      " done\n",
      "\n"
     ]
    },
    {
     "ename": "ERROR",
     "evalue": "Error in library(ggpubr): there is no package called ‘ggpubr’\n",
     "output_type": "error",
     "traceback": [
      "Error in library(ggpubr): there is no package called ‘ggpubr’\nTraceback:\n",
      "1. library(ggpubr)"
     ]
    }
   ],
   "source": [
    "install.packages(c(\"ggpubr\", \"ggpmisc\", \"tidyverse\", \"plyr\"))\n",
    "library(\"plyr\")\n",
    "#library(\"tidyverse\")\n",
    "install.packages(\"ggpubr\")\n",
    "library(ggpubr)\n",
    "library(ggpmisc)\n",
    "library(grid)"
   ]
  },
  {
   "cell_type": "markdown",
   "metadata": {},
   "source": [
    "### 4. Import data\n",
    "We load two data `data_pot` and `data_co2` involved in our anylisis. `data_pot` contained details about sites sampling, soil sampling(soil depth, weight, water content and bulk density), laboratory incubation temperature while `data_co2` contained details about laboratory incubation time, co2 emission and jar masson details.\n",
    "`data_co2` was combined with `data_pot` with `left_join` function"
   ]
  },
  {
   "cell_type": "code",
   "execution_count": 22,
   "metadata": {},
   "outputs": [
    {
     "ename": "ERROR",
     "evalue": "Error in read_csv2(\"data/pots.csv\"): could not find function \"read_csv2\"\n",
     "output_type": "error",
     "traceback": [
      "Error in read_csv2(\"data/pots.csv\"): could not find function \"read_csv2\"\nTraceback:\n"
     ]
    }
   ],
   "source": [
    "data_pots <- read_csv2('data/pots.csv')\n",
    "data_co2 <- read_csv('data/co2.csv')\n",
    "data_co2 <- data_co2 %>%\n",
    "left_join(data_pots, by = \"ID pot\")\n",
    "data_pots"
   ]
  },
  {
   "cell_type": "markdown",
   "metadata": {},
   "source": [
    "## 5. Some calculations "
   ]
  },
  {
   "cell_type": "markdown",
   "metadata": {},
   "source": [
    "Several variables have been added to our data in order to proceed for analysis. The added variables are the following: `Temperature (Kelvin)`, `Molar Volume (L/mol)`, `Headspace Volume (mL)`, `Dry soil weight (g)`, `CO2 emission (ug/h/g)`, `CO2 emission (mg/kg)`, `decomposition rate K`, `lnK`and `1/T(T = Temperature(Kelvin)`"
   ]
  },
  {
   "cell_type": "code",
   "execution_count": null,
   "metadata": {},
   "outputs": [],
   "source": [
    "container_volume <- 250 # mL\n",
    "gas_constant <- 8.31446 # unit\n",
    "atm_pressure_n <- 101.325\n",
    "\n",
    "data_co2 <- data_co2 %>%\n",
    "  mutate(`Temperature (K)` = `Temperature (°C)` + 273,\n",
    "         `Total carbon (Mg/ha)` = `Bulk density (g/cm3)` * `Carbone(%)` * 10,\n",
    "         `Molar Volume (L/mol)` = gas_constant * `Temperature (K)` / atm_pressure_n,\n",
    "         `Headspace Volume (mL)` = container_volume - (`Soil weight (g)` / `Bulk density (g/cm3)`), # 250 mL is the volume of the container\n",
    "         `Dry soil weight (g)` = `Soil weight (g)` - (`Soil weight (g)` * `Water content (%)` / 100),\n",
    "         `CO2 emission (ug/h/g)` = (`Final CO2 (ppm)` - `Initial CO2 (ppm)`) * 0.000001 * 44000000 /\n",
    "                                   `Molar Volume (L/mol)` * (`Headspace Volume (mL)` / 1000) * (12 / 44) /\n",
    "                                   `Time final (h)` / `Dry soil weight (g)`,\n",
    "         `CO2 emission (mg/kg)` = `CO2 emission (ug/h/g)` * 24 * `Time (days)`,\n",
    "         `CO2 emission (Mg/ha)` = `CO2 emission (mg/kg)` * `Bulk density (g/cm3)` * 10 * 0.0001,\n",
    "         K = log(`Total carbon (Mg/ha)` / (`Total carbon (Mg/ha)` - `CO2 emission (Mg/ha)`)) / `Time (days)`,\n",
    "         lnK = log(K),\n",
    "         `1/T` = 1 / `Temperature (K)`)"
   ]
  },
  {
   "cell_type": "markdown",
   "metadata": {},
   "source": [
    "## 6. Data Exploration"
   ]
  },
  {
   "cell_type": "markdown",
   "metadata": {},
   "source": [
    "### 6.1 Boxplot"
   ]
  },
  {
   "cell_type": "code",
   "execution_count": 14,
   "metadata": {},
   "outputs": [],
   "source": [
    "New.labs <- c(\"10°C\", \"20°C\", \"30°C\") # Change labels \n",
    "names(New.labs) <- c(\"10\", \"20\", \"30\")\n",
    "\n",
    "New.labs_b <-  c(\"[0-10 cm]\", \"[10-20 cm]\", \"[20-30 cm]\") # Change labels\n",
    "names(New.labs_b) <- c(\"10\", \"20\", \"30\")"
   ]
  },
  {
   "cell_type": "code",
   "execution_count": 15,
   "metadata": {},
   "outputs": [
    {
     "data": {
      "image/png": "[encoded data removed]",
      "text/plain": [
       "plot without title"
      ]
     },
     "metadata": {
      "image/png": {
       "height": 420,
       "width": 360
      }
     },
     "output_type": "display_data"
    }
   ],
   "source": [
    "options(repr.plot.width = 6, repr.plot.height = 7)\n",
    "pg <- ggplot(data=data_co2, aes(x = `Time (days)`,y = `CO2 emission (ug/h/g)` , group = `Temperature (°C)`)) +\n",
    "geom_boxplot() + \n",
    "facet_grid(`Depth (cm)` ~ `Temperature (°C)`,   scales = \"free\", \n",
    "          labeller = labeller(`Depth (cm)` = New.labs_b, `Temperature (°C)` = New.labs))+ \n",
    "#geom_jitter(width = 1/40, # very small width for the random noise\n",
    " #                                 height = 1/20, # very small height for the random noise\n",
    "  #                                alpha = 1/2, # transparent so we can see clustering\n",
    "   #                               size = 1) + # very small points \n",
    "  theme(legend.position = \"none\") +\n",
    "        geom_boxplot(alpha=0.5)+\n",
    " xlab(\"Incubation time (days)\") + ylab(bquote(~CO[2]~ 'emision ('*mu~'g'~ h^-1~g^-1*')'))\n",
    "pg \n",
    "ggsave(\"figures/Boxplot.png\", width = 6, height = 7, dpi = 600)# export plot high resolution"
   ]
  },
  {
   "cell_type": "markdown",
   "metadata": {},
   "source": [
    "## 7.What is the influence of soil depth and temperature on CO2 emission?"
   ]
  },
  {
   "cell_type": "markdown",
   "metadata": {},
   "source": [
    "### 7.1 linear regression"
   ]
  },
  {
   "cell_type": "code",
   "execution_count": 16,
   "metadata": {},
   "outputs": [],
   "source": [
    "data_co2 <- data_co2 %>%\n",
    "  rename(Co2 = `CO2 emission (ug/h/g)`,\n",
    "         Time = `Time (days)`,\n",
    "         Layers = `Depth (cm)`,\n",
    "         Temperature = `Temperature (°C)`,\n",
    "         Total_carbon = `Total carbon (Mg/ha)`,\n",
    "         Id = `ID pot`)%>%\n",
    "  drop_na() %>%\n",
    "  droplevels()"
   ]
  },
  {
   "cell_type": "markdown",
   "metadata": {},
   "source": [
    "### 7.2 Data transformation"
   ]
  },
  {
   "cell_type": "code",
   "execution_count": 17,
   "metadata": {},
   "outputs": [
    {
     "data": {
      "text/plain": [
       "\n",
       "Call:\n",
       "lm(formula = log10(Co2) ~ Time + Layers + Temperature, data = data_co2)\n",
       "\n",
       "Residuals:\n",
       "    Min      1Q  Median      3Q     Max \n",
       "-1.3504 -0.1473  0.0314  0.1692  0.7925 \n",
       "\n",
       "Coefficients:\n",
       "              Estimate Std. Error t value Pr(>|t|)    \n",
       "(Intercept) -0.8351070  0.0407928  -20.47   <2e-16 ***\n",
       "Time        -0.0034012  0.0003185  -10.68   <2e-16 ***\n",
       "Layers      -0.0749675  0.0013240  -56.62   <2e-16 ***\n",
       "Temperature  0.0360113  0.0013288   27.10   <2e-16 ***\n",
       "---\n",
       "Signif. codes:  0 '***' 0.001 '**' 0.01 '*' 0.05 '.' 0.1 ' ' 1\n",
       "\n",
       "Residual standard error: 0.2625 on 607 degrees of freedom\n",
       "Multiple R-squared:  0.8622,\tAdjusted R-squared:  0.8615 \n",
       "F-statistic:  1266 on 3 and 607 DF,  p-value: < 2.2e-16\n"
      ]
     },
     "metadata": {},
     "output_type": "display_data"
    },
    {
     "data": {
      "text/html": [
       "1.8924378228153"
      ],
      "text/latex": [
       "1.8924378228153"
      ],
      "text/markdown": [
       "1.8924378228153"
      ],
      "text/plain": [
       "[1] 1.892438"
      ]
     },
     "metadata": {},
     "output_type": "display_data"
    },
    {
     "data": {
      "image/png": "[encoded data removed]",
      "text/plain": [
       "Plot with title \"\""
      ]
     },
     "metadata": {
      "image/png": {
       "height": 480,
       "width": 480
      }
     },
     "output_type": "display_data"
    },
    {
     "data": {
      "image/png": "[encoded data removed]",
      "text/plain": [
       "Plot with title \"\""
      ]
     },
     "metadata": {
      "image/png": {
       "height": 480,
       "width": 480
      }
     },
     "output_type": "display_data"
    }
   ],
   "source": [
    "#Transformation log\n",
    "co2_lm <- lm(log10(Co2) ~ Time + Layers + Temperature,\n",
    "                     data = data_co2) \n",
    "summary(co2_lm)\n",
    "\n",
    "# Prediction\n",
    "num <- data_co2[, c(\"Time\", \"Layers\",\"Temperature\"), drop = FALSE]\n",
    "p1 <- 10^predict(co2_lm, num) \n",
    "\n",
    "# Normality test\n",
    "options(repr.plot.width=8, repr.plot.height=8)\n",
    "par(mfrow = c(2, 2))\n",
    "plot(co2_lm)\n",
    "\n",
    "#hist(log10(data_co2$Co2))\n",
    "plot(co2_lm, 4, id.n = 5)\n",
    "\n",
    "# Root mean square error (RMSE) for the goodness of fit\n",
    "library(Metrics)\n",
    "rmse(log10(data_co2$Co2), p1)"
   ]
  },
  {
   "cell_type": "markdown",
   "metadata": {},
   "source": [
    "Residuals and fitted values do not have any important pattern, but the Q-Q plot suggest that residuals are not well distributed because of heavy tail. Let try to remove some outliers to improve residuals distribution"
   ]
  },
  {
   "cell_type": "code",
   "execution_count": 18,
   "metadata": {},
   "outputs": [
    {
     "data": {
      "text/plain": [
       "\n",
       "Call:\n",
       "lm(formula = log10(Co2) ~ Time + Layers + Temperature, data = data_co2)\n",
       "\n",
       "Residuals:\n",
       "    Min      1Q  Median      3Q     Max \n",
       "-1.3504 -0.1473  0.0314  0.1692  0.7925 \n",
       "\n",
       "Coefficients:\n",
       "              Estimate Std. Error t value Pr(>|t|)    \n",
       "(Intercept) -0.8351070  0.0407928  -20.47   <2e-16 ***\n",
       "Time        -0.0034012  0.0003185  -10.68   <2e-16 ***\n",
       "Layers      -0.0749675  0.0013240  -56.62   <2e-16 ***\n",
       "Temperature  0.0360113  0.0013288   27.10   <2e-16 ***\n",
       "---\n",
       "Signif. codes:  0 '***' 0.001 '**' 0.01 '*' 0.05 '.' 0.1 ' ' 1\n",
       "\n",
       "Residual standard error: 0.2625 on 607 degrees of freedom\n",
       "Multiple R-squared:  0.8622,\tAdjusted R-squared:  0.8615 \n",
       "F-statistic:  1266 on 3 and 607 DF,  p-value: < 2.2e-16\n"
      ]
     },
     "metadata": {},
     "output_type": "display_data"
    },
    {
     "name": "stderr",
     "output_type": "stream",
     "text": [
      "Warning message:\n",
      "\"package 'Metrics' is in use and will not be installed\"\n"
     ]
    },
    {
     "data": {
      "text/html": [
       "1.8924378228153"
      ],
      "text/latex": [
       "1.8924378228153"
      ],
      "text/markdown": [
       "1.8924378228153"
      ],
      "text/plain": [
       "[1] 1.892438"
      ]
     },
     "metadata": {},
     "output_type": "display_data"
    },
    {
     "data": {
      "image/png": "[encoded data removed]",
      "text/plain": [
       "Plot with title \"\""
      ]
     },
     "metadata": {
      "image/png": {
       "height": 480,
       "width": 480
      }
     },
     "output_type": "display_data"
    }
   ],
   "source": [
    "#data_co2 <- data_co2[-c(82, 171, 269, 385, 466),] # remove five outliers\n",
    "co2_lm <- lm(log10(Co2) ~ Time + Layers + Temperature,\n",
    "                     data = data_co2) \n",
    "summary(co2_lm)\n",
    "\n",
    "# Prediction\n",
    "num <- data_co2[, c(\"Time\", \"Layers\",\"Temperature\"), drop = FALSE]\n",
    "p1 <- 10^predict(co2_lm, num) \n",
    "# Normality test\n",
    "options(repr.plot.width=8, repr.plot.height=8)\n",
    "par(mfrow = c(2, 2))\n",
    "plot(co2_lm)\n",
    "\n",
    "# Root mean square error (RMSE) for the goodness of fit\n",
    "install.packages(\"Metrics\")\n",
    "library(Metrics)\n",
    "rmse(log10(data_co2$Co2), p1)"
   ]
  },
  {
   "cell_type": "markdown",
   "metadata": {},
   "source": [
    "Now residuals are better distributed."
   ]
  },
  {
   "cell_type": "markdown",
   "metadata": {},
   "source": [
    "### 7.3 Reporting the results of the linear regression"
   ]
  },
  {
   "cell_type": "code",
   "execution_count": 19,
   "metadata": {},
   "outputs": [
    {
     "ename": "ERROR",
     "evalue": "Error: Can't add `ggsave(\"figures/Linear-model-Co2.png\", width = 8, height = 2, ` to a ggplot object.\n* Can't add `    dpi = 600)` to a ggplot object.\n",
     "output_type": "error",
     "traceback": [
      "Error: Can't add `ggsave(\"figures/Linear-model-Co2.png\", width = 8, height = 2, ` to a ggplot object.\n* Can't add `    dpi = 600)` to a ggplot object.\nTraceback:\n",
      "1. `+.gg`(co2_lm_res, ggsave(\"figures/Linear-model-Co2.png\", width = 8, \n .     height = 2, dpi = 600))",
      "2. add_ggplot(e1, e2, e2name)",
      "3. ggplot_add(object, p, objectname)",
      "4. ggplot_add.default(object, p, objectname)",
      "5. abort(glue(\"Can't add `{object_name}` to a ggplot object.\"))",
      "6. signal_abort(cnd)"
     ]
    }
   ],
   "source": [
    "options(repr.plot.width = 8, repr.plot.height = 2)\n",
    "ic <- confint(co2_lm, level = 0.95)\n",
    "co <- coef(co2_lm)\n",
    "co2_lm_res <- tibble(variable = rownames(ic),\n",
    "                         ll = ic[, 1], est = co, ul = ic[, 2])\n",
    "\n",
    "co2_lm_res <-  co2_lm_res %>%\n",
    "  filter(variable != \"(Intercept)\") %>%\n",
    "  ggplot(aes(x = est, y = variable)) +\n",
    "  geom_vline(xintercept = 0, lty = 2) +\n",
    "  geom_segment(mapping = aes(\n",
    "    x = ll,\n",
    "    xend = ul,\n",
    "    yend = variable\n",
    "    )\n",
    "  ) +\n",
    "xlab('Coefficient') +\n",
    "  ylab('') +\n",
    "  geom_point() +\n",
    "theme(strip.text.y = element_text(angle=0),\n",
    "        legend.title = element_blank(),\n",
    "        legend.position = \"bottom\",\n",
    "        text = element_text(size = 18, face=\"bold\"),\n",
    "      axis.title=element_text(size=14,face=\"bold\")) \n",
    "co2_lm_res +\n",
    "ggsave(\"figures/Linear-model-Co2.png\", width = 8, height = 2, dpi = 600)"
   ]
  },
  {
   "cell_type": "markdown",
   "metadata": {},
   "source": [
    "### 7.3 Prediction model of CO2 emission in cranberry soils in three-layer positions (0-10 cm, 10-20 cm, 20-30 cm) and at three temperatures (10, 20 and 30oC).\n",
    "Here, we use our model `co2_lm` to predict co2 emission trend. In order to do that, we create a new data called `Data_exp` following predicted Co2 column. The trend line was drawn with `data_exp`"
   ]
  },
  {
   "cell_type": "code",
   "execution_count": 37,
   "metadata": {},
   "outputs": [
    {
     "data": {
      "image/png": "[encoded data removed]",
      "text/plain": [
       "plot without title"
      ]
     },
     "metadata": {
      "image/png": {
       "height": 360,
       "width": 480
      }
     },
     "output_type": "display_data"
    }
   ],
   "source": [
    "New.labs <- c(\"10°C\", \"20°C\", \"30°C\") # Change labels \n",
    "names(New.labs) <- c(\"10\", \"20\", \"30\")\n",
    "\n",
    "New.labs_b <-  c(\"[0-10 cm]\", \"[10-20 cm]\", \"[20-30 cm]\") # Change labels\n",
    "names(New.labs_b) <- c(\"10\", \"20\", \"30\")\n",
    "\n",
    "Data_exp <- expand.grid(Time = seq(0, 105, 5), Layers = c(10, 20, 30), Temperature = c(10, 20, 30))\n",
    "Data_exp$Co2 <- 10^predict(co2_lm, newdata = Data_exp, level=0)\n",
    "\n",
    "options(repr.plot.width = 8, repr.plot.height = 6)\n",
    "theme_set(theme_bw())\n",
    "pl <- ggplot(data = data_co2, aes(x = Time, y = Co2)) +\n",
    " facet_grid(Layers ~ Temperature, scales = \"free\", labeller = labeller(`Layers` = New.labs_b, `Temperature` = New.labs)) +\n",
    "  xlab(\"Incubation time (days)\") + ylab(bquote(~CO[2]~ 'emision rate ('*mu~'g'~ h^-1~g^-1*')'))\n",
    "pl + geom_point(shape=1, size = 1.5) +\n",
    "  geom_line(data = Data_exp) +\n",
    "scale_y_log10() +\n",
    "theme_bw() +\n",
    "theme(strip.text = element_text(size = 14), axis.text=element_text(size=14),\n",
    "        axis.title=element_text(size=16),\n",
    "     axis.title.y = element_text(size=16))\n",
    "  \n",
    "ggsave(\"figures/CO2 emission.png\", plot= pl, width = 9, height = 7, dpi = 600)# export plot high resolution"
   ]
  },
  {
   "cell_type": "markdown",
   "metadata": {},
   "source": [
    "## 8. What is the temperature sensitivity across cranberry soil layers?"
   ]
  },
  {
   "cell_type": "markdown",
   "metadata": {},
   "source": [
    "### 8.1 Fit of Arrhenius equation"
   ]
  },
  {
   "cell_type": "markdown",
   "metadata": {},
   "source": [
    "The Arrhenius equation has been used to describe temperature sensitivity to CO2 emission. The Arrhenius equation was computed as follows: \n",
    "\n",
    "\n",
    "\n",
    "$$k = A e^{{\\frac{-Ea}{RT}}}$$\n",
    "\n",
    "$$log \\left( k \\right) = log \\left( A e^{\\frac{-Ea}{RT}} \\right)$$\n",
    "\n",
    "$$log \\left( k \\right) = log \\left( A \\right) + log \\left(e^{\\frac{-Ea}{RT}} \\right)$$\n",
    "\n",
    "$$log \\left( k \\right) = log \\left( A \\right) - \\frac{1}{T} \\times \\left(\\frac{Ea}{R}\\right)$$\n",
    "\n",
    "Where $A$ is the pre-exponential factor and $Ea$ is activation energy assumed to be independent of temperature, $R$ is the universal gas constant and $T$ is absolute temperature (Kelvin)"
   ]
  },
  {
   "cell_type": "code",
   "execution_count": 21,
   "metadata": {},
   "outputs": [
    {
     "data": {
      "text/html": [
       "<style>\n",
       ".list-inline {list-style: none; margin:0; padding: 0}\n",
       ".list-inline>li {display: inline-block}\n",
       ".list-inline>li:not(:last-child)::after {content: \"\\00b7\"; padding: 0 .5ex}\n",
       "</style>\n",
       "<ol class=list-inline><li>611</li><li>27</li></ol>\n"
      ],
      "text/latex": [
       "\\begin{enumerate*}\n",
       "\\item 611\n",
       "\\item 27\n",
       "\\end{enumerate*}\n"
      ],
      "text/markdown": [
       "1. 611\n",
       "2. 27\n",
       "\n",
       "\n"
      ],
      "text/plain": [
       "[1] 611  27"
      ]
     },
     "metadata": {},
     "output_type": "display_data"
    }
   ],
   "source": [
    "dim(data_co2)"
   ]
  },
  {
   "cell_type": "code",
   "execution_count": 22,
   "metadata": {},
   "outputs": [
    {
     "data": {
      "text/html": [
       "<style>\n",
       ".list-inline {list-style: none; margin:0; padding: 0}\n",
       ".list-inline>li {display: inline-block}\n",
       ".list-inline>li:not(:last-child)::after {content: \"\\00b7\"; padding: 0 .5ex}\n",
       "</style>\n",
       "<ol class=list-inline><li>3</li><li>2</li></ol>\n"
      ],
      "text/latex": [
       "\\begin{enumerate*}\n",
       "\\item 3\n",
       "\\item 2\n",
       "\\end{enumerate*}\n"
      ],
      "text/markdown": [
       "1. 3\n",
       "2. 2\n",
       "\n",
       "\n"
      ],
      "text/plain": [
       "[1] 3 2"
      ]
     },
     "metadata": {},
     "output_type": "display_data"
    }
   ],
   "source": [
    "models_co2 <- data_co2 %>%\n",
    "  group_by(`Layers`) %>%\n",
    "  summarise(linmod = list(lm(lnK ~ `1/T`)))\n",
    "dim(models_co2)"
   ]
  },
  {
   "cell_type": "code",
   "execution_count": 23,
   "metadata": {},
   "outputs": [],
   "source": [
    "models_co2 <- data_co2 %>%\n",
    "  group_by(`Layers`) %>%\n",
    "  summarise(linmod = list(lm(lnK ~ `1/T`)))\n",
    "\n",
    "linmod_coef <- list()\n",
    "for (i in seq_along(models_co2$linmod)) linmod_coef[[i]] <- models_co2$linmod[[i]]$coefficients\n",
    "linmod_coef <- do.call(rbind.data.frame, linmod_coef)\n",
    "names(linmod_coef) <- c(\"Intercept\", \"Slope\")\n",
    "linmod_coef <- bind_cols(unique(data_co2[\"Layers\"]), linmod_coef)"
   ]
  },
  {
   "cell_type": "code",
   "execution_count": 29,
   "metadata": {},
   "outputs": [
    {
     "data": {
      "text/html": [
       "<table class=\"dataframe\">\n",
       "<caption>A tibble: 3 × 3</caption>\n",
       "<thead>\n",
       "\t<tr><th scope=col>Layers</th><th scope=col>Intercept</th><th scope=col>Slope</th></tr>\n",
       "\t<tr><th scope=col>&lt;dbl&gt;</th><th scope=col>&lt;dbl&gt;</th><th scope=col>&lt;dbl&gt;</th></tr>\n",
       "</thead>\n",
       "<tbody>\n",
       "\t<tr><td>10</td><td>11.60517</td><td>-6001.720</td></tr>\n",
       "\t<tr><td>20</td><td>13.96191</td><td>-7052.007</td></tr>\n",
       "\t<tr><td>30</td><td>18.53837</td><td>-8557.755</td></tr>\n",
       "</tbody>\n",
       "</table>\n"
      ],
      "text/latex": [
       "A tibble: 3 × 3\n",
       "\\begin{tabular}{lll}\n",
       " Layers & Intercept & Slope\\\\\n",
       " <dbl> & <dbl> & <dbl>\\\\\n",
       "\\hline\n",
       "\t 10 & 11.60517 & -6001.720\\\\\n",
       "\t 20 & 13.96191 & -7052.007\\\\\n",
       "\t 30 & 18.53837 & -8557.755\\\\\n",
       "\\end{tabular}\n"
      ],
      "text/markdown": [
       "\n",
       "A tibble: 3 × 3\n",
       "\n",
       "| Layers &lt;dbl&gt; | Intercept &lt;dbl&gt; | Slope &lt;dbl&gt; |\n",
       "|---|---|---|\n",
       "| 10 | 11.60517 | -6001.720 |\n",
       "| 20 | 13.96191 | -7052.007 |\n",
       "| 30 | 18.53837 | -8557.755 |\n",
       "\n"
      ],
      "text/plain": [
       "  Layers Intercept Slope    \n",
       "1 10     11.60517  -6001.720\n",
       "2 20     13.96191  -7052.007\n",
       "3 30     18.53837  -8557.755"
      ]
     },
     "metadata": {},
     "output_type": "display_data"
    }
   ],
   "source": [
    "linmod_coef"
   ]
  },
  {
   "cell_type": "code",
   "execution_count": 43,
   "metadata": {},
   "outputs": [
    {
     "data": {
      "image/png": "[encoded data removed]",
      "text/plain": [
       "plot without title"
      ]
     },
     "metadata": {
      "image/png": {
       "height": 360,
       "width": 720
      }
     },
     "output_type": "display_data"
    }
   ],
   "source": [
    "options(repr.plot.width = 12, repr.plot.height = 6)\n",
    "  plot_co2 <- data_co2 %>%\n",
    "  ggplot(aes(x = `1/T`, y = lnK)) +\n",
    "  facet_grid(~`Layers`, labeller = labeller(`Layers` = New.labs_b)) +\n",
    "  geom_boxplot(aes(group = factor(`1/T`))) +\n",
    "#ylim(-20, 10) +\n",
    "stat_regline_equation(aes(label =  paste(..eq.label.., ..rr.label.., sep = \"~~\")), label.x = 0.00331, label.y = -7) +\n",
    "  geom_abline(data = linmod_coef, aes(intercept = Intercept, slope = Slope), lwd = 2) +\n",
    "  labs(y = \"ln(K)\") +\n",
    "theme_bw() +\n",
    "theme(strip.text = element_text(size = 14), axis.text=element_text(size=14),\n",
    "        axis.title=element_text(size=14)) \n",
    "plot_co2\n",
    "ggsave(\"figures/Arrhénius équation.png\", plot = plot_co2, width = 8, height = 4, dpi = 600)# export plot high resolution"
   ]
  },
  {
   "cell_type": "markdown",
   "metadata": {},
   "source": [
    "### 8.2 Activation Energy computation"
   ]
  },
  {
   "cell_type": "code",
   "execution_count": 26,
   "metadata": {},
   "outputs": [],
   "source": [
    "Activation_energy <- tibble(\n",
    "    Soil_layers = c(\"10\", \"20\", \"30\"),\n",
    "    intercept = NA,\n",
    "    slope = NA,\n",
    "    adj_r_sq = NA\n",
    ")"
   ]
  },
  {
   "cell_type": "code",
   "execution_count": 27,
   "metadata": {},
   "outputs": [],
   "source": [
    "lm_arrhenius <- for (i in 1:nrow(Activation_energy)) {\n",
    "    \n",
    "    lm_Activation_energy <- data_co2 %>%\n",
    "      filter(`Layers` == Activation_energy$Soil_layers[i]) %>%\n",
    "      lm(lnK ~ `1/T`, data = .)\n",
    "    \n",
    "    # intercept\n",
    "    Activation_energy$intercept[i] <- coef(lm_Activation_energy)[1]\n",
    "\n",
    "    # Slope\n",
    "     Activation_energy$slope[i] <- coef(lm_Activation_energy)[2]\n",
    "   \n",
    "    # statistics\n",
    "    Activation_energy$adj_r_sq[i] <- summary(lm_Activation_energy)$adj.r.squared\n",
    "}"
   ]
  },
  {
   "cell_type": "code",
   "execution_count": 28,
   "metadata": {},
   "outputs": [
    {
     "data": {
      "text/html": [
       "<table class=\"dataframe\">\n",
       "<caption>A tibble: 3 × 3</caption>\n",
       "<thead>\n",
       "\t<tr><th scope=col>Soil_layers</th><th scope=col>adj_r_sq</th><th scope=col>Ea</th></tr>\n",
       "\t<tr><th scope=col>&lt;chr&gt;</th><th scope=col>&lt;dbl&gt;</th><th scope=col>&lt;dbl&gt;</th></tr>\n",
       "</thead>\n",
       "<tbody>\n",
       "\t<tr><td>10</td><td>0.4880430</td><td>49.90107</td></tr>\n",
       "\t<tr><td>20</td><td>0.4015598</td><td>58.63364</td></tr>\n",
       "\t<tr><td>30</td><td>0.4897419</td><td>71.15313</td></tr>\n",
       "</tbody>\n",
       "</table>\n"
      ],
      "text/latex": [
       "A tibble: 3 × 3\n",
       "\\begin{tabular}{lll}\n",
       " Soil\\_layers & adj\\_r\\_sq & Ea\\\\\n",
       " <chr> & <dbl> & <dbl>\\\\\n",
       "\\hline\n",
       "\t 10 & 0.4880430 & 49.90107\\\\\n",
       "\t 20 & 0.4015598 & 58.63364\\\\\n",
       "\t 30 & 0.4897419 & 71.15313\\\\\n",
       "\\end{tabular}\n"
      ],
      "text/markdown": [
       "\n",
       "A tibble: 3 × 3\n",
       "\n",
       "| Soil_layers &lt;chr&gt; | adj_r_sq &lt;dbl&gt; | Ea &lt;dbl&gt; |\n",
       "|---|---|---|\n",
       "| 10 | 0.4880430 | 49.90107 |\n",
       "| 20 | 0.4015598 | 58.63364 |\n",
       "| 30 | 0.4897419 | 71.15313 |\n",
       "\n"
      ],
      "text/plain": [
       "  Soil_layers adj_r_sq  Ea      \n",
       "1 10          0.4880430 49.90107\n",
       "2 20          0.4015598 58.63364\n",
       "3 30          0.4897419 71.15313"
      ]
     },
     "metadata": {},
     "output_type": "display_data"
    }
   ],
   "source": [
    "R = 8.3144621 / 1000 # Gas constant Kj/mol/K \n",
    "Activation_energy <-  Activation_energy %>%\n",
    "  mutate(Ea = -slope * R) %>%\n",
    "  select(Soil_layers, adj_r_sq, Ea)\n",
    "Activation_energy"
   ]
  },
  {
   "cell_type": "markdown",
   "metadata": {},
   "source": [
    "### 8.3 Computing K median in order to compute Q10 value accross soil depth"
   ]
  },
  {
   "cell_type": "code",
   "execution_count": null,
   "metadata": {},
   "outputs": [],
   "source": [
    "K_median <- aggregate(K ~ `Layers` + `Temperature`, data = data_co2, FUN = mean)\n",
    "K_median_01 <- K_median %>%\n",
    "  pivot_wider(names_from = `Temperature`, values_from = K)\n",
    "\n",
    "K_median_01$Q_20_10 <- K_median_01$`20` / K_median_01$`10`\n",
    "K_median_01$Q_30_20 <- K_median_01$`30` / K_median_01$`20`\n",
    "K_median_01"
   ]
  },
  {
   "cell_type": "code",
   "execution_count": null,
   "metadata": {},
   "outputs": [],
   "source": [
    "K_median_01"
   ]
  },
  {
   "cell_type": "code",
   "execution_count": 21,
   "metadata": {},
   "outputs": [
    {
     "data": {
      "text/html": [
       "<table class=\"dataframe\">\n",
       "<caption>A data.frame: 3 × 3</caption>\n",
       "<thead>\n",
       "\t<tr><th scope=col>Layers</th><th scope=col>Q10_mean</th><th scope=col>Q10_se</th></tr>\n",
       "\t<tr><th scope=col>&lt;dbl&gt;</th><th scope=col>&lt;dbl&gt;</th><th scope=col>&lt;dbl&gt;</th></tr>\n",
       "</thead>\n",
       "<tbody>\n",
       "\t<tr><td>10</td><td>2.047461</td><td>0.05263113</td></tr>\n",
       "\t<tr><td>20</td><td>2.332289</td><td>0.09414767</td></tr>\n",
       "\t<tr><td>30</td><td>2.799614</td><td>0.10786351</td></tr>\n",
       "</tbody>\n",
       "</table>\n"
      ],
      "text/latex": [
       "A data.frame: 3 × 3\n",
       "\\begin{tabular}{lll}\n",
       " Layers & Q10\\_mean & Q10\\_se\\\\\n",
       " <dbl> & <dbl> & <dbl>\\\\\n",
       "\\hline\n",
       "\t 10 & 2.047461 & 0.05263113\\\\\n",
       "\t 20 & 2.332289 & 0.09414767\\\\\n",
       "\t 30 & 2.799614 & 0.10786351\\\\\n",
       "\\end{tabular}\n"
      ],
      "text/markdown": [
       "\n",
       "A data.frame: 3 × 3\n",
       "\n",
       "| Layers &lt;dbl&gt; | Q10_mean &lt;dbl&gt; | Q10_se &lt;dbl&gt; |\n",
       "|---|---|---|\n",
       "| 10 | 2.047461 | 0.05263113 |\n",
       "| 20 | 2.332289 | 0.09414767 |\n",
       "| 30 | 2.799614 | 0.10786351 |\n",
       "\n"
      ],
      "text/plain": [
       "  Layers Q10_mean Q10_se    \n",
       "1 10     2.047461 0.05263113\n",
       "2 20     2.332289 0.09414767\n",
       "3 30     2.799614 0.10786351"
      ]
     },
     "metadata": {},
     "output_type": "display_data"
    }
   ],
   "source": [
    "K_median_02 <- aggregate(K ~ `Sites` + `Time` + `Layers` + `Temperature`, data = data_co2, FUN = median)\n",
    "\n",
    "K_median_02 <- K_median_02 %>%\n",
    "  pivot_wider(names_from = `Temperature`, values_from = K)\n",
    "\n",
    "#K_median_02\n",
    "K_median_02$Q_20_10 <- K_median_02$`20` / K_median_02$`10`\n",
    "K_median_02$Q_30_20 <- K_median_02$`30` / K_median_02$`20`\n",
    "K_median_02 <- K_median_02 %>%\n",
    "na.omit(K_median_02)\n",
    "data_Q10 <- gather(data = K_median_02, key = `Temperature range`, value = Q10, c(`Q_20_10`, `Q_30_20`),\n",
    "                    factor_key=TRUE)\n",
    "\n",
    "mean_sd_Q10 <- ddply(data_Q10, ~ `Layers`,\n",
    "                  summarise, Q10_mean = mean(Q10, na.rm = TRUE), Q10_se = sd(Q10, na.rm = TRUE) / sqrt(dim(data_Q10)[1]))\n",
    "mean_sd_Q10"
   ]
  },
  {
   "cell_type": "code",
   "execution_count": 22,
   "metadata": {},
   "outputs": [],
   "source": [
    "data_Q10$Log_Q10 <- log10(data_Q10$Q10)\n",
    "\n",
    "Q10_lm <- lm(log(Q10) ~  Layers,\n",
    "                     data = data_Q10) "
   ]
  },
  {
   "cell_type": "code",
   "execution_count": 23,
   "metadata": {},
   "outputs": [
    {
     "data": {
      "text/plain": [
       "\n",
       "Call:\n",
       "lm(formula = log(Q10) ~ Layers, data = data_Q10)\n",
       "\n",
       "Residuals:\n",
       "    Min      1Q  Median      3Q     Max \n",
       "-1.4029 -0.1901 -0.0442  0.1754  0.9630 \n",
       "\n",
       "Coefficients:\n",
       "            Estimate Std. Error t value Pr(>|t|)    \n",
       "(Intercept) 0.547595   0.088225   6.207 1.37e-08 ***\n",
       "Layers      0.012952   0.004292   3.017  0.00326 ** \n",
       "---\n",
       "Signif. codes:  0 '***' 0.001 '**' 0.01 '*' 0.05 '.' 0.1 ' ' 1\n",
       "\n",
       "Residual standard error: 0.3352 on 96 degrees of freedom\n",
       "Multiple R-squared:  0.08663,\tAdjusted R-squared:  0.07711 \n",
       "F-statistic: 9.105 on 1 and 96 DF,  p-value: 0.003264\n"
      ]
     },
     "metadata": {},
     "output_type": "display_data"
    }
   ],
   "source": [
    "summary(Q10_lm)"
   ]
  },
  {
   "cell_type": "code",
   "execution_count": 24,
   "metadata": {},
   "outputs": [
    {
     "name": "stderr",
     "output_type": "stream",
     "text": [
      "`geom_smooth()` using formula 'y ~ x'\n",
      "\n",
      "`geom_smooth()` using formula 'y ~ x'\n",
      "\n"
     ]
    },
    {
     "data": {
      "image/png": "[encoded data removed]",
      "text/plain": [
       "plot without title"
      ]
     },
     "metadata": {
      "image/png": {
       "height": 240,
       "width": 480
      }
     },
     "output_type": "display_data"
    }
   ],
   "source": [
    "options(repr.plot.width = 8, repr.plot.height = 4)\n",
    "data_Q10$`Layers` <- as.character(data_Q10$`Layers`)\n",
    "ggplot(data=data_Q10, aes(x = `Time`, y = `Q10`)) +\n",
    "facet_grid(.~`Layers`, labeller = labeller(`Layers` = New.labs_b)) +\n",
    "geom_smooth(method = \"lm\", se = TRUE, color = \"Black\") +\n",
    "geom_point(shape=1, size = 1.5) +\n",
    "theme_bw() + \n",
    "theme(strip.text = element_text(size = 14), axis.text=element_text(size=14),\n",
    "        axis.title=element_text(size=14)) \n",
    "ggsave(\"figures/Variation of Q10 across layers.png\", width = 8, height = 4, dpi = 600)# export plot high resolution"
   ]
  },
  {
   "cell_type": "markdown",
   "metadata": {},
   "source": [
    "## 9. Soil description"
   ]
  },
  {
   "cell_type": "markdown",
   "metadata": {},
   "source": [
    "### 9.1 Soil layers properties"
   ]
  },
  {
   "cell_type": "markdown",
   "metadata": {},
   "source": [
    "Import data"
   ]
  },
  {
   "cell_type": "code",
   "execution_count": 37,
   "metadata": {},
   "outputs": [
    {
     "name": "stderr",
     "output_type": "stream",
     "text": [
      "\u001b[36mi\u001b[39m Using \u001b[34m\u001b[34m','\u001b[34m\u001b[39m as decimal and \u001b[34m\u001b[34m'.'\u001b[34m\u001b[39m as grouping mark. Use \u001b[30m\u001b[47m\u001b[30m\u001b[47m`read_delim()`\u001b[47m\u001b[30m\u001b[49m\u001b[39m for more control.\n",
      "\n",
      "\n",
      "\u001b[36m--\u001b[39m \u001b[1m\u001b[1mColumn specification\u001b[1m\u001b[22m \u001b[36m--------------------------------------------------------\u001b[39m\n",
      "cols(\n",
      "  Sample = \u001b[32mcol_double()\u001b[39m,\n",
      "  Location = \u001b[31mcol_character()\u001b[39m,\n",
      "  `Layer (cm)` = \u001b[31mcol_character()\u001b[39m,\n",
      "  `0_30_ID` = \u001b[31mcol_character()\u001b[39m,\n",
      "  `Site age` = \u001b[32mcol_double()\u001b[39m,\n",
      "  Repetition = \u001b[32mcol_double()\u001b[39m,\n",
      "  `Bulk density (kg m-3)` = \u001b[32mcol_double()\u001b[39m,\n",
      "  pHCaCl2 = \u001b[32mcol_double()\u001b[39m,\n",
      "  `Sand carbon (%)` = \u001b[32mcol_double()\u001b[39m,\n",
      "  `Carbone (%)` = \u001b[32mcol_double()\u001b[39m,\n",
      "  `Sulfur (%)` = \u001b[32mcol_double()\u001b[39m,\n",
      "  `Nitrogen (%)` = \u001b[32mcol_double()\u001b[39m,\n",
      "  `C stock (kg m-3)` = \u001b[32mcol_double()\u001b[39m,\n",
      "  `Total porosity` = \u001b[32mcol_double()\u001b[39m,\n",
      "  `Water content (%)` = \u001b[32mcol_double()\u001b[39m\n",
      ")\n",
      "\n",
      "\n"
     ]
    }
   ],
   "source": [
    "data_carbon_credit <- read_csv2('data/data_carbon_credit.csv')\n",
    "data_carbon_credit <- data_carbon_credit %>%\n",
    "mutate(`C:N ratio` = `Carbone (%)` / `Nitrogen (%)`)"
   ]
  },
  {
   "cell_type": "markdown",
   "metadata": {},
   "source": [
    "Some calculations"
   ]
  },
  {
   "cell_type": "code",
   "execution_count": 45,
   "metadata": {},
   "outputs": [
    {
     "data": {
      "text/html": [
       "<style>\n",
       ".list-inline {list-style: none; margin:0; padding: 0}\n",
       ".list-inline>li {display: inline-block}\n",
       ".list-inline>li:not(:last-child)::after {content: \"\\00b7\"; padding: 0 .5ex}\n",
       "</style>\n",
       "<ol class=list-inline><li>'Sample'</li><li>'Location'</li><li>'Layer (cm)'</li><li>'0_30_ID'</li><li>'Site age'</li><li>'Repetition'</li><li>'Bulk density (kg m-3)'</li><li>'pHCaCl2'</li><li>'Sand carbon (%)'</li><li>'Carbone (%)'</li><li>'Sulfur (%)'</li><li>'Nitrogen (%)'</li><li>'C stock (kg m-3)'</li><li>'Total porosity'</li><li>'Water content (%)'</li><li>'C:N ratio'</li></ol>\n"
      ],
      "text/latex": [
       "\\begin{enumerate*}\n",
       "\\item 'Sample'\n",
       "\\item 'Location'\n",
       "\\item 'Layer (cm)'\n",
       "\\item '0\\_30\\_ID'\n",
       "\\item 'Site age'\n",
       "\\item 'Repetition'\n",
       "\\item 'Bulk density (kg m-3)'\n",
       "\\item 'pHCaCl2'\n",
       "\\item 'Sand carbon (\\%)'\n",
       "\\item 'Carbone (\\%)'\n",
       "\\item 'Sulfur (\\%)'\n",
       "\\item 'Nitrogen (\\%)'\n",
       "\\item 'C stock (kg m-3)'\n",
       "\\item 'Total porosity'\n",
       "\\item 'Water content (\\%)'\n",
       "\\item 'C:N ratio'\n",
       "\\end{enumerate*}\n"
      ],
      "text/markdown": [
       "1. 'Sample'\n",
       "2. 'Location'\n",
       "3. 'Layer (cm)'\n",
       "4. '0_30_ID'\n",
       "5. 'Site age'\n",
       "6. 'Repetition'\n",
       "7. 'Bulk density (kg m-3)'\n",
       "8. 'pHCaCl2'\n",
       "9. 'Sand carbon (%)'\n",
       "10. 'Carbone (%)'\n",
       "11. 'Sulfur (%)'\n",
       "12. 'Nitrogen (%)'\n",
       "13. 'C stock (kg m-3)'\n",
       "14. 'Total porosity'\n",
       "15. 'Water content (%)'\n",
       "16. 'C:N ratio'\n",
       "\n",
       "\n"
      ],
      "text/plain": [
       " [1] \"Sample\"                \"Location\"              \"Layer (cm)\"           \n",
       " [4] \"0_30_ID\"               \"Site age\"              \"Repetition\"           \n",
       " [7] \"Bulk density (kg m-3)\" \"pHCaCl2\"               \"Sand carbon (%)\"      \n",
       "[10] \"Carbone (%)\"           \"Sulfur (%)\"            \"Nitrogen (%)\"         \n",
       "[13] \"C stock (kg m-3)\"      \"Total porosity\"        \"Water content (%)\"    \n",
       "[16] \"C:N ratio\"            "
      ]
     },
     "metadata": {},
     "output_type": "display_data"
    },
    {
     "data": {
      "text/html": [
       "<style>\n",
       ".list-inline {list-style: none; margin:0; padding: 0}\n",
       ".list-inline>li {display: inline-block}\n",
       ".list-inline>li:not(:last-child)::after {content: \"\\00b7\"; padding: 0 .5ex}\n",
       "</style>\n",
       "<ol class=list-inline><li>0.7</li><li>0.5</li><li>0.5</li><li>0.7</li><li>0.5</li><li>0.5</li><li>0.7</li><li>0.5</li><li>0.5</li><li>0.7</li><li>0.5</li><li>0.5</li><li>0.6</li><li>0.4</li><li>0.4</li><li>0.6</li><li>0.4</li><li>0.4</li><li>0.6</li><li>0.4</li><li>0.4</li><li>0.6</li><li>0.4</li><li>0.4</li></ol>\n"
      ],
      "text/latex": [
       "\\begin{enumerate*}\n",
       "\\item 0.7\n",
       "\\item 0.5\n",
       "\\item 0.5\n",
       "\\item 0.7\n",
       "\\item 0.5\n",
       "\\item 0.5\n",
       "\\item 0.7\n",
       "\\item 0.5\n",
       "\\item 0.5\n",
       "\\item 0.7\n",
       "\\item 0.5\n",
       "\\item 0.5\n",
       "\\item 0.6\n",
       "\\item 0.4\n",
       "\\item 0.4\n",
       "\\item 0.6\n",
       "\\item 0.4\n",
       "\\item 0.4\n",
       "\\item 0.6\n",
       "\\item 0.4\n",
       "\\item 0.4\n",
       "\\item 0.6\n",
       "\\item 0.4\n",
       "\\item 0.4\n",
       "\\end{enumerate*}\n"
      ],
      "text/markdown": [
       "1. 0.7\n",
       "2. 0.5\n",
       "3. 0.5\n",
       "4. 0.7\n",
       "5. 0.5\n",
       "6. 0.5\n",
       "7. 0.7\n",
       "8. 0.5\n",
       "9. 0.5\n",
       "10. 0.7\n",
       "11. 0.5\n",
       "12. 0.5\n",
       "13. 0.6\n",
       "14. 0.4\n",
       "15. 0.4\n",
       "16. 0.6\n",
       "17. 0.4\n",
       "18. 0.4\n",
       "19. 0.6\n",
       "20. 0.4\n",
       "21. 0.4\n",
       "22. 0.6\n",
       "23. 0.4\n",
       "24. 0.4\n",
       "\n",
       "\n"
      ],
      "text/plain": [
       " [1] 0.7 0.5 0.5 0.7 0.5 0.5 0.7 0.5 0.5 0.7 0.5 0.5 0.6 0.4 0.4 0.6 0.4 0.4 0.6\n",
       "[20] 0.4 0.4 0.6 0.4 0.4"
      ]
     },
     "metadata": {},
     "output_type": "display_data"
    }
   ],
   "source": [
    "names(data_carbon_credit)\n",
    "data_carbon_credit$`Total porosity`"
   ]
  },
  {
   "cell_type": "code",
   "execution_count": 61,
   "metadata": {},
   "outputs": [
    {
     "data": {
      "text/html": [
       "24"
      ],
      "text/latex": [
       "24"
      ],
      "text/markdown": [
       "24"
      ],
      "text/plain": [
       "[1] 24"
      ]
     },
     "metadata": {},
     "output_type": "display_data"
    },
    {
     "data": {
      "text/html": [
       "16"
      ],
      "text/latex": [
       "16"
      ],
      "text/markdown": [
       "16"
      ],
      "text/plain": [
       "[1] 16"
      ]
     },
     "metadata": {},
     "output_type": "display_data"
    },
    {
     "data": {
      "text/html": [
       "<style>\n",
       ".list-inline {list-style: none; margin:0; padding: 0}\n",
       ".list-inline>li {display: inline-block}\n",
       ".list-inline>li:not(:last-child)::after {content: \"\\00b7\"; padding: 0 .5ex}\n",
       "</style>\n",
       "<ol class=list-inline><li>24</li><li>16</li></ol>\n"
      ],
      "text/latex": [
       "\\begin{enumerate*}\n",
       "\\item 24\n",
       "\\item 16\n",
       "\\end{enumerate*}\n"
      ],
      "text/markdown": [
       "1. 24\n",
       "2. 16\n",
       "\n",
       "\n"
      ],
      "text/plain": [
       "[1] 24 16"
      ]
     },
     "metadata": {},
     "output_type": "display_data"
    }
   ],
   "source": [
    "length(!is.na(data_carbon_credit$`C:N ratio`))\n",
    "length(data_carbon_credit)\n",
    "dim(data_carbon_credit)"
   ]
  },
  {
   "cell_type": "code",
   "execution_count": 62,
   "metadata": {},
   "outputs": [
    {
     "data": {
      "text/html": [
       "<table class=\"dataframe\">\n",
       "<caption>A data.frame: 3 × 3</caption>\n",
       "<thead>\n",
       "\t<tr><th scope=col>Layer (cm)</th><th scope=col>mean_CoverN</th><th scope=col>se_CoverN</th></tr>\n",
       "\t<tr><th scope=col>&lt;chr&gt;</th><th scope=col>&lt;dbl&gt;</th><th scope=col>&lt;dbl&gt;</th></tr>\n",
       "</thead>\n",
       "<tbody>\n",
       "\t<tr><td>[0-10] </td><td>20.088384</td><td>1.049923</td></tr>\n",
       "\t<tr><td>[10-20]</td><td>16.013889</td><td>1.907984</td></tr>\n",
       "\t<tr><td>[20-30]</td><td> 9.022436</td><td>1.959168</td></tr>\n",
       "</tbody>\n",
       "</table>\n"
      ],
      "text/latex": [
       "A data.frame: 3 × 3\n",
       "\\begin{tabular}{lll}\n",
       " Layer (cm) & mean\\_CoverN & se\\_CoverN\\\\\n",
       " <chr> & <dbl> & <dbl>\\\\\n",
       "\\hline\n",
       "\t {[}0-10{]}  & 20.088384 & 1.049923\\\\\n",
       "\t {[}10-20{]} & 16.013889 & 1.907984\\\\\n",
       "\t {[}20-30{]} &  9.022436 & 1.959168\\\\\n",
       "\\end{tabular}\n"
      ],
      "text/markdown": [
       "\n",
       "A data.frame: 3 × 3\n",
       "\n",
       "| Layer (cm) &lt;chr&gt; | mean_CoverN &lt;dbl&gt; | se_CoverN &lt;dbl&gt; |\n",
       "|---|---|---|\n",
       "| [0-10]  | 20.088384 | 1.049923 |\n",
       "| [10-20] | 16.013889 | 1.907984 |\n",
       "| [20-30] |  9.022436 | 1.959168 |\n",
       "\n"
      ],
      "text/plain": [
       "  Layer (cm) mean_CoverN se_CoverN\n",
       "1 [0-10]     20.088384   1.049923 \n",
       "2 [10-20]    16.013889   1.907984 \n",
       "3 [20-30]     9.022436   1.959168 "
      ]
     },
     "metadata": {},
     "output_type": "display_data"
    }
   ],
   "source": [
    "mean_sd_CoverN <- ddply(data_carbon_credit, ~ `Layer (cm)`,\n",
    "                       summarise, mean_CoverN = mean(`C:N ratio`, na.rm = TRUE), \n",
    "                        se_CoverN = sd(`C:N ratio`, na.rm = TRUE)/sqrt(length(!is.na(`C:N ratio`))))\n",
    "mean_sd_CoverN"
   ]
  },
  {
   "cell_type": "code",
   "execution_count": 33,
   "metadata": {},
   "outputs": [
    {
     "data": {
      "image/png": "[encoded data removed]",
      "text/plain": [
       "plot without title"
      ]
     },
     "metadata": {
      "image/png": {
       "height": 360,
       "width": 480
      }
     },
     "output_type": "display_data"
    }
   ],
   "source": [
    "New.labs_c <-  c(\"Site/A9\", \"Site/45\") # Change labels\n",
    "names(New.labs_c) <- c(\"Belanger/ A9\", \"Fortier/ 45\")\n",
    "\n",
    "plot1 <- ggplot(data_carbon_credit, aes(`Layer (cm)`, `C stock (kg m-3)`)) +\n",
    "facet_grid( . ~ `Location`, scales = \"free\", labeller = labeller(`Location` = New.labs_c)) +\n",
    "geom_boxplot() + \n",
    "theme(strip.text = element_text(size = 11), axis.text=element_text(size=11),\n",
    "        axis.title=element_text(size=11)) \n",
    "plot2 <- ggplot(data_carbon_credit, aes(`Layer (cm)`, `C:N ratio`)) +\n",
    "facet_grid( . ~ `Location`, scales = \"free\", labeller = labeller(`Location` = New.labs_c)) +\n",
    "geom_boxplot() + \n",
    "theme(strip.text = element_text(size = 11), axis.text=element_text(size=11),\n",
    "        axis.title=element_text(size=11)) \n",
    "plot3 <- ggplot(data_carbon_credit, aes(`Layer (cm)`, `Bulk density (kg m-3)`)) +\n",
    "facet_grid( . ~ `Location`, scales = \"free\", labeller = labeller(`Location` = New.labs_c)) +\n",
    "geom_boxplot() + \n",
    "theme(strip.text = element_text(size = 11), axis.text=element_text(size=11),\n",
    "        axis.title=element_text(size=11)) \n",
    "plot4 <- ggplot(data_carbon_credit, aes(`Layer (cm)`, `pHCaCl2`)) +\n",
    "facet_grid( . ~ `Location`, scales = \"free\", labeller = labeller(`Location` = New.labs_c)) +\n",
    "geom_boxplot() + \n",
    "theme(strip.text = element_text(size = 11), axis.text=element_text(size=11),\n",
    "        axis.title=element_text(size=11)) \n",
    "plot5 <- ggplot(data_carbon_credit, aes(`Layer (cm)`, `Total porosity`)) +\n",
    "facet_grid( . ~ `Location`, scales = \"free\", labeller = labeller(`Location` = New.labs_c)) +\n",
    "geom_point() + \n",
    "theme(strip.text = element_text(size = 11), axis.text=element_text(size=11),\n",
    "        axis.title=element_text(size=11)) \n",
    "plot6 <- ggplot(data_carbon_credit, aes(`Layer (cm)`, `Water content (%)`)) +\n",
    "facet_grid( . ~ `Location`, scales = \"free\", labeller = labeller(`Location` = New.labs_c)) +\n",
    "geom_point() + \n",
    "theme(strip.text = element_text(size = 11), axis.text=element_text(size=11),\n",
    "        axis.title=element_text(size=11)) \n",
    "options(repr.plot.width = 8, repr.plot.height = 6)\n",
    "figure <- ggarrange(plot1, plot2, plot3, plot4, plot5, plot6,\n",
    "                    labels = c(\"A\", \"B\", \"C\", \"D\", \"E\", \"F\"), label.x = 0.05, label.y = 1.01,\n",
    "                    ncol = 2, nrow = 3)\n",
    "figure\n",
    "ggsave(\"figures/Soil description.png\", width = 8, height = 5, dpi = 600)# export plot high resolution"
   ]
  },
  {
   "cell_type": "markdown",
   "metadata": {},
   "source": [
    "## 9.2 C:N ratio in alternate sublayers of sand and organic matter"
   ]
  },
  {
   "cell_type": "markdown",
   "metadata": {},
   "source": [
    "Data loading"
   ]
  },
  {
   "cell_type": "code",
   "execution_count": 27,
   "metadata": {},
   "outputs": [
    {
     "name": "stderr",
     "output_type": "stream",
     "text": [
      "\u001b[36mi\u001b[39m Using \u001b[34m\u001b[34m','\u001b[34m\u001b[39m as decimal and \u001b[34m\u001b[34m'.'\u001b[34m\u001b[39m as grouping mark. Use \u001b[30m\u001b[47m\u001b[30m\u001b[47m`read_delim()`\u001b[47m\u001b[30m\u001b[49m\u001b[39m for more control.\n",
      "\n",
      "\n",
      "\u001b[36m--\u001b[39m \u001b[1m\u001b[1mColumn specification\u001b[1m\u001b[22m \u001b[36m--------------------------------------------------------\u001b[39m\n",
      "cols(\n",
      "  .default = col_double(),\n",
      "  Projet = \u001b[31mcol_character()\u001b[39m,\n",
      "  Site = \u001b[31mcol_character()\u001b[39m,\n",
      "  Horizon = \u001b[31mcol_character()\u001b[39m,\n",
      "  Layers = \u001b[31mcol_character()\u001b[39m,\n",
      "  `Soil texture` = \u001b[31mcol_character()\u001b[39m,\n",
      "  Munsell_color = \u001b[31mcol_character()\u001b[39m\n",
      ")\n",
      "\u001b[36mi\u001b[39m Use \u001b[30m\u001b[47m\u001b[30m\u001b[47m`spec()`\u001b[47m\u001b[30m\u001b[49m\u001b[39m for the full column specifications.\n",
      "\n",
      "\n"
     ]
    },
    {
     "data": {
      "text/html": [
       "<table class=\"dataframe\">\n",
       "<caption>A spec_tbl_df: 23 × 20</caption>\n",
       "<thead>\n",
       "\t<tr><th scope=col>Projet</th><th scope=col>Site</th><th scope=col>Horizon</th><th scope=col>Depht (cm)</th><th scope=col>Thickness(cm)</th><th scope=col>Layers</th><th scope=col>Bulk density(kg m-3)</th><th scope=col>Soil texture</th><th scope=col>Site_age</th><th scope=col>Munsell_color</th><th scope=col>Weigh_superior_2MM</th><th scope=col>Weigh _0_2MM</th><th scope=col>Repetition</th><th scope=col>pHCaCl2</th><th scope=col>CTRL_C_pourc</th><th scope=col>CTRL_S_pourc</th><th scope=col>CTRL_N_pourc</th><th scope=col>C_pourc</th><th scope=col>S_pourc</th><th scope=col>N_pourc</th></tr>\n",
       "\t<tr><th scope=col>&lt;chr&gt;</th><th scope=col>&lt;chr&gt;</th><th scope=col>&lt;chr&gt;</th><th scope=col>&lt;dbl&gt;</th><th scope=col>&lt;dbl&gt;</th><th scope=col>&lt;chr&gt;</th><th scope=col>&lt;dbl&gt;</th><th scope=col>&lt;chr&gt;</th><th scope=col>&lt;dbl&gt;</th><th scope=col>&lt;chr&gt;</th><th scope=col>&lt;dbl&gt;</th><th scope=col>&lt;dbl&gt;</th><th scope=col>&lt;dbl&gt;</th><th scope=col>&lt;dbl&gt;</th><th scope=col>&lt;dbl&gt;</th><th scope=col>&lt;dbl&gt;</th><th scope=col>&lt;dbl&gt;</th><th scope=col>&lt;dbl&gt;</th><th scope=col>&lt;dbl&gt;</th><th scope=col>&lt;dbl&gt;</th></tr>\n",
       "</thead>\n",
       "<tbody>\n",
       "\t<tr><td>Pedology</td><td>Belanger/A9</td><td>H1 </td><td> 1.8</td><td> 1.8</td><td>[0-1.8]    </td><td> 912.7</td><td>Sand          </td><td>14</td><td>10YR - 5/5   </td><td>0.000</td><td>130.200</td><td>1</td><td>4.70</td><td>11.9815</td><td>0.2290</td><td>1.03155</td><td> 1.43510</td><td>0.1100</td><td>0.10767</td></tr>\n",
       "\t<tr><td>Pedology</td><td>Belanger/A9</td><td>H2 </td><td> 2.2</td><td> 0.4</td><td>[1.8-2.2]  </td><td> 912.7</td><td>Organic matter</td><td>14</td><td>10YR - 4/4   </td><td>   NA</td><td> 50.000</td><td>1</td><td>3.74</td><td>11.9815</td><td>0.2290</td><td>1.03155</td><td> 1.80050</td><td>0.1260</td><td>0.08469</td></tr>\n",
       "\t<tr><td>Pedology</td><td>Belanger/A9</td><td>H3 </td><td> 3.2</td><td> 1.0</td><td>[2.2-3.2]  </td><td> 912.7</td><td>Sand          </td><td>14</td><td>2,5Y - 5/4   </td><td>1.400</td><td> 74.100</td><td>1</td><td>3.87</td><td>11.9815</td><td>0.2290</td><td>1.03155</td><td> 1.24200</td><td>0.0658</td><td>0.05394</td></tr>\n",
       "\t<tr><td>Pedology</td><td>Belanger/A9</td><td>H4 </td><td> 3.6</td><td> 0.4</td><td>[3.2-3.6]  </td><td> 912.7</td><td>Organic matter</td><td>14</td><td>10YR - 3/3   </td><td>   NA</td><td> 53.200</td><td>1</td><td>3.63</td><td>11.9815</td><td>0.2290</td><td>1.03155</td><td> 2.83870</td><td>0.0733</td><td>0.09081</td></tr>\n",
       "\t<tr><td>Pedology</td><td>Belanger/A9</td><td>H5 </td><td> 5.1</td><td> 1.5</td><td>[3.6-5.1]  </td><td> 912.7</td><td>Sand          </td><td>14</td><td>10YR - 4,5/4 </td><td>0.700</td><td> 84.400</td><td>1</td><td>3.93</td><td>11.9815</td><td>0.2290</td><td>1.03155</td><td> 0.89627</td><td>0.0578</td><td>0.05285</td></tr>\n",
       "\t<tr><td>Pedology</td><td>Belanger/A9</td><td>H6 </td><td> 5.8</td><td> 0.7</td><td>[5.1-5.8]  </td><td> 912.7</td><td>Organic matter</td><td>14</td><td>10YR - 3/2,5 </td><td>   NA</td><td> 67.500</td><td>1</td><td>3.66</td><td>11.9815</td><td>0.2290</td><td>1.03155</td><td> 3.21880</td><td>0.0612</td><td>0.09460</td></tr>\n",
       "\t<tr><td>Pedology</td><td>Belanger/A9</td><td>H7 </td><td> 9.5</td><td> 3.7</td><td>[5.8-9.5]  </td><td> 912.7</td><td>Sand          </td><td>14</td><td>2,5Y - 5/4   </td><td>0.400</td><td>107.600</td><td>1</td><td>3.97</td><td>11.9815</td><td>0.2290</td><td>1.03155</td><td> 0.50213</td><td>0.0530</td><td>0.03544</td></tr>\n",
       "\t<tr><td>Pedology</td><td>Belanger/A9</td><td>H8 </td><td>12.0</td><td> 2.0</td><td>[9.5-12]   </td><td>1384.4</td><td>Organic matter</td><td>14</td><td>10YR - 2,5/2 </td><td>   NA</td><td> 44.500</td><td>1</td><td>3.74</td><td>11.9815</td><td>0.2290</td><td>1.03155</td><td> 3.68640</td><td>0.0685</td><td>0.11334</td></tr>\n",
       "\t<tr><td>Pedology</td><td>Belanger/A9</td><td>H9 </td><td>12.5</td><td> 0.5</td><td>[12-12.5]  </td><td>1384.4</td><td>Sand          </td><td>14</td><td>10YR - 4,5/4 </td><td>0.400</td><td> 73.300</td><td>1</td><td>3.94</td><td>11.9815</td><td>0.2290</td><td>1.03155</td><td> 0.65293</td><td>0.0571</td><td>0.04559</td></tr>\n",
       "\t<tr><td>Pedology</td><td>Belanger/A9</td><td>H10</td><td>19.2</td><td> 6.7</td><td>[12.5-19.2]</td><td>1384.4</td><td>Sand          </td><td>14</td><td>10YR - 3/2   </td><td>0.200</td><td> 65.000</td><td>1</td><td>3.83</td><td>11.9815</td><td>0.2290</td><td>1.03155</td><td> 1.22430</td><td>0.0604</td><td>0.06562</td></tr>\n",
       "\t<tr><td>Pedology</td><td>Belanger/A9</td><td>H11</td><td>27.7</td><td> 7.7</td><td>[19.2-27.7]</td><td>1403.0</td><td>Sand          </td><td>14</td><td>10YR - 4/3,5 </td><td>1.100</td><td>226.400</td><td>1</td><td>4.08</td><td>11.9815</td><td>0.2290</td><td>1.03155</td><td> 0.65519</td><td>0.0567</td><td>0.04127</td></tr>\n",
       "\t<tr><td>Pedology</td><td>Belanger/A9</td><td>H11</td><td>30.0</td><td> 2.3</td><td>[27.7-30]  </td><td>1403.0</td><td>Sand          </td><td>14</td><td>1,25Y - 4/4  </td><td>   NA</td><td>     NA</td><td>1</td><td>4.29</td><td>11.9815</td><td>0.2290</td><td>1.03155</td><td> 0.43642</td><td>0.0538</td><td>0.02821</td></tr>\n",
       "\t<tr><td>Pedology</td><td>Fortier/45 </td><td>H1 </td><td> 2.0</td><td> 2.0</td><td>[0-2]      </td><td> 906.1</td><td>Organic matter</td><td>19</td><td>10YR - 2/2   </td><td>   NA</td><td> 74.000</td><td>1</td><td>3.39</td><td>11.8545</td><td>0.1965</td><td>1.00414</td><td> 3.56900</td><td>0.1260</td><td>0.10692</td></tr>\n",
       "\t<tr><td>Pedology</td><td>Fortier/45 </td><td>H2 </td><td> 5.0</td><td> 3.0</td><td>[2-5]      </td><td> 906.1</td><td>Organic matter</td><td>19</td><td>7,5YR - 2,5/2</td><td>   NA</td><td> 82.650</td><td>1</td><td>3.50</td><td>11.8545</td><td>0.1965</td><td>1.00414</td><td>14.30500</td><td>0.3540</td><td>0.44582</td></tr>\n",
       "\t<tr><td>Pedology</td><td>Fortier/45 </td><td>H3 </td><td> 6.1</td><td> 1.1</td><td>[5-6.1]    </td><td> 906.1</td><td>Sand          </td><td>19</td><td>2,5Y - 5/4   </td><td>1.205</td><td>205.066</td><td>1</td><td>4.04</td><td>11.8545</td><td>0.1965</td><td>1.00414</td><td> 0.35268</td><td>0.0551</td><td>0.03398</td></tr>\n",
       "\t<tr><td>Pedology</td><td>Fortier/45 </td><td>H4 </td><td> 6.4</td><td> 0.3</td><td>[6.1-6.4]  </td><td> 906.1</td><td>Organic matter</td><td>19</td><td>10YR - 3/4   </td><td>0.440</td><td> 63.694</td><td>1</td><td>3.94</td><td>11.8545</td><td>0.1965</td><td>1.00414</td><td> 2.29260</td><td>0.0696</td><td>0.09852</td></tr>\n",
       "\t<tr><td>Pedology</td><td>Fortier/45 </td><td>H5 </td><td> 7.2</td><td> 0.8</td><td>[6.4-7.2]  </td><td> 906.1</td><td>Sand          </td><td>19</td><td>2,5YR - 5/6  </td><td>0.947</td><td>152.500</td><td>1</td><td>4.21</td><td>11.8545</td><td>0.1965</td><td>1.00414</td><td> 0.31859</td><td>0.0585</td><td>0.03189</td></tr>\n",
       "\t<tr><td>Pedology</td><td>Fortier/45 </td><td>H6 </td><td> 7.5</td><td> 0.3</td><td>[7.2-7.5]  </td><td> 906.1</td><td>Organic matter</td><td>19</td><td>10YR - 3/3   </td><td>1.378</td><td> 53.050</td><td>1</td><td>4.08</td><td>11.8545</td><td>0.1965</td><td>1.00414</td><td> 3.47910</td><td>0.0932</td><td>0.13795</td></tr>\n",
       "\t<tr><td>Pedology</td><td>Fortier/45 </td><td>H7 </td><td> 8.6</td><td> 1.1</td><td>[7.5-8.6]  </td><td> 906.1</td><td>Sand          </td><td>19</td><td>2,5Y - 4/4   </td><td>0.492</td><td>121.359</td><td>1</td><td>4.43</td><td>11.8545</td><td>0.1965</td><td>1.00414</td><td> 0.54530</td><td>0.0643</td><td>0.04141</td></tr>\n",
       "\t<tr><td>Pedology</td><td>Fortier/45 </td><td>H8 </td><td> 8.9</td><td> 0.3</td><td>[8.6-8.9]  </td><td> 906.1</td><td>Organic matter</td><td>19</td><td>2,5Y - 4/2   </td><td>0.737</td><td> 96.522</td><td>1</td><td>4.26</td><td>11.8545</td><td>0.1965</td><td>1.00414</td><td> 1.59740</td><td>0.0761</td><td>0.07366</td></tr>\n",
       "\t<tr><td>Pedology</td><td>Fortier/45 </td><td>H9 </td><td>14.8</td><td> 4.8</td><td>[8.9-14.8] </td><td>1655.1</td><td>Sand          </td><td>19</td><td>2,5Y - 4/3   </td><td>0.834</td><td>163.138</td><td>1</td><td>4.44</td><td>11.8545</td><td>0.1965</td><td>1.00414</td><td> 0.68482</td><td>0.0612</td><td>0.03612</td></tr>\n",
       "\t<tr><td>Pedology</td><td>Fortier/45 </td><td>H10</td><td>20.0</td><td> 5.2</td><td>[14.8-20]  </td><td>1655.1</td><td>Sand          </td><td>19</td><td>5Y - 5/2     </td><td>   NA</td><td>     NA</td><td>1</td><td>5.08</td><td>11.8545</td><td>0.1965</td><td>1.00414</td><td> 0.07139</td><td>0.0498</td><td>0.01404</td></tr>\n",
       "\t<tr><td>Pedology</td><td>Fortier/45 </td><td>H10</td><td>30.0</td><td>10.0</td><td>[20-30]    </td><td>1655.1</td><td>Sand          </td><td>19</td><td>5Y - 5/2     </td><td>   NA</td><td>     NA</td><td>1</td><td>5.08</td><td>11.8545</td><td>0.1965</td><td>1.00414</td><td> 0.07139</td><td>0.0498</td><td>0.01404</td></tr>\n",
       "</tbody>\n",
       "</table>\n"
      ],
      "text/latex": [
       "A spec\\_tbl\\_df: 23 × 20\n",
       "\\begin{tabular}{llllllllllllllllllll}\n",
       " Projet & Site & Horizon & Depht (cm) & Thickness(cm) & Layers & Bulk density(kg m-3) & Soil texture & Site\\_age & Munsell\\_color & Weigh\\_superior\\_2MM & Weigh \\_0\\_2MM & Repetition & pHCaCl2 & CTRL\\_C\\_pourc & CTRL\\_S\\_pourc & CTRL\\_N\\_pourc & C\\_pourc & S\\_pourc & N\\_pourc\\\\\n",
       " <chr> & <chr> & <chr> & <dbl> & <dbl> & <chr> & <dbl> & <chr> & <dbl> & <chr> & <dbl> & <dbl> & <dbl> & <dbl> & <dbl> & <dbl> & <dbl> & <dbl> & <dbl> & <dbl>\\\\\n",
       "\\hline\n",
       "\t Pedology & Belanger/A9 & H1  &  1.8 &  1.8 & {[}0-1.8{]}     &  912.7 & Sand           & 14 & 10YR - 5/5    & 0.000 & 130.200 & 1 & 4.70 & 11.9815 & 0.2290 & 1.03155 &  1.43510 & 0.1100 & 0.10767\\\\\n",
       "\t Pedology & Belanger/A9 & H2  &  2.2 &  0.4 & {[}1.8-2.2{]}   &  912.7 & Organic matter & 14 & 10YR - 4/4    &    NA &  50.000 & 1 & 3.74 & 11.9815 & 0.2290 & 1.03155 &  1.80050 & 0.1260 & 0.08469\\\\\n",
       "\t Pedology & Belanger/A9 & H3  &  3.2 &  1.0 & {[}2.2-3.2{]}   &  912.7 & Sand           & 14 & 2,5Y - 5/4    & 1.400 &  74.100 & 1 & 3.87 & 11.9815 & 0.2290 & 1.03155 &  1.24200 & 0.0658 & 0.05394\\\\\n",
       "\t Pedology & Belanger/A9 & H4  &  3.6 &  0.4 & {[}3.2-3.6{]}   &  912.7 & Organic matter & 14 & 10YR - 3/3    &    NA &  53.200 & 1 & 3.63 & 11.9815 & 0.2290 & 1.03155 &  2.83870 & 0.0733 & 0.09081\\\\\n",
       "\t Pedology & Belanger/A9 & H5  &  5.1 &  1.5 & {[}3.6-5.1{]}   &  912.7 & Sand           & 14 & 10YR - 4,5/4  & 0.700 &  84.400 & 1 & 3.93 & 11.9815 & 0.2290 & 1.03155 &  0.89627 & 0.0578 & 0.05285\\\\\n",
       "\t Pedology & Belanger/A9 & H6  &  5.8 &  0.7 & {[}5.1-5.8{]}   &  912.7 & Organic matter & 14 & 10YR - 3/2,5  &    NA &  67.500 & 1 & 3.66 & 11.9815 & 0.2290 & 1.03155 &  3.21880 & 0.0612 & 0.09460\\\\\n",
       "\t Pedology & Belanger/A9 & H7  &  9.5 &  3.7 & {[}5.8-9.5{]}   &  912.7 & Sand           & 14 & 2,5Y - 5/4    & 0.400 & 107.600 & 1 & 3.97 & 11.9815 & 0.2290 & 1.03155 &  0.50213 & 0.0530 & 0.03544\\\\\n",
       "\t Pedology & Belanger/A9 & H8  & 12.0 &  2.0 & {[}9.5-12{]}    & 1384.4 & Organic matter & 14 & 10YR - 2,5/2  &    NA &  44.500 & 1 & 3.74 & 11.9815 & 0.2290 & 1.03155 &  3.68640 & 0.0685 & 0.11334\\\\\n",
       "\t Pedology & Belanger/A9 & H9  & 12.5 &  0.5 & {[}12-12.5{]}   & 1384.4 & Sand           & 14 & 10YR - 4,5/4  & 0.400 &  73.300 & 1 & 3.94 & 11.9815 & 0.2290 & 1.03155 &  0.65293 & 0.0571 & 0.04559\\\\\n",
       "\t Pedology & Belanger/A9 & H10 & 19.2 &  6.7 & {[}12.5-19.2{]} & 1384.4 & Sand           & 14 & 10YR - 3/2    & 0.200 &  65.000 & 1 & 3.83 & 11.9815 & 0.2290 & 1.03155 &  1.22430 & 0.0604 & 0.06562\\\\\n",
       "\t Pedology & Belanger/A9 & H11 & 27.7 &  7.7 & {[}19.2-27.7{]} & 1403.0 & Sand           & 14 & 10YR - 4/3,5  & 1.100 & 226.400 & 1 & 4.08 & 11.9815 & 0.2290 & 1.03155 &  0.65519 & 0.0567 & 0.04127\\\\\n",
       "\t Pedology & Belanger/A9 & H11 & 30.0 &  2.3 & {[}27.7-30{]}   & 1403.0 & Sand           & 14 & 1,25Y - 4/4   &    NA &      NA & 1 & 4.29 & 11.9815 & 0.2290 & 1.03155 &  0.43642 & 0.0538 & 0.02821\\\\\n",
       "\t Pedology & Fortier/45  & H1  &  2.0 &  2.0 & {[}0-2{]}       &  906.1 & Organic matter & 19 & 10YR - 2/2    &    NA &  74.000 & 1 & 3.39 & 11.8545 & 0.1965 & 1.00414 &  3.56900 & 0.1260 & 0.10692\\\\\n",
       "\t Pedology & Fortier/45  & H2  &  5.0 &  3.0 & {[}2-5{]}       &  906.1 & Organic matter & 19 & 7,5YR - 2,5/2 &    NA &  82.650 & 1 & 3.50 & 11.8545 & 0.1965 & 1.00414 & 14.30500 & 0.3540 & 0.44582\\\\\n",
       "\t Pedology & Fortier/45  & H3  &  6.1 &  1.1 & {[}5-6.1{]}     &  906.1 & Sand           & 19 & 2,5Y - 5/4    & 1.205 & 205.066 & 1 & 4.04 & 11.8545 & 0.1965 & 1.00414 &  0.35268 & 0.0551 & 0.03398\\\\\n",
       "\t Pedology & Fortier/45  & H4  &  6.4 &  0.3 & {[}6.1-6.4{]}   &  906.1 & Organic matter & 19 & 10YR - 3/4    & 0.440 &  63.694 & 1 & 3.94 & 11.8545 & 0.1965 & 1.00414 &  2.29260 & 0.0696 & 0.09852\\\\\n",
       "\t Pedology & Fortier/45  & H5  &  7.2 &  0.8 & {[}6.4-7.2{]}   &  906.1 & Sand           & 19 & 2,5YR - 5/6   & 0.947 & 152.500 & 1 & 4.21 & 11.8545 & 0.1965 & 1.00414 &  0.31859 & 0.0585 & 0.03189\\\\\n",
       "\t Pedology & Fortier/45  & H6  &  7.5 &  0.3 & {[}7.2-7.5{]}   &  906.1 & Organic matter & 19 & 10YR - 3/3    & 1.378 &  53.050 & 1 & 4.08 & 11.8545 & 0.1965 & 1.00414 &  3.47910 & 0.0932 & 0.13795\\\\\n",
       "\t Pedology & Fortier/45  & H7  &  8.6 &  1.1 & {[}7.5-8.6{]}   &  906.1 & Sand           & 19 & 2,5Y - 4/4    & 0.492 & 121.359 & 1 & 4.43 & 11.8545 & 0.1965 & 1.00414 &  0.54530 & 0.0643 & 0.04141\\\\\n",
       "\t Pedology & Fortier/45  & H8  &  8.9 &  0.3 & {[}8.6-8.9{]}   &  906.1 & Organic matter & 19 & 2,5Y - 4/2    & 0.737 &  96.522 & 1 & 4.26 & 11.8545 & 0.1965 & 1.00414 &  1.59740 & 0.0761 & 0.07366\\\\\n",
       "\t Pedology & Fortier/45  & H9  & 14.8 &  4.8 & {[}8.9-14.8{]}  & 1655.1 & Sand           & 19 & 2,5Y - 4/3    & 0.834 & 163.138 & 1 & 4.44 & 11.8545 & 0.1965 & 1.00414 &  0.68482 & 0.0612 & 0.03612\\\\\n",
       "\t Pedology & Fortier/45  & H10 & 20.0 &  5.2 & {[}14.8-20{]}   & 1655.1 & Sand           & 19 & 5Y - 5/2      &    NA &      NA & 1 & 5.08 & 11.8545 & 0.1965 & 1.00414 &  0.07139 & 0.0498 & 0.01404\\\\\n",
       "\t Pedology & Fortier/45  & H10 & 30.0 & 10.0 & {[}20-30{]}     & 1655.1 & Sand           & 19 & 5Y - 5/2      &    NA &      NA & 1 & 5.08 & 11.8545 & 0.1965 & 1.00414 &  0.07139 & 0.0498 & 0.01404\\\\\n",
       "\\end{tabular}\n"
      ],
      "text/markdown": [
       "\n",
       "A spec_tbl_df: 23 × 20\n",
       "\n",
       "| Projet &lt;chr&gt; | Site &lt;chr&gt; | Horizon &lt;chr&gt; | Depht (cm) &lt;dbl&gt; | Thickness(cm) &lt;dbl&gt; | Layers &lt;chr&gt; | Bulk density(kg m-3) &lt;dbl&gt; | Soil texture &lt;chr&gt; | Site_age &lt;dbl&gt; | Munsell_color &lt;chr&gt; | Weigh_superior_2MM &lt;dbl&gt; | Weigh _0_2MM &lt;dbl&gt; | Repetition &lt;dbl&gt; | pHCaCl2 &lt;dbl&gt; | CTRL_C_pourc &lt;dbl&gt; | CTRL_S_pourc &lt;dbl&gt; | CTRL_N_pourc &lt;dbl&gt; | C_pourc &lt;dbl&gt; | S_pourc &lt;dbl&gt; | N_pourc &lt;dbl&gt; |\n",
       "|---|---|---|---|---|---|---|---|---|---|---|---|---|---|---|---|---|---|---|---|\n",
       "| Pedology | Belanger/A9 | H1  |  1.8 |  1.8 | [0-1.8]     |  912.7 | Sand           | 14 | 10YR - 5/5    | 0.000 | 130.200 | 1 | 4.70 | 11.9815 | 0.2290 | 1.03155 |  1.43510 | 0.1100 | 0.10767 |\n",
       "| Pedology | Belanger/A9 | H2  |  2.2 |  0.4 | [1.8-2.2]   |  912.7 | Organic matter | 14 | 10YR - 4/4    |    NA |  50.000 | 1 | 3.74 | 11.9815 | 0.2290 | 1.03155 |  1.80050 | 0.1260 | 0.08469 |\n",
       "| Pedology | Belanger/A9 | H3  |  3.2 |  1.0 | [2.2-3.2]   |  912.7 | Sand           | 14 | 2,5Y - 5/4    | 1.400 |  74.100 | 1 | 3.87 | 11.9815 | 0.2290 | 1.03155 |  1.24200 | 0.0658 | 0.05394 |\n",
       "| Pedology | Belanger/A9 | H4  |  3.6 |  0.4 | [3.2-3.6]   |  912.7 | Organic matter | 14 | 10YR - 3/3    |    NA |  53.200 | 1 | 3.63 | 11.9815 | 0.2290 | 1.03155 |  2.83870 | 0.0733 | 0.09081 |\n",
       "| Pedology | Belanger/A9 | H5  |  5.1 |  1.5 | [3.6-5.1]   |  912.7 | Sand           | 14 | 10YR - 4,5/4  | 0.700 |  84.400 | 1 | 3.93 | 11.9815 | 0.2290 | 1.03155 |  0.89627 | 0.0578 | 0.05285 |\n",
       "| Pedology | Belanger/A9 | H6  |  5.8 |  0.7 | [5.1-5.8]   |  912.7 | Organic matter | 14 | 10YR - 3/2,5  |    NA |  67.500 | 1 | 3.66 | 11.9815 | 0.2290 | 1.03155 |  3.21880 | 0.0612 | 0.09460 |\n",
       "| Pedology | Belanger/A9 | H7  |  9.5 |  3.7 | [5.8-9.5]   |  912.7 | Sand           | 14 | 2,5Y - 5/4    | 0.400 | 107.600 | 1 | 3.97 | 11.9815 | 0.2290 | 1.03155 |  0.50213 | 0.0530 | 0.03544 |\n",
       "| Pedology | Belanger/A9 | H8  | 12.0 |  2.0 | [9.5-12]    | 1384.4 | Organic matter | 14 | 10YR - 2,5/2  |    NA |  44.500 | 1 | 3.74 | 11.9815 | 0.2290 | 1.03155 |  3.68640 | 0.0685 | 0.11334 |\n",
       "| Pedology | Belanger/A9 | H9  | 12.5 |  0.5 | [12-12.5]   | 1384.4 | Sand           | 14 | 10YR - 4,5/4  | 0.400 |  73.300 | 1 | 3.94 | 11.9815 | 0.2290 | 1.03155 |  0.65293 | 0.0571 | 0.04559 |\n",
       "| Pedology | Belanger/A9 | H10 | 19.2 |  6.7 | [12.5-19.2] | 1384.4 | Sand           | 14 | 10YR - 3/2    | 0.200 |  65.000 | 1 | 3.83 | 11.9815 | 0.2290 | 1.03155 |  1.22430 | 0.0604 | 0.06562 |\n",
       "| Pedology | Belanger/A9 | H11 | 27.7 |  7.7 | [19.2-27.7] | 1403.0 | Sand           | 14 | 10YR - 4/3,5  | 1.100 | 226.400 | 1 | 4.08 | 11.9815 | 0.2290 | 1.03155 |  0.65519 | 0.0567 | 0.04127 |\n",
       "| Pedology | Belanger/A9 | H11 | 30.0 |  2.3 | [27.7-30]   | 1403.0 | Sand           | 14 | 1,25Y - 4/4   |    NA |      NA | 1 | 4.29 | 11.9815 | 0.2290 | 1.03155 |  0.43642 | 0.0538 | 0.02821 |\n",
       "| Pedology | Fortier/45  | H1  |  2.0 |  2.0 | [0-2]       |  906.1 | Organic matter | 19 | 10YR - 2/2    |    NA |  74.000 | 1 | 3.39 | 11.8545 | 0.1965 | 1.00414 |  3.56900 | 0.1260 | 0.10692 |\n",
       "| Pedology | Fortier/45  | H2  |  5.0 |  3.0 | [2-5]       |  906.1 | Organic matter | 19 | 7,5YR - 2,5/2 |    NA |  82.650 | 1 | 3.50 | 11.8545 | 0.1965 | 1.00414 | 14.30500 | 0.3540 | 0.44582 |\n",
       "| Pedology | Fortier/45  | H3  |  6.1 |  1.1 | [5-6.1]     |  906.1 | Sand           | 19 | 2,5Y - 5/4    | 1.205 | 205.066 | 1 | 4.04 | 11.8545 | 0.1965 | 1.00414 |  0.35268 | 0.0551 | 0.03398 |\n",
       "| Pedology | Fortier/45  | H4  |  6.4 |  0.3 | [6.1-6.4]   |  906.1 | Organic matter | 19 | 10YR - 3/4    | 0.440 |  63.694 | 1 | 3.94 | 11.8545 | 0.1965 | 1.00414 |  2.29260 | 0.0696 | 0.09852 |\n",
       "| Pedology | Fortier/45  | H5  |  7.2 |  0.8 | [6.4-7.2]   |  906.1 | Sand           | 19 | 2,5YR - 5/6   | 0.947 | 152.500 | 1 | 4.21 | 11.8545 | 0.1965 | 1.00414 |  0.31859 | 0.0585 | 0.03189 |\n",
       "| Pedology | Fortier/45  | H6  |  7.5 |  0.3 | [7.2-7.5]   |  906.1 | Organic matter | 19 | 10YR - 3/3    | 1.378 |  53.050 | 1 | 4.08 | 11.8545 | 0.1965 | 1.00414 |  3.47910 | 0.0932 | 0.13795 |\n",
       "| Pedology | Fortier/45  | H7  |  8.6 |  1.1 | [7.5-8.6]   |  906.1 | Sand           | 19 | 2,5Y - 4/4    | 0.492 | 121.359 | 1 | 4.43 | 11.8545 | 0.1965 | 1.00414 |  0.54530 | 0.0643 | 0.04141 |\n",
       "| Pedology | Fortier/45  | H8  |  8.9 |  0.3 | [8.6-8.9]   |  906.1 | Organic matter | 19 | 2,5Y - 4/2    | 0.737 |  96.522 | 1 | 4.26 | 11.8545 | 0.1965 | 1.00414 |  1.59740 | 0.0761 | 0.07366 |\n",
       "| Pedology | Fortier/45  | H9  | 14.8 |  4.8 | [8.9-14.8]  | 1655.1 | Sand           | 19 | 2,5Y - 4/3    | 0.834 | 163.138 | 1 | 4.44 | 11.8545 | 0.1965 | 1.00414 |  0.68482 | 0.0612 | 0.03612 |\n",
       "| Pedology | Fortier/45  | H10 | 20.0 |  5.2 | [14.8-20]   | 1655.1 | Sand           | 19 | 5Y - 5/2      |    NA |      NA | 1 | 5.08 | 11.8545 | 0.1965 | 1.00414 |  0.07139 | 0.0498 | 0.01404 |\n",
       "| Pedology | Fortier/45  | H10 | 30.0 | 10.0 | [20-30]     | 1655.1 | Sand           | 19 | 5Y - 5/2      |    NA |      NA | 1 | 5.08 | 11.8545 | 0.1965 | 1.00414 |  0.07139 | 0.0498 | 0.01404 |\n",
       "\n"
      ],
      "text/plain": [
       "   Projet   Site        Horizon Depht (cm) Thickness(cm) Layers     \n",
       "1  Pedology Belanger/A9 H1       1.8        1.8          [0-1.8]    \n",
       "2  Pedology Belanger/A9 H2       2.2        0.4          [1.8-2.2]  \n",
       "3  Pedology Belanger/A9 H3       3.2        1.0          [2.2-3.2]  \n",
       "4  Pedology Belanger/A9 H4       3.6        0.4          [3.2-3.6]  \n",
       "5  Pedology Belanger/A9 H5       5.1        1.5          [3.6-5.1]  \n",
       "6  Pedology Belanger/A9 H6       5.8        0.7          [5.1-5.8]  \n",
       "7  Pedology Belanger/A9 H7       9.5        3.7          [5.8-9.5]  \n",
       "8  Pedology Belanger/A9 H8      12.0        2.0          [9.5-12]   \n",
       "9  Pedology Belanger/A9 H9      12.5        0.5          [12-12.5]  \n",
       "10 Pedology Belanger/A9 H10     19.2        6.7          [12.5-19.2]\n",
       "11 Pedology Belanger/A9 H11     27.7        7.7          [19.2-27.7]\n",
       "12 Pedology Belanger/A9 H11     30.0        2.3          [27.7-30]  \n",
       "13 Pedology Fortier/45  H1       2.0        2.0          [0-2]      \n",
       "14 Pedology Fortier/45  H2       5.0        3.0          [2-5]      \n",
       "15 Pedology Fortier/45  H3       6.1        1.1          [5-6.1]    \n",
       "16 Pedology Fortier/45  H4       6.4        0.3          [6.1-6.4]  \n",
       "17 Pedology Fortier/45  H5       7.2        0.8          [6.4-7.2]  \n",
       "18 Pedology Fortier/45  H6       7.5        0.3          [7.2-7.5]  \n",
       "19 Pedology Fortier/45  H7       8.6        1.1          [7.5-8.6]  \n",
       "20 Pedology Fortier/45  H8       8.9        0.3          [8.6-8.9]  \n",
       "21 Pedology Fortier/45  H9      14.8        4.8          [8.9-14.8] \n",
       "22 Pedology Fortier/45  H10     20.0        5.2          [14.8-20]  \n",
       "23 Pedology Fortier/45  H10     30.0       10.0          [20-30]    \n",
       "   Bulk density(kg m-3) Soil texture   Site_age Munsell_color\n",
       "1   912.7               Sand           14       10YR - 5/5   \n",
       "2   912.7               Organic matter 14       10YR - 4/4   \n",
       "3   912.7               Sand           14       2,5Y - 5/4   \n",
       "4   912.7               Organic matter 14       10YR - 3/3   \n",
       "5   912.7               Sand           14       10YR - 4,5/4 \n",
       "6   912.7               Organic matter 14       10YR - 3/2,5 \n",
       "7   912.7               Sand           14       2,5Y - 5/4   \n",
       "8  1384.4               Organic matter 14       10YR - 2,5/2 \n",
       "9  1384.4               Sand           14       10YR - 4,5/4 \n",
       "10 1384.4               Sand           14       10YR - 3/2   \n",
       "11 1403.0               Sand           14       10YR - 4/3,5 \n",
       "12 1403.0               Sand           14       1,25Y - 4/4  \n",
       "13  906.1               Organic matter 19       10YR - 2/2   \n",
       "14  906.1               Organic matter 19       7,5YR - 2,5/2\n",
       "15  906.1               Sand           19       2,5Y - 5/4   \n",
       "16  906.1               Organic matter 19       10YR - 3/4   \n",
       "17  906.1               Sand           19       2,5YR - 5/6  \n",
       "18  906.1               Organic matter 19       10YR - 3/3   \n",
       "19  906.1               Sand           19       2,5Y - 4/4   \n",
       "20  906.1               Organic matter 19       2,5Y - 4/2   \n",
       "21 1655.1               Sand           19       2,5Y - 4/3   \n",
       "22 1655.1               Sand           19       5Y - 5/2     \n",
       "23 1655.1               Sand           19       5Y - 5/2     \n",
       "   Weigh_superior_2MM Weigh _0_2MM Repetition pHCaCl2 CTRL_C_pourc CTRL_S_pourc\n",
       "1  0.000              130.200      1          4.70    11.9815      0.2290      \n",
       "2     NA               50.000      1          3.74    11.9815      0.2290      \n",
       "3  1.400               74.100      1          3.87    11.9815      0.2290      \n",
       "4     NA               53.200      1          3.63    11.9815      0.2290      \n",
       "5  0.700               84.400      1          3.93    11.9815      0.2290      \n",
       "6     NA               67.500      1          3.66    11.9815      0.2290      \n",
       "7  0.400              107.600      1          3.97    11.9815      0.2290      \n",
       "8     NA               44.500      1          3.74    11.9815      0.2290      \n",
       "9  0.400               73.300      1          3.94    11.9815      0.2290      \n",
       "10 0.200               65.000      1          3.83    11.9815      0.2290      \n",
       "11 1.100              226.400      1          4.08    11.9815      0.2290      \n",
       "12    NA                   NA      1          4.29    11.9815      0.2290      \n",
       "13    NA               74.000      1          3.39    11.8545      0.1965      \n",
       "14    NA               82.650      1          3.50    11.8545      0.1965      \n",
       "15 1.205              205.066      1          4.04    11.8545      0.1965      \n",
       "16 0.440               63.694      1          3.94    11.8545      0.1965      \n",
       "17 0.947              152.500      1          4.21    11.8545      0.1965      \n",
       "18 1.378               53.050      1          4.08    11.8545      0.1965      \n",
       "19 0.492              121.359      1          4.43    11.8545      0.1965      \n",
       "20 0.737               96.522      1          4.26    11.8545      0.1965      \n",
       "21 0.834              163.138      1          4.44    11.8545      0.1965      \n",
       "22    NA                   NA      1          5.08    11.8545      0.1965      \n",
       "23    NA                   NA      1          5.08    11.8545      0.1965      \n",
       "   CTRL_N_pourc C_pourc  S_pourc N_pourc\n",
       "1  1.03155       1.43510 0.1100  0.10767\n",
       "2  1.03155       1.80050 0.1260  0.08469\n",
       "3  1.03155       1.24200 0.0658  0.05394\n",
       "4  1.03155       2.83870 0.0733  0.09081\n",
       "5  1.03155       0.89627 0.0578  0.05285\n",
       "6  1.03155       3.21880 0.0612  0.09460\n",
       "7  1.03155       0.50213 0.0530  0.03544\n",
       "8  1.03155       3.68640 0.0685  0.11334\n",
       "9  1.03155       0.65293 0.0571  0.04559\n",
       "10 1.03155       1.22430 0.0604  0.06562\n",
       "11 1.03155       0.65519 0.0567  0.04127\n",
       "12 1.03155       0.43642 0.0538  0.02821\n",
       "13 1.00414       3.56900 0.1260  0.10692\n",
       "14 1.00414      14.30500 0.3540  0.44582\n",
       "15 1.00414       0.35268 0.0551  0.03398\n",
       "16 1.00414       2.29260 0.0696  0.09852\n",
       "17 1.00414       0.31859 0.0585  0.03189\n",
       "18 1.00414       3.47910 0.0932  0.13795\n",
       "19 1.00414       0.54530 0.0643  0.04141\n",
       "20 1.00414       1.59740 0.0761  0.07366\n",
       "21 1.00414       0.68482 0.0612  0.03612\n",
       "22 1.00414       0.07139 0.0498  0.01404\n",
       "23 1.00414       0.07139 0.0498  0.01404"
      ]
     },
     "metadata": {},
     "output_type": "display_data"
    }
   ],
   "source": [
    "Carbon_credit <- read_csv2('data/data_carbon_sublayer.csv')\n",
    "Carbon_credit"
   ]
  },
  {
   "cell_type": "markdown",
   "metadata": {},
   "source": [
    "C:N ratio computation"
   ]
  },
  {
   "cell_type": "code",
   "execution_count": 28,
   "metadata": {},
   "outputs": [],
   "source": [
    "Carbon_credit <- Carbon_credit %>%\n",
    "mutate(`C/N` = C_pourc/N_pourc)"
   ]
  },
  {
   "cell_type": "markdown",
   "metadata": {},
   "source": [
    "Generating the plots"
   ]
  },
  {
   "cell_type": "code",
   "execution_count": 29,
   "metadata": {},
   "outputs": [
    {
     "name": "stderr",
     "output_type": "stream",
     "text": [
      "Warning message:\n",
      "\"`expand_scale()` is deprecated; use `expansion()` instead.\"\n",
      "Warning message:\n",
      "\"`expand_scale()` is deprecated; use `expansion()` instead.\"\n"
     ]
    },
    {
     "data": {
      "image/png": "[encoded data removed]",
      "text/plain": [
       "plot without title"
      ]
     },
     "metadata": {
      "image/png": {
       "height": 240,
       "width": 480
      }
     },
     "output_type": "display_data"
    }
   ],
   "source": [
    "options(repr.plot.width=8, repr.plot.height=4)\n",
    "pd <- position_dodge(width = 0.2)\n",
    "New.labs_d <-  c(\"Site/A9\", \"Site/45\") # Change labels\n",
    "names(New.labs_d) <- c(\"Belanger/A9\", \"Fortier/45\")\n",
    "\n",
    "p <- ggplot(data=Carbon_credit, aes(x= `Depht (cm)`, y= `C/N`)) +\n",
    "facet_grid(.~Site, labeller = labeller(`Site` = New.labs_d)) +\n",
    "geom_line(linetype = \"twodash\") +\n",
    "labs(y= \"C/N Ratio\") +\n",
    "geom_point(aes(shape = `Soil texture`, fill = `Soil texture`), size = 3) +\n",
    "scale_shape_manual(values=c(21, 21))+\n",
    "scale_fill_manual(values = c(\"#000000\", \"#FFFFFF\")) +\n",
    "\n",
    "scale_y_continuous(breaks = 5*0:1000,\n",
    "                     expand = expand_scale(add = 5)) +\n",
    "scale_x_continuous(breaks = 5*0:1000,\n",
    "                     expand = expand_scale(add = 5)) +\n",
    "theme(strip.text = element_text(size = 14), axis.text=element_text(size=14),\n",
    "        axis.title=element_text(size=14) , legend.title= element_text(size=14),\n",
    "     legend.text = element_text(size=12)) \n",
    "p + coord_flip()\n",
    "ggsave(\"figures/(C_over_N).png\", width = 8, height = 4, dpi = 800)"
   ]
  },
  {
   "cell_type": "code",
   "execution_count": null,
   "metadata": {},
   "outputs": [],
   "source": []
  }
 ],
 "metadata": {
  "kernelspec": {
   "display_name": "R conda",
   "language": "R",
   "name": "ir"
  },
  "language_info": {
   "codemirror_mode": "r",
   "file_extension": ".r",
   "mimetype": "text/x-r-source",
   "name": "R",
   "pygments_lexer": "r",
   "version": "4.1.0"
  }
 },
 "nbformat": 4,
 "nbformat_minor": 4
}
