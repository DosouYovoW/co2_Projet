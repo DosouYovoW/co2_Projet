{
 "cells": [
  {
   "cell_type": "markdown",
   "metadata": {},
   "source": [
    "# Temperature-dependent CO2-C emission kinetics in carbon sequestrating cranberry soils\n",
    "*Wilfried Dossou-Yovo, Serge Étienne Parent,Noura Ziadi, Bertrand Normand, and Léon Étienne parent*"
   ]
  },
  {
   "cell_type": "code",
   "execution_count": 60,
   "metadata": {},
   "outputs": [
    {
     "name": "stdout",
     "output_type": "stream",
     "text": [
      "[1] \"2020-12-04\"\n"
     ]
    }
   ],
   "source": [
    "print(Sys.Date())"
   ]
  },
  {
   "cell_type": "markdown",
   "metadata": {},
   "source": [
    "## 1. Objective"
   ]
  },
  {
   "cell_type": "markdown",
   "metadata": {},
   "source": [
    "This notebook generate the result of co2 data analysis. Data set contains a collection of soil caracteristics, measured co2 emission collected from incubation study. Soil samples was collected from two cranberry fied stand of eastern canada. Incubation study was carried out at Agriculture and Agri-food Canada(sainte-foy, quebec,qc) from February to Mai 2019. The objectif of this study was to measure CO2 emission rate across cranberry soil profiles as related to change in soil temperature in cranberry soils of eastern Canada. "
   ]
  },
  {
   "cell_type": "markdown",
   "metadata": {},
   "source": [
    "## 2. Statistical questions\n",
    "\n",
    "In addition to data exploration, this notebook will answer the following statistical questions.\n",
    " \n",
    "1. What is the influence of soil depth and temperature on CO2 emission?\n",
    "2. Can Arrhenius equation and Q10 be useful to describe temperature sensitivity to cranberry carbon decomposition ?\n",
    "3. What is the carbon accumulation accross cranberry soil layers? "
   ]
  },
  {
   "cell_type": "markdown",
   "metadata": {},
   "source": [
    "## 3. Packages and Function"
   ]
  },
  {
   "cell_type": "markdown",
   "metadata": {},
   "source": [
    "### 3.1 Packages"
   ]
  },
  {
   "cell_type": "markdown",
   "metadata": {},
   "source": [
    "We need package [tidyverse](https://www.tidyverse.org/) which loads a set of packages for easy data manipulation(Ex: [dplyr](https://www.rdocumentation.org/packages/dplyr/versions/0.7.8)) and visualization (ex: [ggplot2](https://www.rdocumentation.org/packages/ggplot2/versions/3.2.1)). We also need [nlme](https://www.rdocumentation.org/packages/nlme/versions/3.1-143/topics/nlme) for fitting a nonlinear mixed-effects model and [e1071](https://www.rdocumentation.org/packages/e1071/versions/1.7-3) to test distributions."
   ]
  },
  {
   "cell_type": "code",
   "execution_count": 61,
   "metadata": {},
   "outputs": [],
   "source": [
    "library(\"tidyverse\")\n",
    "library(nlme)\n",
    "library('e1071')\n",
    "library(\"broom\")"
   ]
  },
  {
   "cell_type": "markdown",
   "metadata": {},
   "source": [
    "## 3.2 Some custom functions.\n",
    "### Pseudo R-square\n",
    "Pseudo R-square allows to measure how well variables of our model explain co2 emission rate"
   ]
  },
  {
   "cell_type": "code",
   "execution_count": 62,
   "metadata": {},
   "outputs": [],
   "source": [
    "pseudoR2 <- function(y, y_hat) {\n",
    "  1 - (sum((y - y_hat)^2) / sum((y - mean(y))^2))\n",
    "}\n",
    "\n",
    "# Residuals\n",
    "residues <- function(model, level = 0, computeResidues = TRUE, residues,\n",
    "                   main = \"\") {\n",
    "  library(e1071)\n",
    "  if (computeResidues) {\n",
    "    r = residuals(model, type=\"normalized\", level)\n",
    "  } else {\n",
    "    r = residues\n",
    "  }\n",
    "  hist(r, freq=F, main = main, breaks=20)\n",
    "  xfit<-seq(min(r),max(r),length=40)\n",
    "  yfit<-dnorm(xfit)\n",
    "  lines(xfit, yfit, col=\"red\", lwd=2)\n",
    "  print(\"Shapiro-Wilk:\")\n",
    "  print(shapiro.test(r))\n",
    "  print(paste(\"Kurtosis:\", kurtosis(r)))\n",
    "  print(paste(\"Skewness:\", skewness(r)))\n",
    "}"
   ]
  },
  {
   "cell_type": "markdown",
   "metadata": {},
   "source": [
    "### 4. Import data\n",
    "We load two data `data_pot` and `data_co2` involved in our anylisis. `data_pot` contained details about sites sampling, soil sampling(soil depth, weight, water content and bulk density), laboratory incubation temperature while `data_co2` contained details about laboratory incubation time, co2 emission and jar masson details.\n",
    "`data_co2` was combined with `data_pot` with `left_join` function"
   ]
  },
  {
   "cell_type": "code",
   "execution_count": 63,
   "metadata": {},
   "outputs": [
    {
     "name": "stderr",
     "output_type": "stream",
     "text": [
      "Parsed with column specification:\n",
      "cols(\n",
      "  `ID pot` = col_double(),\n",
      "  Sites = col_character(),\n",
      "  `Total carbon (ppm)` = col_double(),\n",
      "  `Depth (cm)` = col_double(),\n",
      "  Block = col_double(),\n",
      "  `Temperature (°C)` = col_double(),\n",
      "  `Pot weight (g)` = col_double(),\n",
      "  `Soil weight (g)` = col_double(),\n",
      "  `Water volume (ml)` = col_double(),\n",
      "  `Water content (%)` = col_double(),\n",
      "  `Bulk density (g/mL)` = col_double()\n",
      ")\n",
      "Parsed with column specification:\n",
      "cols(\n",
      "  `ID pot` = col_double(),\n",
      "  `Time (days)` = col_double(),\n",
      "  `Initial CO2 (ppm)` = col_double(),\n",
      "  `Final CO2 (ppm)` = col_double(),\n",
      "  `Time final (h)` = col_double()\n",
      ")\n"
     ]
    }
   ],
   "source": [
    "data_pots <- read_csv('data/pots.csv')\n",
    "data_co2 <- read_csv('data/co2.csv')\n",
    "data_co2 <- data_co2 %>%\n",
    "left_join(data_pots, by = \"ID pot\")"
   ]
  },
  {
   "cell_type": "markdown",
   "metadata": {},
   "source": [
    "## 5. Some calculations "
   ]
  },
  {
   "cell_type": "markdown",
   "metadata": {},
   "source": [
    "Several variables have been added to our data in order to proceed for analysis. The added variables are the following: `Temperature (Kelvin)`, `Molar Volume (L/mol)`, `Headspace Volume (mL)`, `Dry soil weight (g)`, `CO2 emission (ug/h/g)`, `CO2 emission (mg/kg)`, `decomposition rate K`, `lnK`and `1/T(T = Temperature(Kelvin)`"
   ]
  },
  {
   "cell_type": "code",
   "execution_count": 64,
   "metadata": {},
   "outputs": [
    {
     "name": "stderr",
     "output_type": "stream",
     "text": [
      "Warning message in log(K):\n",
      "\"production de NaN\""
     ]
    }
   ],
   "source": [
    "container_volume <- 250 # mL\n",
    "gas_constant <- 8.31446 # unit\n",
    "atm_pressure_n <- 101.325\n",
    "\n",
    "data_co2 <- data_co2 %>%\n",
    "  mutate(`Temperature (K)` = `Temperature (°C)` + 273,\n",
    "         `Molar Volume (L/mol)` = gas_constant * `Temperature (K)` / atm_pressure_n,\n",
    "         `Headspace Volume (mL)` = container_volume - (`Soil weight (g)` / `Bulk density (g/mL)`), # 250 mL is the volume of the container\n",
    "         `Dry soil weight (g)` = `Soil weight (g)` - (`Soil weight (g)` * `Water content (%)` / 100),\n",
    "         `CO2 emission (ug/h/g)` = (`Final CO2 (ppm)` - `Initial CO2 (ppm)`) * 0.000001 * 44000000 /\n",
    "                                   `Molar Volume (L/mol)` * (`Headspace Volume (mL)` / 1000) * (12 / 44) /\n",
    "                                   `Time final (h)` / `Dry soil weight (g)`,\n",
    "         `CO2 emission (mg/kg)` = `CO2 emission (ug/h/g)` * 24 * `Time (days)`,\n",
    "         K = log(`Total carbon (ppm)` / (`Total carbon (ppm)` - `CO2 emission (mg/kg)`)) / `Time (days)`,\n",
    "         lnK = log(K),\n",
    "         `1/T` = 1 / `Temperature (K)`)"
   ]
  },
  {
   "cell_type": "markdown",
   "metadata": {},
   "source": [
    "## 6. Data Exploration"
   ]
  },
  {
   "cell_type": "markdown",
   "metadata": {},
   "source": [
    "### 6.1 Boxplot"
   ]
  },
  {
   "cell_type": "code",
   "execution_count": 65,
   "metadata": {},
   "outputs": [],
   "source": [
    "New.labs <- c(\"Temperature:10°C\", \"Temperature:20°C\", \"Temperature:30°C\") # Change labels \n",
    "names(New.labs) <- c(\"10\", \"20\", \"30\")\n",
    "\n",
    "New.labs_b <-  c(\"Layer:[0-10] cm\", \"Layer:[10-20] cm\", \"Layer:[20-30] cm\") # Change labels\n",
    "names(New.labs_b) <- c(\"10\", \"20\", \"30\")"
   ]
  },
  {
   "cell_type": "code",
   "execution_count": 66,
   "metadata": {},
   "outputs": [
    {
     "data": {
      "image/png": "[encoded data removed]",
      "text/plain": [
       "plot without title"
      ]
     },
     "metadata": {},
     "output_type": "display_data"
    }
   ],
   "source": [
    "options(repr.plot.width = 6, repr.plot.height = 7)\n",
    "pg <- ggplot(data=data_co2, aes(x = `Time (days)`,y = `CO2 emission (ug/h/g)` , group = `Temperature (°C)`)) +# geom_point(color= \"black\", size=2) +\n",
    "geom_boxplot() + \n",
    "facet_grid(`Depth (cm)` ~ `Temperature (°C)`,   scales = \"free\", \n",
    "          labeller = labeller(`Depth (cm)` = New.labs_b, `Temperature (°C)` = New.labs))+ \n",
    "geom_jitter(width = 1/40, # very small width for the random noise\n",
    "                                  height = 1/20, # very small height for the random noise\n",
    "                                  alpha = 1/2, # transparent so we can see clustering\n",
    "                                  size = 1) + # very small points \n",
    "  theme(legend.position = \"none\") +\n",
    "        geom_boxplot(alpha=0.5)+\n",
    " xlab(\"Incubation time (days)\") + ylab(bquote(~CO[2]~ 'emision ('*mu~'g'~ h^-1~g^-1*')'))\n",
    "pg \n",
    "ggsave(\"figures/Boxplot.png\", width = 6, height = 7, dpi = 600)# export plot high resolution"
   ]
  },
  {
   "cell_type": "code",
   "execution_count": 72,
   "metadata": {},
   "outputs": [
    {
     "data": {
      "text/html": [
       "<table>\n",
       "<thead><tr><th scope=col>company.raw</th><th scope=col>years.raw</th><th scope=col>amount.vector1</th><th scope=col>amount.vector2</th><th scope=col>amount.vector3</th></tr></thead>\n",
       "<tbody>\n",
       "\t<tr><td>C1</td><td>1 </td><td> 0</td><td> 5</td><td> 2</td></tr>\n",
       "\t<tr><td>C2</td><td>1 </td><td>10</td><td> 0</td><td>15</td></tr>\n",
       "\t<tr><td>C2</td><td>2 </td><td>18</td><td>14</td><td> 0</td></tr>\n",
       "</tbody>\n",
       "</table>\n"
      ],
      "text/latex": [
       "\\begin{tabular}{r|lllll}\n",
       " company.raw & years.raw & amount.vector1 & amount.vector2 & amount.vector3\\\\\n",
       "\\hline\n",
       "\t C1 & 1  &  0 &  5 &  2\\\\\n",
       "\t C2 & 1  & 10 &  0 & 15\\\\\n",
       "\t C2 & 2  & 18 & 14 &  0\\\\\n",
       "\\end{tabular}\n"
      ],
      "text/markdown": [
       "\n",
       "| company.raw | years.raw | amount.vector1 | amount.vector2 | amount.vector3 |\n",
       "|---|---|---|---|---|\n",
       "| C1 | 1  |  0 |  5 |  2 |\n",
       "| C2 | 1  | 10 |  0 | 15 |\n",
       "| C2 | 2  | 18 | 14 |  0 |\n",
       "\n"
      ],
      "text/plain": [
       "  company.raw years.raw amount.vector1 amount.vector2 amount.vector3\n",
       "1 C1          1          0              5              2            \n",
       "2 C2          1         10              0             15            \n",
       "3 C2          2         18             14              0            "
      ]
     },
     "metadata": {},
     "output_type": "display_data"
    },
    {
     "data": {
      "text/html": [
       "<table>\n",
       "<thead><tr><th scope=col>company.raw</th><th scope=col>years.raw</th><th scope=col>source</th><th scope=col>amount.inkg</th></tr></thead>\n",
       "<tbody>\n",
       "\t<tr><td>C1       </td><td>1        </td><td>Ink      </td><td> 5       </td></tr>\n",
       "\t<tr><td>C1       </td><td>1        </td><td>Recycling</td><td> 2       </td></tr>\n",
       "\t<tr><td>C2       </td><td>1        </td><td>Coffee   </td><td>10       </td></tr>\n",
       "\t<tr><td>C2       </td><td>1        </td><td>Combusted</td><td>15       </td></tr>\n",
       "\t<tr><td>C2       </td><td>2        </td><td>Printer  </td><td>14       </td></tr>\n",
       "\t<tr><td>C2       </td><td>2        </td><td>Tea      </td><td>18       </td></tr>\n",
       "</tbody>\n",
       "</table>\n"
      ],
      "text/latex": [
       "\\begin{tabular}{r|llll}\n",
       " company.raw & years.raw & source & amount.inkg\\\\\n",
       "\\hline\n",
       "\t C1        & 1         & Ink       &  5       \\\\\n",
       "\t C1        & 1         & Recycling &  2       \\\\\n",
       "\t C2        & 1         & Coffee    & 10       \\\\\n",
       "\t C2        & 1         & Combusted & 15       \\\\\n",
       "\t C2        & 2         & Printer   & 14       \\\\\n",
       "\t C2        & 2         & Tea       & 18       \\\\\n",
       "\\end{tabular}\n"
      ],
      "text/markdown": [
       "\n",
       "| company.raw | years.raw | source | amount.inkg |\n",
       "|---|---|---|---|\n",
       "| C1        | 1         | Ink       |  5        |\n",
       "| C1        | 1         | Recycling |  2        |\n",
       "| C2        | 1         | Coffee    | 10        |\n",
       "| C2        | 1         | Combusted | 15        |\n",
       "| C2        | 2         | Printer   | 14        |\n",
       "| C2        | 2         | Tea       | 18        |\n",
       "\n"
      ],
      "text/plain": [
       "  company.raw years.raw source    amount.inkg\n",
       "1 C1          1         Ink        5         \n",
       "2 C1          1         Recycling  2         \n",
       "3 C2          1         Coffee    10         \n",
       "4 C2          1         Combusted 15         \n",
       "5 C2          2         Printer   14         \n",
       "6 C2          2         Tea       18         "
      ]
     },
     "metadata": {},
     "output_type": "display_data"
    }
   ],
   "source": [
    "df = data.frame(company.raw = c(\"C1\", \"C1\", \"C2\", \"C2\", \"C2\", \"C2\"),\n",
    "                years.raw = c(1, 1, 1, 1, 2, 2),\n",
    "                source = c(\"Ink\", \"Recycling\", \"Coffee\", \"Combusted\", \"Printer\", \"Tea\"),\n",
    "                amount.inkg = c(5, 2, 10, 15, 14, 18))\n",
    "\n",
    "# OPTION 1. Split-Apply-Combine: ddply(...summarize) with a conditional on the data\n",
    "require(plyr) # dplyr if performance on large d.f. becomes an issue\n",
    "ddply(df, .(company.raw,years.raw), summarize,\n",
    "    amount.vector1=sum(amount.inkg[source %in% c('Tea','Coffee')]),\n",
    "    amount.vector2=sum(amount.inkg[source %in% c('Ink','Printer')]),\n",
    "    amount.vector3=sum(amount.inkg[source %in% c('Recycling','Combusted')])\n",
    ")\n",
    "df"
   ]
  },
  {
   "cell_type": "code",
   "execution_count": 70,
   "metadata": {},
   "outputs": [],
   "source": [
    "Median <- aggregate(`CO2 emission (ug/h/g)` ~ `Time (days)` + `Temperature (°C)` + `Depth (cm)`, data = data_co2, FUN = median)"
   ]
  },
  {
   "cell_type": "code",
   "execution_count": null,
   "metadata": {},
   "outputs": [],
   "source": [
    "cum <- aggregate(`CO2 emission (ug/h/g)` ~ `Time (days)` + `Temperature (°C)` + `Depth (cm)`, data = Median, FUN = median)"
   ]
  },
  {
   "cell_type": "code",
   "execution_count": 9,
   "metadata": {},
   "outputs": [],
   "source": [
    "cumsum1 <- subset(Median, `Temperature (°C)` == 10 & `Depth (cm)` == 10) %>%\n",
    "mutate(cum = cumsum(`CO2 emission (ug/h/g)`))\n",
    "\n",
    "cumsum2 <- subset(Median, `Temperature (°C)` == 20 & `Depth (cm)` == 10) %>%\n",
    "mutate(cum = cumsum(`CO2 emission (ug/h/g)`))\n",
    "\n",
    "cumsum3 <- subset(Median, `Temperature (°C)` == 30 & `Depth (cm)` == 10) %>%\n",
    "mutate(cum = cumsum(`CO2 emission (ug/h/g)`))\n",
    "\n",
    "cumsum4 <- subset(Median, `Temperature (°C)` == 10 & `Depth (cm)` == 20) %>%\n",
    "mutate(cum = cumsum(`CO2 emission (ug/h/g)`))\n",
    "\n",
    "cumsum5 <- subset(Median, `Temperature (°C)` == 20 & `Depth (cm)` == 20) %>%\n",
    "mutate(cum = cumsum(`CO2 emission (ug/h/g)`))\n",
    "\n",
    "cumsum6 <- subset(Median, `Temperature (°C)` == 30 & `Depth (cm)` == 20) %>%\n",
    "mutate(cum = cumsum(`CO2 emission (ug/h/g)`))\n",
    "\n",
    "cumsum7 <- subset(Median, `Temperature (°C)` == 10 & `Depth (cm)` == 30) %>%\n",
    "mutate(cum = cumsum(`CO2 emission (ug/h/g)`))\n",
    "\n",
    "cumsum8 <- subset(Median, `Temperature (°C)` == 20 & `Depth (cm)` == 30) %>%\n",
    "mutate(cum = cumsum(`CO2 emission (ug/h/g)`))\n",
    "\n",
    "cumsum9 <- subset(Median, `Temperature (°C)` == 30 & `Depth (cm)` == 30) %>%\n",
    "mutate(cum = cumsum(`CO2 emission (ug/h/g)`))\n",
    "\n",
    "#cumsum2$cum <- cumsum(cumsum2$`CO2 emission (ug/h/g)`)\n",
    "#cumsum3$cum <- cumsum(cumsum3$`CO2 emission (ug/h/g)`)\n",
    "#cumsum4$cum <- cumsum(cumsum4$`CO2 emission (ug/h/g)`)\n",
    "#cumsum5$cum <- cumsum(cumsum5$`CO2 emission (ug/h/g)`)\n",
    "#cumsum6$cum <- cumsum(cumsum6$`CO2 emission (ug/h/g)`)\n",
    "#cumsum7$cum <- cumsum(cumsum7$`CO2 emission (ug/h/g)`)\n",
    "#cumsum8$cum <- cumsum(cumsum8$`CO2 emission (ug/h/g)`)\n",
    "#cumsum9$cum <- cumsum(cumsum9$`CO2 emission (ug/h/g)`)\n",
    "cumsum1 <- cumsum1 %>%\n",
    "mutate($`cum(%)` <- cumsum1$cum * 100/ (sum(cumsum1$cum[9]) + sum(cumsum4$cum[9]) + sum(cumsum7$cum[9]))\n",
    "cumsum2$`cum(%)` <- cumsum2$cum * 100/ (sum(cumsum2$cum[9]) + sum(cumsum5$cum[9]) + sum(cumsum8$cum[9])) \n",
    "cumsum3$`cum(%)` <- cumsum3$cum * 100/ (sum(cumsum3$cum[9]) + sum(cumsum6$cum[9]) + sum(cumsum9$cum[9]))\n",
    "cumsum4$`cum(%)` <- cumsum4$cum * 100/ (sum(cumsum1$cum[9]) + sum(cumsum4$cum[9]) + sum(cumsum7$cum[9]))\n",
    "cumsum5$`cum(%)` <- cumsum5$cum * 100/ (sum(cumsum2$cum[9]) + sum(cumsum5$cum[9]) + sum(cumsum8$cum[9])) \n",
    "cumsum6$`cum(%)` <- cumsum6$cum * 100/ (sum(cumsum3$cum[9]) + sum(cumsum6$cum[9]) + sum(cumsum9$cum[9]))\n",
    "cumsum7$`cum(%)` <- cumsum7$cum * 100/ (sum(cumsum1$cum[9]) + sum(cumsum4$cum[9]) + sum(cumsum7$cum[9]))\n",
    "cumsum8$`cum(%)` <- cumsum8$cum * 100/ (sum(cumsum2$cum[9]) + sum(cumsum5$cum[9]) + sum(cumsum8$cum[9])) \n",
    "cumsum9$`cum(%)` <- cumsum9$cum * 100/ (sum(cumsum3$cum[9]) + sum(cumsum6$cum[9]) + sum(cumsum9$cum[9]))\n",
    "cumsum <- rbind(cumsum1, cumsum2, cumsum3, cumsum4, cumsum5, cumsum6, cumsum7, cumsum8, cumsum9)"
   ]
  },
  {
   "cell_type": "code",
   "execution_count": 10,
   "metadata": {},
   "outputs": [],
   "source": [
    "cumsum$`Depth (cm)` <- as.character(Median$`Depth (cm)`)\n",
    " #print(tbl_df(cumsum), n=100)"
   ]
  },
  {
   "cell_type": "code",
   "execution_count": 11,
   "metadata": {},
   "outputs": [
    {
     "name": "stderr",
     "output_type": "stream",
     "text": [
      "Warning message:\n",
      "\"`expand_scale()` is deprecated; use `expansion()` instead.\""
     ]
    },
    {
     "data": {
      "image/png": "[encoded data removed]",
      "text/plain": [
       "plot without title"
      ]
     },
     "metadata": {},
     "output_type": "display_data"
    }
   ],
   "source": [
    "options(repr.plot.width = 18, repr.plot.height = 12)\n",
    "pl <- ggplot(data=cumsum, aes(x = `Time (days)`,y = `cum(%)`, group = `Depth (cm)`)) + # geom_point(color= \"black\", size=2) +\n",
    "#geom_boxplot() + \n",
    "geom_line() + \n",
    "geom_point(aes(shape = `Depth (cm)`), size = 4)+ \n",
    "facet_grid( .~ `Temperature (°C)`,   scales = \"free\", \n",
    "          labeller = labeller(`Depth (cm)` = New.labs_b, `Temperature (°C)` = New.labs))+ \n",
    "  #theme(legend.position = \"none\", legend.text = \"Temperature (°C)\") +\n",
    "#scale_color_discrete(name = \"Layers\", labels = c(\"[0-10]\", \"[10-20]\", \"[20-30]\"))+\n",
    "#scale_linetype_discrete(name = \"Layers\", labels = c(\"[0-10]\", \"[10-20]\", \"[20-30]\")) +\n",
    "scale_shape_discrete(name = \"Layers\", labels = c(\"[0-10]\", \"[10-20]\", \"[20-30]\")) +\n",
    " xlab(\"Incubation time (days)\") + ylab(bquote(Cumulated~CO[2]~ 'emission (%)')) +\n",
    "scale_y_continuous(breaks = 10*0:1000,\n",
    "                     expand = expand_scale(add = 5)) +\n",
    "#scale_x_continuous(breaks = 7*0:1000,\n",
    " #                    expand = expand_scale(add = 5)) +\n",
    "theme_bw() +\n",
    "theme(strip.text = element_text(size = 25, face=\"bold\"), axis.text=element_text(size=25, face=\"bold\"),\n",
    "        axis.title=element_text(size=30), legend.title = element_text(size=25),\n",
    "     legend.text = element_text(size=25) ) \n",
    "\n",
    "pl \n",
    "ggsave(\"figures/Cumulated CO2 emission.png\", width = 18, height = 12, dpi = 600)# export plot high resolution"
   ]
  },
  {
   "cell_type": "code",
   "execution_count": 12,
   "metadata": {},
   "outputs": [
    {
     "data": {
      "text/html": [
       "<table>\n",
       "<thead><tr><th scope=col>Time (days)</th><th scope=col>Temperature (°C)</th><th scope=col>cum</th><th scope=col>cum(%)</th></tr></thead>\n",
       "<tbody>\n",
       "\t<tr><td>  7       </td><td>10        </td><td>0.08406952</td><td> 16.72102 </td></tr>\n",
       "\t<tr><td> 14       </td><td>10        </td><td>0.15479258</td><td> 30.78749 </td></tr>\n",
       "\t<tr><td> 21       </td><td>10        </td><td>0.21142330</td><td> 42.05106 </td></tr>\n",
       "\t<tr><td> 35       </td><td>10        </td><td>0.27628878</td><td> 54.95249 </td></tr>\n",
       "\t<tr><td> 49       </td><td>10        </td><td>0.32780339</td><td> 65.19849 </td></tr>\n",
       "\t<tr><td> 63       </td><td>10        </td><td>0.37236615</td><td> 74.06181 </td></tr>\n",
       "\t<tr><td> 77       </td><td>10        </td><td>0.41474354</td><td> 82.49047 </td></tr>\n",
       "\t<tr><td> 91       </td><td>10        </td><td>0.46357864</td><td> 92.20353 </td></tr>\n",
       "\t<tr><td>105       </td><td>10        </td><td>0.50277754</td><td>100.00000 </td></tr>\n",
       "\t<tr><td>  7       </td><td>20        </td><td>0.19693165</td><td> 17.07112 </td></tr>\n",
       "\t<tr><td> 14       </td><td>20        </td><td>0.36630009</td><td> 31.75290 </td></tr>\n",
       "\t<tr><td> 21       </td><td>20        </td><td>0.53372863</td><td> 46.26653 </td></tr>\n",
       "\t<tr><td> 35       </td><td>20        </td><td>0.66339462</td><td> 57.50669 </td></tr>\n",
       "\t<tr><td> 49       </td><td>20        </td><td>0.77168056</td><td> 66.89351 </td></tr>\n",
       "\t<tr><td> 63       </td><td>20        </td><td>0.88150263</td><td> 76.41349 </td></tr>\n",
       "\t<tr><td> 77       </td><td>20        </td><td>0.98752027</td><td> 85.60368 </td></tr>\n",
       "\t<tr><td> 91       </td><td>20        </td><td>1.08401156</td><td> 93.96807 </td></tr>\n",
       "\t<tr><td>105       </td><td>20        </td><td>1.15359562</td><td>100.00000 </td></tr>\n",
       "\t<tr><td>  7       </td><td>30        </td><td>0.51303871</td><td> 24.14739 </td></tr>\n",
       "\t<tr><td> 14       </td><td>30        </td><td>0.78047263</td><td> 36.73481 </td></tr>\n",
       "\t<tr><td> 21       </td><td>30        </td><td>1.10541476</td><td> 52.02899 </td></tr>\n",
       "\t<tr><td> 35       </td><td>30        </td><td>1.32399371</td><td> 62.31693 </td></tr>\n",
       "\t<tr><td> 49       </td><td>30        </td><td>1.50539650</td><td> 70.85508 </td></tr>\n",
       "\t<tr><td> 63       </td><td>30        </td><td>1.67905112</td><td> 79.02855 </td></tr>\n",
       "\t<tr><td> 77       </td><td>30        </td><td>1.84974586</td><td> 87.06271 </td></tr>\n",
       "\t<tr><td> 91       </td><td>30        </td><td>2.00516112</td><td> 94.37770 </td></tr>\n",
       "\t<tr><td>105       </td><td>30        </td><td>2.12461328</td><td>100.00000 </td></tr>\n",
       "</tbody>\n",
       "</table>\n"
      ],
      "text/latex": [
       "\\begin{tabular}{r|llll}\n",
       " Time (days) & Temperature (°C) & cum & cum(\\%)\\\\\n",
       "\\hline\n",
       "\t   7        & 10         & 0.08406952 &  16.72102 \\\\\n",
       "\t  14        & 10         & 0.15479258 &  30.78749 \\\\\n",
       "\t  21        & 10         & 0.21142330 &  42.05106 \\\\\n",
       "\t  35        & 10         & 0.27628878 &  54.95249 \\\\\n",
       "\t  49        & 10         & 0.32780339 &  65.19849 \\\\\n",
       "\t  63        & 10         & 0.37236615 &  74.06181 \\\\\n",
       "\t  77        & 10         & 0.41474354 &  82.49047 \\\\\n",
       "\t  91        & 10         & 0.46357864 &  92.20353 \\\\\n",
       "\t 105        & 10         & 0.50277754 & 100.00000 \\\\\n",
       "\t   7        & 20         & 0.19693165 &  17.07112 \\\\\n",
       "\t  14        & 20         & 0.36630009 &  31.75290 \\\\\n",
       "\t  21        & 20         & 0.53372863 &  46.26653 \\\\\n",
       "\t  35        & 20         & 0.66339462 &  57.50669 \\\\\n",
       "\t  49        & 20         & 0.77168056 &  66.89351 \\\\\n",
       "\t  63        & 20         & 0.88150263 &  76.41349 \\\\\n",
       "\t  77        & 20         & 0.98752027 &  85.60368 \\\\\n",
       "\t  91        & 20         & 1.08401156 &  93.96807 \\\\\n",
       "\t 105        & 20         & 1.15359562 & 100.00000 \\\\\n",
       "\t   7        & 30         & 0.51303871 &  24.14739 \\\\\n",
       "\t  14        & 30         & 0.78047263 &  36.73481 \\\\\n",
       "\t  21        & 30         & 1.10541476 &  52.02899 \\\\\n",
       "\t  35        & 30         & 1.32399371 &  62.31693 \\\\\n",
       "\t  49        & 30         & 1.50539650 &  70.85508 \\\\\n",
       "\t  63        & 30         & 1.67905112 &  79.02855 \\\\\n",
       "\t  77        & 30         & 1.84974586 &  87.06271 \\\\\n",
       "\t  91        & 30         & 2.00516112 &  94.37770 \\\\\n",
       "\t 105        & 30         & 2.12461328 & 100.00000 \\\\\n",
       "\\end{tabular}\n"
      ],
      "text/markdown": [
       "\n",
       "| Time (days) | Temperature (°C) | cum | cum(%) |\n",
       "|---|---|---|---|\n",
       "|   7        | 10         | 0.08406952 |  16.72102  |\n",
       "|  14        | 10         | 0.15479258 |  30.78749  |\n",
       "|  21        | 10         | 0.21142330 |  42.05106  |\n",
       "|  35        | 10         | 0.27628878 |  54.95249  |\n",
       "|  49        | 10         | 0.32780339 |  65.19849  |\n",
       "|  63        | 10         | 0.37236615 |  74.06181  |\n",
       "|  77        | 10         | 0.41474354 |  82.49047  |\n",
       "|  91        | 10         | 0.46357864 |  92.20353  |\n",
       "| 105        | 10         | 0.50277754 | 100.00000  |\n",
       "|   7        | 20         | 0.19693165 |  17.07112  |\n",
       "|  14        | 20         | 0.36630009 |  31.75290  |\n",
       "|  21        | 20         | 0.53372863 |  46.26653  |\n",
       "|  35        | 20         | 0.66339462 |  57.50669  |\n",
       "|  49        | 20         | 0.77168056 |  66.89351  |\n",
       "|  63        | 20         | 0.88150263 |  76.41349  |\n",
       "|  77        | 20         | 0.98752027 |  85.60368  |\n",
       "|  91        | 20         | 1.08401156 |  93.96807  |\n",
       "| 105        | 20         | 1.15359562 | 100.00000  |\n",
       "|   7        | 30         | 0.51303871 |  24.14739  |\n",
       "|  14        | 30         | 0.78047263 |  36.73481  |\n",
       "|  21        | 30         | 1.10541476 |  52.02899  |\n",
       "|  35        | 30         | 1.32399371 |  62.31693  |\n",
       "|  49        | 30         | 1.50539650 |  70.85508  |\n",
       "|  63        | 30         | 1.67905112 |  79.02855  |\n",
       "|  77        | 30         | 1.84974586 |  87.06271  |\n",
       "|  91        | 30         | 2.00516112 |  94.37770  |\n",
       "| 105        | 30         | 2.12461328 | 100.00000  |\n",
       "\n"
      ],
      "text/plain": [
       "   Time (days) Temperature (°C) cum        cum(%)   \n",
       "1    7         10               0.08406952  16.72102\n",
       "2   14         10               0.15479258  30.78749\n",
       "3   21         10               0.21142330  42.05106\n",
       "4   35         10               0.27628878  54.95249\n",
       "5   49         10               0.32780339  65.19849\n",
       "6   63         10               0.37236615  74.06181\n",
       "7   77         10               0.41474354  82.49047\n",
       "8   91         10               0.46357864  92.20353\n",
       "9  105         10               0.50277754 100.00000\n",
       "10   7         20               0.19693165  17.07112\n",
       "11  14         20               0.36630009  31.75290\n",
       "12  21         20               0.53372863  46.26653\n",
       "13  35         20               0.66339462  57.50669\n",
       "14  49         20               0.77168056  66.89351\n",
       "15  63         20               0.88150263  76.41349\n",
       "16  77         20               0.98752027  85.60368\n",
       "17  91         20               1.08401156  93.96807\n",
       "18 105         20               1.15359562 100.00000\n",
       "19   7         30               0.51303871  24.14739\n",
       "20  14         30               0.78047263  36.73481\n",
       "21  21         30               1.10541476  52.02899\n",
       "22  35         30               1.32399371  62.31693\n",
       "23  49         30               1.50539650  70.85508\n",
       "24  63         30               1.67905112  79.02855\n",
       "25  77         30               1.84974586  87.06271\n",
       "26  91         30               2.00516112  94.37770\n",
       "27 105         30               2.12461328 100.00000"
      ]
     },
     "metadata": {},
     "output_type": "display_data"
    }
   ],
   "source": [
    "Cumulated_C <- aggregate(`cum(%)` ~  `Temperature (°C)` + `Depth (cm)`, data = cumsum, FUN = sum)\n",
    "Cumulated_C_time <- aggregate(cbind(`cum`,`cum(%)`) ~  `Time (days)` + `Temperature (°C)`, data = cumsum, FUN = sum)\n",
    "Cumulated_rate_time <- aggregate(`cum(%)` ~  `Time (days)` + `Temperature (°C)`, data = cumsum, FUN = sum)\n",
    "#cumsum\n",
    "#cumsum\n",
    "Cumulated_C_time"
   ]
  },
  {
   "cell_type": "code",
   "execution_count": 13,
   "metadata": {},
   "outputs": [
    {
     "name": "stderr",
     "output_type": "stream",
     "text": [
      "Warning message:\n",
      "\"`expand_scale()` is deprecated; use `expansion()` instead.\"Warning message:\n",
      "\"`expand_scale()` is deprecated; use `expansion()` instead.\""
     ]
    },
    {
     "data": {
      "image/png": "[encoded data removed]",
      "text/plain": [
       "plot without title"
      ]
     },
     "metadata": {},
     "output_type": "display_data"
    }
   ],
   "source": [
    "Cumulated_C_time$`Temperature (°C)` <- as.character(Cumulated_C_time$`Temperature (°C)`)\n",
    "options(repr.plot.width = 6, repr.plot.height = 4)\n",
    "pl <- ggplot(data=Cumulated_C_time, aes(x = `Time (days)`,y = `cum(%)`, group = `Temperature (°C)`)) + # geom_point(color= \"black\", size=2) +\n",
    "#geom_boxplot() + \n",
    "geom_line() + \n",
    "geom_point(aes(shape = `Temperature (°C)`), size = 2)+ \n",
    "#facet_grid( .~ `Temperature (°C)`,   scales = \"free\", \n",
    "   #       labeller = labeller(`Depth (cm)` = New.labs_b, `Temperature (°C)` = New.labs))+ \n",
    "  theme(legend.position = \"none\", legend.text = \"Temperature (°C)\") +\n",
    " xlab(\"Incubation time (days)\") + ylab(bquote(Cumulated~CO[2]~ 'emission (%)')) +\n",
    "scale_y_continuous(breaks = 10*0:1000,\n",
    "                     expand = expand_scale(add = 5)) +\n",
    "scale_x_continuous(breaks = 7*0:1000,\n",
    "                     expand = expand_scale(add = 5)) +\n",
    "theme_bw()\n",
    "pl \n",
    "ggsave(\"figures/Cumulated CO2 emission across layers.png\", width = 6, height = 4, dpi = 600)# export plot high resolution"
   ]
  },
  {
   "cell_type": "markdown",
   "metadata": {},
   "source": [
    "## 7.What is the influence of soil depth and temperature on CO2 emission?"
   ]
  },
  {
   "cell_type": "markdown",
   "metadata": {},
   "source": [
    "### 7.1 linear regression"
   ]
  },
  {
   "cell_type": "code",
   "execution_count": 14,
   "metadata": {},
   "outputs": [
    {
     "data": {
      "text/html": [
       "<ol class=list-inline>\n",
       "\t<li>'ID pot'</li>\n",
       "\t<li>'Time (days)'</li>\n",
       "\t<li>'Initial CO2 (ppm)'</li>\n",
       "\t<li>'Final CO2 (ppm)'</li>\n",
       "\t<li>'Time final (h)'</li>\n",
       "\t<li>'Sites'</li>\n",
       "\t<li>'Total carbon (ppm)'</li>\n",
       "\t<li>'Depth (cm)'</li>\n",
       "\t<li>'Block'</li>\n",
       "\t<li>'Temperature (°C)'</li>\n",
       "\t<li>'Pot weight (g)'</li>\n",
       "\t<li>'Soil weight (g)'</li>\n",
       "\t<li>'Water volume (ml)'</li>\n",
       "\t<li>'Water content (%)'</li>\n",
       "\t<li>'Bulk density (g/mL)'</li>\n",
       "\t<li>'Temperature (K)'</li>\n",
       "\t<li>'Molar Volume (L/mol)'</li>\n",
       "\t<li>'Headspace Volume (mL)'</li>\n",
       "\t<li>'Dry soil weight (g)'</li>\n",
       "\t<li>'CO2 emission (ug/h/g)'</li>\n",
       "\t<li>'CO2 emission (mg/kg)'</li>\n",
       "\t<li>'K'</li>\n",
       "\t<li>'lnK'</li>\n",
       "\t<li>'1/T'</li>\n",
       "</ol>\n"
      ],
      "text/latex": [
       "\\begin{enumerate*}\n",
       "\\item 'ID pot'\n",
       "\\item 'Time (days)'\n",
       "\\item 'Initial CO2 (ppm)'\n",
       "\\item 'Final CO2 (ppm)'\n",
       "\\item 'Time final (h)'\n",
       "\\item 'Sites'\n",
       "\\item 'Total carbon (ppm)'\n",
       "\\item 'Depth (cm)'\n",
       "\\item 'Block'\n",
       "\\item 'Temperature (°C)'\n",
       "\\item 'Pot weight (g)'\n",
       "\\item 'Soil weight (g)'\n",
       "\\item 'Water volume (ml)'\n",
       "\\item 'Water content (\\%)'\n",
       "\\item 'Bulk density (g/mL)'\n",
       "\\item 'Temperature (K)'\n",
       "\\item 'Molar Volume (L/mol)'\n",
       "\\item 'Headspace Volume (mL)'\n",
       "\\item 'Dry soil weight (g)'\n",
       "\\item 'CO2 emission (ug/h/g)'\n",
       "\\item 'CO2 emission (mg/kg)'\n",
       "\\item 'K'\n",
       "\\item 'lnK'\n",
       "\\item '1/T'\n",
       "\\end{enumerate*}\n"
      ],
      "text/markdown": [
       "1. 'ID pot'\n",
       "2. 'Time (days)'\n",
       "3. 'Initial CO2 (ppm)'\n",
       "4. 'Final CO2 (ppm)'\n",
       "5. 'Time final (h)'\n",
       "6. 'Sites'\n",
       "7. 'Total carbon (ppm)'\n",
       "8. 'Depth (cm)'\n",
       "9. 'Block'\n",
       "10. 'Temperature (°C)'\n",
       "11. 'Pot weight (g)'\n",
       "12. 'Soil weight (g)'\n",
       "13. 'Water volume (ml)'\n",
       "14. 'Water content (%)'\n",
       "15. 'Bulk density (g/mL)'\n",
       "16. 'Temperature (K)'\n",
       "17. 'Molar Volume (L/mol)'\n",
       "18. 'Headspace Volume (mL)'\n",
       "19. 'Dry soil weight (g)'\n",
       "20. 'CO2 emission (ug/h/g)'\n",
       "21. 'CO2 emission (mg/kg)'\n",
       "22. 'K'\n",
       "23. 'lnK'\n",
       "24. '1/T'\n",
       "\n",
       "\n"
      ],
      "text/plain": [
       " [1] \"ID pot\"                \"Time (days)\"           \"Initial CO2 (ppm)\"    \n",
       " [4] \"Final CO2 (ppm)\"       \"Time final (h)\"        \"Sites\"                \n",
       " [7] \"Total carbon (ppm)\"    \"Depth (cm)\"            \"Block\"                \n",
       "[10] \"Temperature (°C)\"      \"Pot weight (g)\"        \"Soil weight (g)\"      \n",
       "[13] \"Water volume (ml)\"     \"Water content (%)\"     \"Bulk density (g/mL)\"  \n",
       "[16] \"Temperature (K)\"       \"Molar Volume (L/mol)\"  \"Headspace Volume (mL)\"\n",
       "[19] \"Dry soil weight (g)\"   \"CO2 emission (ug/h/g)\" \"CO2 emission (mg/kg)\" \n",
       "[22] \"K\"                     \"lnK\"                   \"1/T\"                  "
      ]
     },
     "metadata": {},
     "output_type": "display_data"
    }
   ],
   "source": [
    "names(data_co2)"
   ]
  },
  {
   "cell_type": "code",
   "execution_count": 15,
   "metadata": {},
   "outputs": [],
   "source": [
    "data_co2 <- data_co2 %>%\n",
    "  rename(Co2 = `CO2 emission (ug/h/g)`,\n",
    "         Time = `Time (days)`,\n",
    "         Layers = `Depth (cm)`,\n",
    "         Temperature = `Temperature (°C)`,\n",
    "         Id = `ID pot`)%>%\n",
    "  drop_na() %>%\n",
    "  droplevels()\n",
    "\n",
    "co2_lm <- lm((log10(Co2)) ~ Time + Layers + Temperature,\n",
    "                     data = data_co2) "
   ]
  },
  {
   "cell_type": "code",
   "execution_count": 16,
   "metadata": {},
   "outputs": [
    {
     "data": {
      "text/html": [
       "<table>\n",
       "<thead><tr><th scope=col>Temperature</th><th scope=col>Layers</th><th scope=col>Co2</th></tr></thead>\n",
       "<tbody>\n",
       "\t<tr><td>10         </td><td>10         </td><td>0.115865041</td></tr>\n",
       "\t<tr><td>20         </td><td>10         </td><td>0.266457325</td></tr>\n",
       "\t<tr><td>30         </td><td>10         </td><td>0.506890031</td></tr>\n",
       "\t<tr><td>10         </td><td>20         </td><td>0.017530479</td></tr>\n",
       "\t<tr><td>20         </td><td>20         </td><td>0.061234131</td></tr>\n",
       "\t<tr><td>30         </td><td>20         </td><td>0.104474989</td></tr>\n",
       "\t<tr><td>10         </td><td>30         </td><td>0.007976888</td></tr>\n",
       "\t<tr><td>20         </td><td>30         </td><td>0.008266925</td></tr>\n",
       "\t<tr><td>30         </td><td>30         </td><td>0.019918471</td></tr>\n",
       "</tbody>\n",
       "</table>\n"
      ],
      "text/latex": [
       "\\begin{tabular}{r|lll}\n",
       " Temperature & Layers & Co2\\\\\n",
       "\\hline\n",
       "\t 10          & 10          & 0.115865041\\\\\n",
       "\t 20          & 10          & 0.266457325\\\\\n",
       "\t 30          & 10          & 0.506890031\\\\\n",
       "\t 10          & 20          & 0.017530479\\\\\n",
       "\t 20          & 20          & 0.061234131\\\\\n",
       "\t 30          & 20          & 0.104474989\\\\\n",
       "\t 10          & 30          & 0.007976888\\\\\n",
       "\t 20          & 30          & 0.008266925\\\\\n",
       "\t 30          & 30          & 0.019918471\\\\\n",
       "\\end{tabular}\n"
      ],
      "text/markdown": [
       "\n",
       "| Temperature | Layers | Co2 |\n",
       "|---|---|---|\n",
       "| 10          | 10          | 0.115865041 |\n",
       "| 20          | 10          | 0.266457325 |\n",
       "| 30          | 10          | 0.506890031 |\n",
       "| 10          | 20          | 0.017530479 |\n",
       "| 20          | 20          | 0.061234131 |\n",
       "| 30          | 20          | 0.104474989 |\n",
       "| 10          | 30          | 0.007976888 |\n",
       "| 20          | 30          | 0.008266925 |\n",
       "| 30          | 30          | 0.019918471 |\n",
       "\n"
      ],
      "text/plain": [
       "  Temperature Layers Co2        \n",
       "1 10          10     0.115865041\n",
       "2 20          10     0.266457325\n",
       "3 30          10     0.506890031\n",
       "4 10          20     0.017530479\n",
       "5 20          20     0.061234131\n",
       "6 30          20     0.104474989\n",
       "7 10          30     0.007976888\n",
       "8 20          30     0.008266925\n",
       "9 30          30     0.019918471"
      ]
     },
     "metadata": {},
     "output_type": "display_data"
    },
    {
     "data": {
      "text/html": [
       "<table>\n",
       "<thead><tr><th scope=col>Temperature</th><th scope=col>Layers</th><th scope=col>Co2</th></tr></thead>\n",
       "<tbody>\n",
       "\t<tr><td>10          </td><td>10          </td><td>1.581178e-02</td></tr>\n",
       "\t<tr><td>20          </td><td>10          </td><td>4.729337e-02</td></tr>\n",
       "\t<tr><td>30          </td><td>10          </td><td>6.236303e-02</td></tr>\n",
       "\t<tr><td>10          </td><td>20          </td><td>1.025646e-03</td></tr>\n",
       "\t<tr><td>20          </td><td>20          </td><td>1.810686e-03</td></tr>\n",
       "\t<tr><td>30          </td><td>20          </td><td>6.947657e-03</td></tr>\n",
       "\t<tr><td>10          </td><td>30          </td><td>5.406554e-05</td></tr>\n",
       "\t<tr><td>20          </td><td>30          </td><td>1.056318e-04</td></tr>\n",
       "\t<tr><td>30          </td><td>30          </td><td>3.764056e-03</td></tr>\n",
       "</tbody>\n",
       "</table>\n"
      ],
      "text/latex": [
       "\\begin{tabular}{r|lll}\n",
       " Temperature & Layers & Co2\\\\\n",
       "\\hline\n",
       "\t 10           & 10           & 1.581178e-02\\\\\n",
       "\t 20           & 10           & 4.729337e-02\\\\\n",
       "\t 30           & 10           & 6.236303e-02\\\\\n",
       "\t 10           & 20           & 1.025646e-03\\\\\n",
       "\t 20           & 20           & 1.810686e-03\\\\\n",
       "\t 30           & 20           & 6.947657e-03\\\\\n",
       "\t 10           & 30           & 5.406554e-05\\\\\n",
       "\t 20           & 30           & 1.056318e-04\\\\\n",
       "\t 30           & 30           & 3.764056e-03\\\\\n",
       "\\end{tabular}\n"
      ],
      "text/markdown": [
       "\n",
       "| Temperature | Layers | Co2 |\n",
       "|---|---|---|\n",
       "| 10           | 10           | 1.581178e-02 |\n",
       "| 20           | 10           | 4.729337e-02 |\n",
       "| 30           | 10           | 6.236303e-02 |\n",
       "| 10           | 20           | 1.025646e-03 |\n",
       "| 20           | 20           | 1.810686e-03 |\n",
       "| 30           | 20           | 6.947657e-03 |\n",
       "| 10           | 30           | 5.406554e-05 |\n",
       "| 20           | 30           | 1.056318e-04 |\n",
       "| 30           | 30           | 3.764056e-03 |\n",
       "\n"
      ],
      "text/plain": [
       "  Temperature Layers Co2         \n",
       "1 10          10     1.581178e-02\n",
       "2 20          10     4.729337e-02\n",
       "3 30          10     6.236303e-02\n",
       "4 10          20     1.025646e-03\n",
       "5 20          20     1.810686e-03\n",
       "6 30          20     6.947657e-03\n",
       "7 10          30     5.406554e-05\n",
       "8 20          30     1.056318e-04\n",
       "9 30          30     3.764056e-03"
      ]
     },
     "metadata": {},
     "output_type": "display_data"
    }
   ],
   "source": [
    "Maximum <- aggregate(Co2 ~ Temperature + Layers, data = data_co2, FUN = max)\n",
    "Maximum\n",
    "Minimum <- aggregate(Co2 ~ Temperature + Layers, data = data_co2, FUN = min)\n",
    "Minimum"
   ]
  },
  {
   "cell_type": "code",
   "execution_count": 17,
   "metadata": {},
   "outputs": [
    {
     "data": {
      "text/plain": [
       "\n",
       "Call:\n",
       "lm(formula = (log10(Co2)) ~ Time + Layers + Temperature, data = data_co2)\n",
       "\n",
       "Residuals:\n",
       "     Min       1Q   Median       3Q      Max \n",
       "-1.34296 -0.15630  0.03048  0.17729  0.80750 \n",
       "\n",
       "Coefficients:\n",
       "              Estimate Std. Error t value Pr(>|t|)    \n",
       "(Intercept) -0.8851447  0.0468129 -18.908   <2e-16 ***\n",
       "Time        -0.0031918  0.0003649  -8.748   <2e-16 ***\n",
       "Layers      -0.0741976  0.0015185 -48.861   <2e-16 ***\n",
       "Temperature  0.0361799  0.0015260  23.710   <2e-16 ***\n",
       "---\n",
       "Signif. codes:  0 '***' 0.001 '**' 0.01 '*' 0.05 '.' 0.1 ' ' 1\n",
       "\n",
       "Residual standard error: 0.2605 on 453 degrees of freedom\n",
       "Multiple R-squared:  0.8623,\tAdjusted R-squared:  0.8614 \n",
       "F-statistic: 945.7 on 3 and 453 DF,  p-value: < 2.2e-16\n"
      ]
     },
     "metadata": {},
     "output_type": "display_data"
    }
   ],
   "source": [
    "summary(co2_lm)"
   ]
  },
  {
   "cell_type": "markdown",
   "metadata": {},
   "source": [
    "### 7.2 Reporting the results of the linear regression"
   ]
  },
  {
   "cell_type": "code",
   "execution_count": 18,
   "metadata": {},
   "outputs": [
    {
     "data": {
      "image/png": "[encoded data removed]",
      "text/plain": [
       "plot without title"
      ]
     },
     "metadata": {},
     "output_type": "display_data"
    }
   ],
   "source": [
    "options(repr.plot.width = 8, repr.plot.height = 6)\n",
    "ic <- confint(co2_lm, level = 0.95)\n",
    "co <- coef(co2_lm)\n",
    "co2_lm_res <- tibble(variable = rownames(ic),\n",
    "                         ll = ic[, 1], est = co, ul = ic[, 2])\n",
    "\n",
    "co2_lm_res %>%\n",
    "  filter(variable != \"(Intercept)\") %>%\n",
    "  ggplot(aes(x = est, y = variable)) +\n",
    "  geom_vline(xintercept = 0, lty = 2) +\n",
    "  geom_segment(mapping = aes(\n",
    "    x = ll,\n",
    "    xend = ul,\n",
    "    yend = variable\n",
    "    )\n",
    "  ) +\n",
    "xlab('Coefficient') +\n",
    "  ylab('') +\n",
    "  geom_point() +\n",
    "theme(strip.text.y = element_text(angle=0),\n",
    "        legend.title = element_blank(),\n",
    "        legend.position = \"bottom\",\n",
    "        text = element_text(size = 16, face=\"bold\"),\n",
    "      axis.title=element_text(size=14,face=\"bold\")) +\n",
    "ggsave(\"figures/Linear-model-Co2.png\", width = 8, height = 6, dpi = 600)"
   ]
  },
  {
   "cell_type": "code",
   "execution_count": null,
   "metadata": {},
   "outputs": [],
   "source": []
  },
  {
   "cell_type": "markdown",
   "metadata": {},
   "source": [
    "### 7.3 Prediction model of CO2 emission in cranberry soils in three-layer positions (0-10 cm, 10-20 cm, 20-30 cm) and at three temperatures (10, 20 and 30oC).\n",
    "Here, we use our model `co2_lm` to predict co2 emission trend. In order to do that, we create a new data called `Data_exp` following predicted Co2 column. The trend line was drawn with `data_exp`"
   ]
  },
  {
   "cell_type": "code",
   "execution_count": 19,
   "metadata": {},
   "outputs": [
    {
     "data": {
      "image/png": "[encoded data removed]",
      "text/plain": [
       "plot without title"
      ]
     },
     "metadata": {},
     "output_type": "display_data"
    }
   ],
   "source": [
    "New.labs <- c(\"Temperature:10°C\", \"Temperature:20°C\", \"Temperature:30°C\") # Change labels \n",
    "names(New.labs) <- c(\"10\", \"20\", \"30\")\n",
    "\n",
    "New.labs_b <-  c(\"Layer:[0-10] cm\", \"Layer:[10-20] cm\", \"Layer:[20-30] cm\") # Change labels\n",
    "names(New.labs_b) <- c(\"10\", \"20\", \"30\")\n",
    "\n",
    "Data_exp <- expand.grid(Time = seq(0, 105, 5), Layers = c(10, 20, 30), Temperature = c(10, 20, 30))\n",
    "Data_exp$Co2 <- 10^predict(co2_lm, newdata = Data_exp, level=0)\n",
    "\n",
    "options(repr.plot.width = 8, repr.plot.height = 6)\n",
    "theme_set(theme_bw())\n",
    "pl <- ggplot(data = data_co2, aes(x = Time, y = Co2)) +\n",
    " facet_grid(Layers ~ Temperature, scales = \"free\", labeller = labeller(`Layers` = New.labs_b, `Temperature` = New.labs)) +\n",
    "  xlab(\"Incubation time (days)\") + ylab(bquote(~CO[2]~ 'emision ('*mu~'g'~ h^-1~g^-1*')'))\n",
    "pl + geom_line(color=\"#993399\", aes(group= Id), alpha=0.15) +\n",
    "  geom_line(data = Data_exp) +\n",
    "scale_y_log10() +\n",
    "theme(strip.text = element_text(size = 11, face=\"bold\"), axis.text=element_text(size=11, face=\"bold\"),\n",
    "        axis.title=element_text(size=16,face=\"bold\"),\n",
    "     axis.title.y = element_text(size=16,face=\"bold\")) +\n",
    "  \n",
    "ggsave(\"figures/CO2 emission.png\", width = 8, height = 6, dpi = 600)# export plot high resolution"
   ]
  },
  {
   "cell_type": "markdown",
   "metadata": {},
   "source": [
    "Normality test"
   ]
  },
  {
   "cell_type": "code",
   "execution_count": 20,
   "metadata": {},
   "outputs": [
    {
     "data": {
      "image/png": "[encoded data removed]",
      "text/plain": [
       "Plot with title \"Histogram of Residuals\""
      ]
     },
     "metadata": {},
     "output_type": "display_data"
    }
   ],
   "source": [
    "options(repr.plot.width=6, repr.plot.height=4)\n",
    "#Histogram of Residuals\n",
    "residu <- resid(co2_lm)\n",
    "hist(residu, main=\"Histogram of Residuals\",\n",
    " ylab=\"Residuals\")"
   ]
  },
  {
   "cell_type": "markdown",
   "metadata": {},
   "source": [
    "Relationship between predicted and observed CO2 emission"
   ]
  },
  {
   "cell_type": "code",
   "execution_count": 21,
   "metadata": {},
   "outputs": [
    {
     "data": {
      "image/png": "[encoded data removed]",
      "text/plain": [
       "plot without title"
      ]
     },
     "metadata": {},
     "output_type": "display_data"
    }
   ],
   "source": [
    "options(repr.plot.width = 5, repr.plot.height = 5)\n",
    "plot <- plot(x = data_co2$Co2, y = 10**predict(co2_lm), xlab = (bquote('Observed'~CO[2]~ 'emision ('*mu~'g' ~ h^-1~g^-1*')')),\n",
    "             ylab = (bquote('Predicted'~CO[2]~ 'emision ('*mu~'g' ~ h^-1~g^-1*')'))) \n",
    "abline(0,1, col = \"red\")"
   ]
  },
  {
   "cell_type": "markdown",
   "metadata": {},
   "source": [
    "## 8. What is the temperature sensitivity across cranberry soil layers?"
   ]
  },
  {
   "cell_type": "markdown",
   "metadata": {},
   "source": [
    "### 8.1 Fit of Arrhenius equation"
   ]
  },
  {
   "cell_type": "markdown",
   "metadata": {},
   "source": [
    "The Arrhenius equation has been used to describe temperature sensitivity to CO2 emission. The Arrhenius equation was computed as follows: \n",
    "\n",
    "\n",
    "\n",
    "$$k = A e^{{\\frac{-Ea}{RT}}}$$\n",
    "\n",
    "$$log \\left( k \\right) = log \\left( A e^{\\frac{-Ea}{RT}} \\right)$$\n",
    "\n",
    "$$log \\left( k \\right) = log \\left( A \\right) + log \\left(e^{\\frac{-Ea}{RT}} \\right)$$\n",
    "\n",
    "$$log \\left( k \\right) = log \\left( A \\right) - \\frac{1}{T} \\times \\left(\\frac{Ea}{R}\\right)$$\n",
    "\n",
    "Where $A$ is the pre-exponential factor and $Ea$ is activation energy assumed to be independent of temperature, $R$ is the universal gas constant and $T$ is absolute temperature (Kelvin)"
   ]
  },
  {
   "cell_type": "code",
   "execution_count": 22,
   "metadata": {},
   "outputs": [],
   "source": [
    "models_co2 <- data_co2 %>%\n",
    "  group_by(`Layers`) %>%\n",
    "  summarise(linmod = list(lm(lnK ~ `1/T`)))"
   ]
  },
  {
   "cell_type": "code",
   "execution_count": 23,
   "metadata": {},
   "outputs": [],
   "source": [
    "linmod_coef <- list()\n",
    "for (i in seq_along(models_co2$linmod)) linmod_coef[[i]] <- models_co2$linmod[[i]]$coefficients\n",
    "linmod_coef <- do.call(rbind.data.frame, linmod_coef)\n",
    "names(linmod_coef) <- c(\"Intercept\", \"Slope\")\n",
    "linmod_coef <- bind_cols(unique(data_co2[\"Layers\"]), linmod_coef)"
   ]
  },
  {
   "cell_type": "code",
   "execution_count": 24,
   "metadata": {},
   "outputs": [],
   "source": [
    "New.labs_b <-  c(\"Layer:[0-10] cm\", \"Layer:[10-20] cm\", \"Layer:[20-30] cm\") # Change labels\n",
    "names(New.labs_b) <- c(\"10\", \"20\", \"30\")"
   ]
  },
  {
   "cell_type": "code",
   "execution_count": 25,
   "metadata": {},
   "outputs": [
    {
     "name": "stderr",
     "output_type": "stream",
     "text": [
      "Warning message:\n",
      "\"package 'ggpubr' was built under R version 3.6.2\"Loading required package: magrittr\n",
      "Warning message:\n",
      "\"package 'magrittr' was built under R version 3.6.2\"\n",
      "Attaching package: 'magrittr'\n",
      "\n",
      "The following object is masked from 'package:purrr':\n",
      "\n",
      "    set_names\n",
      "\n",
      "The following object is masked from 'package:tidyr':\n",
      "\n",
      "    extract\n",
      "\n"
     ]
    },
    {
     "data": {
      "image/png": "[encoded data removed]",
      "text/plain": [
       "plot without title"
      ]
     },
     "metadata": {},
     "output_type": "display_data"
    }
   ],
   "source": [
    "library( ggpubr)\n",
    "options(repr.plot.width = 8, repr.plot.height = 6)\n",
    "  data_co2 %>%\n",
    "  ggplot(aes(x = `1/T`, y = lnK)) +\n",
    "  facet_grid(~`Layers`, labeller = labeller(`Layers` = New.labs_b)) +\n",
    "  geom_boxplot(aes(group = factor(`1/T`))) +\n",
    "stat_regline_equation(aes(label =  paste(..eq.label.., ..rr.label.., sep = \"~~\")), label.y = -7) +\n",
    "  geom_abline(data = linmod_coef, aes(intercept = Intercept, slope = Slope), lwd = 2) +\n",
    "  labs(y = \"ln(K)\") +\n",
    "theme_bw() +\n",
    "theme(strip.text = element_text(size = 11, face=\"bold\"), axis.text=element_text(size=11, face=\"bold\"),\n",
    "        axis.title=element_text(size=12,face=\"bold\")) +\n",
    "ggsave(\"figures/Arrhénius équation.png\", width = 8, height = 6, dpi = 600)# export plot high resolution"
   ]
  },
  {
   "cell_type": "markdown",
   "metadata": {},
   "source": [
    "### 8.2 Activation Energy computation"
   ]
  },
  {
   "cell_type": "code",
   "execution_count": 26,
   "metadata": {},
   "outputs": [],
   "source": [
    "Activation_energy <- tibble(\n",
    "    Soil_layers = c(\"10\", \"20\", \"30\"),\n",
    "    intercept = NA,\n",
    "    slope = NA,\n",
    "    adj_r_sq = NA\n",
    ")"
   ]
  },
  {
   "cell_type": "code",
   "execution_count": 27,
   "metadata": {},
   "outputs": [],
   "source": [
    "lm_arrhenius <- for (i in 1:nrow(Activation_energy)) {\n",
    "    \n",
    "    lm_Activation_energy <- data_co2 %>%\n",
    "      filter(`Layers` == Activation_energy$Soil_layers[i]) %>%\n",
    "      lm(lnK ~ `1/T`, data = .)\n",
    "    \n",
    "    # intercept\n",
    "    Activation_energy$intercept[i] <- coef(lm_Activation_energy)[1]\n",
    "\n",
    "    # Slope\n",
    "     Activation_energy$slope[i] <- coef(lm_Activation_energy)[2]\n",
    "   \n",
    "    # statistics\n",
    "    Activation_energy$adj_r_sq[i] <- summary(lm_Activation_energy)$adj.r.squared\n",
    "}"
   ]
  },
  {
   "cell_type": "code",
   "execution_count": 28,
   "metadata": {},
   "outputs": [
    {
     "data": {
      "text/html": [
       "<table>\n",
       "<thead><tr><th scope=col>Soil_layers</th><th scope=col>adj_r_sq</th><th scope=col>Ea</th></tr></thead>\n",
       "<tbody>\n",
       "\t<tr><td>10       </td><td>0.4753383</td><td>48.88879 </td></tr>\n",
       "\t<tr><td>20       </td><td>0.4447818</td><td>58.81571 </td></tr>\n",
       "\t<tr><td>30       </td><td>0.3564831</td><td>77.81623 </td></tr>\n",
       "</tbody>\n",
       "</table>\n"
      ],
      "text/latex": [
       "\\begin{tabular}{r|lll}\n",
       " Soil\\_layers & adj\\_r\\_sq & Ea\\\\\n",
       "\\hline\n",
       "\t 10        & 0.4753383 & 48.88879 \\\\\n",
       "\t 20        & 0.4447818 & 58.81571 \\\\\n",
       "\t 30        & 0.3564831 & 77.81623 \\\\\n",
       "\\end{tabular}\n"
      ],
      "text/markdown": [
       "\n",
       "| Soil_layers | adj_r_sq | Ea |\n",
       "|---|---|---|\n",
       "| 10        | 0.4753383 | 48.88879  |\n",
       "| 20        | 0.4447818 | 58.81571  |\n",
       "| 30        | 0.3564831 | 77.81623  |\n",
       "\n"
      ],
      "text/plain": [
       "  Soil_layers adj_r_sq  Ea      \n",
       "1 10          0.4753383 48.88879\n",
       "2 20          0.4447818 58.81571\n",
       "3 30          0.3564831 77.81623"
      ]
     },
     "metadata": {},
     "output_type": "display_data"
    }
   ],
   "source": [
    "R = 8.3144621 / 1000 # Gas constant Kj/mol/K \n",
    "Activation_energy <-  Activation_energy %>%\n",
    "  mutate(Ea = -slope * R) %>%\n",
    "  select(Soil_layers, adj_r_sq, Ea)\n",
    "Activation_energy"
   ]
  },
  {
   "cell_type": "markdown",
   "metadata": {},
   "source": [
    "### 8.3 Computing K median in order to compute Q10 value accross soil depth"
   ]
  },
  {
   "cell_type": "code",
   "execution_count": null,
   "metadata": {},
   "outputs": [],
   "source": []
  },
  {
   "cell_type": "code",
   "execution_count": 29,
   "metadata": {},
   "outputs": [
    {
     "data": {
      "text/html": [
       "<table>\n",
       "<thead><tr><th scope=col>Layers</th><th scope=col>10</th><th scope=col>20</th><th scope=col>30</th><th scope=col>Q_20_10</th><th scope=col>Q_30_20</th></tr></thead>\n",
       "<tbody>\n",
       "\t<tr><td>10          </td><td>5.423944e-05</td><td>1.243877e-04</td><td>2.167872e-04</td><td>2.293308    </td><td>1.742835    </td></tr>\n",
       "\t<tr><td>20          </td><td>1.645527e-05</td><td>3.899537e-05</td><td>7.610013e-05</td><td>2.369779    </td><td>1.951517    </td></tr>\n",
       "\t<tr><td>30          </td><td>5.092580e-06</td><td>1.691689e-05</td><td>5.418897e-05</td><td>3.321870    </td><td>3.203247    </td></tr>\n",
       "</tbody>\n",
       "</table>\n"
      ],
      "text/latex": [
       "\\begin{tabular}{r|llllll}\n",
       " Layers & 10 & 20 & 30 & Q\\_20\\_10 & Q\\_30\\_20\\\\\n",
       "\\hline\n",
       "\t 10           & 5.423944e-05 & 1.243877e-04 & 2.167872e-04 & 2.293308     & 1.742835    \\\\\n",
       "\t 20           & 1.645527e-05 & 3.899537e-05 & 7.610013e-05 & 2.369779     & 1.951517    \\\\\n",
       "\t 30           & 5.092580e-06 & 1.691689e-05 & 5.418897e-05 & 3.321870     & 3.203247    \\\\\n",
       "\\end{tabular}\n"
      ],
      "text/markdown": [
       "\n",
       "| Layers | 10 | 20 | 30 | Q_20_10 | Q_30_20 |\n",
       "|---|---|---|---|---|---|\n",
       "| 10           | 5.423944e-05 | 1.243877e-04 | 2.167872e-04 | 2.293308     | 1.742835     |\n",
       "| 20           | 1.645527e-05 | 3.899537e-05 | 7.610013e-05 | 2.369779     | 1.951517     |\n",
       "| 30           | 5.092580e-06 | 1.691689e-05 | 5.418897e-05 | 3.321870     | 3.203247     |\n",
       "\n"
      ],
      "text/plain": [
       "  Layers 10           20           30           Q_20_10  Q_30_20 \n",
       "1 10     5.423944e-05 1.243877e-04 2.167872e-04 2.293308 1.742835\n",
       "2 20     1.645527e-05 3.899537e-05 7.610013e-05 2.369779 1.951517\n",
       "3 30     5.092580e-06 1.691689e-05 5.418897e-05 3.321870 3.203247"
      ]
     },
     "metadata": {},
     "output_type": "display_data"
    }
   ],
   "source": [
    "K_median <- aggregate(K ~ `Layers` + `Temperature`, data = data_co2, FUN = median)\n",
    "K_median_01 <- K_median %>%\n",
    "  pivot_wider(names_from = `Temperature`, values_from = K)\n",
    "\n",
    "K_median_01$Q_20_10 <- K_median_01$`20` / K_median_01$`10`\n",
    "K_median_01$Q_30_20 <- K_median_01$`30` / K_median_01$`20`\n",
    "K_median_01"
   ]
  },
  {
   "cell_type": "code",
   "execution_count": 30,
   "metadata": {},
   "outputs": [],
   "source": [
    "K_median_02 <- aggregate(K ~ `Sites` + `Time` + `Layers` + `Temperature`, data = data_co2, FUN = median)\n",
    "\n",
    "K_median_02 <- K_median_02 %>%\n",
    "  pivot_wider(names_from = `Temperature`, values_from = K)\n",
    "\n",
    "#K_median_02\n",
    "K_median_02$Q_20_10 <- K_median_02$`20` / K_median_02$`10`\n",
    "K_median_02$Q_30_20 <- K_median_02$`30` / K_median_02$`20`\n",
    "K_median_02 <- K_median_02 %>%\n",
    "na.omit(K_median_02)\n",
    "data_Q10 <- gather(data = K_median_02, key = `Temperature range`, value = Q10, c(`Q_20_10`, `Q_30_20`),\n",
    "                    factor_key=TRUE)\n"
   ]
  },
  {
   "cell_type": "code",
   "execution_count": 31,
   "metadata": {},
   "outputs": [],
   "source": [
    "data_Q10$Log_Q10 <- log10(data_Q10$Q10)\n",
    "C_Q10 <- lme(fixed = Log_Q10 ~  Layers,\n",
    "                     random = ~ 1 | Sites,\n",
    "                     data = data_Q10)\n",
    "\n",
    "Q10_lm <- lm(log(Q10) ~  Layers,\n",
    "                     data = data_Q10) "
   ]
  },
  {
   "cell_type": "code",
   "execution_count": 32,
   "metadata": {},
   "outputs": [
    {
     "data": {
      "text/plain": [
       "\n",
       "Call:\n",
       "lm(formula = log(Q10) ~ Layers, data = data_Q10)\n",
       "\n",
       "Residuals:\n",
       "     Min       1Q   Median       3Q      Max \n",
       "-1.50443 -0.22554 -0.03116  0.19562  1.83433 \n",
       "\n",
       "Coefficients:\n",
       "            Estimate Std. Error t value Pr(>|t|)    \n",
       "(Intercept) 0.423132   0.113077   3.742 0.000311 ***\n",
       "Layers      0.018462   0.005502   3.356 0.001135 ** \n",
       "---\n",
       "Signif. codes:  0 '***' 0.001 '**' 0.01 '*' 0.05 '.' 0.1 ' ' 1\n",
       "\n",
       "Residual standard error: 0.4296 on 96 degrees of freedom\n",
       "Multiple R-squared:  0.105,\tAdjusted R-squared:  0.09567 \n",
       "F-statistic: 11.26 on 1 and 96 DF,  p-value: 0.001135\n"
      ]
     },
     "metadata": {},
     "output_type": "display_data"
    }
   ],
   "source": [
    "summary(Q10_lm)"
   ]
  },
  {
   "cell_type": "raw",
   "metadata": {},
   "source": [
    "pseudoR2(y = data_Q10$Log_Q10,\n",
    "         y_hat = predict(C_Q10, level = 0))\n",
    "\n",
    "pseudoR2(y = data_Q10$Log_Q10,\n",
    "         y_hat = predict(C_Q10, level = 1))"
   ]
  },
  {
   "cell_type": "code",
   "execution_count": 33,
   "metadata": {},
   "outputs": [
    {
     "data": {
      "text/html": [
       "<table>\n",
       "<thead><tr><th scope=col>Sites</th><th scope=col>Time</th><th scope=col>Layers</th><th scope=col>10</th><th scope=col>20</th><th scope=col>30</th><th scope=col>Temperature range</th><th scope=col>Q10</th><th scope=col>Log_Q10</th></tr></thead>\n",
       "<tbody>\n",
       "\t<tr><td>A9          </td><td>  7         </td><td>10          </td><td>6.047925e-05</td><td>1.469342e-04</td><td>3.517563e-04</td><td>Q_20_10     </td><td>2.429498    </td><td>0.38551657  </td></tr>\n",
       "\t<tr><td>PF45        </td><td>  7         </td><td>10          </td><td>1.754173e-04</td><td>3.308912e-04</td><td>7.395503e-04</td><td>Q_20_10     </td><td>1.886309    </td><td>0.27561284  </td></tr>\n",
       "\t<tr><td>A9          </td><td> 14         </td><td>10          </td><td>4.684743e-05</td><td>1.301118e-04</td><td>2.526037e-04</td><td>Q_20_10     </td><td>2.777353    </td><td>0.44363112  </td></tr>\n",
       "\t<tr><td>PF45        </td><td> 14         </td><td>10          </td><td>1.522668e-04</td><td>3.305938e-04</td><td>2.824054e-04</td><td>Q_20_10     </td><td>2.171148    </td><td>0.33668948  </td></tr>\n",
       "\t<tr><td>A9          </td><td> 21         </td><td>10          </td><td>4.829186e-05</td><td>1.445276e-04</td><td>2.766379e-04</td><td>Q_20_10     </td><td>2.992795    </td><td>0.47607703  </td></tr>\n",
       "\t<tr><td>PF45        </td><td> 21         </td><td>10          </td><td>7.051117e-05</td><td>2.068133e-04</td><td>4.344079e-04</td><td>Q_20_10     </td><td>2.933058    </td><td>0.46732059  </td></tr>\n",
       "\t<tr><td>A9          </td><td> 35         </td><td>10          </td><td>4.357933e-05</td><td>1.089928e-04</td><td>2.182875e-04</td><td>Q_20_10     </td><td>2.501021    </td><td>0.39811728  </td></tr>\n",
       "\t<tr><td>PF45        </td><td> 35         </td><td>10          </td><td>1.006706e-04</td><td>1.464991e-04</td><td>2.454464e-04</td><td>Q_20_10     </td><td>1.455233    </td><td>0.16293247  </td></tr>\n",
       "\t<tr><td>A9          </td><td> 49         </td><td>10          </td><td>3.938436e-05</td><td>8.992680e-05</td><td>1.277135e-04</td><td>Q_20_10     </td><td>2.283312    </td><td>0.35856534  </td></tr>\n",
       "\t<tr><td>PF45        </td><td> 49         </td><td>10          </td><td>7.036783e-05</td><td>2.150647e-04</td><td>2.055914e-04</td><td>Q_20_10     </td><td>3.056293    </td><td>0.48519495  </td></tr>\n",
       "\t<tr><td>A9          </td><td> 63         </td><td>10          </td><td>3.880765e-05</td><td>8.105294e-05</td><td>1.297956e-04</td><td>Q_20_10     </td><td>2.088581    </td><td>0.31985142  </td></tr>\n",
       "\t<tr><td>PF45        </td><td> 63         </td><td>10          </td><td>6.486061e-05</td><td>1.492737e-04</td><td>2.152870e-04</td><td>Q_20_10     </td><td>2.301454    </td><td>0.36200222  </td></tr>\n",
       "\t<tr><td>A9          </td><td> 77         </td><td>10          </td><td>2.875737e-05</td><td>8.917450e-05</td><td>1.313534e-04</td><td>Q_20_10     </td><td>3.100926    </td><td>0.49149145  </td></tr>\n",
       "\t<tr><td>PF45        </td><td> 77         </td><td>10          </td><td>7.303865e-05</td><td>1.242475e-04</td><td>1.643707e-04</td><td>Q_20_10     </td><td>1.701119    </td><td>0.23073481  </td></tr>\n",
       "\t<tr><td>A9          </td><td> 91         </td><td>10          </td><td>3.946026e-05</td><td>7.589302e-05</td><td>1.227297e-04</td><td>Q_20_10     </td><td>1.923277    </td><td>0.28404188  </td></tr>\n",
       "\t<tr><td>PF45        </td><td> 91         </td><td>10          </td><td>7.723846e-05</td><td>1.226695e-04</td><td>1.608567e-04</td><td>Q_20_10     </td><td>1.588192    </td><td>0.20090307  </td></tr>\n",
       "\t<tr><td>A9          </td><td>105         </td><td>10          </td><td>3.368226e-05</td><td>6.179331e-05</td><td>8.156779e-05</td><td>Q_20_10     </td><td>1.834595    </td><td>0.26354029  </td></tr>\n",
       "\t<tr><td>PF45        </td><td>105         </td><td>10          </td><td>7.860028e-05</td><td>8.719471e-05</td><td>1.370180e-04</td><td>Q_20_10     </td><td>1.109343    </td><td>0.04506603  </td></tr>\n",
       "\t<tr><td>A9          </td><td>  7         </td><td>20          </td><td>1.538083e-05</td><td>3.786915e-05</td><td>5.876635e-05</td><td>Q_20_10     </td><td>2.462101    </td><td>0.39130582  </td></tr>\n",
       "\t<tr><td>PF45        </td><td>  7         </td><td>20          </td><td>3.374587e-05</td><td>7.708290e-05</td><td>1.338040e-04</td><td>Q_20_10     </td><td>2.284217    </td><td>0.35873735  </td></tr>\n",
       "\t<tr><td>A9          </td><td> 14         </td><td>20          </td><td>1.032680e-05</td><td>3.113261e-05</td><td>6.428162e-05</td><td>Q_20_10     </td><td>3.014740    </td><td>0.47924983  </td></tr>\n",
       "\t<tr><td>PF45        </td><td> 14         </td><td>20          </td><td>2.084225e-05</td><td>6.296146e-05</td><td>1.034331e-04</td><td>Q_20_10     </td><td>3.020857    </td><td>0.48013018  </td></tr>\n",
       "\t<tr><td>A9          </td><td> 21         </td><td>20          </td><td>8.379361e-06</td><td>2.853408e-05</td><td>5.631832e-05</td><td>Q_20_10     </td><td>3.405281    </td><td>0.53215298  </td></tr>\n",
       "\t<tr><td>PF45        </td><td> 21         </td><td>20          </td><td>1.084250e-05</td><td>4.295445e-05</td><td>1.036816e-04</td><td>Q_20_10     </td><td>3.961673    </td><td>0.59787867  </td></tr>\n",
       "\t<tr><td>A9          </td><td> 35         </td><td>20          </td><td>8.785868e-06</td><td>2.257972e-05</td><td>4.942487e-05</td><td>Q_20_10     </td><td>2.570005    </td><td>0.40993397  </td></tr>\n",
       "\t<tr><td>PF45        </td><td> 35         </td><td>20          </td><td>1.309735e-05</td><td>5.000077e-05</td><td>1.022337e-04</td><td>Q_20_10     </td><td>3.817624    </td><td>0.58179316  </td></tr>\n",
       "\t<tr><td>A9          </td><td> 49         </td><td>20          </td><td>1.983365e-05</td><td>2.235785e-05</td><td>4.223818e-05</td><td>Q_20_10     </td><td>1.127268    </td><td>0.05202730  </td></tr>\n",
       "\t<tr><td>PF45        </td><td> 49         </td><td>20          </td><td>2.127260e-05</td><td>3.849183e-05</td><td>6.336640e-05</td><td>Q_20_10     </td><td>1.809456    </td><td>0.25754810  </td></tr>\n",
       "\t<tr><td>A9          </td><td> 63         </td><td>20          </td><td>8.459811e-06</td><td>2.152004e-05</td><td>3.483438e-05</td><td>Q_20_10     </td><td>2.543797    </td><td>0.40548237  </td></tr>\n",
       "\t<tr><td>PF45        </td><td> 63         </td><td>20          </td><td>2.069818e-05</td><td>3.548198e-05</td><td>6.688543e-05</td><td>Q_20_10     </td><td>1.714256    </td><td>0.23407556  </td></tr>\n",
       "\t<tr><td>...</td><td>...</td><td>...</td><td>...</td><td>...</td><td>...</td><td>...</td><td>...</td><td>...</td></tr>\n",
       "\t<tr><td>PF45        </td><td>  7         </td><td>20          </td><td>3.374587e-05</td><td>7.708290e-05</td><td>1.338040e-04</td><td>Q_30_20     </td><td>1.7358460   </td><td> 0.239511183</td></tr>\n",
       "\t<tr><td>A9          </td><td> 14         </td><td>20          </td><td>1.032680e-05</td><td>3.113261e-05</td><td>6.428162e-05</td><td>Q_30_20     </td><td>2.0647685   </td><td> 0.314871365</td></tr>\n",
       "\t<tr><td>PF45        </td><td> 14         </td><td>20          </td><td>2.084225e-05</td><td>6.296146e-05</td><td>1.034331e-04</td><td>Q_30_20     </td><td>1.6428009   </td><td> 0.215584934</td></tr>\n",
       "\t<tr><td>A9          </td><td> 21         </td><td>20          </td><td>8.379361e-06</td><td>2.853408e-05</td><td>5.631832e-05</td><td>Q_30_20     </td><td>1.9737213   </td><td> 0.295285818</td></tr>\n",
       "\t<tr><td>PF45        </td><td> 21         </td><td>20          </td><td>1.084250e-05</td><td>4.295445e-05</td><td>1.036816e-04</td><td>Q_30_20     </td><td>2.4137567   </td><td> 0.382693490</td></tr>\n",
       "\t<tr><td>A9          </td><td> 35         </td><td>20          </td><td>8.785868e-06</td><td>2.257972e-05</td><td>4.942487e-05</td><td>Q_30_20     </td><td>2.1889050   </td><td> 0.340226919</td></tr>\n",
       "\t<tr><td>PF45        </td><td> 35         </td><td>20          </td><td>1.309735e-05</td><td>5.000077e-05</td><td>1.022337e-04</td><td>Q_30_20     </td><td>2.0446426   </td><td> 0.310617415</td></tr>\n",
       "\t<tr><td>A9          </td><td> 49         </td><td>20          </td><td>1.983365e-05</td><td>2.235785e-05</td><td>4.223818e-05</td><td>Q_30_20     </td><td>1.8891880   </td><td> 0.276275175</td></tr>\n",
       "\t<tr><td>PF45        </td><td> 49         </td><td>20          </td><td>2.127260e-05</td><td>3.849183e-05</td><td>6.336640e-05</td><td>Q_30_20     </td><td>1.6462297   </td><td> 0.216490428</td></tr>\n",
       "\t<tr><td>A9          </td><td> 63         </td><td>20          </td><td>8.459811e-06</td><td>2.152004e-05</td><td>3.483438e-05</td><td>Q_30_20     </td><td>1.6186949   </td><td> 0.209164991</td></tr>\n",
       "\t<tr><td>PF45        </td><td> 63         </td><td>20          </td><td>2.069818e-05</td><td>3.548198e-05</td><td>6.688543e-05</td><td>Q_30_20     </td><td>1.8850537   </td><td> 0.275323731</td></tr>\n",
       "\t<tr><td>A9          </td><td> 77         </td><td>20          </td><td>1.051431e-05</td><td>2.305679e-05</td><td>4.297133e-05</td><td>Q_30_20     </td><td>1.8637173   </td><td> 0.270380045</td></tr>\n",
       "\t<tr><td>PF45        </td><td> 77         </td><td>20          </td><td>1.752972e-05</td><td>4.405818e-05</td><td>9.097086e-05</td><td>Q_30_20     </td><td>2.0647893   </td><td> 0.314875734</td></tr>\n",
       "\t<tr><td>A9          </td><td> 91         </td><td>20          </td><td>6.760485e-06</td><td>2.365286e-05</td><td>4.386892e-05</td><td>Q_30_20     </td><td>1.8546985   </td><td> 0.268273323</td></tr>\n",
       "\t<tr><td>PF45        </td><td> 91         </td><td>20          </td><td>2.009141e-05</td><td>3.949890e-05</td><td>8.307377e-05</td><td>Q_30_20     </td><td>2.1031919   </td><td> 0.322878910</td></tr>\n",
       "\t<tr><td>A9          </td><td>105         </td><td>20          </td><td>6.422961e-06</td><td>1.698158e-05</td><td>3.511282e-05</td><td>Q_30_20     </td><td>2.0677007   </td><td> 0.315487669</td></tr>\n",
       "\t<tr><td>PF45        </td><td>105         </td><td>20          </td><td>1.033938e-05</td><td>4.144045e-05</td><td>7.536552e-05</td><td>Q_30_20     </td><td>1.8186461   </td><td> 0.259748194</td></tr>\n",
       "\t<tr><td>A9          </td><td>  7         </td><td>30          </td><td>8.228972e-06</td><td>2.025867e-05</td><td>4.806242e-05</td><td>Q_30_20     </td><td>2.3724375   </td><td> 0.375194774</td></tr>\n",
       "\t<tr><td>PF45        </td><td>  7         </td><td>30          </td><td>2.301315e-05</td><td>6.102438e-05</td><td>1.204357e-04</td><td>Q_30_20     </td><td>1.9735664   </td><td> 0.295251744</td></tr>\n",
       "\t<tr><td>A9          </td><td> 14         </td><td>30          </td><td>5.092580e-06</td><td>1.617285e-05</td><td>4.182917e-05</td><td>Q_30_20     </td><td>2.5863813   </td><td> 0.412692560</td></tr>\n",
       "\t<tr><td>PF45        </td><td> 14         </td><td>30          </td><td>1.288216e-05</td><td>4.065195e-05</td><td>1.336667e-04</td><td>Q_30_20     </td><td>3.2880768   </td><td> 0.516941954</td></tr>\n",
       "\t<tr><td>A9          </td><td> 35         </td><td>30          </td><td>3.623225e-06</td><td>1.167380e-05</td><td>1.705009e-05</td><td>Q_30_20     </td><td>1.4605440   </td><td> 0.164514636</td></tr>\n",
       "\t<tr><td>PF45        </td><td> 35         </td><td>30          </td><td>1.245324e-05</td><td>4.787260e-05</td><td>9.727788e-05</td><td>Q_30_20     </td><td>2.0320157   </td><td> 0.307927049</td></tr>\n",
       "\t<tr><td>A9          </td><td> 49         </td><td>30          </td><td>3.816902e-06</td><td>9.612436e-06</td><td>9.404275e-06</td><td>Q_30_20     </td><td>0.9783447   </td><td>-0.009508124</td></tr>\n",
       "\t<tr><td>PF45        </td><td> 49         </td><td>30          </td><td>7.219974e-05</td><td>4.260617e-05</td><td>6.941801e-05</td><td>Q_30_20     </td><td>1.6292946   </td><td> 0.211999610</td></tr>\n",
       "\t<tr><td>A9          </td><td> 77         </td><td>30          </td><td>2.318635e-06</td><td>2.942826e-06</td><td>2.528729e-05</td><td>Q_30_20     </td><td>8.5928594   </td><td> 0.934137708</td></tr>\n",
       "\t<tr><td>A9          </td><td> 91         </td><td>30          </td><td>8.491810e-07</td><td>1.412348e-05</td><td>3.874133e-05</td><td>Q_30_20     </td><td>2.7430449   </td><td> 0.438232909</td></tr>\n",
       "\t<tr><td>PF45        </td><td> 91         </td><td>30          </td><td>1.847679e-05</td><td>3.910576e-05</td><td>1.002503e-04</td><td>Q_30_20     </td><td>2.5635696   </td><td> 0.408845111</td></tr>\n",
       "\t<tr><td>A9          </td><td>105         </td><td>30          </td><td>3.199484e-06</td><td>1.079030e-05</td><td>4.623593e-05</td><td>Q_30_20     </td><td>4.2849547   </td><td> 0.631946234</td></tr>\n",
       "\t<tr><td>PF45        </td><td>105         </td><td>30          </td><td>4.916762e-06</td><td>3.670429e-05</td><td>5.880720e-05</td><td>Q_30_20     </td><td>1.6021887   </td><td> 0.204713664</td></tr>\n",
       "</tbody>\n",
       "</table>\n"
      ],
      "text/latex": [
       "\\begin{tabular}{r|lllllllll}\n",
       " Sites & Time & Layers & 10 & 20 & 30 & Temperature range & Q10 & Log\\_Q10\\\\\n",
       "\\hline\n",
       "\t A9           &   7          & 10           & 6.047925e-05 & 1.469342e-04 & 3.517563e-04 & Q\\_20\\_10  & 2.429498     & 0.38551657  \\\\\n",
       "\t PF45         &   7          & 10           & 1.754173e-04 & 3.308912e-04 & 7.395503e-04 & Q\\_20\\_10  & 1.886309     & 0.27561284  \\\\\n",
       "\t A9           &  14          & 10           & 4.684743e-05 & 1.301118e-04 & 2.526037e-04 & Q\\_20\\_10  & 2.777353     & 0.44363112  \\\\\n",
       "\t PF45         &  14          & 10           & 1.522668e-04 & 3.305938e-04 & 2.824054e-04 & Q\\_20\\_10  & 2.171148     & 0.33668948  \\\\\n",
       "\t A9           &  21          & 10           & 4.829186e-05 & 1.445276e-04 & 2.766379e-04 & Q\\_20\\_10  & 2.992795     & 0.47607703  \\\\\n",
       "\t PF45         &  21          & 10           & 7.051117e-05 & 2.068133e-04 & 4.344079e-04 & Q\\_20\\_10  & 2.933058     & 0.46732059  \\\\\n",
       "\t A9           &  35          & 10           & 4.357933e-05 & 1.089928e-04 & 2.182875e-04 & Q\\_20\\_10  & 2.501021     & 0.39811728  \\\\\n",
       "\t PF45         &  35          & 10           & 1.006706e-04 & 1.464991e-04 & 2.454464e-04 & Q\\_20\\_10  & 1.455233     & 0.16293247  \\\\\n",
       "\t A9           &  49          & 10           & 3.938436e-05 & 8.992680e-05 & 1.277135e-04 & Q\\_20\\_10  & 2.283312     & 0.35856534  \\\\\n",
       "\t PF45         &  49          & 10           & 7.036783e-05 & 2.150647e-04 & 2.055914e-04 & Q\\_20\\_10  & 3.056293     & 0.48519495  \\\\\n",
       "\t A9           &  63          & 10           & 3.880765e-05 & 8.105294e-05 & 1.297956e-04 & Q\\_20\\_10  & 2.088581     & 0.31985142  \\\\\n",
       "\t PF45         &  63          & 10           & 6.486061e-05 & 1.492737e-04 & 2.152870e-04 & Q\\_20\\_10  & 2.301454     & 0.36200222  \\\\\n",
       "\t A9           &  77          & 10           & 2.875737e-05 & 8.917450e-05 & 1.313534e-04 & Q\\_20\\_10  & 3.100926     & 0.49149145  \\\\\n",
       "\t PF45         &  77          & 10           & 7.303865e-05 & 1.242475e-04 & 1.643707e-04 & Q\\_20\\_10  & 1.701119     & 0.23073481  \\\\\n",
       "\t A9           &  91          & 10           & 3.946026e-05 & 7.589302e-05 & 1.227297e-04 & Q\\_20\\_10  & 1.923277     & 0.28404188  \\\\\n",
       "\t PF45         &  91          & 10           & 7.723846e-05 & 1.226695e-04 & 1.608567e-04 & Q\\_20\\_10  & 1.588192     & 0.20090307  \\\\\n",
       "\t A9           & 105          & 10           & 3.368226e-05 & 6.179331e-05 & 8.156779e-05 & Q\\_20\\_10  & 1.834595     & 0.26354029  \\\\\n",
       "\t PF45         & 105          & 10           & 7.860028e-05 & 8.719471e-05 & 1.370180e-04 & Q\\_20\\_10  & 1.109343     & 0.04506603  \\\\\n",
       "\t A9           &   7          & 20           & 1.538083e-05 & 3.786915e-05 & 5.876635e-05 & Q\\_20\\_10  & 2.462101     & 0.39130582  \\\\\n",
       "\t PF45         &   7          & 20           & 3.374587e-05 & 7.708290e-05 & 1.338040e-04 & Q\\_20\\_10  & 2.284217     & 0.35873735  \\\\\n",
       "\t A9           &  14          & 20           & 1.032680e-05 & 3.113261e-05 & 6.428162e-05 & Q\\_20\\_10  & 3.014740     & 0.47924983  \\\\\n",
       "\t PF45         &  14          & 20           & 2.084225e-05 & 6.296146e-05 & 1.034331e-04 & Q\\_20\\_10  & 3.020857     & 0.48013018  \\\\\n",
       "\t A9           &  21          & 20           & 8.379361e-06 & 2.853408e-05 & 5.631832e-05 & Q\\_20\\_10  & 3.405281     & 0.53215298  \\\\\n",
       "\t PF45         &  21          & 20           & 1.084250e-05 & 4.295445e-05 & 1.036816e-04 & Q\\_20\\_10  & 3.961673     & 0.59787867  \\\\\n",
       "\t A9           &  35          & 20           & 8.785868e-06 & 2.257972e-05 & 4.942487e-05 & Q\\_20\\_10  & 2.570005     & 0.40993397  \\\\\n",
       "\t PF45         &  35          & 20           & 1.309735e-05 & 5.000077e-05 & 1.022337e-04 & Q\\_20\\_10  & 3.817624     & 0.58179316  \\\\\n",
       "\t A9           &  49          & 20           & 1.983365e-05 & 2.235785e-05 & 4.223818e-05 & Q\\_20\\_10  & 1.127268     & 0.05202730  \\\\\n",
       "\t PF45         &  49          & 20           & 2.127260e-05 & 3.849183e-05 & 6.336640e-05 & Q\\_20\\_10  & 1.809456     & 0.25754810  \\\\\n",
       "\t A9           &  63          & 20           & 8.459811e-06 & 2.152004e-05 & 3.483438e-05 & Q\\_20\\_10  & 2.543797     & 0.40548237  \\\\\n",
       "\t PF45         &  63          & 20           & 2.069818e-05 & 3.548198e-05 & 6.688543e-05 & Q\\_20\\_10  & 1.714256     & 0.23407556  \\\\\n",
       "\t ... & ... & ... & ... & ... & ... & ... & ... & ...\\\\\n",
       "\t PF45         &   7          & 20           & 3.374587e-05 & 7.708290e-05 & 1.338040e-04 & Q\\_30\\_20  & 1.7358460    &  0.239511183\\\\\n",
       "\t A9           &  14          & 20           & 1.032680e-05 & 3.113261e-05 & 6.428162e-05 & Q\\_30\\_20  & 2.0647685    &  0.314871365\\\\\n",
       "\t PF45         &  14          & 20           & 2.084225e-05 & 6.296146e-05 & 1.034331e-04 & Q\\_30\\_20  & 1.6428009    &  0.215584934\\\\\n",
       "\t A9           &  21          & 20           & 8.379361e-06 & 2.853408e-05 & 5.631832e-05 & Q\\_30\\_20  & 1.9737213    &  0.295285818\\\\\n",
       "\t PF45         &  21          & 20           & 1.084250e-05 & 4.295445e-05 & 1.036816e-04 & Q\\_30\\_20  & 2.4137567    &  0.382693490\\\\\n",
       "\t A9           &  35          & 20           & 8.785868e-06 & 2.257972e-05 & 4.942487e-05 & Q\\_30\\_20  & 2.1889050    &  0.340226919\\\\\n",
       "\t PF45         &  35          & 20           & 1.309735e-05 & 5.000077e-05 & 1.022337e-04 & Q\\_30\\_20  & 2.0446426    &  0.310617415\\\\\n",
       "\t A9           &  49          & 20           & 1.983365e-05 & 2.235785e-05 & 4.223818e-05 & Q\\_30\\_20  & 1.8891880    &  0.276275175\\\\\n",
       "\t PF45         &  49          & 20           & 2.127260e-05 & 3.849183e-05 & 6.336640e-05 & Q\\_30\\_20  & 1.6462297    &  0.216490428\\\\\n",
       "\t A9           &  63          & 20           & 8.459811e-06 & 2.152004e-05 & 3.483438e-05 & Q\\_30\\_20  & 1.6186949    &  0.209164991\\\\\n",
       "\t PF45         &  63          & 20           & 2.069818e-05 & 3.548198e-05 & 6.688543e-05 & Q\\_30\\_20  & 1.8850537    &  0.275323731\\\\\n",
       "\t A9           &  77          & 20           & 1.051431e-05 & 2.305679e-05 & 4.297133e-05 & Q\\_30\\_20  & 1.8637173    &  0.270380045\\\\\n",
       "\t PF45         &  77          & 20           & 1.752972e-05 & 4.405818e-05 & 9.097086e-05 & Q\\_30\\_20  & 2.0647893    &  0.314875734\\\\\n",
       "\t A9           &  91          & 20           & 6.760485e-06 & 2.365286e-05 & 4.386892e-05 & Q\\_30\\_20  & 1.8546985    &  0.268273323\\\\\n",
       "\t PF45         &  91          & 20           & 2.009141e-05 & 3.949890e-05 & 8.307377e-05 & Q\\_30\\_20  & 2.1031919    &  0.322878910\\\\\n",
       "\t A9           & 105          & 20           & 6.422961e-06 & 1.698158e-05 & 3.511282e-05 & Q\\_30\\_20  & 2.0677007    &  0.315487669\\\\\n",
       "\t PF45         & 105          & 20           & 1.033938e-05 & 4.144045e-05 & 7.536552e-05 & Q\\_30\\_20  & 1.8186461    &  0.259748194\\\\\n",
       "\t A9           &   7          & 30           & 8.228972e-06 & 2.025867e-05 & 4.806242e-05 & Q\\_30\\_20  & 2.3724375    &  0.375194774\\\\\n",
       "\t PF45         &   7          & 30           & 2.301315e-05 & 6.102438e-05 & 1.204357e-04 & Q\\_30\\_20  & 1.9735664    &  0.295251744\\\\\n",
       "\t A9           &  14          & 30           & 5.092580e-06 & 1.617285e-05 & 4.182917e-05 & Q\\_30\\_20  & 2.5863813    &  0.412692560\\\\\n",
       "\t PF45         &  14          & 30           & 1.288216e-05 & 4.065195e-05 & 1.336667e-04 & Q\\_30\\_20  & 3.2880768    &  0.516941954\\\\\n",
       "\t A9           &  35          & 30           & 3.623225e-06 & 1.167380e-05 & 1.705009e-05 & Q\\_30\\_20  & 1.4605440    &  0.164514636\\\\\n",
       "\t PF45         &  35          & 30           & 1.245324e-05 & 4.787260e-05 & 9.727788e-05 & Q\\_30\\_20  & 2.0320157    &  0.307927049\\\\\n",
       "\t A9           &  49          & 30           & 3.816902e-06 & 9.612436e-06 & 9.404275e-06 & Q\\_30\\_20  & 0.9783447    & -0.009508124\\\\\n",
       "\t PF45         &  49          & 30           & 7.219974e-05 & 4.260617e-05 & 6.941801e-05 & Q\\_30\\_20  & 1.6292946    &  0.211999610\\\\\n",
       "\t A9           &  77          & 30           & 2.318635e-06 & 2.942826e-06 & 2.528729e-05 & Q\\_30\\_20  & 8.5928594    &  0.934137708\\\\\n",
       "\t A9           &  91          & 30           & 8.491810e-07 & 1.412348e-05 & 3.874133e-05 & Q\\_30\\_20  & 2.7430449    &  0.438232909\\\\\n",
       "\t PF45         &  91          & 30           & 1.847679e-05 & 3.910576e-05 & 1.002503e-04 & Q\\_30\\_20  & 2.5635696    &  0.408845111\\\\\n",
       "\t A9           & 105          & 30           & 3.199484e-06 & 1.079030e-05 & 4.623593e-05 & Q\\_30\\_20  & 4.2849547    &  0.631946234\\\\\n",
       "\t PF45         & 105          & 30           & 4.916762e-06 & 3.670429e-05 & 5.880720e-05 & Q\\_30\\_20  & 1.6021887    &  0.204713664\\\\\n",
       "\\end{tabular}\n"
      ],
      "text/markdown": [
       "\n",
       "| Sites | Time | Layers | 10 | 20 | 30 | Temperature range | Q10 | Log_Q10 |\n",
       "|---|---|---|---|---|---|---|---|---|\n",
       "| A9           |   7          | 10           | 6.047925e-05 | 1.469342e-04 | 3.517563e-04 | Q_20_10      | 2.429498     | 0.38551657   |\n",
       "| PF45         |   7          | 10           | 1.754173e-04 | 3.308912e-04 | 7.395503e-04 | Q_20_10      | 1.886309     | 0.27561284   |\n",
       "| A9           |  14          | 10           | 4.684743e-05 | 1.301118e-04 | 2.526037e-04 | Q_20_10      | 2.777353     | 0.44363112   |\n",
       "| PF45         |  14          | 10           | 1.522668e-04 | 3.305938e-04 | 2.824054e-04 | Q_20_10      | 2.171148     | 0.33668948   |\n",
       "| A9           |  21          | 10           | 4.829186e-05 | 1.445276e-04 | 2.766379e-04 | Q_20_10      | 2.992795     | 0.47607703   |\n",
       "| PF45         |  21          | 10           | 7.051117e-05 | 2.068133e-04 | 4.344079e-04 | Q_20_10      | 2.933058     | 0.46732059   |\n",
       "| A9           |  35          | 10           | 4.357933e-05 | 1.089928e-04 | 2.182875e-04 | Q_20_10      | 2.501021     | 0.39811728   |\n",
       "| PF45         |  35          | 10           | 1.006706e-04 | 1.464991e-04 | 2.454464e-04 | Q_20_10      | 1.455233     | 0.16293247   |\n",
       "| A9           |  49          | 10           | 3.938436e-05 | 8.992680e-05 | 1.277135e-04 | Q_20_10      | 2.283312     | 0.35856534   |\n",
       "| PF45         |  49          | 10           | 7.036783e-05 | 2.150647e-04 | 2.055914e-04 | Q_20_10      | 3.056293     | 0.48519495   |\n",
       "| A9           |  63          | 10           | 3.880765e-05 | 8.105294e-05 | 1.297956e-04 | Q_20_10      | 2.088581     | 0.31985142   |\n",
       "| PF45         |  63          | 10           | 6.486061e-05 | 1.492737e-04 | 2.152870e-04 | Q_20_10      | 2.301454     | 0.36200222   |\n",
       "| A9           |  77          | 10           | 2.875737e-05 | 8.917450e-05 | 1.313534e-04 | Q_20_10      | 3.100926     | 0.49149145   |\n",
       "| PF45         |  77          | 10           | 7.303865e-05 | 1.242475e-04 | 1.643707e-04 | Q_20_10      | 1.701119     | 0.23073481   |\n",
       "| A9           |  91          | 10           | 3.946026e-05 | 7.589302e-05 | 1.227297e-04 | Q_20_10      | 1.923277     | 0.28404188   |\n",
       "| PF45         |  91          | 10           | 7.723846e-05 | 1.226695e-04 | 1.608567e-04 | Q_20_10      | 1.588192     | 0.20090307   |\n",
       "| A9           | 105          | 10           | 3.368226e-05 | 6.179331e-05 | 8.156779e-05 | Q_20_10      | 1.834595     | 0.26354029   |\n",
       "| PF45         | 105          | 10           | 7.860028e-05 | 8.719471e-05 | 1.370180e-04 | Q_20_10      | 1.109343     | 0.04506603   |\n",
       "| A9           |   7          | 20           | 1.538083e-05 | 3.786915e-05 | 5.876635e-05 | Q_20_10      | 2.462101     | 0.39130582   |\n",
       "| PF45         |   7          | 20           | 3.374587e-05 | 7.708290e-05 | 1.338040e-04 | Q_20_10      | 2.284217     | 0.35873735   |\n",
       "| A9           |  14          | 20           | 1.032680e-05 | 3.113261e-05 | 6.428162e-05 | Q_20_10      | 3.014740     | 0.47924983   |\n",
       "| PF45         |  14          | 20           | 2.084225e-05 | 6.296146e-05 | 1.034331e-04 | Q_20_10      | 3.020857     | 0.48013018   |\n",
       "| A9           |  21          | 20           | 8.379361e-06 | 2.853408e-05 | 5.631832e-05 | Q_20_10      | 3.405281     | 0.53215298   |\n",
       "| PF45         |  21          | 20           | 1.084250e-05 | 4.295445e-05 | 1.036816e-04 | Q_20_10      | 3.961673     | 0.59787867   |\n",
       "| A9           |  35          | 20           | 8.785868e-06 | 2.257972e-05 | 4.942487e-05 | Q_20_10      | 2.570005     | 0.40993397   |\n",
       "| PF45         |  35          | 20           | 1.309735e-05 | 5.000077e-05 | 1.022337e-04 | Q_20_10      | 3.817624     | 0.58179316   |\n",
       "| A9           |  49          | 20           | 1.983365e-05 | 2.235785e-05 | 4.223818e-05 | Q_20_10      | 1.127268     | 0.05202730   |\n",
       "| PF45         |  49          | 20           | 2.127260e-05 | 3.849183e-05 | 6.336640e-05 | Q_20_10      | 1.809456     | 0.25754810   |\n",
       "| A9           |  63          | 20           | 8.459811e-06 | 2.152004e-05 | 3.483438e-05 | Q_20_10      | 2.543797     | 0.40548237   |\n",
       "| PF45         |  63          | 20           | 2.069818e-05 | 3.548198e-05 | 6.688543e-05 | Q_20_10      | 1.714256     | 0.23407556   |\n",
       "| ... | ... | ... | ... | ... | ... | ... | ... | ... |\n",
       "| PF45         |   7          | 20           | 3.374587e-05 | 7.708290e-05 | 1.338040e-04 | Q_30_20      | 1.7358460    |  0.239511183 |\n",
       "| A9           |  14          | 20           | 1.032680e-05 | 3.113261e-05 | 6.428162e-05 | Q_30_20      | 2.0647685    |  0.314871365 |\n",
       "| PF45         |  14          | 20           | 2.084225e-05 | 6.296146e-05 | 1.034331e-04 | Q_30_20      | 1.6428009    |  0.215584934 |\n",
       "| A9           |  21          | 20           | 8.379361e-06 | 2.853408e-05 | 5.631832e-05 | Q_30_20      | 1.9737213    |  0.295285818 |\n",
       "| PF45         |  21          | 20           | 1.084250e-05 | 4.295445e-05 | 1.036816e-04 | Q_30_20      | 2.4137567    |  0.382693490 |\n",
       "| A9           |  35          | 20           | 8.785868e-06 | 2.257972e-05 | 4.942487e-05 | Q_30_20      | 2.1889050    |  0.340226919 |\n",
       "| PF45         |  35          | 20           | 1.309735e-05 | 5.000077e-05 | 1.022337e-04 | Q_30_20      | 2.0446426    |  0.310617415 |\n",
       "| A9           |  49          | 20           | 1.983365e-05 | 2.235785e-05 | 4.223818e-05 | Q_30_20      | 1.8891880    |  0.276275175 |\n",
       "| PF45         |  49          | 20           | 2.127260e-05 | 3.849183e-05 | 6.336640e-05 | Q_30_20      | 1.6462297    |  0.216490428 |\n",
       "| A9           |  63          | 20           | 8.459811e-06 | 2.152004e-05 | 3.483438e-05 | Q_30_20      | 1.6186949    |  0.209164991 |\n",
       "| PF45         |  63          | 20           | 2.069818e-05 | 3.548198e-05 | 6.688543e-05 | Q_30_20      | 1.8850537    |  0.275323731 |\n",
       "| A9           |  77          | 20           | 1.051431e-05 | 2.305679e-05 | 4.297133e-05 | Q_30_20      | 1.8637173    |  0.270380045 |\n",
       "| PF45         |  77          | 20           | 1.752972e-05 | 4.405818e-05 | 9.097086e-05 | Q_30_20      | 2.0647893    |  0.314875734 |\n",
       "| A9           |  91          | 20           | 6.760485e-06 | 2.365286e-05 | 4.386892e-05 | Q_30_20      | 1.8546985    |  0.268273323 |\n",
       "| PF45         |  91          | 20           | 2.009141e-05 | 3.949890e-05 | 8.307377e-05 | Q_30_20      | 2.1031919    |  0.322878910 |\n",
       "| A9           | 105          | 20           | 6.422961e-06 | 1.698158e-05 | 3.511282e-05 | Q_30_20      | 2.0677007    |  0.315487669 |\n",
       "| PF45         | 105          | 20           | 1.033938e-05 | 4.144045e-05 | 7.536552e-05 | Q_30_20      | 1.8186461    |  0.259748194 |\n",
       "| A9           |   7          | 30           | 8.228972e-06 | 2.025867e-05 | 4.806242e-05 | Q_30_20      | 2.3724375    |  0.375194774 |\n",
       "| PF45         |   7          | 30           | 2.301315e-05 | 6.102438e-05 | 1.204357e-04 | Q_30_20      | 1.9735664    |  0.295251744 |\n",
       "| A9           |  14          | 30           | 5.092580e-06 | 1.617285e-05 | 4.182917e-05 | Q_30_20      | 2.5863813    |  0.412692560 |\n",
       "| PF45         |  14          | 30           | 1.288216e-05 | 4.065195e-05 | 1.336667e-04 | Q_30_20      | 3.2880768    |  0.516941954 |\n",
       "| A9           |  35          | 30           | 3.623225e-06 | 1.167380e-05 | 1.705009e-05 | Q_30_20      | 1.4605440    |  0.164514636 |\n",
       "| PF45         |  35          | 30           | 1.245324e-05 | 4.787260e-05 | 9.727788e-05 | Q_30_20      | 2.0320157    |  0.307927049 |\n",
       "| A9           |  49          | 30           | 3.816902e-06 | 9.612436e-06 | 9.404275e-06 | Q_30_20      | 0.9783447    | -0.009508124 |\n",
       "| PF45         |  49          | 30           | 7.219974e-05 | 4.260617e-05 | 6.941801e-05 | Q_30_20      | 1.6292946    |  0.211999610 |\n",
       "| A9           |  77          | 30           | 2.318635e-06 | 2.942826e-06 | 2.528729e-05 | Q_30_20      | 8.5928594    |  0.934137708 |\n",
       "| A9           |  91          | 30           | 8.491810e-07 | 1.412348e-05 | 3.874133e-05 | Q_30_20      | 2.7430449    |  0.438232909 |\n",
       "| PF45         |  91          | 30           | 1.847679e-05 | 3.910576e-05 | 1.002503e-04 | Q_30_20      | 2.5635696    |  0.408845111 |\n",
       "| A9           | 105          | 30           | 3.199484e-06 | 1.079030e-05 | 4.623593e-05 | Q_30_20      | 4.2849547    |  0.631946234 |\n",
       "| PF45         | 105          | 30           | 4.916762e-06 | 3.670429e-05 | 5.880720e-05 | Q_30_20      | 1.6021887    |  0.204713664 |\n",
       "\n"
      ],
      "text/plain": [
       "    Sites Time Layers 10           20           30           Temperature range\n",
       "1   A9      7  10     6.047925e-05 1.469342e-04 3.517563e-04 Q_20_10          \n",
       "2   PF45    7  10     1.754173e-04 3.308912e-04 7.395503e-04 Q_20_10          \n",
       "3   A9     14  10     4.684743e-05 1.301118e-04 2.526037e-04 Q_20_10          \n",
       "4   PF45   14  10     1.522668e-04 3.305938e-04 2.824054e-04 Q_20_10          \n",
       "5   A9     21  10     4.829186e-05 1.445276e-04 2.766379e-04 Q_20_10          \n",
       "6   PF45   21  10     7.051117e-05 2.068133e-04 4.344079e-04 Q_20_10          \n",
       "7   A9     35  10     4.357933e-05 1.089928e-04 2.182875e-04 Q_20_10          \n",
       "8   PF45   35  10     1.006706e-04 1.464991e-04 2.454464e-04 Q_20_10          \n",
       "9   A9     49  10     3.938436e-05 8.992680e-05 1.277135e-04 Q_20_10          \n",
       "10  PF45   49  10     7.036783e-05 2.150647e-04 2.055914e-04 Q_20_10          \n",
       "11  A9     63  10     3.880765e-05 8.105294e-05 1.297956e-04 Q_20_10          \n",
       "12  PF45   63  10     6.486061e-05 1.492737e-04 2.152870e-04 Q_20_10          \n",
       "13  A9     77  10     2.875737e-05 8.917450e-05 1.313534e-04 Q_20_10          \n",
       "14  PF45   77  10     7.303865e-05 1.242475e-04 1.643707e-04 Q_20_10          \n",
       "15  A9     91  10     3.946026e-05 7.589302e-05 1.227297e-04 Q_20_10          \n",
       "16  PF45   91  10     7.723846e-05 1.226695e-04 1.608567e-04 Q_20_10          \n",
       "17  A9    105  10     3.368226e-05 6.179331e-05 8.156779e-05 Q_20_10          \n",
       "18  PF45  105  10     7.860028e-05 8.719471e-05 1.370180e-04 Q_20_10          \n",
       "19  A9      7  20     1.538083e-05 3.786915e-05 5.876635e-05 Q_20_10          \n",
       "20  PF45    7  20     3.374587e-05 7.708290e-05 1.338040e-04 Q_20_10          \n",
       "21  A9     14  20     1.032680e-05 3.113261e-05 6.428162e-05 Q_20_10          \n",
       "22  PF45   14  20     2.084225e-05 6.296146e-05 1.034331e-04 Q_20_10          \n",
       "23  A9     21  20     8.379361e-06 2.853408e-05 5.631832e-05 Q_20_10          \n",
       "24  PF45   21  20     1.084250e-05 4.295445e-05 1.036816e-04 Q_20_10          \n",
       "25  A9     35  20     8.785868e-06 2.257972e-05 4.942487e-05 Q_20_10          \n",
       "26  PF45   35  20     1.309735e-05 5.000077e-05 1.022337e-04 Q_20_10          \n",
       "27  A9     49  20     1.983365e-05 2.235785e-05 4.223818e-05 Q_20_10          \n",
       "28  PF45   49  20     2.127260e-05 3.849183e-05 6.336640e-05 Q_20_10          \n",
       "29  A9     63  20     8.459811e-06 2.152004e-05 3.483438e-05 Q_20_10          \n",
       "30  PF45   63  20     2.069818e-05 3.548198e-05 6.688543e-05 Q_20_10          \n",
       "... ...   ...  ...    ...          ...          ...          ...              \n",
       "69  PF45    7  20     3.374587e-05 7.708290e-05 1.338040e-04 Q_30_20          \n",
       "70  A9     14  20     1.032680e-05 3.113261e-05 6.428162e-05 Q_30_20          \n",
       "71  PF45   14  20     2.084225e-05 6.296146e-05 1.034331e-04 Q_30_20          \n",
       "72  A9     21  20     8.379361e-06 2.853408e-05 5.631832e-05 Q_30_20          \n",
       "73  PF45   21  20     1.084250e-05 4.295445e-05 1.036816e-04 Q_30_20          \n",
       "74  A9     35  20     8.785868e-06 2.257972e-05 4.942487e-05 Q_30_20          \n",
       "75  PF45   35  20     1.309735e-05 5.000077e-05 1.022337e-04 Q_30_20          \n",
       "76  A9     49  20     1.983365e-05 2.235785e-05 4.223818e-05 Q_30_20          \n",
       "77  PF45   49  20     2.127260e-05 3.849183e-05 6.336640e-05 Q_30_20          \n",
       "78  A9     63  20     8.459811e-06 2.152004e-05 3.483438e-05 Q_30_20          \n",
       "79  PF45   63  20     2.069818e-05 3.548198e-05 6.688543e-05 Q_30_20          \n",
       "80  A9     77  20     1.051431e-05 2.305679e-05 4.297133e-05 Q_30_20          \n",
       "81  PF45   77  20     1.752972e-05 4.405818e-05 9.097086e-05 Q_30_20          \n",
       "82  A9     91  20     6.760485e-06 2.365286e-05 4.386892e-05 Q_30_20          \n",
       "83  PF45   91  20     2.009141e-05 3.949890e-05 8.307377e-05 Q_30_20          \n",
       "84  A9    105  20     6.422961e-06 1.698158e-05 3.511282e-05 Q_30_20          \n",
       "85  PF45  105  20     1.033938e-05 4.144045e-05 7.536552e-05 Q_30_20          \n",
       "86  A9      7  30     8.228972e-06 2.025867e-05 4.806242e-05 Q_30_20          \n",
       "87  PF45    7  30     2.301315e-05 6.102438e-05 1.204357e-04 Q_30_20          \n",
       "88  A9     14  30     5.092580e-06 1.617285e-05 4.182917e-05 Q_30_20          \n",
       "89  PF45   14  30     1.288216e-05 4.065195e-05 1.336667e-04 Q_30_20          \n",
       "90  A9     35  30     3.623225e-06 1.167380e-05 1.705009e-05 Q_30_20          \n",
       "91  PF45   35  30     1.245324e-05 4.787260e-05 9.727788e-05 Q_30_20          \n",
       "92  A9     49  30     3.816902e-06 9.612436e-06 9.404275e-06 Q_30_20          \n",
       "93  PF45   49  30     7.219974e-05 4.260617e-05 6.941801e-05 Q_30_20          \n",
       "94  A9     77  30     2.318635e-06 2.942826e-06 2.528729e-05 Q_30_20          \n",
       "95  A9     91  30     8.491810e-07 1.412348e-05 3.874133e-05 Q_30_20          \n",
       "96  PF45   91  30     1.847679e-05 3.910576e-05 1.002503e-04 Q_30_20          \n",
       "97  A9    105  30     3.199484e-06 1.079030e-05 4.623593e-05 Q_30_20          \n",
       "98  PF45  105  30     4.916762e-06 3.670429e-05 5.880720e-05 Q_30_20          \n",
       "    Q10       Log_Q10     \n",
       "1   2.429498  0.38551657  \n",
       "2   1.886309  0.27561284  \n",
       "3   2.777353  0.44363112  \n",
       "4   2.171148  0.33668948  \n",
       "5   2.992795  0.47607703  \n",
       "6   2.933058  0.46732059  \n",
       "7   2.501021  0.39811728  \n",
       "8   1.455233  0.16293247  \n",
       "9   2.283312  0.35856534  \n",
       "10  3.056293  0.48519495  \n",
       "11  2.088581  0.31985142  \n",
       "12  2.301454  0.36200222  \n",
       "13  3.100926  0.49149145  \n",
       "14  1.701119  0.23073481  \n",
       "15  1.923277  0.28404188  \n",
       "16  1.588192  0.20090307  \n",
       "17  1.834595  0.26354029  \n",
       "18  1.109343  0.04506603  \n",
       "19  2.462101  0.39130582  \n",
       "20  2.284217  0.35873735  \n",
       "21  3.014740  0.47924983  \n",
       "22  3.020857  0.48013018  \n",
       "23  3.405281  0.53215298  \n",
       "24  3.961673  0.59787867  \n",
       "25  2.570005  0.40993397  \n",
       "26  3.817624  0.58179316  \n",
       "27  1.127268  0.05202730  \n",
       "28  1.809456  0.25754810  \n",
       "29  2.543797  0.40548237  \n",
       "30  1.714256  0.23407556  \n",
       "... ...       ...         \n",
       "69  1.7358460  0.239511183\n",
       "70  2.0647685  0.314871365\n",
       "71  1.6428009  0.215584934\n",
       "72  1.9737213  0.295285818\n",
       "73  2.4137567  0.382693490\n",
       "74  2.1889050  0.340226919\n",
       "75  2.0446426  0.310617415\n",
       "76  1.8891880  0.276275175\n",
       "77  1.6462297  0.216490428\n",
       "78  1.6186949  0.209164991\n",
       "79  1.8850537  0.275323731\n",
       "80  1.8637173  0.270380045\n",
       "81  2.0647893  0.314875734\n",
       "82  1.8546985  0.268273323\n",
       "83  2.1031919  0.322878910\n",
       "84  2.0677007  0.315487669\n",
       "85  1.8186461  0.259748194\n",
       "86  2.3724375  0.375194774\n",
       "87  1.9735664  0.295251744\n",
       "88  2.5863813  0.412692560\n",
       "89  3.2880768  0.516941954\n",
       "90  1.4605440  0.164514636\n",
       "91  2.0320157  0.307927049\n",
       "92  0.9783447 -0.009508124\n",
       "93  1.6292946  0.211999610\n",
       "94  8.5928594  0.934137708\n",
       "95  2.7430449  0.438232909\n",
       "96  2.5635696  0.408845111\n",
       "97  4.2849547  0.631946234\n",
       "98  1.6021887  0.204713664"
      ]
     },
     "metadata": {},
     "output_type": "display_data"
    }
   ],
   "source": [
    "data_Q10"
   ]
  },
  {
   "cell_type": "code",
   "execution_count": 34,
   "metadata": {},
   "outputs": [
    {
     "name": "stderr",
     "output_type": "stream",
     "text": [
      "Warning message:\n",
      "\"package 'ggpmisc' was built under R version 3.6.2\"`geom_smooth()` using formula 'y ~ x'\n",
      "`geom_smooth()` using formula 'y ~ x'\n"
     ]
    },
    {
     "data": {
      "image/png": "[encoded data removed]",
      "text/plain": [
       "plot without title"
      ]
     },
     "metadata": {},
     "output_type": "display_data"
    }
   ],
   "source": [
    "library(ggpubr)\n",
    "library(ggpmisc)\n",
    "data_Q10$`Layers` <- as.character(data_Q10$`Layers`)\n",
    "options(repr.plot.width = 8, repr.plot.height = 6)\n",
    "pl <- ggplot(data=data_Q10, aes(x = `Time`, y = `Q10`, group = `Layers`, color= `Layers`, linetype =  `Layers` )) +\n",
    "geom_smooth(method = \"lm\", se = FALSE) +\n",
    "geom_point(aes(shape = `Layers`), size = 2)+ \n",
    "scale_color_discrete(name = \"Layers\", labels = c(\"[0-10]\", \"[10-20]\", \"[20-30]\"))+\n",
    "scale_linetype_discrete(name = \"Layers\", labels = c(\"[0-10]\", \"[10-20]\", \"[20-30]\")) +\n",
    "scale_shape_discrete(name = \"Layers\", labels = c(\"[0-10]\", \"[10-20]\", \"[20-30]\")) +\n",
    "  theme(legend.position = \"none\", legend.text = \"Temperature (°C)\") +\n",
    " xlab(\"Time (days)\") + ylab(\"Q10\") +\n",
    "#scale_x_continuous(breaks = 7*0:1000,\n",
    " #                  expand = expand_scale(add = 1)) +\n",
    "theme_bw() +\n",
    "theme(strip.text = element_text(size = 18), axis.text=element_text(size=18),\n",
    "        axis.title=element_text(size=18) , legend.title = element_text(size=20),\n",
    "     legend.text = element_text(size=18)) \n",
    "legend_title <- \"Layers\"\n",
    "pl \n",
    "ggsave(\"figures/Variation of Q10 across layers.png\", width = 8, height = 6, dpi = 600)# export plot high resolution"
   ]
  },
  {
   "cell_type": "markdown",
   "metadata": {},
   "source": [
    "## 9. What is the carbon accumulation accross cranberry soil layers?"
   ]
  },
  {
   "cell_type": "markdown",
   "metadata": {},
   "source": [
    "### 9.1 Carbon stock"
   ]
  },
  {
   "cell_type": "markdown",
   "metadata": {},
   "source": [
    "Import data"
   ]
  },
  {
   "cell_type": "code",
   "execution_count": 35,
   "metadata": {},
   "outputs": [
    {
     "name": "stderr",
     "output_type": "stream",
     "text": [
      "Using ',' as decimal and '.' as grouping mark. Use read_delim() for more control.\n",
      "Parsed with column specification:\n",
      "cols(\n",
      "  Sample = col_double(),\n",
      "  Location = col_character(),\n",
      "  `Deph(cm)` = col_character(),\n",
      "  `0_30_ID` = col_character(),\n",
      "  `Site age` = col_double(),\n",
      "  Repetition = col_double(),\n",
      "  `Bulk density(kg m-3)` = col_double(),\n",
      "  pHCaCl2 = col_double(),\n",
      "  `Sand carbon (%)` = col_double(),\n",
      "  `Carbone(%)` = col_double(),\n",
      "  `Sulfur(%)` = col_double(),\n",
      "  `Nitrogen(%)` = col_double(),\n",
      "  `C stock(kg m-3)` = col_double(),\n",
      "  `total porosity` = col_double(),\n",
      "  `WFPS(70%)` = col_double()\n",
      ")\n"
     ]
    },
    {
     "data": {
      "text/html": [
       "<table>\n",
       "<thead><tr><th scope=col>Sample</th><th scope=col>Location</th><th scope=col>Deph(cm)</th><th scope=col>0_30_ID</th><th scope=col>Site age</th><th scope=col>Repetition</th><th scope=col>Bulk density(kg m-3)</th><th scope=col>pHCaCl2</th><th scope=col>Sand carbon (%)</th><th scope=col>Carbone(%)</th><th scope=col>Sulfur(%)</th><th scope=col>Nitrogen(%)</th><th scope=col>C stock(kg m-3)</th><th scope=col>total porosity</th><th scope=col>WFPS(70%)</th></tr></thead>\n",
       "<tbody>\n",
       "\t<tr><td> 1     </td><td>Site A9</td><td>[0-10] </td><td>A      </td><td>14     </td><td>1      </td><td> 925.8 </td><td>3.8    </td><td>0.30   </td><td>1.8    </td><td>0.07   </td><td>0.08   </td><td>16.6644</td><td>0.7    </td><td>0.5    </td></tr>\n",
       "\t<tr><td> 2     </td><td>Site A9</td><td>[10-20]</td><td>A      </td><td>14     </td><td>1      </td><td>1238.8 </td><td>4.0    </td><td>0.30   </td><td>1.1    </td><td>0.05   </td><td>0.06   </td><td>13.6268</td><td>0.5    </td><td>0.3    </td></tr>\n",
       "\t<tr><td> 3     </td><td>Site A9</td><td>[20-30]</td><td>A      </td><td>14     </td><td>1      </td><td>1476.8 </td><td>4.2    </td><td>0.30   </td><td>1.0    </td><td>0.06   </td><td>0.05   </td><td>14.7680</td><td>0.5    </td><td>0.3    </td></tr>\n",
       "\t<tr><td> 4     </td><td>Site A9</td><td>[0-10] </td><td>B      </td><td>14     </td><td>2      </td><td> 821.6 </td><td>3.8    </td><td>0.30   </td><td>2.4    </td><td>0.07   </td><td>0.11   </td><td>19.7184</td><td>0.7    </td><td>0.5    </td></tr>\n",
       "\t<tr><td> 5     </td><td>Site A9</td><td>[10-20]</td><td>B      </td><td>14     </td><td>2      </td><td>1489.4 </td><td>3.8    </td><td>0.30   </td><td>1.2    </td><td>0.06   </td><td>0.06   </td><td>17.8728</td><td>0.5    </td><td>0.3    </td></tr>\n",
       "\t<tr><td> 6     </td><td>Site A9</td><td>[20-30]</td><td>B      </td><td>14     </td><td>2      </td><td>1507.6 </td><td>3.9    </td><td>0.30   </td><td>0.5    </td><td>0.05   </td><td>0.04   </td><td> 7.5380</td><td>0.5    </td><td>0.3    </td></tr>\n",
       "\t<tr><td> 7     </td><td>Site A9</td><td>[0-10] </td><td>C      </td><td>14     </td><td>3      </td><td> 977.5 </td><td>4.0    </td><td>0.30   </td><td>1.6    </td><td>0.06   </td><td>0.08   </td><td>15.6400</td><td>0.7    </td><td>0.5    </td></tr>\n",
       "\t<tr><td> 8     </td><td>Site A9</td><td>[10-20]</td><td>C      </td><td>14     </td><td>3      </td><td>1404.7 </td><td>4.1    </td><td>0.30   </td><td>2.2    </td><td>0.06   </td><td>0.09   </td><td>30.9034</td><td>0.5    </td><td>0.3    </td></tr>\n",
       "\t<tr><td> 9     </td><td>Site A9</td><td>[20-30]</td><td>C      </td><td>14     </td><td>3      </td><td>1150.7 </td><td>4.3    </td><td>0.30   </td><td>0.5    </td><td>0.07   </td><td>0.13   </td><td> 5.7535</td><td>0.5    </td><td>0.3    </td></tr>\n",
       "\t<tr><td>10     </td><td>Site A9</td><td>[0-10] </td><td>D      </td><td>14     </td><td>4      </td><td> 925.8 </td><td>3.8    </td><td>0.30   </td><td>1.8    </td><td>0.07   </td><td>0.08   </td><td>16.6644</td><td>0.7    </td><td>0.5    </td></tr>\n",
       "\t<tr><td>11     </td><td>Site A9</td><td>[10-20]</td><td>D      </td><td>14     </td><td>4      </td><td>1404.7 </td><td>4.0    </td><td>0.30   </td><td>1.2    </td><td>0.06   </td><td>0.06   </td><td>16.8564</td><td>0.5    </td><td>0.3    </td></tr>\n",
       "\t<tr><td>12     </td><td>Site A9</td><td>[20-30]</td><td>D      </td><td>14     </td><td>4      </td><td>1476.8 </td><td>4.2    </td><td>0.30   </td><td>0.5    </td><td>0.06   </td><td>0.05   </td><td> 7.3840</td><td>0.5    </td><td>0.3    </td></tr>\n",
       "\t<tr><td>13     </td><td>Site 45</td><td>[0-10] </td><td>E      </td><td>19     </td><td>1      </td><td> 942.1 </td><td>3.7    </td><td>0.14   </td><td>1.6    </td><td>0.07   </td><td>0.09   </td><td>15.0736</td><td>0.6    </td><td>0.5    </td></tr>\n",
       "\t<tr><td>14     </td><td>Site 45</td><td>[10-20]</td><td>E      </td><td>19     </td><td>1      </td><td>1631.1 </td><td>4.4    </td><td>0.14   </td><td>0.4    </td><td>0.06   </td><td>0.04   </td><td> 6.5244</td><td>0.4    </td><td>0.3    </td></tr>\n",
       "\t<tr><td>15     </td><td>Site 45</td><td>[20-30]</td><td>E      </td><td>19     </td><td>1      </td><td>1655.5 </td><td>4.4    </td><td>0.14   </td><td>0.3    </td><td>0.05   </td><td>0.03   </td><td> 4.9665</td><td>0.4    </td><td>0.3    </td></tr>\n",
       "\t<tr><td>16     </td><td>Site 45</td><td>[0-10] </td><td>G      </td><td>19     </td><td>2      </td><td> 793.7 </td><td>3.7    </td><td>0.14   </td><td>2.8    </td><td>0.08   </td><td>0.12   </td><td>22.2236</td><td>0.6    </td><td>0.5    </td></tr>\n",
       "\t<tr><td>17     </td><td>Site 45</td><td>[10-20]</td><td>G      </td><td>19     </td><td>2      </td><td>1646.0 </td><td>4.3    </td><td>0.14   </td><td>0.6    </td><td>0.06   </td><td>0.05   </td><td> 9.8760</td><td>0.4    </td><td>0.3    </td></tr>\n",
       "\t<tr><td>18     </td><td>Site 45</td><td>[20-30]</td><td>G      </td><td>19     </td><td>2      </td><td>1653.1 </td><td>4.7    </td><td>0.14   </td><td>0.2    </td><td>0.06   </td><td>0.03   </td><td> 3.3062</td><td>0.4    </td><td>0.3    </td></tr>\n",
       "\t<tr><td>19     </td><td>Site 45</td><td>[0-10] </td><td>H      </td><td>19     </td><td>3      </td><td> 946.4 </td><td>3.8    </td><td>0.14   </td><td>1.2    </td><td>0.06   </td><td>0.08   </td><td>11.3568</td><td>0.6    </td><td>0.5    </td></tr>\n",
       "\t<tr><td>20     </td><td>Site 45</td><td>[10-20]</td><td>H      </td><td>19     </td><td>3      </td><td>1697.3 </td><td>4.9    </td><td>0.14   </td><td>0.4    </td><td>0.05   </td><td>0.03   </td><td> 6.7892</td><td>0.4    </td><td>0.3    </td></tr>\n",
       "\t<tr><td>21     </td><td>Site 45</td><td>[20-30]</td><td>H      </td><td>19     </td><td>3      </td><td>1669.1 </td><td>5.1    </td><td>0.14   </td><td>0.1    </td><td>0.05   </td><td>0.04   </td><td> 1.6691</td><td>0.4    </td><td>0.3    </td></tr>\n",
       "\t<tr><td>22     </td><td>Site 45</td><td>[0-10] </td><td>I      </td><td>19     </td><td>4      </td><td> 942.1 </td><td>3.7    </td><td>0.14   </td><td>1.6    </td><td>0.07   </td><td>0.09   </td><td>15.0736</td><td>0.6    </td><td>0.5    </td></tr>\n",
       "\t<tr><td>23     </td><td>Site 45</td><td>[10-20]</td><td>I      </td><td>19     </td><td>4      </td><td>1646.0 </td><td>4.4    </td><td>0.14   </td><td>0.4    </td><td>0.06   </td><td>0.04   </td><td> 6.5840</td><td>0.4    </td><td>0.3    </td></tr>\n",
       "\t<tr><td>24     </td><td>Site 45</td><td>[20-30]</td><td>I      </td><td>19     </td><td>4      </td><td>1655.5 </td><td>4.7    </td><td>0.14   </td><td>0.2    </td><td>0.05   </td><td>0.03   </td><td> 3.3110</td><td>0.4    </td><td>0.3    </td></tr>\n",
       "</tbody>\n",
       "</table>\n"
      ],
      "text/latex": [
       "\\begin{tabular}{r|lllllllllllllll}\n",
       " Sample & Location & Deph(cm) & 0\\_30\\_ID & Site age & Repetition & Bulk density(kg m-3) & pHCaCl2 & Sand carbon (\\%) & Carbone(\\%) & Sulfur(\\%) & Nitrogen(\\%) & C stock(kg m-3) & total porosity & WFPS(70\\%)\\\\\n",
       "\\hline\n",
       "\t  1          & Site A9     & {[}0-10{]}  & A           & 14          & 1           &  925.8      & 3.8         & 0.30        & 1.8         & 0.07        & 0.08        & 16.6644     & 0.7         & 0.5        \\\\\n",
       "\t  2          & Site A9     & {[}10-20{]} & A           & 14          & 1           & 1238.8      & 4.0         & 0.30        & 1.1         & 0.05        & 0.06        & 13.6268     & 0.5         & 0.3        \\\\\n",
       "\t  3          & Site A9     & {[}20-30{]} & A           & 14          & 1           & 1476.8      & 4.2         & 0.30        & 1.0         & 0.06        & 0.05        & 14.7680     & 0.5         & 0.3        \\\\\n",
       "\t  4          & Site A9     & {[}0-10{]}  & B           & 14          & 2           &  821.6      & 3.8         & 0.30        & 2.4         & 0.07        & 0.11        & 19.7184     & 0.7         & 0.5        \\\\\n",
       "\t  5          & Site A9     & {[}10-20{]} & B           & 14          & 2           & 1489.4      & 3.8         & 0.30        & 1.2         & 0.06        & 0.06        & 17.8728     & 0.5         & 0.3        \\\\\n",
       "\t  6          & Site A9     & {[}20-30{]} & B           & 14          & 2           & 1507.6      & 3.9         & 0.30        & 0.5         & 0.05        & 0.04        &  7.5380     & 0.5         & 0.3        \\\\\n",
       "\t  7          & Site A9     & {[}0-10{]}  & C           & 14          & 3           &  977.5      & 4.0         & 0.30        & 1.6         & 0.06        & 0.08        & 15.6400     & 0.7         & 0.5        \\\\\n",
       "\t  8          & Site A9     & {[}10-20{]} & C           & 14          & 3           & 1404.7      & 4.1         & 0.30        & 2.2         & 0.06        & 0.09        & 30.9034     & 0.5         & 0.3        \\\\\n",
       "\t  9          & Site A9     & {[}20-30{]} & C           & 14          & 3           & 1150.7      & 4.3         & 0.30        & 0.5         & 0.07        & 0.13        &  5.7535     & 0.5         & 0.3        \\\\\n",
       "\t 10          & Site A9     & {[}0-10{]}  & D           & 14          & 4           &  925.8      & 3.8         & 0.30        & 1.8         & 0.07        & 0.08        & 16.6644     & 0.7         & 0.5        \\\\\n",
       "\t 11          & Site A9     & {[}10-20{]} & D           & 14          & 4           & 1404.7      & 4.0         & 0.30        & 1.2         & 0.06        & 0.06        & 16.8564     & 0.5         & 0.3        \\\\\n",
       "\t 12          & Site A9     & {[}20-30{]} & D           & 14          & 4           & 1476.8      & 4.2         & 0.30        & 0.5         & 0.06        & 0.05        &  7.3840     & 0.5         & 0.3        \\\\\n",
       "\t 13          & Site 45     & {[}0-10{]}  & E           & 19          & 1           &  942.1      & 3.7         & 0.14        & 1.6         & 0.07        & 0.09        & 15.0736     & 0.6         & 0.5        \\\\\n",
       "\t 14          & Site 45     & {[}10-20{]} & E           & 19          & 1           & 1631.1      & 4.4         & 0.14        & 0.4         & 0.06        & 0.04        &  6.5244     & 0.4         & 0.3        \\\\\n",
       "\t 15          & Site 45     & {[}20-30{]} & E           & 19          & 1           & 1655.5      & 4.4         & 0.14        & 0.3         & 0.05        & 0.03        &  4.9665     & 0.4         & 0.3        \\\\\n",
       "\t 16          & Site 45     & {[}0-10{]}  & G           & 19          & 2           &  793.7      & 3.7         & 0.14        & 2.8         & 0.08        & 0.12        & 22.2236     & 0.6         & 0.5        \\\\\n",
       "\t 17          & Site 45     & {[}10-20{]} & G           & 19          & 2           & 1646.0      & 4.3         & 0.14        & 0.6         & 0.06        & 0.05        &  9.8760     & 0.4         & 0.3        \\\\\n",
       "\t 18          & Site 45     & {[}20-30{]} & G           & 19          & 2           & 1653.1      & 4.7         & 0.14        & 0.2         & 0.06        & 0.03        &  3.3062     & 0.4         & 0.3        \\\\\n",
       "\t 19          & Site 45     & {[}0-10{]}  & H           & 19          & 3           &  946.4      & 3.8         & 0.14        & 1.2         & 0.06        & 0.08        & 11.3568     & 0.6         & 0.5        \\\\\n",
       "\t 20          & Site 45     & {[}10-20{]} & H           & 19          & 3           & 1697.3      & 4.9         & 0.14        & 0.4         & 0.05        & 0.03        &  6.7892     & 0.4         & 0.3        \\\\\n",
       "\t 21          & Site 45     & {[}20-30{]} & H           & 19          & 3           & 1669.1      & 5.1         & 0.14        & 0.1         & 0.05        & 0.04        &  1.6691     & 0.4         & 0.3        \\\\\n",
       "\t 22          & Site 45     & {[}0-10{]}  & I           & 19          & 4           &  942.1      & 3.7         & 0.14        & 1.6         & 0.07        & 0.09        & 15.0736     & 0.6         & 0.5        \\\\\n",
       "\t 23          & Site 45     & {[}10-20{]} & I           & 19          & 4           & 1646.0      & 4.4         & 0.14        & 0.4         & 0.06        & 0.04        &  6.5840     & 0.4         & 0.3        \\\\\n",
       "\t 24          & Site 45     & {[}20-30{]} & I           & 19          & 4           & 1655.5      & 4.7         & 0.14        & 0.2         & 0.05        & 0.03        &  3.3110     & 0.4         & 0.3        \\\\\n",
       "\\end{tabular}\n"
      ],
      "text/markdown": [
       "\n",
       "| Sample | Location | Deph(cm) | 0_30_ID | Site age | Repetition | Bulk density(kg m-3) | pHCaCl2 | Sand carbon (%) | Carbone(%) | Sulfur(%) | Nitrogen(%) | C stock(kg m-3) | total porosity | WFPS(70%) |\n",
       "|---|---|---|---|---|---|---|---|---|---|---|---|---|---|---|\n",
       "|  1      | Site A9 | [0-10]  | A       | 14      | 1       |  925.8  | 3.8     | 0.30    | 1.8     | 0.07    | 0.08    | 16.6644 | 0.7     | 0.5     |\n",
       "|  2      | Site A9 | [10-20] | A       | 14      | 1       | 1238.8  | 4.0     | 0.30    | 1.1     | 0.05    | 0.06    | 13.6268 | 0.5     | 0.3     |\n",
       "|  3      | Site A9 | [20-30] | A       | 14      | 1       | 1476.8  | 4.2     | 0.30    | 1.0     | 0.06    | 0.05    | 14.7680 | 0.5     | 0.3     |\n",
       "|  4      | Site A9 | [0-10]  | B       | 14      | 2       |  821.6  | 3.8     | 0.30    | 2.4     | 0.07    | 0.11    | 19.7184 | 0.7     | 0.5     |\n",
       "|  5      | Site A9 | [10-20] | B       | 14      | 2       | 1489.4  | 3.8     | 0.30    | 1.2     | 0.06    | 0.06    | 17.8728 | 0.5     | 0.3     |\n",
       "|  6      | Site A9 | [20-30] | B       | 14      | 2       | 1507.6  | 3.9     | 0.30    | 0.5     | 0.05    | 0.04    |  7.5380 | 0.5     | 0.3     |\n",
       "|  7      | Site A9 | [0-10]  | C       | 14      | 3       |  977.5  | 4.0     | 0.30    | 1.6     | 0.06    | 0.08    | 15.6400 | 0.7     | 0.5     |\n",
       "|  8      | Site A9 | [10-20] | C       | 14      | 3       | 1404.7  | 4.1     | 0.30    | 2.2     | 0.06    | 0.09    | 30.9034 | 0.5     | 0.3     |\n",
       "|  9      | Site A9 | [20-30] | C       | 14      | 3       | 1150.7  | 4.3     | 0.30    | 0.5     | 0.07    | 0.13    |  5.7535 | 0.5     | 0.3     |\n",
       "| 10      | Site A9 | [0-10]  | D       | 14      | 4       |  925.8  | 3.8     | 0.30    | 1.8     | 0.07    | 0.08    | 16.6644 | 0.7     | 0.5     |\n",
       "| 11      | Site A9 | [10-20] | D       | 14      | 4       | 1404.7  | 4.0     | 0.30    | 1.2     | 0.06    | 0.06    | 16.8564 | 0.5     | 0.3     |\n",
       "| 12      | Site A9 | [20-30] | D       | 14      | 4       | 1476.8  | 4.2     | 0.30    | 0.5     | 0.06    | 0.05    |  7.3840 | 0.5     | 0.3     |\n",
       "| 13      | Site 45 | [0-10]  | E       | 19      | 1       |  942.1  | 3.7     | 0.14    | 1.6     | 0.07    | 0.09    | 15.0736 | 0.6     | 0.5     |\n",
       "| 14      | Site 45 | [10-20] | E       | 19      | 1       | 1631.1  | 4.4     | 0.14    | 0.4     | 0.06    | 0.04    |  6.5244 | 0.4     | 0.3     |\n",
       "| 15      | Site 45 | [20-30] | E       | 19      | 1       | 1655.5  | 4.4     | 0.14    | 0.3     | 0.05    | 0.03    |  4.9665 | 0.4     | 0.3     |\n",
       "| 16      | Site 45 | [0-10]  | G       | 19      | 2       |  793.7  | 3.7     | 0.14    | 2.8     | 0.08    | 0.12    | 22.2236 | 0.6     | 0.5     |\n",
       "| 17      | Site 45 | [10-20] | G       | 19      | 2       | 1646.0  | 4.3     | 0.14    | 0.6     | 0.06    | 0.05    |  9.8760 | 0.4     | 0.3     |\n",
       "| 18      | Site 45 | [20-30] | G       | 19      | 2       | 1653.1  | 4.7     | 0.14    | 0.2     | 0.06    | 0.03    |  3.3062 | 0.4     | 0.3     |\n",
       "| 19      | Site 45 | [0-10]  | H       | 19      | 3       |  946.4  | 3.8     | 0.14    | 1.2     | 0.06    | 0.08    | 11.3568 | 0.6     | 0.5     |\n",
       "| 20      | Site 45 | [10-20] | H       | 19      | 3       | 1697.3  | 4.9     | 0.14    | 0.4     | 0.05    | 0.03    |  6.7892 | 0.4     | 0.3     |\n",
       "| 21      | Site 45 | [20-30] | H       | 19      | 3       | 1669.1  | 5.1     | 0.14    | 0.1     | 0.05    | 0.04    |  1.6691 | 0.4     | 0.3     |\n",
       "| 22      | Site 45 | [0-10]  | I       | 19      | 4       |  942.1  | 3.7     | 0.14    | 1.6     | 0.07    | 0.09    | 15.0736 | 0.6     | 0.5     |\n",
       "| 23      | Site 45 | [10-20] | I       | 19      | 4       | 1646.0  | 4.4     | 0.14    | 0.4     | 0.06    | 0.04    |  6.5840 | 0.4     | 0.3     |\n",
       "| 24      | Site 45 | [20-30] | I       | 19      | 4       | 1655.5  | 4.7     | 0.14    | 0.2     | 0.05    | 0.03    |  3.3110 | 0.4     | 0.3     |\n",
       "\n"
      ],
      "text/plain": [
       "   Sample Location Deph(cm) 0_30_ID Site age Repetition Bulk density(kg m-3)\n",
       "1   1     Site A9  [0-10]   A       14       1           925.8              \n",
       "2   2     Site A9  [10-20]  A       14       1          1238.8              \n",
       "3   3     Site A9  [20-30]  A       14       1          1476.8              \n",
       "4   4     Site A9  [0-10]   B       14       2           821.6              \n",
       "5   5     Site A9  [10-20]  B       14       2          1489.4              \n",
       "6   6     Site A9  [20-30]  B       14       2          1507.6              \n",
       "7   7     Site A9  [0-10]   C       14       3           977.5              \n",
       "8   8     Site A9  [10-20]  C       14       3          1404.7              \n",
       "9   9     Site A9  [20-30]  C       14       3          1150.7              \n",
       "10 10     Site A9  [0-10]   D       14       4           925.8              \n",
       "11 11     Site A9  [10-20]  D       14       4          1404.7              \n",
       "12 12     Site A9  [20-30]  D       14       4          1476.8              \n",
       "13 13     Site 45  [0-10]   E       19       1           942.1              \n",
       "14 14     Site 45  [10-20]  E       19       1          1631.1              \n",
       "15 15     Site 45  [20-30]  E       19       1          1655.5              \n",
       "16 16     Site 45  [0-10]   G       19       2           793.7              \n",
       "17 17     Site 45  [10-20]  G       19       2          1646.0              \n",
       "18 18     Site 45  [20-30]  G       19       2          1653.1              \n",
       "19 19     Site 45  [0-10]   H       19       3           946.4              \n",
       "20 20     Site 45  [10-20]  H       19       3          1697.3              \n",
       "21 21     Site 45  [20-30]  H       19       3          1669.1              \n",
       "22 22     Site 45  [0-10]   I       19       4           942.1              \n",
       "23 23     Site 45  [10-20]  I       19       4          1646.0              \n",
       "24 24     Site 45  [20-30]  I       19       4          1655.5              \n",
       "   pHCaCl2 Sand carbon (%) Carbone(%) Sulfur(%) Nitrogen(%) C stock(kg m-3)\n",
       "1  3.8     0.30            1.8        0.07      0.08        16.6644        \n",
       "2  4.0     0.30            1.1        0.05      0.06        13.6268        \n",
       "3  4.2     0.30            1.0        0.06      0.05        14.7680        \n",
       "4  3.8     0.30            2.4        0.07      0.11        19.7184        \n",
       "5  3.8     0.30            1.2        0.06      0.06        17.8728        \n",
       "6  3.9     0.30            0.5        0.05      0.04         7.5380        \n",
       "7  4.0     0.30            1.6        0.06      0.08        15.6400        \n",
       "8  4.1     0.30            2.2        0.06      0.09        30.9034        \n",
       "9  4.3     0.30            0.5        0.07      0.13         5.7535        \n",
       "10 3.8     0.30            1.8        0.07      0.08        16.6644        \n",
       "11 4.0     0.30            1.2        0.06      0.06        16.8564        \n",
       "12 4.2     0.30            0.5        0.06      0.05         7.3840        \n",
       "13 3.7     0.14            1.6        0.07      0.09        15.0736        \n",
       "14 4.4     0.14            0.4        0.06      0.04         6.5244        \n",
       "15 4.4     0.14            0.3        0.05      0.03         4.9665        \n",
       "16 3.7     0.14            2.8        0.08      0.12        22.2236        \n",
       "17 4.3     0.14            0.6        0.06      0.05         9.8760        \n",
       "18 4.7     0.14            0.2        0.06      0.03         3.3062        \n",
       "19 3.8     0.14            1.2        0.06      0.08        11.3568        \n",
       "20 4.9     0.14            0.4        0.05      0.03         6.7892        \n",
       "21 5.1     0.14            0.1        0.05      0.04         1.6691        \n",
       "22 3.7     0.14            1.6        0.07      0.09        15.0736        \n",
       "23 4.4     0.14            0.4        0.06      0.04         6.5840        \n",
       "24 4.7     0.14            0.2        0.05      0.03         3.3110        \n",
       "   total porosity WFPS(70%)\n",
       "1  0.7            0.5      \n",
       "2  0.5            0.3      \n",
       "3  0.5            0.3      \n",
       "4  0.7            0.5      \n",
       "5  0.5            0.3      \n",
       "6  0.5            0.3      \n",
       "7  0.7            0.5      \n",
       "8  0.5            0.3      \n",
       "9  0.5            0.3      \n",
       "10 0.7            0.5      \n",
       "11 0.5            0.3      \n",
       "12 0.5            0.3      \n",
       "13 0.6            0.5      \n",
       "14 0.4            0.3      \n",
       "15 0.4            0.3      \n",
       "16 0.6            0.5      \n",
       "17 0.4            0.3      \n",
       "18 0.4            0.3      \n",
       "19 0.6            0.5      \n",
       "20 0.4            0.3      \n",
       "21 0.4            0.3      \n",
       "22 0.6            0.5      \n",
       "23 0.4            0.3      \n",
       "24 0.4            0.3      "
      ]
     },
     "metadata": {},
     "output_type": "display_data"
    }
   ],
   "source": [
    "data_carbon_credit <- read_csv2('data/data_carbon_credit.csv')\n",
    "data_carbon_credit"
   ]
  },
  {
   "cell_type": "markdown",
   "metadata": {},
   "source": [
    "Some calculations"
   ]
  },
  {
   "cell_type": "code",
   "execution_count": 36,
   "metadata": {},
   "outputs": [],
   "source": [
    "data_carbon_credit <- data_carbon_credit %>%\n",
    "mutate(`Soil mass Mg ha-1` = `Bulk density(kg m-3)` * 10 * 0.1 * (1- `Carbone(%)`/100), \n",
    "       `C stock(Mg ha-1)` = `Carbone(%)` * 0.1 * `Bulk density(kg m-3)` * 10 / 100,\n",
    "       `C stock(Mg ha-1year-1)` = `C stock(Mg ha-1)` /`Site age`,\n",
    "       `Added sand (%)` = 100 - ((`Carbone(%)` + 0.28)/0.39), # * , #1.724,\n",
    "       `Added sand (Mg ha-1)` = `Soil mass Mg ha-1` * `Added sand (%)`/100,\n",
    "       `Sand carbon stock (Mg ha-1)` = `Added sand (Mg ha-1)` * `Sand carbon (%)`/100,\n",
    "       `Accumulated C (Mg ha-1)` = `C stock(Mg ha-1)` - `Sand carbon stock (Mg ha-1)`,\n",
    "       `Accumulated C (Mg ha-1 year-1))` = `Accumulated C (Mg ha-1)`/ `Site age`)\n",
    "data_carbon_credit <- subset(data_carbon_credit, `Accumulated C (Mg ha-1)`>=0)\n",
    "       data_carbon_credit$`LogC` <- log10(data_carbon_credit$`C stock(Mg ha-1year-1)`)"
   ]
  },
  {
   "cell_type": "code",
   "execution_count": 37,
   "metadata": {},
   "outputs": [
    {
     "data": {
      "text/html": [
       "30.9034"
      ],
      "text/latex": [
       "30.9034"
      ],
      "text/markdown": [
       "30.9034"
      ],
      "text/plain": [
       "[1] 30.9034"
      ]
     },
     "metadata": {},
     "output_type": "display_data"
    },
    {
     "data": {
      "text/html": [
       "3.3062"
      ],
      "text/latex": [
       "3.3062"
      ],
      "text/markdown": [
       "3.3062"
      ],
      "text/plain": [
       "[1] 3.3062"
      ]
     },
     "metadata": {},
     "output_type": "display_data"
    }
   ],
   "source": [
    "max(data_carbon_credit$`C stock(Mg ha-1)`)\n",
    "min(data_carbon_credit$`C stock(Mg ha-1)`)"
   ]
  },
  {
   "cell_type": "code",
   "execution_count": 38,
   "metadata": {},
   "outputs": [
    {
     "data": {
      "text/html": [
       "<table>\n",
       "<thead><tr><th scope=col>Location</th><th scope=col>Deph(cm)</th><th scope=col>C stock(Mg ha-1)</th><th scope=col>Total_by_depth</th><th scope=col>C stock(%)</th></tr></thead>\n",
       "<tbody>\n",
       "\t<tr><td>Site 45 </td><td>[20-30] </td><td> 3.3110 </td><td>25.0712 </td><td>13.20639</td></tr>\n",
       "\t<tr><td>Site A9 </td><td>[20-30] </td><td> 7.4610 </td><td>41.4900 </td><td>17.98265</td></tr>\n",
       "\t<tr><td>Site 45 </td><td>[10-20] </td><td> 6.6866 </td><td>25.0712 </td><td>26.67044</td></tr>\n",
       "\t<tr><td>Site A9 </td><td>[0-10]  </td><td>16.6644 </td><td>41.4900 </td><td>40.16486</td></tr>\n",
       "\t<tr><td>Site A9 </td><td>[10-20] </td><td>17.3646 </td><td>41.4900 </td><td>41.85249</td></tr>\n",
       "\t<tr><td>Site 45 </td><td>[0-10]  </td><td>15.0736 </td><td>25.0712 </td><td>60.12317</td></tr>\n",
       "</tbody>\n",
       "</table>\n"
      ],
      "text/latex": [
       "\\begin{tabular}{r|lllll}\n",
       " Location & Deph(cm) & C stock(Mg ha-1) & Total\\_by\\_depth & C stock(\\%)\\\\\n",
       "\\hline\n",
       "\t Site 45     & {[}20-30{]} &  3.3110     & 25.0712     & 13.20639   \\\\\n",
       "\t Site A9     & {[}20-30{]} &  7.4610     & 41.4900     & 17.98265   \\\\\n",
       "\t Site 45     & {[}10-20{]} &  6.6866     & 25.0712     & 26.67044   \\\\\n",
       "\t Site A9     & {[}0-10{]}  & 16.6644     & 41.4900     & 40.16486   \\\\\n",
       "\t Site A9     & {[}10-20{]} & 17.3646     & 41.4900     & 41.85249   \\\\\n",
       "\t Site 45     & {[}0-10{]}  & 15.0736     & 25.0712     & 60.12317   \\\\\n",
       "\\end{tabular}\n"
      ],
      "text/markdown": [
       "\n",
       "| Location | Deph(cm) | C stock(Mg ha-1) | Total_by_depth | C stock(%) |\n",
       "|---|---|---|---|---|\n",
       "| Site 45  | [20-30]  |  3.3110  | 25.0712  | 13.20639 |\n",
       "| Site A9  | [20-30]  |  7.4610  | 41.4900  | 17.98265 |\n",
       "| Site 45  | [10-20]  |  6.6866  | 25.0712  | 26.67044 |\n",
       "| Site A9  | [0-10]   | 16.6644  | 41.4900  | 40.16486 |\n",
       "| Site A9  | [10-20]  | 17.3646  | 41.4900  | 41.85249 |\n",
       "| Site 45  | [0-10]   | 15.0736  | 25.0712  | 60.12317 |\n",
       "\n"
      ],
      "text/plain": [
       "  Location Deph(cm) C stock(Mg ha-1) Total_by_depth C stock(%)\n",
       "1 Site 45  [20-30]   3.3110          25.0712        13.20639  \n",
       "2 Site A9  [20-30]   7.4610          41.4900        17.98265  \n",
       "3 Site 45  [10-20]   6.6866          25.0712        26.67044  \n",
       "4 Site A9  [0-10]   16.6644          41.4900        40.16486  \n",
       "5 Site A9  [10-20]  17.3646          41.4900        41.85249  \n",
       "6 Site 45  [0-10]   15.0736          25.0712        60.12317  "
      ]
     },
     "metadata": {},
     "output_type": "display_data"
    }
   ],
   "source": [
    "Mean_stock <- aggregate(`C stock(Mg ha-1)` ~ Location + `Deph(cm)` , data = data_carbon_credit, FUN = median)\n",
    "Sum_stock <- aggregate(`C stock(Mg ha-1)` ~ Location , data = Mean_stock, FUN = sum) %>%\n",
    "rename(Total_by_depth =`C stock(Mg ha-1)`)\n",
    "Mean_stock_C <- aggregate(`C stock(Mg ha-1)` ~ Location + `Deph(cm)`, data = data_carbon_credit, FUN = median) %>%\n",
    "left_join(Sum_stock, by = \"Location\")%>%\n",
    "mutate(`C stock(%)` = `C stock(Mg ha-1)` * 100 / `Total_by_depth`) %>%\n",
    "arrange(`C stock(%)`)\n",
    "Mean_stock_C"
   ]
  },
  {
   "cell_type": "markdown",
   "metadata": {},
   "source": [
    "#### 9.1.1 Carbon stock mixed model"
   ]
  },
  {
   "cell_type": "code",
   "execution_count": 39,
   "metadata": {},
   "outputs": [],
   "source": [
    "data_carbon_credit <- data_carbon_credit %>%\n",
    "  rename(#Accumulated_C =  `Accumulated C (Mg ha-1 year-1))`,\n",
    "        Layers = `Deph(cm)`)\n",
    "\n",
    "\n",
    "C_mm <- lme(fixed = LogC ~ Layers,\n",
    "                     random = ~ 1 | Location,\n",
    "                     data = data_carbon_credit)"
   ]
  },
  {
   "cell_type": "code",
   "execution_count": 40,
   "metadata": {},
   "outputs": [
    {
     "data": {
      "text/plain": [
       "Linear mixed-effects model fit by REML\n",
       " Data: data_carbon_credit \n",
       "         AIC      BIC   logLik\n",
       "  -0.4515503 4.527111 5.225775\n",
       "\n",
       "Random effects:\n",
       " Formula: ~1 | Location\n",
       "        (Intercept)  Residual\n",
       "StdDev:    0.275093 0.1457109\n",
       "\n",
       "Fixed effects: LogC ~ Layers \n",
       "                   Value  Std.Error DF   t-value p-value\n",
       "(Intercept)   -0.0010418 0.20122632 19 -0.005177  0.9959\n",
       "Layers[10-20] -0.1410506 0.07285546 19 -1.936033  0.0679\n",
       "Layers[20-30] -0.4565022 0.07553515 19 -6.043574  0.0000\n",
       " Correlation: \n",
       "              (Intr) L[10-2\n",
       "Layers[10-20] -0.181       \n",
       "Layers[20-30] -0.175  0.482\n",
       "\n",
       "Standardized Within-Group Residuals:\n",
       "       Min         Q1        Med         Q3        Max \n",
       "-0.9815670 -0.7828486 -0.2078106  0.4220609  2.0162870 \n",
       "\n",
       "Number of Observations: 23\n",
       "Number of Groups: 2 "
      ]
     },
     "metadata": {},
     "output_type": "display_data"
    }
   ],
   "source": [
    "summary(C_mm)"
   ]
  },
  {
   "cell_type": "code",
   "execution_count": 41,
   "metadata": {},
   "outputs": [
    {
     "data": {
      "text/html": [
       "0.350992070717354"
      ],
      "text/latex": [
       "0.350992070717354"
      ],
      "text/markdown": [
       "0.350992070717354"
      ],
      "text/plain": [
       "[1] 0.3509921"
      ]
     },
     "metadata": {},
     "output_type": "display_data"
    },
    {
     "data": {
      "text/html": [
       "0.797539943425107"
      ],
      "text/latex": [
       "0.797539943425107"
      ],
      "text/markdown": [
       "0.797539943425107"
      ],
      "text/plain": [
       "[1] 0.7975399"
      ]
     },
     "metadata": {},
     "output_type": "display_data"
    }
   ],
   "source": [
    "pseudoR2(y = data_carbon_credit$LogC,\n",
    "         y_hat = predict(C_mm, level = 0))\n",
    "\n",
    "pseudoR2(y = data_carbon_credit$LogC,\n",
    "         y_hat = predict(C_mm, level = 1))"
   ]
  },
  {
   "cell_type": "markdown",
   "metadata": {},
   "source": [
    "Shapiro-Wilk normality test"
   ]
  },
  {
   "cell_type": "code",
   "execution_count": 42,
   "metadata": {},
   "outputs": [
    {
     "name": "stdout",
     "output_type": "stream",
     "text": [
      "[1] \"Shapiro-Wilk:\"\n",
      "\n",
      "\tShapiro-Wilk normality test\n",
      "\n",
      "data:  r\n",
      "W = 0.93228, p-value = 0.1225\n",
      "\n",
      "[1] \"Kurtosis: -0.921518881598221\"\n",
      "[1] \"Skewness: 0.222610190058117\"\n"
     ]
    },
    {
     "data": {
      "image/png": "[encoded data removed]",
      "text/plain": [
       "Plot with title \"\""
      ]
     },
     "metadata": {},
     "output_type": "display_data"
    }
   ],
   "source": [
    "options(repr.plot.width = 6, repr.plot.height = 4)\n",
    "residues(C_mm)"
   ]
  },
  {
   "cell_type": "markdown",
   "metadata": {},
   "source": [
    "Reporting the results of the mixed models"
   ]
  },
  {
   "cell_type": "markdown",
   "metadata": {},
   "source": [
    "I create a table including the results I need: estimates, confidence intervals and p-values."
   ]
  },
  {
   "cell_type": "code",
   "execution_count": 43,
   "metadata": {},
   "outputs": [
    {
     "ename": "ERROR",
     "evalue": "Error in eval(expr, envir, enclos): objet 'C_gg' introuvable\n",
     "output_type": "error",
     "traceback": [
      "Error in eval(expr, envir, enclos): objet 'C_gg' introuvable\nTraceback:\n"
     ]
    }
   ],
   "source": [
    "C_gg"
   ]
  },
  {
   "cell_type": "code",
   "execution_count": 44,
   "metadata": {},
   "outputs": [
    {
     "data": {
      "text/html": [
       "<table>\n",
       "<thead><tr><th scope=col>lower</th><th scope=col>est.</th><th scope=col>upper</th><th scope=col>variable</th><th scope=col>pvalue</th><th scope=col>is_significant</th></tr></thead>\n",
       "<tbody>\n",
       "\t<tr><td>-0.4222133                   </td><td>-0.0010418                   </td><td> 0.42012973                  </td><td>Intercept                    </td><td>9.959231e-01                 </td><td>Not significant at 0.05 level</td></tr>\n",
       "\t<tr><td>-0.2935388                   </td><td>-0.1410506                   </td><td> 0.01143768                  </td><td>Layer[10-20] cm              </td><td>6.788429e-02                 </td><td>Not significant at 0.05 level</td></tr>\n",
       "\t<tr><td>-0.6145991                   </td><td>-0.4565022                   </td><td>-0.29840534                  </td><td>Layer[20-30] cm              </td><td>8.186924e-06                 </td><td>Significant at 0.05 level    </td></tr>\n",
       "</tbody>\n",
       "</table>\n"
      ],
      "text/latex": [
       "\\begin{tabular}{r|llllll}\n",
       " lower & est. & upper & variable & pvalue & is\\_significant\\\\\n",
       "\\hline\n",
       "\t -0.4222133                    & -0.0010418                    &  0.42012973                   & Intercept                     & 9.959231e-01                  & Not significant at 0.05 level\\\\\n",
       "\t -0.2935388                    & -0.1410506                    &  0.01143768                   & Layer{[}10-20{]} cm           & 6.788429e-02                  & Not significant at 0.05 level\\\\\n",
       "\t -0.6145991                    & -0.4565022                    & -0.29840534                   & Layer{[}20-30{]} cm           & 8.186924e-06                  & Significant at 0.05 level    \\\\\n",
       "\\end{tabular}\n"
      ],
      "text/markdown": [
       "\n",
       "| lower | est. | upper | variable | pvalue | is_significant |\n",
       "|---|---|---|---|---|---|\n",
       "| -0.4222133                    | -0.0010418                    |  0.42012973                   | Intercept                     | 9.959231e-01                  | Not significant at 0.05 level |\n",
       "| -0.2935388                    | -0.1410506                    |  0.01143768                   | Layer[10-20] cm               | 6.788429e-02                  | Not significant at 0.05 level |\n",
       "| -0.6145991                    | -0.4565022                    | -0.29840534                   | Layer[20-30] cm               | 8.186924e-06                  | Significant at 0.05 level     |\n",
       "\n"
      ],
      "text/plain": [
       "  lower      est.       upper       variable        pvalue      \n",
       "1 -0.4222133 -0.0010418  0.42012973 Intercept       9.959231e-01\n",
       "2 -0.2935388 -0.1410506  0.01143768 Layer[10-20] cm 6.788429e-02\n",
       "3 -0.6145991 -0.4565022 -0.29840534 Layer[20-30] cm 8.186924e-06\n",
       "  is_significant               \n",
       "1 Not significant at 0.05 level\n",
       "2 Not significant at 0.05 level\n",
       "3 Significant at 0.05 level    "
      ]
     },
     "metadata": {},
     "output_type": "display_data"
    }
   ],
   "source": [
    "C_gg <- data.frame(intervals(C_mm, which = \"fixed\")$fixed)\n",
    "C_gg <- C_gg %>%\n",
    "  mutate(variable = rownames(C_gg))\n",
    "C_gg <- C_gg %>%\n",
    "  mutate(pvalue = summary(C_mm)$tTable[, 5],\n",
    "         is_significant = ifelse(pvalue <= 0.05, 'Significant at 0.05 level', 'Not significant at 0.05 level'))\n",
    "C_gg$variable <- c(\"Intercept\", 'Layer[10-20] cm', 'Layer[20-30] cm')\n",
    "C_gg"
   ]
  },
  {
   "cell_type": "markdown",
   "metadata": {},
   "source": [
    "Adding random effects to the table."
   ]
  },
  {
   "cell_type": "code",
   "execution_count": 45,
   "metadata": {},
   "outputs": [
    {
     "data": {
      "text/html": [
       "<table>\n",
       "<thead><tr><th scope=col>lower</th><th scope=col>est.</th><th scope=col>upper</th><th scope=col>variable</th><th scope=col>pvalue</th><th scope=col>is_significant</th></tr></thead>\n",
       "<tbody>\n",
       "\t<tr><td>NA        </td><td>-0.1921755</td><td>NA        </td><td>Site 45   </td><td>NA        </td><td>NA        </td></tr>\n",
       "\t<tr><td>NA        </td><td> 0.1921755</td><td>NA        </td><td>Site A9   </td><td>NA        </td><td>NA        </td></tr>\n",
       "</tbody>\n",
       "</table>\n"
      ],
      "text/latex": [
       "\\begin{tabular}{r|llllll}\n",
       " lower & est. & upper & variable & pvalue & is\\_significant\\\\\n",
       "\\hline\n",
       "\t NA         & -0.1921755 & NA         & Site 45    & NA         & NA        \\\\\n",
       "\t NA         &  0.1921755 & NA         & Site A9    & NA         & NA        \\\\\n",
       "\\end{tabular}\n"
      ],
      "text/markdown": [
       "\n",
       "| lower | est. | upper | variable | pvalue | is_significant |\n",
       "|---|---|---|---|---|---|\n",
       "| NA         | -0.1921755 | NA         | Site 45    | NA         | NA         |\n",
       "| NA         |  0.1921755 | NA         | Site A9    | NA         | NA         |\n",
       "\n"
      ],
      "text/plain": [
       "  lower est.       upper variable pvalue is_significant\n",
       "1 NA    -0.1921755 NA    Site 45  NA     NA            \n",
       "2 NA     0.1921755 NA    Site A9  NA     NA            "
      ]
     },
     "metadata": {},
     "output_type": "display_data"
    }
   ],
   "source": [
    "C_re <- data.frame(matrix(ncol = ncol(C_gg), nrow = 2))\n",
    "names(C_re) <- names(C_gg)\n",
    "C_re$est. <- c(ranef(C_mm)$`(Intercept)`)\n",
    "C_re$variable <- c(rownames(ranef(C_mm)))\n",
    "C_re\n",
    "\n",
    "C_gg <- bind_rows(C_gg, C_re) # with an if to make sure ranefs are stacked only once"
   ]
  },
  {
   "cell_type": "code",
   "execution_count": 46,
   "metadata": {},
   "outputs": [
    {
     "data": {
      "text/html": [
       "<table>\n",
       "<thead><tr><th scope=col>lower</th><th scope=col>est.</th><th scope=col>upper</th><th scope=col>variable</th><th scope=col>pvalue</th><th scope=col>is_significant</th></tr></thead>\n",
       "<tbody>\n",
       "\t<tr><td>-0.4222133                   </td><td>-0.0010418                   </td><td> 0.42012973                  </td><td>Intercept                    </td><td>9.959231e-01                 </td><td>Not significant at 0.05 level</td></tr>\n",
       "\t<tr><td>-0.2935388                   </td><td>-0.1410506                   </td><td> 0.01143768                  </td><td>Layer[10-20] cm              </td><td>6.788429e-02                 </td><td>Not significant at 0.05 level</td></tr>\n",
       "\t<tr><td>-0.6145991                   </td><td>-0.4565022                   </td><td>-0.29840534                  </td><td>Layer[20-30] cm              </td><td>8.186924e-06                 </td><td>Significant at 0.05 level    </td></tr>\n",
       "\t<tr><td>        NA                   </td><td>-0.1921755                   </td><td>         NA                  </td><td>Site 45                      </td><td>          NA                 </td><td>NA                           </td></tr>\n",
       "\t<tr><td>        NA                   </td><td> 0.1921755                   </td><td>         NA                  </td><td>Site A9                      </td><td>          NA                 </td><td>NA                           </td></tr>\n",
       "</tbody>\n",
       "</table>\n"
      ],
      "text/latex": [
       "\\begin{tabular}{r|llllll}\n",
       " lower & est. & upper & variable & pvalue & is\\_significant\\\\\n",
       "\\hline\n",
       "\t -0.4222133                    & -0.0010418                    &  0.42012973                   & Intercept                     & 9.959231e-01                  & Not significant at 0.05 level\\\\\n",
       "\t -0.2935388                    & -0.1410506                    &  0.01143768                   & Layer{[}10-20{]} cm           & 6.788429e-02                  & Not significant at 0.05 level\\\\\n",
       "\t -0.6145991                    & -0.4565022                    & -0.29840534                   & Layer{[}20-30{]} cm           & 8.186924e-06                  & Significant at 0.05 level    \\\\\n",
       "\t         NA                    & -0.1921755                    &          NA                   & Site 45                       &           NA                  & NA                           \\\\\n",
       "\t         NA                    &  0.1921755                    &          NA                   & Site A9                       &           NA                  & NA                           \\\\\n",
       "\\end{tabular}\n"
      ],
      "text/markdown": [
       "\n",
       "| lower | est. | upper | variable | pvalue | is_significant |\n",
       "|---|---|---|---|---|---|\n",
       "| -0.4222133                    | -0.0010418                    |  0.42012973                   | Intercept                     | 9.959231e-01                  | Not significant at 0.05 level |\n",
       "| -0.2935388                    | -0.1410506                    |  0.01143768                   | Layer[10-20] cm               | 6.788429e-02                  | Not significant at 0.05 level |\n",
       "| -0.6145991                    | -0.4565022                    | -0.29840534                   | Layer[20-30] cm               | 8.186924e-06                  | Significant at 0.05 level     |\n",
       "|         NA                    | -0.1921755                    |          NA                   | Site 45                       |           NA                  | NA                            |\n",
       "|         NA                    |  0.1921755                    |          NA                   | Site A9                       |           NA                  | NA                            |\n",
       "\n"
      ],
      "text/plain": [
       "  lower      est.       upper       variable        pvalue      \n",
       "1 -0.4222133 -0.0010418  0.42012973 Intercept       9.959231e-01\n",
       "2 -0.2935388 -0.1410506  0.01143768 Layer[10-20] cm 6.788429e-02\n",
       "3 -0.6145991 -0.4565022 -0.29840534 Layer[20-30] cm 8.186924e-06\n",
       "4         NA -0.1921755          NA Site 45                   NA\n",
       "5         NA  0.1921755          NA Site A9                   NA\n",
       "  is_significant               \n",
       "1 Not significant at 0.05 level\n",
       "2 Not significant at 0.05 level\n",
       "3 Significant at 0.05 level    \n",
       "4 NA                           \n",
       "5 NA                           "
      ]
     },
     "metadata": {},
     "output_type": "display_data"
    }
   ],
   "source": [
    "C_gg"
   ]
  },
  {
   "cell_type": "markdown",
   "metadata": {},
   "source": [
    "Create a facet column to separate effects by effect category in the plot."
   ]
  },
  {
   "cell_type": "code",
   "execution_count": 47,
   "metadata": {},
   "outputs": [],
   "source": [
    "C_gg$facet <- factor(c('Intercept',\n",
    "                        'Layer', 'Layer', 'Random effect', 'Random effect'))\n",
    "C_gg <- C_gg %>%\n",
    "  mutate(facet = factor(facet, levels = rev(c(\"Random effect\", \"Layer\"))))"
   ]
  },
  {
   "cell_type": "raw",
   "metadata": {},
   "source": [
    "The `C_gg` table is now set up for the plot."
   ]
  },
  {
   "cell_type": "code",
   "execution_count": 48,
   "metadata": {},
   "outputs": [
    {
     "name": "stderr",
     "output_type": "stream",
     "text": [
      "Warning message:\n",
      "\"Removed 2 rows containing missing values (geom_segment).\"Warning message:\n",
      "\"Removed 2 rows containing missing values (geom_segment).\""
     ]
    },
    {
     "data": {
      "image/png": "[encoded data removed]",
      "text/plain": [
       "plot without title"
      ]
     },
     "metadata": {},
     "output_type": "display_data"
    }
   ],
   "source": [
    "options(repr.plot.width = 12, repr.plot.height = 6)\n",
    "C_gg %>%\n",
    "  filter(variable != \"Intercept\") %>%\n",
    "  ggplot(aes(x = est., y = variable)) +\n",
    "  facet_grid(facet ~ ., scales = 'free', space = 'free') +\n",
    "  geom_vline(xintercept = 0, colour='grey70') +\n",
    "  geom_point() +\n",
    "  geom_segment(aes(x = lower, xend = upper, y = variable, yend = variable)) +\n",
    "  xlab('Coefficient') +\n",
    "  ylab('') +\n",
    "  theme_bw() +\n",
    "  theme(strip.text = element_text(size = 15, face=\"bold\"), axis.text=element_text(size=15, face=\"bold\"),\n",
    "        axis.title=element_text(size=15,face=\"bold\")) +\n",
    "  ggsave(\"figures/mixed-model-C_stock.png\", width = 8, height = 6, dpi = 600)"
   ]
  },
  {
   "cell_type": "markdown",
   "metadata": {},
   "source": [
    "## 9.2 Carbon accumulation"
   ]
  },
  {
   "cell_type": "raw",
   "metadata": {},
   "source": [
    "data_0_30 <- aggregate(cbind(`Soil mass Mg ha-1`, `C_stock`) ~ Location + `0_30_ID` , data = data_carbon_credit, FUN = sum)\n",
    "data_0_30"
   ]
  },
  {
   "cell_type": "raw",
   "metadata": {},
   "source": [
    "Mean <- aggregate(cbind(`Soil mass Mg ha-1`, `C_stock`) ~ Location, data = data_0_30, FUN = mean)\n",
    "Mean"
   ]
  },
  {
   "cell_type": "markdown",
   "metadata": {},
   "source": [
    "### 9.2.1 Cranberry sand carbon content"
   ]
  },
  {
   "cell_type": "markdown",
   "metadata": {},
   "source": [
    "Sand carbon percentage"
   ]
  },
  {
   "cell_type": "raw",
   "metadata": {},
   "source": [
    "C_percentage_A9 <- 0.30 # for siteA9\n",
    "C_percentage_45 <- 0.14 # for site45"
   ]
  },
  {
   "cell_type": "raw",
   "metadata": {},
   "source": [
    "data_carbon_credit"
   ]
  },
  {
   "cell_type": "markdown",
   "metadata": {},
   "source": [
    "### 9.2.2 Ellert Factor"
   ]
  },
  {
   "cell_type": "raw",
   "metadata": {},
   "source": [
    "Soil_stickness <- 0.3\n",
    "Ellert_A9 <- Mean[2,2] / (max(data_carbon_credit[1:12,]$`Bulk density(kg m-3)`) * 10 * Soil_stickness * (1 - C_percentage_A9/100))\n",
    "Ellert_45 <- Mean[1,2] / (max(data_carbon_credit[12:24,]$`Bulk density(kg m-3)`) * 10 * Soil_stickness * (1 - C_percentage_45/100))\n",
    "Ellert_A9\n",
    "Ellert_45"
   ]
  },
  {
   "cell_type": "markdown",
   "metadata": {},
   "source": [
    "Sand carbon content"
   ]
  },
  {
   "cell_type": "raw",
   "metadata": {},
   "source": [
    "Sand_carbon_content_A9 <- (max(data_carbon_credit[1:12,]$`Bulk density(kg m-3)`)) * Soil_stickness * 10000 * (C_percentage_A9/100) #* Ellert_A9\n",
    "Sand_carbon_content_A9\n",
    "Sand_carbon_content_45 <- (max(data_carbon_credit[12:24,]$`Bulk density(kg m-3)`)) * Soil_stickness * 10000 * (C_percentage_45/100)# * Ellert_45\n",
    "Sand_carbon_content_45"
   ]
  },
  {
   "cell_type": "markdown",
   "metadata": {},
   "source": [
    "Carbon gain "
   ]
  },
  {
   "cell_type": "raw",
   "metadata": {},
   "source": [
    "Gain_A9 <- Mean[2,3] - Sand_carbon_content_A9\n",
    "Gain_A9\n",
    "Gain_45 <- Mean[1,3] - Sand_carbon_content_45\n",
    "Gain_45"
   ]
  },
  {
   "cell_type": "markdown",
   "metadata": {},
   "source": [
    "Experimental Sites ages"
   ]
  },
  {
   "cell_type": "raw",
   "metadata": {},
   "source": [
    "Site45_age <- 19\n",
    "SiteA9_age <- 14"
   ]
  },
  {
   "cell_type": "markdown",
   "metadata": {},
   "source": [
    "Carbon accumulation per year"
   ]
  },
  {
   "cell_type": "raw",
   "metadata": {},
   "source": [
    " Gain_45 / Site45_age # Site45 carbon accumulation per year\n",
    " Gain_A9 / SiteA9_age # SiteA9 carbon accumulation per year"
   ]
  },
  {
   "cell_type": "raw",
   "metadata": {},
   "source": [
    "Stock_carbon <- aggregate(`C_stock` ~ Location + `Depth` , data = data_carbon_credit, FUN = mean)\n",
    "Stock_carbon"
   ]
  },
  {
   "cell_type": "raw",
   "metadata": {},
   "source": [
    "Stock_carbon_45 <- subset(Stock_carbon, Location == \"Site 45\")\n",
    "Stock_carbon_A9 <- subset(Stock_carbon, Location == \"Site A9\")\n",
    "Stock_carbon_45$`Accumulated carbon (kg ha-1 year-1)` <- (Stock_carbon_45$`C_stock` - (Sand_carbon_content_45 / 3)) / Site45_age\n",
    "Stock_carbon_A9$`Accumulated carbon (kg ha-1 year-1)` <- (Stock_carbon_A9$`C_stock` - (Sand_carbon_content_A9 / 3)) / SiteA9_age\n",
    "Acumulated_carbon <- rbind(Stock_carbon_45, Stock_carbon_A9)\n",
    "Acumulated_carbon"
   ]
  },
  {
   "cell_type": "raw",
   "metadata": {},
   "source": [
    "sum(Acumulated_carbon$C_stock[1:3])\n",
    "sum(Acumulated_carbon$C_stock[4:6])"
   ]
  },
  {
   "cell_type": "code",
   "execution_count": 49,
   "metadata": {},
   "outputs": [
    {
     "data": {
      "text/html": [
       "<ol class=list-inline>\n",
       "\t<li>'Sample'</li>\n",
       "\t<li>'Location'</li>\n",
       "\t<li>'Layers'</li>\n",
       "\t<li>'0_30_ID'</li>\n",
       "\t<li>'Site age'</li>\n",
       "\t<li>'Repetition'</li>\n",
       "\t<li>'Bulk density(kg m-3)'</li>\n",
       "\t<li>'pHCaCl2'</li>\n",
       "\t<li>'Sand carbon (%)'</li>\n",
       "\t<li>'Carbone(%)'</li>\n",
       "\t<li>'Sulfur(%)'</li>\n",
       "\t<li>'Nitrogen(%)'</li>\n",
       "\t<li>'C stock(kg m-3)'</li>\n",
       "\t<li>'total porosity'</li>\n",
       "\t<li>'WFPS(70%)'</li>\n",
       "\t<li>'Soil mass Mg ha-1'</li>\n",
       "\t<li>'C stock(Mg ha-1)'</li>\n",
       "\t<li>'C stock(Mg ha-1year-1)'</li>\n",
       "\t<li>'Added sand (%)'</li>\n",
       "\t<li>'Added sand (Mg ha-1)'</li>\n",
       "\t<li>'Sand carbon stock (Mg ha-1)'</li>\n",
       "\t<li>'Accumulated C (Mg ha-1)'</li>\n",
       "\t<li>'Accumulated C (Mg ha-1 year-1))'</li>\n",
       "\t<li>'LogC'</li>\n",
       "</ol>\n"
      ],
      "text/latex": [
       "\\begin{enumerate*}\n",
       "\\item 'Sample'\n",
       "\\item 'Location'\n",
       "\\item 'Layers'\n",
       "\\item '0\\_30\\_ID'\n",
       "\\item 'Site age'\n",
       "\\item 'Repetition'\n",
       "\\item 'Bulk density(kg m-3)'\n",
       "\\item 'pHCaCl2'\n",
       "\\item 'Sand carbon (\\%)'\n",
       "\\item 'Carbone(\\%)'\n",
       "\\item 'Sulfur(\\%)'\n",
       "\\item 'Nitrogen(\\%)'\n",
       "\\item 'C stock(kg m-3)'\n",
       "\\item 'total porosity'\n",
       "\\item 'WFPS(70\\%)'\n",
       "\\item 'Soil mass Mg ha-1'\n",
       "\\item 'C stock(Mg ha-1)'\n",
       "\\item 'C stock(Mg ha-1year-1)'\n",
       "\\item 'Added sand (\\%)'\n",
       "\\item 'Added sand (Mg ha-1)'\n",
       "\\item 'Sand carbon stock (Mg ha-1)'\n",
       "\\item 'Accumulated C (Mg ha-1)'\n",
       "\\item 'Accumulated C (Mg ha-1 year-1))'\n",
       "\\item 'LogC'\n",
       "\\end{enumerate*}\n"
      ],
      "text/markdown": [
       "1. 'Sample'\n",
       "2. 'Location'\n",
       "3. 'Layers'\n",
       "4. '0_30_ID'\n",
       "5. 'Site age'\n",
       "6. 'Repetition'\n",
       "7. 'Bulk density(kg m-3)'\n",
       "8. 'pHCaCl2'\n",
       "9. 'Sand carbon (%)'\n",
       "10. 'Carbone(%)'\n",
       "11. 'Sulfur(%)'\n",
       "12. 'Nitrogen(%)'\n",
       "13. 'C stock(kg m-3)'\n",
       "14. 'total porosity'\n",
       "15. 'WFPS(70%)'\n",
       "16. 'Soil mass Mg ha-1'\n",
       "17. 'C stock(Mg ha-1)'\n",
       "18. 'C stock(Mg ha-1year-1)'\n",
       "19. 'Added sand (%)'\n",
       "20. 'Added sand (Mg ha-1)'\n",
       "21. 'Sand carbon stock (Mg ha-1)'\n",
       "22. 'Accumulated C (Mg ha-1)'\n",
       "23. 'Accumulated C (Mg ha-1 year-1))'\n",
       "24. 'LogC'\n",
       "\n",
       "\n"
      ],
      "text/plain": [
       " [1] \"Sample\"                          \"Location\"                       \n",
       " [3] \"Layers\"                          \"0_30_ID\"                        \n",
       " [5] \"Site age\"                        \"Repetition\"                     \n",
       " [7] \"Bulk density(kg m-3)\"            \"pHCaCl2\"                        \n",
       " [9] \"Sand carbon (%)\"                 \"Carbone(%)\"                     \n",
       "[11] \"Sulfur(%)\"                       \"Nitrogen(%)\"                    \n",
       "[13] \"C stock(kg m-3)\"                 \"total porosity\"                 \n",
       "[15] \"WFPS(70%)\"                       \"Soil mass Mg ha-1\"              \n",
       "[17] \"C stock(Mg ha-1)\"                \"C stock(Mg ha-1year-1)\"         \n",
       "[19] \"Added sand (%)\"                  \"Added sand (Mg ha-1)\"           \n",
       "[21] \"Sand carbon stock (Mg ha-1)\"     \"Accumulated C (Mg ha-1)\"        \n",
       "[23] \"Accumulated C (Mg ha-1 year-1))\" \"LogC\"                           "
      ]
     },
     "metadata": {},
     "output_type": "display_data"
    }
   ],
   "source": [
    "names(data_carbon_credit)"
   ]
  },
  {
   "cell_type": "code",
   "execution_count": 50,
   "metadata": {},
   "outputs": [
    {
     "data": {
      "image/png": "[encoded data removed]",
      "text/plain": [
       "plot without title"
      ]
     },
     "metadata": {},
     "output_type": "display_data"
    }
   ],
   "source": [
    "options(repr.plot.width = 10, repr.plot.height = 6)\n",
    "ggplot(data_carbon_credit, aes(x = `Layers`, y = `pHCaCl2`)) +\n",
    "geom_bar(stat=\"identity\", position=\"dodge\") +\n",
    "labs(x = \"Layer(cm)\" , y = expression(\"Accumulated total carbon (Mg ha\"^\" -1\"~\"year\"^\" -1\"~\")\"))+\n",
    "facet_grid( .~ Location, scales = 'free')+\n",
    "theme_bw() +\n",
    "theme(strip.text = element_text(size = 12), axis.text=element_text(size=12),\n",
    "        axis.title=element_text(size=12,face=\"bold\")) +\n",
    "ggsave(\"figures/Carbon credit.png\", width = 6, height = 4, dpi = 120)"
   ]
  },
  {
   "cell_type": "code",
   "execution_count": null,
   "metadata": {},
   "outputs": [],
   "source": []
  },
  {
   "cell_type": "code",
   "execution_count": 51,
   "metadata": {},
   "outputs": [
    {
     "name": "stderr",
     "output_type": "stream",
     "text": [
      "Using ',' as decimal and '.' as grouping mark. Use read_delim() for more control.\n",
      "Parsed with column specification:\n",
      "cols(\n",
      "  .default = col_double(),\n",
      "  Projet = col_character(),\n",
      "  Site = col_character(),\n",
      "  Horizon = col_character(),\n",
      "  Layers = col_character(),\n",
      "  `Soil texture` = col_character(),\n",
      "  Munsell_color = col_character()\n",
      ")\n",
      "See spec(...) for full column specifications.\n"
     ]
    }
   ],
   "source": [
    "Carbon_credit <- read_csv2('data/Carbon_credit.csv')"
   ]
  },
  {
   "cell_type": "code",
   "execution_count": 52,
   "metadata": {},
   "outputs": [],
   "source": [
    "Carbon_credit <- Carbon_credit %>%\n",
    "mutate(`Carbon content (Mg/ha)` =  `Thickness(cm)` *0.01 *  `Bulk density(kg m-3)` * 10 * C_pourc/100,\n",
    "       `C/N` = C_pourc/N_pourc,\n",
    "       `Accumulated_C_per_year (Mg/ha)` = `Carbon content (Mg/ha)` / Site_age,\n",
    "      `LogC` = log10(`Accumulated_C_per_year (Mg/ha)`))"
   ]
  },
  {
   "cell_type": "code",
   "execution_count": 53,
   "metadata": {},
   "outputs": [],
   "source": [
    "Carbon_credit$Layers <- factor(Carbon_credit$Layers,levels = Carbon_credit$Layers)"
   ]
  },
  {
   "cell_type": "code",
   "execution_count": 54,
   "metadata": {},
   "outputs": [
    {
     "data": {
      "text/html": [
       "<table>\n",
       "<thead><tr><th scope=col>Soil texture</th><th scope=col>C/N</th></tr></thead>\n",
       "<tbody>\n",
       "\t<tr><td>Organic matter</td><td>31.25977      </td></tr>\n",
       "\t<tr><td>Sand          </td><td>14.24512      </td></tr>\n",
       "</tbody>\n",
       "</table>\n"
      ],
      "text/latex": [
       "\\begin{tabular}{r|ll}\n",
       " Soil texture & C/N\\\\\n",
       "\\hline\n",
       "\t Organic matter & 31.25977      \\\\\n",
       "\t Sand           & 14.24512      \\\\\n",
       "\\end{tabular}\n"
      ],
      "text/markdown": [
       "\n",
       "| Soil texture | C/N |\n",
       "|---|---|\n",
       "| Organic matter | 31.25977       |\n",
       "| Sand           | 14.24512       |\n",
       "\n"
      ],
      "text/plain": [
       "  Soil texture   C/N     \n",
       "1 Organic matter 31.25977\n",
       "2 Sand           14.24512"
      ]
     },
     "metadata": {},
     "output_type": "display_data"
    }
   ],
   "source": [
    "Mean_C_over_N <- aggregate(`C/N` ~ `Soil texture` , data = Carbon_credit, FUN = median)\n",
    "Mean_C_over_N"
   ]
  },
  {
   "cell_type": "code",
   "execution_count": 55,
   "metadata": {},
   "outputs": [],
   "source": [
    "library(grid)"
   ]
  },
  {
   "cell_type": "code",
   "execution_count": 56,
   "metadata": {},
   "outputs": [
    {
     "name": "stderr",
     "output_type": "stream",
     "text": [
      "Warning message:\n",
      "\"`expand_scale()` is deprecated; use `expansion()` instead.\""
     ]
    },
    {
     "data": {
      "image/png": "[encoded data removed]",
      "text/plain": [
       "plot without title"
      ]
     },
     "metadata": {},
     "output_type": "display_data"
    }
   ],
   "source": [
    "options(repr.plot.width=12, repr.plot.height=8)\n",
    "plot2 <- Carbon_credit %>%\n",
    "subset(Site == \"Fortier/45\")%>%\n",
    "ggplot(Carbon_credit, mapping = aes(x = `Layers`, y = `C/N`)) +\n",
    "  facet_grid(`Site` ~ ., scales = \"free\") +\n",
    "  geom_bar(aes(fill= `Soil texture`), colour = \"black\", stat=\"identity\", position=\"dodge\") +\n",
    "#geom_smooth(method = loess, se = FALSE) + \n",
    "labs(x = \"Sublayers (cm)\", y = \"C:N ratio\") +\n",
    "#scale_x_continuous(breaks = 2*0:1000,\n",
    " #                    expand = expand_scale(add = 2)) +\n",
    "scale_y_continuous(breaks = 2*0:1000,\n",
    "                     expand = expand_scale(add = 0)) +\n",
    "  theme_bw() +\n",
    "scale_fill_manual(values = c(\"black\",\"grey\")) +\n",
    "  theme(strip.background = element_rect(fill = \"transparent\", colour = \"transparent\"),\n",
    "        strip.placement = \"outside\", legend.direction = \"horizontal\",legend.text=element_text(size=12, angle = 90),\n",
    "        legend.key.size = unit(0.5, \"cm\"), legend.title.align = 0.6,\n",
    "       strip.text = element_text(size = 19),\n",
    "        axis.text=element_text(size=14), \n",
    "        legend.title = element_text(size=17, angle = 90), legend.position = c(0.70, 0.85),\n",
    "        axis.title=element_text(size=19, angle = 180), axis.text.x = element_text( \n",
    "                           size = 10, angle = 90),\n",
    "          axis.text.y = element_text( \n",
    "                           size = 10, angle = 90)) +\n",
    "theme(strip.text.y = element_text(angle = 90))\n",
    "plot2\n",
    "ggsave(\"figures/(Fortier_C_over_N).png\", width = 4, height = 8, dpi = 600)"
   ]
  },
  {
   "cell_type": "code",
   "execution_count": 57,
   "metadata": {},
   "outputs": [
    {
     "name": "stderr",
     "output_type": "stream",
     "text": [
      "Warning message:\n",
      "\"`expand_scale()` is deprecated; use `expansion()` instead.\""
     ]
    },
    {
     "data": {
      "image/png": "[encoded data removed]",
      "text/plain": [
       "plot without title"
      ]
     },
     "metadata": {},
     "output_type": "display_data"
    }
   ],
   "source": [
    "options(repr.plot.width=10, repr.plot.height=6)\n",
    "plot <- Carbon_credit %>%\n",
    "subset(Site == \"Belanger/A9\") %>%\n",
    "#mutate(wt_cat = cut(`Depht (cm)`, quantile(`Depht (cm)`)),\n",
    " #        wt_cat = factor(wt_cat, levels = rev(levels(wt_cat)))) %>%\n",
    " ggplot(Carbon_credit, mapping = aes(x = `Layers`, y = `C/N`)) +\n",
    "  facet_grid(`Site` ~ ., scales = \"free\") +\n",
    "  geom_bar(aes(fill= `Soil texture`), colour = \"black\", stat=\"identity\", position=\"dodge\") +\n",
    "#geom_smooth(method = loess, se = FALSE) + \n",
    "labs(x = \"Sublayers (cm)\", y = \"\") +\n",
    "#scale_x_continuous(breaks = 2*0:1000,\n",
    " #                    expand = expand_scale(add = 2)) +\n",
    "scale_y_continuous(breaks = 2*0:1000,\n",
    "                     expand = expand_scale(add = 0)) +\n",
    "  theme_bw() +\n",
    "scale_fill_manual(values = c(\"black\",\"grey\")) +\n",
    "  theme(strip.background = element_rect(fill = \"transparent\", colour = \"transparent\"),\n",
    "        strip.placement = \"outside\", #legend.direction = \"horizontal\",legend.text=element_text(size=10, angle = 90),\n",
    "        legend.key.size = unit(0.5, \"cm\"), legend.title.align = 0.6,\n",
    "       strip.text = element_text(size = 19),\n",
    "        axis.text=element_text(size=14), legend.position = 'none',\n",
    "        #legend.title = element_text(size=12, face=\"bold\", angle = 90), legend.position = 'none',,\n",
    "        axis.title=element_text(size=19, angle = 180), axis.text.x = element_text( \n",
    "                           size = 10, angle = 90),\n",
    "          axis.text.y = element_blank()) +\n",
    "theme(strip.text.y = element_text(angle = 90))\n",
    "\n",
    "\n",
    "\n",
    "plot \n",
    "ggsave(\"figures/(C_over_N).png\", width = 4, height = 8, dpi = 600)\n",
    "#scale_x_reverse(limits = c(30, 0))+\n",
    "#scale_y_discrete(position = \"top\") +\n",
    " #coord_flip() + scale_y_reverse() +"
   ]
  },
  {
   "cell_type": "code",
   "execution_count": 58,
   "metadata": {},
   "outputs": [
    {
     "name": "stderr",
     "output_type": "stream",
     "text": [
      "Warning message in grid.Call.graphics(C_setviewport, vp, TRUE):\n",
      "\"impossible de couper une vue pivotée\"Warning message in grid.Call.graphics(C_setviewport, vp, TRUE):\n",
      "\"impossible de couper une vue pivotée\"Warning message in grid.Call.graphics(C_setviewport, vp, TRUE):\n",
      "\"impossible de couper une vue pivotée\"Warning message in grid.Call.graphics(C_setviewport, vp, TRUE):\n",
      "\"impossible de couper une vue pivotée\""
     ]
    },
    {
     "data": {
      "image/png": "[encoded data removed]",
      "text/plain": [
       "plot without title"
      ]
     },
     "metadata": {},
     "output_type": "display_data"
    }
   ],
   "source": [
    "pushViewport(viewport(name = \"rotate\", angle = -90, clip = \"off\", width = 0.6, height = 0.7))\n",
    "plot2 <- print(plot, vp = \"rotate\")\n"
   ]
  },
  {
   "cell_type": "code",
   "execution_count": null,
   "metadata": {},
   "outputs": [],
   "source": []
  },
  {
   "cell_type": "code",
   "execution_count": 59,
   "metadata": {},
   "outputs": [
    {
     "ename": "ERROR",
     "evalue": "Error in eval(predvars, data, env): objet 'Soil_texture' introuvable\n",
     "output_type": "error",
     "traceback": [
      "Error in eval(predvars, data, env): objet 'Soil_texture' introuvable\nTraceback:\n",
      "1. lme(fixed = LogC ~ Layers + Soil_texture, random = ~1 | Site, \n .     data = Carbon_credit)",
      "2. lme.formula(fixed = LogC ~ Layers + Soil_texture, random = ~1 | \n .     Site, data = Carbon_credit)",
      "3. do.call(model.frame, mfArgs)",
      "4. (function (formula, ...) \n . UseMethod(\"model.frame\"))(formula = ~LogC + Layers + Soil_texture + \n .     Site, data = structure(list(Projet = c(\"Pedology\", \"Pedology\", \n . \"Pedology\", \"Pedology\", \"Pedology\", \"Pedology\", \"Pedology\", \"Pedology\", \n . \"Pedology\", \"Pedology\", \"Pedology\", \"Pedology\", \"Pedology\", \"Pedology\", \n . \"Pedology\", \"Pedology\", \"Pedology\", \"Pedology\", \"Pedology\", \"Pedology\", \n . \"Pedology\", \"Pedology\", \"Pedology\"), Site = c(\"Belanger/A9\", \n . \"Belanger/A9\", \"Belanger/A9\", \"Belanger/A9\", \"Belanger/A9\", \"Belanger/A9\", \n . \"Belanger/A9\", \"Belanger/A9\", \"Belanger/A9\", \"Belanger/A9\", \"Belanger/A9\", \n . \"Belanger/A9\", \"Fortier/45\", \"Fortier/45\", \"Fortier/45\", \"Fortier/45\", \n . \"Fortier/45\", \"Fortier/45\", \"Fortier/45\", \"Fortier/45\", \"Fortier/45\", \n . \"Fortier/45\", \"Fortier/45\"), Horizon = c(\"H1\", \"H2\", \"H3\", \"H4\", \n . \"H5\", \"H6\", \"H7\", \"H8\", \"H9\", \"H10\", \"H11\", \"H11\", \"H1\", \"H2\", \n . \"H3\", \"H4\", \"H5\", \"H6\", \"H7\", \"H8\", \"H9\", \"H10\", \"H10\"), `Depht (cm)` = c(1.8, \n . 2.2, 3.2, 3.6, 5.1, 5.8, 9.5, 12, 12.5, 19.2, 27.7, 30, 2, 5, \n . 6.1, 6.4, 7.2, 7.5, 8.6, 8.9, 14.8, 20, 30), `Thickness(cm)` = c(1.8, \n . 0.4, 1, 0.4, 1.5, 0.7, 3.7, 2, 0.5, 6.7, 7.7, 2.3, 2, 3, 1.1, \n . 0.3, 0.8, 0.3, 1.1, 0.3, 4.8, 5.2, 10), Layers = structure(1:23, .Label = c(\"[0-1.8]\", \n . \"[1.8-2.2]\", \"[2.2-3.2]\", \"[3.2-3.6]\", \"[3.6-5.1]\", \"[5.1-5.8]\", \n . \"[5.8-9.5]\", \"[9.5-12]\", \"[12-12.5]\", \"[12.5-19.2]\", \"[19.2-27.7]\", \n . \"[27.7-30]\", \"[0-2]\", \"[2-5]\", \"[5-6.1]\", \"[6.1-6.4]\", \"[6.4-7.2]\", \n . \"[7.2-7.5]\", \"[7.5-8.6]\", \"[8.6-8.9]\", \"[8.9-14.8]\", \"[14.8-20]\", \n . \"[20-30]\"), class = \"factor\"), `Bulk density(kg m-3)` = c(912.7, \n . 912.7, 912.7, 912.7, 912.7, 912.7, 912.7, 1384.4, 1384.4, 1384.4, \n . 1403, 1403, 906.1, 906.1, 906.1, 906.1, 906.1, 906.1, 906.1, \n . 906.1, 1655.1, 1655.1, 1655.1), `Soil texture` = c(\"Sand\", \"Organic matter\", \n . \"Sand\", \"Organic matter\", \"Sand\", \"Organic matter\", \"Sand\", \"Organic matter\", \n . \"Sand\", \"Sand\", \"Sand\", \"Sand\", \"Organic matter\", \"Organic matter\", \n . \"Sand\", \"Organic matter\", \"Sand\", \"Organic matter\", \"Sand\", \"Organic matter\", \n . \"Sand\", \"Sand\", \"Sand\"), Site_age = c(14, 14, 14, 14, 14, 14, \n . 14, 14, 14, 14, 14, 14, 19, 19, 19, 19, 19, 19, 19, 19, 19, 19, \n . 19), Munsell_color = c(\"10YR - 5/5\", \"10YR - 4/4\", \"2,5Y - 5/4\", \n . \"10YR - 3/3\", \"10YR - 4,5/4\", \"10YR - 3/2,5\", \"2,5Y - 5/4\", \"10YR - 2,5/2\", \n . \"10YR - 4,5/4\", \"10YR - 3/2\", \"10YR - 4/3,5\", \"1,25Y - 4/4\", \n . \"10YR - 2/2\", \"7,5YR - 2,5/2\", \"2,5Y - 5/4\", \"10YR - 3/4\", \"2,5YR - 5/6\", \n . \"10YR - 3/3\", \"2,5Y - 4/4\", \"2,5Y - 4/2\", \"2,5Y - 4/3\", \"5Y - 5/2\", \n . \"5Y - 5/2\"), Weigh_superior_2MM = c(0, NA, 1.4, NA, 0.7, NA, \n . 0.4, NA, 0.4, 0.2, 1.1, NA, NA, NA, 1.205, 0.44, 0.947, 1.378, \n . 0.492, 0.737, 0.834, NA, NA), `Weigh _0_2MM` = c(130.2, 50, 74.1, \n . 53.2, 84.4, 67.5, 107.6, 44.5, 73.3, 65, 226.4, NA, 74, 82.65, \n . 205.066, 63.694, 152.5, 53.05, 121.359, 96.522, 163.138, NA, \n . NA), Repetition = c(1, 1, 1, 1, 1, 1, 1, 1, 1, 1, 1, 1, 1, 1, \n . 1, 1, 1, 1, 1, 1, 1, 1, 1), pHCaCl2 = c(4.7, 3.74, 3.87, 3.63, \n . 3.93, 3.66, 3.97, 3.74, 3.94, 3.83, 4.08, 4.29, 3.39, 3.5, 4.04, \n . 3.94, 4.21, 4.08, 4.43, 4.26, 4.44, 5.08, 5.08), CTRL_C_pourc = c(11.9815, \n . 11.9815, 11.9815, 11.9815, 11.9815, 11.9815, 11.9815, 11.9815, \n . 11.9815, 11.9815, 11.9815, 11.9815, 11.8545, 11.8545, 11.8545, \n . 11.8545, 11.8545, 11.8545, 11.8545, 11.8545, 11.8545, 11.8545, \n . 11.8545), CTRL_S_pourc = c(0.229, 0.229, 0.229, 0.229, 0.229, \n . 0.229, 0.229, 0.229, 0.229, 0.229, 0.229, 0.229, 0.1965, 0.1965, \n . 0.1965, 0.1965, 0.1965, 0.1965, 0.1965, 0.1965, 0.1965, 0.1965, \n . 0.1965), CTRL_N_pourc = c(1.03155, 1.03155, 1.03155, 1.03155, \n . 1.03155, 1.03155, 1.03155, 1.03155, 1.03155, 1.03155, 1.03155, \n . 1.03155, 1.00414, 1.00414, 1.00414, 1.00414, 1.00414, 1.00414, \n . 1.00414, 1.00414, 1.00414, 1.00414, 1.00414), C_pourc = c(1.4351, \n . 1.8005, 1.242, 2.8387, 0.89627, 3.2188, 0.50213, 3.6864, 0.65293, \n . 1.2243, 0.65519, 0.43642, 3.569, 14.305, 0.35268, 2.2926, 0.31859, \n . 3.4791, 0.5453, 1.5974, 0.68482, 0.07139, 0.07139), S_pourc = c(0.11, \n . 0.126, 0.0658, 0.0733, 0.0578, 0.0612, 0.053, 0.0685, 0.0571, \n . 0.0604, 0.0567, 0.0538, 0.126, 0.354, 0.0551, 0.0696, 0.0585, \n . 0.0932, 0.0643, 0.0761, 0.0612, 0.0498, 0.0498), N_pourc = c(0.10767, \n . 0.08469, 0.05394, 0.09081, 0.05285, 0.0946, 0.03544, 0.11334, \n . 0.04559, 0.06562, 0.04127, 0.02821, 0.10692, 0.44582, 0.03398, \n . 0.09852, 0.03189, 0.13795, 0.04141, 0.07366, 0.03612, 0.01404, \n . 0.01404), `Carbon content (Mg/ha)` = c(2.357668386, 0.65732654, \n . 1.1335734, 1.036352596, 1.2270384435, 2.056459132, 1.6956879887, \n . 10.20690432, 0.451958146, 11.355970164, 7.078083089, 1.408283698, \n . 6.4677418, 38.8852815, 0.3515196828, 0.623197458, 0.2309395192, \n . 0.945723753, 0.543505963, 0.434221242, 5.4405387936, 0.6144194628, \n . 1.18157589), `C/N` = c(13.3286895142565, 21.2598890069666, 23.0255839822024, \n . 31.2597731527365, 16.9587511825922, 34.0253699788584, 14.168453724605, \n . 32.5251455796718, 14.3217810923448, 18.6574215178299, 15.875696631936, \n . 15.4704005671748, 33.3800972689862, 32.0869409178592, 10.37904649794, \n . 23.2704019488429, 9.99027908435246, 25.2200072490033, 13.1683168316832, \n . 21.6861254412164, 18.9595791805094, 5.08475783475783, 5.08475783475783\n . ), `Accumulated_C_per_year (Mg/ha)` = c(0.168404884714286, 0.0469518957142857, \n . 0.0809695285714286, 0.0740251854285714, 0.0876456031071429, 0.146889938, \n . 0.121120570621429, 0.729064594285714, 0.0322827247142857, 0.811140726, \n . 0.5055773635, 0.100591692714286, 0.340407463157895, 2.04659376315789, \n . 0.0185010359368421, 0.0327998662105263, 0.0121547115368421, 0.049774934368421, \n . 0.028605577, 0.0228537495789474, 0.286344147031579, 0.0323378664631579, \n . 0.0621882047368421), LogC = c(-0.773645315605412, -1.32834686811283, \n . -1.09167838930753, -1.13062049605613, -1.0572698661555, -0.833007952478921, \n . -0.916782091797487, -0.137233991985068, -1.49102981724488, -0.090903792862388, \n . -0.296212379201776, -0.997437883666923, -0.468000926928341, 0.311031646312961, \n . -1.73280395326952, -1.48412792775627, -1.91525534364453, -1.30298930394649, \n . -1.54354928770294, -1.64104253573187, -0.543111689581791, -1.49028863668203, \n . -1.20629198031683)), row.names = c(NA, -23L), class = c(\"spec_tbl_df\", \n . \"tbl_df\", \"tbl\", \"data.frame\")), na.action = function (object, \n .     ...) \n . UseMethod(\"na.fail\"), drop.unused.levels = TRUE)",
      "5. model.frame.default(formula = ~LogC + Layers + Soil_texture + \n .     Site, data = structure(list(Projet = c(\"Pedology\", \"Pedology\", \n . \"Pedology\", \"Pedology\", \"Pedology\", \"Pedology\", \"Pedology\", \"Pedology\", \n . \"Pedology\", \"Pedology\", \"Pedology\", \"Pedology\", \"Pedology\", \"Pedology\", \n . \"Pedology\", \"Pedology\", \"Pedology\", \"Pedology\", \"Pedology\", \"Pedology\", \n . \"Pedology\", \"Pedology\", \"Pedology\"), Site = c(\"Belanger/A9\", \n . \"Belanger/A9\", \"Belanger/A9\", \"Belanger/A9\", \"Belanger/A9\", \"Belanger/A9\", \n . \"Belanger/A9\", \"Belanger/A9\", \"Belanger/A9\", \"Belanger/A9\", \"Belanger/A9\", \n . \"Belanger/A9\", \"Fortier/45\", \"Fortier/45\", \"Fortier/45\", \"Fortier/45\", \n . \"Fortier/45\", \"Fortier/45\", \"Fortier/45\", \"Fortier/45\", \"Fortier/45\", \n . \"Fortier/45\", \"Fortier/45\"), Horizon = c(\"H1\", \"H2\", \"H3\", \"H4\", \n . \"H5\", \"H6\", \"H7\", \"H8\", \"H9\", \"H10\", \"H11\", \"H11\", \"H1\", \"H2\", \n . \"H3\", \"H4\", \"H5\", \"H6\", \"H7\", \"H8\", \"H9\", \"H10\", \"H10\"), `Depht (cm)` = c(1.8, \n . 2.2, 3.2, 3.6, 5.1, 5.8, 9.5, 12, 12.5, 19.2, 27.7, 30, 2, 5, \n . 6.1, 6.4, 7.2, 7.5, 8.6, 8.9, 14.8, 20, 30), `Thickness(cm)` = c(1.8, \n . 0.4, 1, 0.4, 1.5, 0.7, 3.7, 2, 0.5, 6.7, 7.7, 2.3, 2, 3, 1.1, \n . 0.3, 0.8, 0.3, 1.1, 0.3, 4.8, 5.2, 10), Layers = structure(1:23, .Label = c(\"[0-1.8]\", \n . \"[1.8-2.2]\", \"[2.2-3.2]\", \"[3.2-3.6]\", \"[3.6-5.1]\", \"[5.1-5.8]\", \n . \"[5.8-9.5]\", \"[9.5-12]\", \"[12-12.5]\", \"[12.5-19.2]\", \"[19.2-27.7]\", \n . \"[27.7-30]\", \"[0-2]\", \"[2-5]\", \"[5-6.1]\", \"[6.1-6.4]\", \"[6.4-7.2]\", \n . \"[7.2-7.5]\", \"[7.5-8.6]\", \"[8.6-8.9]\", \"[8.9-14.8]\", \"[14.8-20]\", \n . \"[20-30]\"), class = \"factor\"), `Bulk density(kg m-3)` = c(912.7, \n . 912.7, 912.7, 912.7, 912.7, 912.7, 912.7, 1384.4, 1384.4, 1384.4, \n . 1403, 1403, 906.1, 906.1, 906.1, 906.1, 906.1, 906.1, 906.1, \n . 906.1, 1655.1, 1655.1, 1655.1), `Soil texture` = c(\"Sand\", \"Organic matter\", \n . \"Sand\", \"Organic matter\", \"Sand\", \"Organic matter\", \"Sand\", \"Organic matter\", \n . \"Sand\", \"Sand\", \"Sand\", \"Sand\", \"Organic matter\", \"Organic matter\", \n . \"Sand\", \"Organic matter\", \"Sand\", \"Organic matter\", \"Sand\", \"Organic matter\", \n . \"Sand\", \"Sand\", \"Sand\"), Site_age = c(14, 14, 14, 14, 14, 14, \n . 14, 14, 14, 14, 14, 14, 19, 19, 19, 19, 19, 19, 19, 19, 19, 19, \n . 19), Munsell_color = c(\"10YR - 5/5\", \"10YR - 4/4\", \"2,5Y - 5/4\", \n . \"10YR - 3/3\", \"10YR - 4,5/4\", \"10YR - 3/2,5\", \"2,5Y - 5/4\", \"10YR - 2,5/2\", \n . \"10YR - 4,5/4\", \"10YR - 3/2\", \"10YR - 4/3,5\", \"1,25Y - 4/4\", \n . \"10YR - 2/2\", \"7,5YR - 2,5/2\", \"2,5Y - 5/4\", \"10YR - 3/4\", \"2,5YR - 5/6\", \n . \"10YR - 3/3\", \"2,5Y - 4/4\", \"2,5Y - 4/2\", \"2,5Y - 4/3\", \"5Y - 5/2\", \n . \"5Y - 5/2\"), Weigh_superior_2MM = c(0, NA, 1.4, NA, 0.7, NA, \n . 0.4, NA, 0.4, 0.2, 1.1, NA, NA, NA, 1.205, 0.44, 0.947, 1.378, \n . 0.492, 0.737, 0.834, NA, NA), `Weigh _0_2MM` = c(130.2, 50, 74.1, \n . 53.2, 84.4, 67.5, 107.6, 44.5, 73.3, 65, 226.4, NA, 74, 82.65, \n . 205.066, 63.694, 152.5, 53.05, 121.359, 96.522, 163.138, NA, \n . NA), Repetition = c(1, 1, 1, 1, 1, 1, 1, 1, 1, 1, 1, 1, 1, 1, \n . 1, 1, 1, 1, 1, 1, 1, 1, 1), pHCaCl2 = c(4.7, 3.74, 3.87, 3.63, \n . 3.93, 3.66, 3.97, 3.74, 3.94, 3.83, 4.08, 4.29, 3.39, 3.5, 4.04, \n . 3.94, 4.21, 4.08, 4.43, 4.26, 4.44, 5.08, 5.08), CTRL_C_pourc = c(11.9815, \n . 11.9815, 11.9815, 11.9815, 11.9815, 11.9815, 11.9815, 11.9815, \n . 11.9815, 11.9815, 11.9815, 11.9815, 11.8545, 11.8545, 11.8545, \n . 11.8545, 11.8545, 11.8545, 11.8545, 11.8545, 11.8545, 11.8545, \n . 11.8545), CTRL_S_pourc = c(0.229, 0.229, 0.229, 0.229, 0.229, \n . 0.229, 0.229, 0.229, 0.229, 0.229, 0.229, 0.229, 0.1965, 0.1965, \n . 0.1965, 0.1965, 0.1965, 0.1965, 0.1965, 0.1965, 0.1965, 0.1965, \n . 0.1965), CTRL_N_pourc = c(1.03155, 1.03155, 1.03155, 1.03155, \n . 1.03155, 1.03155, 1.03155, 1.03155, 1.03155, 1.03155, 1.03155, \n . 1.03155, 1.00414, 1.00414, 1.00414, 1.00414, 1.00414, 1.00414, \n . 1.00414, 1.00414, 1.00414, 1.00414, 1.00414), C_pourc = c(1.4351, \n . 1.8005, 1.242, 2.8387, 0.89627, 3.2188, 0.50213, 3.6864, 0.65293, \n . 1.2243, 0.65519, 0.43642, 3.569, 14.305, 0.35268, 2.2926, 0.31859, \n . 3.4791, 0.5453, 1.5974, 0.68482, 0.07139, 0.07139), S_pourc = c(0.11, \n . 0.126, 0.0658, 0.0733, 0.0578, 0.0612, 0.053, 0.0685, 0.0571, \n . 0.0604, 0.0567, 0.0538, 0.126, 0.354, 0.0551, 0.0696, 0.0585, \n . 0.0932, 0.0643, 0.0761, 0.0612, 0.0498, 0.0498), N_pourc = c(0.10767, \n . 0.08469, 0.05394, 0.09081, 0.05285, 0.0946, 0.03544, 0.11334, \n . 0.04559, 0.06562, 0.04127, 0.02821, 0.10692, 0.44582, 0.03398, \n . 0.09852, 0.03189, 0.13795, 0.04141, 0.07366, 0.03612, 0.01404, \n . 0.01404), `Carbon content (Mg/ha)` = c(2.357668386, 0.65732654, \n . 1.1335734, 1.036352596, 1.2270384435, 2.056459132, 1.6956879887, \n . 10.20690432, 0.451958146, 11.355970164, 7.078083089, 1.408283698, \n . 6.4677418, 38.8852815, 0.3515196828, 0.623197458, 0.2309395192, \n . 0.945723753, 0.543505963, 0.434221242, 5.4405387936, 0.6144194628, \n . 1.18157589), `C/N` = c(13.3286895142565, 21.2598890069666, 23.0255839822024, \n . 31.2597731527365, 16.9587511825922, 34.0253699788584, 14.168453724605, \n . 32.5251455796718, 14.3217810923448, 18.6574215178299, 15.875696631936, \n . 15.4704005671748, 33.3800972689862, 32.0869409178592, 10.37904649794, \n . 23.2704019488429, 9.99027908435246, 25.2200072490033, 13.1683168316832, \n . 21.6861254412164, 18.9595791805094, 5.08475783475783, 5.08475783475783\n . ), `Accumulated_C_per_year (Mg/ha)` = c(0.168404884714286, 0.0469518957142857, \n . 0.0809695285714286, 0.0740251854285714, 0.0876456031071429, 0.146889938, \n . 0.121120570621429, 0.729064594285714, 0.0322827247142857, 0.811140726, \n . 0.5055773635, 0.100591692714286, 0.340407463157895, 2.04659376315789, \n . 0.0185010359368421, 0.0327998662105263, 0.0121547115368421, 0.049774934368421, \n . 0.028605577, 0.0228537495789474, 0.286344147031579, 0.0323378664631579, \n . 0.0621882047368421), LogC = c(-0.773645315605412, -1.32834686811283, \n . -1.09167838930753, -1.13062049605613, -1.0572698661555, -0.833007952478921, \n . -0.916782091797487, -0.137233991985068, -1.49102981724488, -0.090903792862388, \n . -0.296212379201776, -0.997437883666923, -0.468000926928341, 0.311031646312961, \n . -1.73280395326952, -1.48412792775627, -1.91525534364453, -1.30298930394649, \n . -1.54354928770294, -1.64104253573187, -0.543111689581791, -1.49028863668203, \n . -1.20629198031683)), row.names = c(NA, -23L), class = c(\"spec_tbl_df\", \n . \"tbl_df\", \"tbl\", \"data.frame\")), na.action = function (object, \n .     ...) \n . UseMethod(\"na.fail\"), drop.unused.levels = TRUE)",
      "6. eval(predvars, data, env)",
      "7. eval(predvars, data, env)"
     ]
    }
   ],
   "source": [
    "C_mm <- lme(fixed = LogC ~ Layers + Soil_texture,\n",
    "                     random = ~ 1 | Site,\n",
    "                     data = Carbon_credit)"
   ]
  },
  {
   "cell_type": "code",
   "execution_count": null,
   "metadata": {},
   "outputs": [],
   "source": [
    "summary(C_mm)"
   ]
  },
  {
   "cell_type": "code",
   "execution_count": null,
   "metadata": {},
   "outputs": [],
   "source": [
    "pseudoR2(y = Carbon_credit$LogC,\n",
    "         y_hat = predict(C_mm, level = 0))\n",
    "\n",
    "pseudoR2(y = Carbon_credit$LogC,\n",
    "         y_hat = predict(C_mm, level = 1))"
   ]
  },
  {
   "cell_type": "code",
   "execution_count": null,
   "metadata": {},
   "outputs": [],
   "source": [
    "options(repr.plot.width = 6, repr.plot.height = 4)\n",
    "residues(C_mm)"
   ]
  },
  {
   "cell_type": "code",
   "execution_count": null,
   "metadata": {},
   "outputs": [],
   "source": [
    "C_gg"
   ]
  },
  {
   "cell_type": "code",
   "execution_count": null,
   "metadata": {},
   "outputs": [],
   "source": [
    "C_gg <- data.frame(intervals(C_mm, which = \"fixed\")$fixed)\n",
    "C_gg <- C_gg %>%\n",
    "  mutate(variable = rownames(C_gg))\n",
    "C_gg <- C_gg %>%\n",
    "  mutate(pvalue = summary(C_mm)$tTable[, 5],\n",
    "         is_significant = ifelse(pvalue <= 0.05, 'Significant at 0.05 level', 'Not significant at 0.05 level'))\n",
    "C_gg$variable <- c(\"Intercept\", 'Layer[10-20] cm', 'Layer[20-30] cm', \"Soil texture/Sand\" )\n",
    "C_gg"
   ]
  },
  {
   "cell_type": "code",
   "execution_count": null,
   "metadata": {},
   "outputs": [],
   "source": [
    "C_re <- data.frame(matrix(ncol = ncol(C_gg), nrow = 2))\n",
    "names(C_re) <- names(C_gg)\n",
    "C_re$est. <- c(ranef(C_mm)$`(Intercept)`)\n",
    "C_re$variable <- c(rownames(ranef(C_mm)))\n",
    "C_re\n",
    "\n",
    "C_gg <- bind_rows(C_gg, C_re) # with an if to make sure ranefs are stacked only once"
   ]
  },
  {
   "cell_type": "code",
   "execution_count": null,
   "metadata": {},
   "outputs": [],
   "source": [
    "C_gg$facet <- factor(c('Intercept',\n",
    "                        'Soil layers', 'Soil layers', 'Soil texture','Random effect', 'Random effect'))\n",
    "C_gg <- C_gg %>%\n",
    "  mutate(facet = factor(facet, levels = rev(c(\"Random effect\", \"Soil layers\", 'Soil texture'))))"
   ]
  },
  {
   "cell_type": "code",
   "execution_count": null,
   "metadata": {},
   "outputs": [],
   "source": [
    "options(repr.plot.width = 12, repr.plot.height = 8)\n",
    "C_gg %>%\n",
    "  filter(variable != \"Intercept\") %>%\n",
    "  ggplot(aes(x = est., y = variable)) +\n",
    "  facet_grid(facet ~ ., scales = 'free', space = 'free') +\n",
    "  geom_vline(xintercept = 0, colour='grey70') +\n",
    "  geom_point() +\n",
    "  geom_segment(aes(x = lower, xend = upper, y = variable, yend = variable)) +\n",
    "  xlab('Coefficient') +\n",
    "  ylab('') +\n",
    "  theme_bw() +\n",
    "  theme(strip.text = element_text(size = 18, face=\"bold\"), axis.text=element_text(size=18, face=\"bold\"),\n",
    "        axis.title=element_text(size=17,face=\"bold\")) +\n",
    "  ggsave(\"figures/mixed-model-C_stock.png\", width = 10, height = 8, dpi = 600)"
   ]
  },
  {
   "cell_type": "code",
   "execution_count": null,
   "metadata": {},
   "outputs": [],
   "source": []
  },
  {
   "cell_type": "code",
   "execution_count": null,
   "metadata": {},
   "outputs": [],
   "source": []
  },
  {
   "cell_type": "code",
   "execution_count": null,
   "metadata": {},
   "outputs": [],
   "source": [
    "Accumulated_C <- subset(Carbon_credit, Soil_texture == \"Organic Matter\")"
   ]
  },
  {
   "cell_type": "code",
   "execution_count": null,
   "metadata": {},
   "outputs": [],
   "source": [
    "Accumulated_C"
   ]
  },
  {
   "cell_type": "code",
   "execution_count": null,
   "metadata": {},
   "outputs": [],
   "source": [
    "Accumulated_C_layer <- aggregate(cbind(`Carbon content (Mg/ha)`,`Accumulated_C_per_year (Mg/ha)`) ~ Site + Layers + Soil_texture, data = Carbon_credit, FUN = sum)\n",
    "Accumulated_C_layer\n",
    "Accumulated_C_layer <- aggregate(cbind(`Carbon content (Mg/ha)`,`Accumulated_C_per_year (Mg/ha)`) ~ Site, data = Accumulated_C, FUN = sum)\n",
    "Accumulated_C_layer"
   ]
  },
  {
   "cell_type": "code",
   "execution_count": null,
   "metadata": {},
   "outputs": [],
   "source": [
    "New.labs <- c(\"Site Fortier/45\", \"Site Belanger/A9\") \n",
    "names(New.labs) <- c(\"F45\", \"A9\")\n",
    "ggplot(Carbon_credit,  aes(x = `Layers`, y = `Accumulated_C_per_year (Mg/ha)`)) +\n",
    "   geom_bar(position = \"stack\", stat = \"identity\", aes(fill = Soil_texture)) +\n",
    "facet_grid( .~ Site, labeller = labeller(`Site` = New.labs))+\n",
    "labs(x = \"Soils layers(cm)\" , y = expression(\"Accumulated total carbon (Mg ha\"^\" -1\"~\"year\"^\" -1\"~\")\"))+\n",
    "theme_bw() +\n",
    "scale_fill_manual(values = c(\"black\",\"grey\")) +\n",
    "theme(strip.text = element_text(size = 11, face=\"bold\"), axis.text=element_text(size=11, face=\"bold\"),\n",
    "        axis.title=element_text(size=12,face=\"bold\"),\n",
    "     legend.position = c(0.9, 0.7))+\n",
    "ggsave(\"figures/Carbon credit.png\", width = 6, height = 4, dpi = 120)"
   ]
  },
  {
   "cell_type": "raw",
   "metadata": {},
   "source": [
    "options(repr.plot.width = 10, repr.plot.height = 6)\n",
    "ggplot(Accumulated_C, aes(x = `Layers`, y = `Accumulated_C_per_year (Mg/ha)`)) +\n",
    "geom_bar(stat=\"identity\", position=\"dodge\") +\n",
    "labs(x = \"Deph(cm)\" , y = expression(\"Accumulated total carbon (kg ha\"^\" -1\"~\"year\"^\" -1\"~\")\"))+\n",
    "facet_grid( .~ Site)+\n",
    "theme_bw() +\n",
    "theme(strip.text = element_text(size = 12), axis.text=element_text(size=12),\n",
    "        axis.title=element_text(size=12,face=\"bold\")) +\n",
    "ggsave(\"figures/Carbon credit.png\", width = 6, height = 4, dpi = 120)"
   ]
  },
  {
   "cell_type": "code",
   "execution_count": null,
   "metadata": {},
   "outputs": [],
   "source": []
  },
  {
   "cell_type": "code",
   "execution_count": null,
   "metadata": {},
   "outputs": [],
   "source": []
  },
  {
   "cell_type": "code",
   "execution_count": null,
   "metadata": {},
   "outputs": [],
   "source": []
  },
  {
   "cell_type": "code",
   "execution_count": null,
   "metadata": {},
   "outputs": [],
   "source": []
  },
  {
   "cell_type": "code",
   "execution_count": null,
   "metadata": {},
   "outputs": [],
   "source": []
  },
  {
   "cell_type": "code",
   "execution_count": null,
   "metadata": {},
   "outputs": [],
   "source": []
  },
  {
   "cell_type": "code",
   "execution_count": null,
   "metadata": {},
   "outputs": [],
   "source": []
  }
 ],
 "metadata": {
  "kernelspec": {
   "display_name": "R",
   "language": "R",
   "name": "ir"
  },
  "language_info": {
   "codemirror_mode": "r",
   "file_extension": ".r",
   "mimetype": "text/x-r-source",
   "name": "R",
   "pygments_lexer": "r",
   "version": "3.6.1"
  }
 },
 "nbformat": 4,
 "nbformat_minor": 4
}
