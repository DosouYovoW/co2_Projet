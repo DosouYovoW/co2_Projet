{
 "cells": [
  {
   "cell_type": "markdown",
   "metadata": {},
   "source": [
    "# Temperature-dependent CO2-C emission kinetics in carbon sequestrating cranberry soils\n",
    "*Wilfried Dossou-Yovo, Serge Étienne Parent,Noura Ziadi and Bertrand Normand*"
   ]
  },
  {
   "cell_type": "code",
   "execution_count": 1,
   "metadata": {},
   "outputs": [
    {
     "name": "stdout",
     "output_type": "stream",
     "text": [
      "[1] \"2020-11-05\"\n"
     ]
    }
   ],
   "source": [
    "print(Sys.Date())"
   ]
  },
  {
   "cell_type": "markdown",
   "metadata": {},
   "source": [
    "## 1. Objective"
   ]
  },
  {
   "cell_type": "markdown",
   "metadata": {},
   "source": [
    "This notebook generate the result of co2 data analysis. Data set contains a collection of soil caracteristics, measured co2 emission collected from incubation study. Soil samples was collected from two cranberry fied stand of eastern canada. Incubation study was carried out at Agriculture and Agri-food Canada(sainte-foy, quebec,qc) from February to Mai 2019. The objectif of this study was to measure CO2 emission rate across cranberry soil profiles as related to change in soil temperature in cranberry soils of eastern Canada. "
   ]
  },
  {
   "cell_type": "markdown",
   "metadata": {},
   "source": [
    "## 2. Statistical questions\n",
    "\n",
    "In addition to data exploration, this notebook will answer the following statistical questions.\n",
    " \n",
    "1. What is the influence of soil depth on CO2 emission?\n",
    "2. What is the influence of temperature and soil layers on CO2 emission?\n",
    "3. What is the soil temperature sensitivity across cranberry soil layers?"
   ]
  },
  {
   "cell_type": "markdown",
   "metadata": {},
   "source": [
    "## 3. Packages and Function"
   ]
  },
  {
   "cell_type": "markdown",
   "metadata": {},
   "source": [
    "### 3.1 Packages"
   ]
  },
  {
   "cell_type": "markdown",
   "metadata": {},
   "source": [
    "We need package [tidyverse](https://www.tidyverse.org/) which loads a set of packages for easy data manipulation(Ex: [dplyr](https://www.rdocumentation.org/packages/dplyr/versions/0.7.8)) and visualization (ex: [ggplot2](https://www.rdocumentation.org/packages/ggplot2/versions/3.2.1)). We also need [nlme](https://www.rdocumentation.org/packages/nlme/versions/3.1-143/topics/nlme) for fitting a nonlinear mixed-effects model and [e1071](https://www.rdocumentation.org/packages/e1071/versions/1.7-3) to test distributions."
   ]
  },
  {
   "cell_type": "code",
   "execution_count": 2,
   "metadata": {},
   "outputs": [
    {
     "name": "stderr",
     "output_type": "stream",
     "text": [
      "Warning message:\n",
      "\"package 'tidyverse' was built under R version 3.6.2\"-- Attaching packages --------------------------------------- tidyverse 1.3.0 --\n",
      "v ggplot2 3.2.1     v purrr   0.3.3\n",
      "v tibble  2.1.3     v dplyr   0.8.3\n",
      "v tidyr   1.0.0     v stringr 1.4.0\n",
      "v readr   1.3.1     v forcats 0.4.0\n",
      "Warning message:\n",
      "\"package 'ggplot2' was built under R version 3.6.2\"Warning message:\n",
      "\"package 'tibble' was built under R version 3.6.2\"Warning message:\n",
      "\"package 'tidyr' was built under R version 3.6.2\"Warning message:\n",
      "\"package 'readr' was built under R version 3.6.2\"Warning message:\n",
      "\"package 'purrr' was built under R version 3.6.2\"Warning message:\n",
      "\"package 'dplyr' was built under R version 3.6.2\"Warning message:\n",
      "\"package 'stringr' was built under R version 3.6.2\"Warning message:\n",
      "\"package 'forcats' was built under R version 3.6.2\"-- Conflicts ------------------------------------------ tidyverse_conflicts() --\n",
      "x dplyr::filter() masks stats::filter()\n",
      "x dplyr::lag()    masks stats::lag()\n",
      "Warning message:\n",
      "\"package 'nlme' was built under R version 3.6.2\"\n",
      "Attaching package: 'nlme'\n",
      "\n",
      "The following object is masked from 'package:dplyr':\n",
      "\n",
      "    collapse\n",
      "\n",
      "Warning message:\n",
      "\"package 'e1071' was built under R version 3.6.2\"Warning message:\n",
      "\"package 'broom' was built under R version 3.6.2\""
     ]
    }
   ],
   "source": [
    "library(\"tidyverse\")\n",
    "library(nlme)\n",
    "library('e1071')\n",
    "library(\"broom\")"
   ]
  },
  {
   "cell_type": "markdown",
   "metadata": {},
   "source": [
    "## 3.2 Some custom functions.\n",
    "### Pseudo R-square\n",
    "Pseudo R-square allows to measure how well variables of our model explain co2 emission rate"
   ]
  },
  {
   "cell_type": "code",
   "execution_count": 3,
   "metadata": {},
   "outputs": [],
   "source": [
    "pseudoR2 <- function(y, y_hat) {\n",
    "  1 - (sum((y - y_hat)^2) / sum((y - mean(y))^2))\n",
    "}\n",
    "\n",
    "# Residuals\n",
    "residues <- function(model, level = 0, computeResidues = TRUE, residues,\n",
    "                   main = \"\") {\n",
    "  library(e1071)\n",
    "  if (computeResidues) {\n",
    "    r = residuals(model, type=\"normalized\", level)\n",
    "  } else {\n",
    "    r = residues\n",
    "  }\n",
    "  hist(r, freq=F, main = main, breaks=20)\n",
    "  xfit<-seq(min(r),max(r),length=40)\n",
    "  yfit<-dnorm(xfit)\n",
    "  lines(xfit, yfit, col=\"red\", lwd=2)\n",
    "  print(\"Shapiro-Wilk:\")\n",
    "  print(shapiro.test(r))\n",
    "  print(paste(\"Kurtosis:\", kurtosis(r)))\n",
    "  print(paste(\"Skewness:\", skewness(r)))\n",
    "}"
   ]
  },
  {
   "cell_type": "markdown",
   "metadata": {},
   "source": [
    "### 4. Import data\n",
    "We load two data `data_pot` and `data_co2` involved in our anylisis. `data_pot` contained details about sites sampling, soil sampling(soil depth, weight, water content and bulk density), laboratory incubation temperature while `data_co2` contained details about laboratory incubation time, co2 emission and jar masson details.\n",
    "`data_co2` was combined with `data_pot` with `left_join` function"
   ]
  },
  {
   "cell_type": "code",
   "execution_count": 4,
   "metadata": {},
   "outputs": [
    {
     "name": "stderr",
     "output_type": "stream",
     "text": [
      "Parsed with column specification:\n",
      "cols(\n",
      "  `ID pot` = col_double(),\n",
      "  Sites = col_character(),\n",
      "  `Total carbon (ppm)` = col_double(),\n",
      "  `Depth (cm)` = col_double(),\n",
      "  Block = col_double(),\n",
      "  `Temperature (°C)` = col_double(),\n",
      "  `Pot weight (g)` = col_double(),\n",
      "  `Soil weight (g)` = col_double(),\n",
      "  `Water volume (ml)` = col_double(),\n",
      "  `Water content (%)` = col_double(),\n",
      "  `Bulk density (g/mL)` = col_double()\n",
      ")\n",
      "Parsed with column specification:\n",
      "cols(\n",
      "  `ID pot` = col_double(),\n",
      "  `Time (days)` = col_double(),\n",
      "  `Initial CO2 (ppm)` = col_double(),\n",
      "  `Final CO2 (ppm)` = col_double(),\n",
      "  `Time final (h)` = col_double()\n",
      ")\n"
     ]
    }
   ],
   "source": [
    "data_pots <- read_csv('data/pots.csv')\n",
    "data_co2 <- read_csv('data/co2.csv')\n",
    "data_co2 <- data_co2 %>%\n",
    "left_join(data_pots, by = \"ID pot\")"
   ]
  },
  {
   "cell_type": "markdown",
   "metadata": {},
   "source": [
    "## 5. Some calculations "
   ]
  },
  {
   "cell_type": "markdown",
   "metadata": {},
   "source": [
    "### 5.1 Arrhenius equation"
   ]
  },
  {
   "cell_type": "markdown",
   "metadata": {},
   "source": [
    "The Arrhenius equation was computed as follows:\n",
    "$$k = A e^{\\frac{-E_{a}}{R T}}$$\n",
    "\n",
    "where A is the pre-exponential factor and Ea is activation energy assumed to be independent of temperature, R is the universal gas constant and T is absolute temperature (K)."
   ]
  },
  {
   "cell_type": "code",
   "execution_count": 5,
   "metadata": {},
   "outputs": [],
   "source": [
    "arrhenius_f <- function(A, Ea, T, R = 8.3144621) {\n",
    "    k <- A * exp(-Ea / (R * T))\n",
    "    return(k)\n",
    "}"
   ]
  },
  {
   "cell_type": "markdown",
   "metadata": {},
   "source": [
    " ### 5.2 Other calculations"
   ]
  },
  {
   "cell_type": "markdown",
   "metadata": {},
   "source": [
    "Several variables have been added to our data in order to proceed for analysis. The added variables are the following: `Temperature (Kelvin)`, `Molar Volume (L/mol)`, `Headspace Volume (mL)`, `Dry soil weight (g)`, `CO2 emission (ug/h/g)`, `CO2 emission (mg/kg)`, `decomposition rate K`, `lnK`and `1/T(T = Temperature(Kelvin)`"
   ]
  },
  {
   "cell_type": "code",
   "execution_count": 6,
   "metadata": {},
   "outputs": [
    {
     "name": "stderr",
     "output_type": "stream",
     "text": [
      "Warning message in log(K):\n",
      "\"production de NaN\""
     ]
    }
   ],
   "source": [
    "container_volume <- 250 # mL\n",
    "gas_constant <- 8.31446 # unit\n",
    "atm_pressure_n <- 101.325\n",
    "\n",
    "data_co2 <- data_co2 %>%\n",
    "  mutate(`Temperature (K)` = `Temperature (°C)` + 273,\n",
    "         `Molar Volume (L/mol)` = gas_constant * `Temperature (K)` / atm_pressure_n,\n",
    "         `Headspace Volume (mL)` = container_volume - (`Soil weight (g)` / `Bulk density (g/mL)`), # 250 mL is the volume of the container\n",
    "         `Dry soil weight (g)` = `Soil weight (g)` - (`Soil weight (g)` * `Water content (%)` / 100),\n",
    "         `CO2 emission (ug/h/g)` = (`Final CO2 (ppm)` - `Initial CO2 (ppm)`) * 0.000001 * 44000000 /\n",
    "                                   `Molar Volume (L/mol)` * (`Headspace Volume (mL)` / 1000) * (12 / 44) /\n",
    "                                   `Time final (h)` / `Dry soil weight (g)`,\n",
    "         `CO2 emission (mg/kg)` = `CO2 emission (ug/h/g)` * 24 * `Time (days)`,\n",
    "         K = log(`Total carbon (ppm)` / (`Total carbon (ppm)` - `CO2 emission (mg/kg)`)) / `Time (days)`,\n",
    "         lnK = log(K),\n",
    "         `1/T` = 1 / `Temperature (K)`)"
   ]
  },
  {
   "cell_type": "markdown",
   "metadata": {},
   "source": [
    "### Computing K median in order to compute Q10 value accross soil depth"
   ]
  },
  {
   "cell_type": "code",
   "execution_count": 7,
   "metadata": {},
   "outputs": [
    {
     "data": {
      "text/html": [
       "<table>\n",
       "<thead><tr><th scope=col>Depth (cm)</th><th scope=col>10</th><th scope=col>20</th><th scope=col>30</th><th scope=col>Q_20_10</th><th scope=col>Q_30_20</th></tr></thead>\n",
       "<tbody>\n",
       "\t<tr><td>10          </td><td>5.423944e-05</td><td>1.243877e-04</td><td>2.167872e-04</td><td> 2.293308   </td><td>1.742835    </td></tr>\n",
       "\t<tr><td>20          </td><td>1.432778e-05</td><td>3.899537e-05</td><td>7.573282e-05</td><td> 2.721661   </td><td>1.942098    </td></tr>\n",
       "\t<tr><td>30          </td><td>7.804890e-07</td><td>1.691689e-05</td><td>5.341681e-05</td><td>21.674729   </td><td>3.157603    </td></tr>\n",
       "</tbody>\n",
       "</table>\n"
      ],
      "text/latex": [
       "\\begin{tabular}{r|llllll}\n",
       " Depth (cm) & 10 & 20 & 30 & Q\\_20\\_10 & Q\\_30\\_20\\\\\n",
       "\\hline\n",
       "\t 10           & 5.423944e-05 & 1.243877e-04 & 2.167872e-04 &  2.293308    & 1.742835    \\\\\n",
       "\t 20           & 1.432778e-05 & 3.899537e-05 & 7.573282e-05 &  2.721661    & 1.942098    \\\\\n",
       "\t 30           & 7.804890e-07 & 1.691689e-05 & 5.341681e-05 & 21.674729    & 3.157603    \\\\\n",
       "\\end{tabular}\n"
      ],
      "text/markdown": [
       "\n",
       "| Depth (cm) | 10 | 20 | 30 | Q_20_10 | Q_30_20 |\n",
       "|---|---|---|---|---|---|\n",
       "| 10           | 5.423944e-05 | 1.243877e-04 | 2.167872e-04 |  2.293308    | 1.742835     |\n",
       "| 20           | 1.432778e-05 | 3.899537e-05 | 7.573282e-05 |  2.721661    | 1.942098     |\n",
       "| 30           | 7.804890e-07 | 1.691689e-05 | 5.341681e-05 | 21.674729    | 3.157603     |\n",
       "\n"
      ],
      "text/plain": [
       "  Depth (cm) 10           20           30           Q_20_10   Q_30_20 \n",
       "1 10         5.423944e-05 1.243877e-04 2.167872e-04  2.293308 1.742835\n",
       "2 20         1.432778e-05 3.899537e-05 7.573282e-05  2.721661 1.942098\n",
       "3 30         7.804890e-07 1.691689e-05 5.341681e-05 21.674729 3.157603"
      ]
     },
     "metadata": {},
     "output_type": "display_data"
    }
   ],
   "source": [
    "K_median <- aggregate(K ~ `Depth (cm)` + `Temperature (°C)`, data = data_co2, FUN = median)\n",
    "\n",
    "K_median_01 <- K_median %>%\n",
    "  pivot_wider(names_from = `Temperature (°C)`, values_from = K)\n",
    "\n",
    "K_median_01$Q_20_10 <- K_median_01$`20` / K_median_01$`10`\n",
    "K_median_01$Q_30_20 <- K_median_01$`30` / K_median_01$`20`\n",
    "K_median_01"
   ]
  },
  {
   "cell_type": "markdown",
   "metadata": {},
   "source": [
    "## 6. Data Exploration"
   ]
  },
  {
   "cell_type": "markdown",
   "metadata": {},
   "source": [
    "### 6.1 Boxplot"
   ]
  },
  {
   "cell_type": "code",
   "execution_count": 8,
   "metadata": {},
   "outputs": [
    {
     "data": {
      "text/plain": [
       "<ScaleContinuousPosition>\n",
       " Range:  \n",
       " Limits:    0 --    1"
      ]
     },
     "metadata": {},
     "output_type": "display_data"
    },
    {
     "data": {
      "image/png": "[encoded data removed]",
      "text/plain": [
       "plot without title"
      ]
     },
     "metadata": {},
     "output_type": "display_data"
    }
   ],
   "source": [
    "options(repr.plot.width = 6, repr.plot.height = 7)\n",
    "pg <- ggplot(data=data_co2, aes(x = `Time (days)`,y = `CO2 emission (ug/h/g)` , group = `Temperature (°C)`)) +# geom_point(color= \"black\", size=2) +\n",
    " facet_grid(`Depth (cm)` ~ `Temperature (°C)`,labeller = label_both)+  #scales = \"free\", \n",
    " #geom_jitter(width=0.25)+ \n",
    "        geom_boxplot(alpha=0.5)+\n",
    "  xlab(\"Time (days)\") + ylab(\"co2 emission\")\n",
    "pg +geom_boxplot() #boxplot(color=\"#993399\", aes(group= PROFONDEUR)) +\n",
    "scale_y_log10()"
   ]
  },
  {
   "cell_type": "markdown",
   "metadata": {},
   "source": [
    "## 7. What is the temperature sensitivity across cranberry soil layers?"
   ]
  },
  {
   "cell_type": "markdown",
   "metadata": {},
   "source": [
    "### 7.1 Fit of Arrhenius equation"
   ]
  },
  {
   "cell_type": "code",
   "execution_count": 9,
   "metadata": {},
   "outputs": [],
   "source": [
    "models_co2 <- data_co2 %>%\n",
    "  group_by(`Depth (cm)`) %>%\n",
    "  summarise(linmod = list(lm(lnK ~ `1/T`)))"
   ]
  },
  {
   "cell_type": "code",
   "execution_count": 10,
   "metadata": {},
   "outputs": [],
   "source": [
    "linmod_coef <- list()\n",
    "for (i in seq_along(models_co2$linmod)) linmod_coef[[i]] <- models_co2$linmod[[i]]$coefficients\n",
    "linmod_coef <- do.call(rbind.data.frame, linmod_coef)\n",
    "names(linmod_coef) <- c(\"Intercept\", \"Slope\")\n",
    "linmod_coef <- bind_cols(unique(data_co2[\"Depth (cm)\"]), linmod_coef)"
   ]
  },
  {
   "cell_type": "code",
   "execution_count": 11,
   "metadata": {},
   "outputs": [
    {
     "name": "stderr",
     "output_type": "stream",
     "text": [
      "Warning message:\n",
      "\"Removed 191 rows containing missing values (geom_point).\"Warning message:\n",
      "\"Removed 191 rows containing missing values (geom_point).\""
     ]
    },
    {
     "data": {
      "image/png": "[encoded data removed]",
      "text/plain": [
       "plot without title"
      ]
     },
     "metadata": {},
     "output_type": "display_data"
    }
   ],
   "source": [
    "data_co2 %>%\n",
    "  ggplot(aes(x = `1/T`, y = lnK)) +\n",
    "  facet_grid(~`Depth (cm)`, labeller = label_bquote(cols = \"Depth (cm):\"~.(`Depth (cm)`))) +\n",
    "  geom_abline(data = linmod_coef, aes(intercept = Intercept, slope = Slope)) +\n",
    "  geom_point() +\n",
    "  labs(y = \"ln(K)\") +\n",
    "  theme_bw()\n",
    "ggsave(\"figures/Arrhénius équation.png\", width = 8, height = 5, dpi = 150)# export plot high resolution"
   ]
  },
  {
   "cell_type": "code",
   "execution_count": 12,
   "metadata": {},
   "outputs": [
    {
     "name": "stderr",
     "output_type": "stream",
     "text": [
      "Warning message:\n",
      "\"Removed 191 rows containing non-finite values (stat_boxplot).\""
     ]
    },
    {
     "data": {
      "image/png": "[encoded data removed]",
      "text/plain": [
       "plot without title"
      ]
     },
     "metadata": {},
     "output_type": "display_data"
    }
   ],
   "source": [
    "data_co2 %>%\n",
    "  ggplot(aes(x = `1/T`, y = lnK)) +\n",
    "  facet_grid(~`Depth (cm)`, labeller = label_bquote(cols = \"Depth (cm):\"~.(`Depth (cm)`))) +\n",
    "  geom_boxplot(aes(group = factor(`1/T`))) +\n",
    "  geom_abline(data = linmod_coef, aes(intercept = Intercept, slope = Slope), lwd = 2) +\n",
    "  labs(y = \"ln(K)\") +\n",
    "  theme_bw()"
   ]
  },
  {
   "cell_type": "markdown",
   "metadata": {},
   "source": [
    "### 7.2 Activation Energy computation"
   ]
  },
  {
   "cell_type": "code",
   "execution_count": 13,
   "metadata": {},
   "outputs": [
    {
     "data": {
      "text/html": [
       "<strong>Ea_10:</strong> 48.8887850165988"
      ],
      "text/latex": [
       "\\textbf{Ea\\textbackslash{}\\_10:} 48.8887850165988"
      ],
      "text/markdown": [
       "**Ea_10:** 48.8887850165988"
      ],
      "text/plain": [
       "   Ea_10 \n",
       "48.88879 "
      ]
     },
     "metadata": {},
     "output_type": "display_data"
    },
    {
     "data": {
      "text/html": [
       "<strong>Ea_20:</strong> 58.8157073990039"
      ],
      "text/latex": [
       "\\textbf{Ea\\textbackslash{}\\_20:} 58.8157073990039"
      ],
      "text/markdown": [
       "**Ea_20:** 58.8157073990039"
      ],
      "text/plain": [
       "   Ea_20 \n",
       "58.81571 "
      ]
     },
     "metadata": {},
     "output_type": "display_data"
    },
    {
     "data": {
      "text/html": [
       "<strong>Ea_30:</strong> 77.8162269593658"
      ],
      "text/latex": [
       "\\textbf{Ea\\textbackslash{}\\_30:} 77.8162269593658"
      ],
      "text/markdown": [
       "**Ea_30:** 77.8162269593658"
      ],
      "text/plain": [
       "   Ea_30 \n",
       "77.81623 "
      ]
     },
     "metadata": {},
     "output_type": "display_data"
    }
   ],
   "source": [
    "modlin_depth10 <- lm(lnK ~ `1/T`, data_co2, subset = (`Depth (cm)` == 10))\n",
    "modlin_depth20 <- lm(lnK ~ `1/T`, data_co2, subset = (`Depth (cm)` == 20))\n",
    "modlin_depth30 <- lm(lnK ~ `1/T`, data_co2, subset = (`Depth (cm)` == 30))\n",
    "\n",
    "slope_depth10 <- coef(modlin_depth10)[2]\n",
    "slope_depth20 <- coef(modlin_depth20)[2]\n",
    "slope_depth30 <- coef(modlin_depth30)[2]\n",
    "\n",
    "R = 8.3144621 / 1000 # Kj/mol/K \n",
    "Ea_depth10 <- - slope_depth10 * R\n",
    "names(Ea_depth10) <- \"Ea_10\"\n",
    "Ea_depth10\n",
    "Ea_depth20 <- - slope_depth20 * R\n",
    "names(Ea_depth20) <- \"Ea_20\"\n",
    "Ea_depth20\n",
    "Ea_depth30 <- - slope_depth30 * R\n",
    "names(Ea_depth30) <- \"Ea_30\"\n",
    "Ea_depth30"
   ]
  },
  {
   "cell_type": "code",
   "execution_count": 14,
   "metadata": {},
   "outputs": [
    {
     "data": {
      "text/html": [
       "0.475338316163302"
      ],
      "text/latex": [
       "0.475338316163302"
      ],
      "text/markdown": [
       "0.475338316163302"
      ],
      "text/plain": [
       "[1] 0.4753383"
      ]
     },
     "metadata": {},
     "output_type": "display_data"
    },
    {
     "data": {
      "text/html": [
       "<table>\n",
       "<thead><tr><th></th><th scope=col>Estimate</th><th scope=col>Std. Error</th><th scope=col>t value</th><th scope=col>Pr(&gt;|t|)</th></tr></thead>\n",
       "<tbody>\n",
       "\t<tr><th scope=row>(Intercept)</th><td>   11.10778 </td><td>  1.657889  </td><td>  6.699955  </td><td>3.371670e-10</td></tr>\n",
       "\t<tr><th scope=row>`1/T`</th><td>-5879.96968 </td><td>485.195538  </td><td>-12.118763  </td><td>2.139041e-24</td></tr>\n",
       "</tbody>\n",
       "</table>\n"
      ],
      "text/latex": [
       "\\begin{tabular}{r|llll}\n",
       "  & Estimate & Std. Error & t value & Pr(>\\textbar{}t\\textbar{})\\\\\n",
       "\\hline\n",
       "\t(Intercept) &    11.10778  &   1.657889   &   6.699955   & 3.371670e-10\\\\\n",
       "\t`1/T` & -5879.96968  & 485.195538   & -12.118763   & 2.139041e-24\\\\\n",
       "\\end{tabular}\n"
      ],
      "text/markdown": [
       "\n",
       "| <!--/--> | Estimate | Std. Error | t value | Pr(>|t|) |\n",
       "|---|---|---|---|---|\n",
       "| (Intercept) |    11.10778  |   1.657889   |   6.699955   | 3.371670e-10 |\n",
       "| `1/T` | -5879.96968  | 485.195538   | -12.118763   | 2.139041e-24 |\n",
       "\n"
      ],
      "text/plain": [
       "            Estimate    Std. Error t value    Pr(>|t|)    \n",
       "(Intercept)    11.10778   1.657889   6.699955 3.371670e-10\n",
       "`1/T`       -5879.96968 485.195538 -12.118763 2.139041e-24"
      ]
     },
     "metadata": {},
     "output_type": "display_data"
    }
   ],
   "source": [
    "summary(modlin_depth10)$adj.r.squared\n",
    "summary(modlin_depth10)$coefficients"
   ]
  },
  {
   "cell_type": "code",
   "execution_count": 15,
   "metadata": {},
   "outputs": [
    {
     "data": {
      "text/html": [
       "0.444781795624955"
      ],
      "text/latex": [
       "0.444781795624955"
      ],
      "text/markdown": [
       "0.444781795624955"
      ],
      "text/plain": [
       "[1] 0.4447818"
      ]
     },
     "metadata": {},
     "output_type": "display_data"
    },
    {
     "data": {
      "text/html": [
       "<table>\n",
       "<thead><tr><th></th><th scope=col>Estimate</th><th scope=col>Std. Error</th><th scope=col>t value</th><th scope=col>Pr(&gt;|t|)</th></tr></thead>\n",
       "<tbody>\n",
       "\t<tr><th scope=row>(Intercept)</th><td>   13.93185 </td><td>  2.139542  </td><td>  6.511606  </td><td>9.536927e-10</td></tr>\n",
       "\t<tr><th scope=row>`1/T`</th><td>-7073.90408 </td><td>626.296695  </td><td>-11.294813  </td><td>4.990664e-22</td></tr>\n",
       "</tbody>\n",
       "</table>\n"
      ],
      "text/latex": [
       "\\begin{tabular}{r|llll}\n",
       "  & Estimate & Std. Error & t value & Pr(>\\textbar{}t\\textbar{})\\\\\n",
       "\\hline\n",
       "\t(Intercept) &    13.93185  &   2.139542   &   6.511606   & 9.536927e-10\\\\\n",
       "\t`1/T` & -7073.90408  & 626.296695   & -11.294813   & 4.990664e-22\\\\\n",
       "\\end{tabular}\n"
      ],
      "text/markdown": [
       "\n",
       "| <!--/--> | Estimate | Std. Error | t value | Pr(>|t|) |\n",
       "|---|---|---|---|---|\n",
       "| (Intercept) |    13.93185  |   2.139542   |   6.511606   | 9.536927e-10 |\n",
       "| `1/T` | -7073.90408  | 626.296695   | -11.294813   | 4.990664e-22 |\n",
       "\n"
      ],
      "text/plain": [
       "            Estimate    Std. Error t value    Pr(>|t|)    \n",
       "(Intercept)    13.93185   2.139542   6.511606 9.536927e-10\n",
       "`1/T`       -7073.90408 626.296695 -11.294813 4.990664e-22"
      ]
     },
     "metadata": {},
     "output_type": "display_data"
    }
   ],
   "source": [
    "summary(modlin_depth20)$adj.r.squared\n",
    "summary(modlin_depth20)$coefficients"
   ]
  },
  {
   "cell_type": "code",
   "execution_count": 16,
   "metadata": {},
   "outputs": [
    {
     "data": {
      "text/html": [
       "0.356483089383516"
      ],
      "text/latex": [
       "0.356483089383516"
      ],
      "text/markdown": [
       "0.356483089383516"
      ],
      "text/plain": [
       "[1] 0.3564831"
      ]
     },
     "metadata": {},
     "output_type": "display_data"
    },
    {
     "data": {
      "text/html": [
       "<table>\n",
       "<thead><tr><th></th><th scope=col>Estimate</th><th scope=col>Std. Error</th><th scope=col>t value</th><th scope=col>Pr(&gt;|t|)</th></tr></thead>\n",
       "<tbody>\n",
       "\t<tr><th scope=row>(Intercept)</th><td>   20.83335 </td><td>   3.650929 </td><td> 5.706314   </td><td>7.082031e-08</td></tr>\n",
       "\t<tr><th scope=row>`1/T`</th><td>-9359.14146 </td><td>1075.091066 </td><td>-8.705441   </td><td>1.024174e-14</td></tr>\n",
       "</tbody>\n",
       "</table>\n"
      ],
      "text/latex": [
       "\\begin{tabular}{r|llll}\n",
       "  & Estimate & Std. Error & t value & Pr(>\\textbar{}t\\textbar{})\\\\\n",
       "\\hline\n",
       "\t(Intercept) &    20.83335  &    3.650929  &  5.706314    & 7.082031e-08\\\\\n",
       "\t`1/T` & -9359.14146  & 1075.091066  & -8.705441    & 1.024174e-14\\\\\n",
       "\\end{tabular}\n"
      ],
      "text/markdown": [
       "\n",
       "| <!--/--> | Estimate | Std. Error | t value | Pr(>|t|) |\n",
       "|---|---|---|---|---|\n",
       "| (Intercept) |    20.83335  |    3.650929  |  5.706314    | 7.082031e-08 |\n",
       "| `1/T` | -9359.14146  | 1075.091066  | -8.705441    | 1.024174e-14 |\n",
       "\n"
      ],
      "text/plain": [
       "            Estimate    Std. Error  t value   Pr(>|t|)    \n",
       "(Intercept)    20.83335    3.650929  5.706314 7.082031e-08\n",
       "`1/T`       -9359.14146 1075.091066 -8.705441 1.024174e-14"
      ]
     },
     "metadata": {},
     "output_type": "display_data"
    }
   ],
   "source": [
    "summary(modlin_depth30)$adj.r.squared\n",
    "summary(modlin_depth30)$coefficients"
   ]
  },
  {
   "cell_type": "markdown",
   "metadata": {},
   "source": [
    "## linear regression"
   ]
  },
  {
   "cell_type": "code",
   "execution_count": 17,
   "metadata": {},
   "outputs": [],
   "source": [
    "data_co2 <- data_co2 %>%\n",
    "  rename(Co2 = `CO2 emission (ug/h/g)`,\n",
    "         Time = `Time (days)`,\n",
    "         Depth = `Depth (cm)`,\n",
    "         Temperature = `Temperature (°C)`,\n",
    "         Id = `ID pot`)%>%\n",
    "  drop_na() %>%\n",
    "  droplevels()\n",
    "\n",
    "co2_lm <- lm((log10(Co2)) ~ Time + Depth + Temperature,\n",
    "                     data = data_co2) "
   ]
  },
  {
   "cell_type": "code",
   "execution_count": 18,
   "metadata": {},
   "outputs": [
    {
     "data": {
      "text/plain": [
       "\n",
       "Call:\n",
       "lm(formula = (log10(Co2)) ~ Time + Depth + Temperature, data = data_co2)\n",
       "\n",
       "Residuals:\n",
       "     Min       1Q   Median       3Q      Max \n",
       "-1.34296 -0.15630  0.03048  0.17729  0.80750 \n",
       "\n",
       "Coefficients:\n",
       "              Estimate Std. Error t value Pr(>|t|)    \n",
       "(Intercept) -0.8851447  0.0468129 -18.908   <2e-16 ***\n",
       "Time        -0.0031918  0.0003649  -8.748   <2e-16 ***\n",
       "Depth       -0.0741976  0.0015185 -48.861   <2e-16 ***\n",
       "Temperature  0.0361799  0.0015260  23.710   <2e-16 ***\n",
       "---\n",
       "Signif. codes:  0 '***' 0.001 '**' 0.01 '*' 0.05 '.' 0.1 ' ' 1\n",
       "\n",
       "Residual standard error: 0.2605 on 453 degrees of freedom\n",
       "Multiple R-squared:  0.8623,\tAdjusted R-squared:  0.8614 \n",
       "F-statistic: 945.7 on 3 and 453 DF,  p-value: < 2.2e-16\n"
      ]
     },
     "metadata": {},
     "output_type": "display_data"
    }
   ],
   "source": [
    "summary(co2_lm)"
   ]
  },
  {
   "cell_type": "markdown",
   "metadata": {},
   "source": [
    "### p-value"
   ]
  },
  {
   "cell_type": "code",
   "execution_count": 19,
   "metadata": {},
   "outputs": [
    {
     "data": {
      "text/html": [
       "<dl class=dl-horizontal>\n",
       "\t<dt>(Intercept)</dt>\n",
       "\t\t<dd>3.3239129312181e-59</dd>\n",
       "\t<dt>Time</dt>\n",
       "\t\t<dd>4.30629730108402e-17</dd>\n",
       "\t<dt>Depth</dt>\n",
       "\t\t<dd>1.06381467268956e-182</dd>\n",
       "\t<dt>Temperature</dt>\n",
       "\t\t<dd>2.13121832591047e-81</dd>\n",
       "</dl>\n"
      ],
      "text/latex": [
       "\\begin{description*}\n",
       "\\item[(Intercept)] 3.3239129312181e-59\n",
       "\\item[Time] 4.30629730108402e-17\n",
       "\\item[Depth] 1.06381467268956e-182\n",
       "\\item[Temperature] 2.13121832591047e-81\n",
       "\\end{description*}\n"
      ],
      "text/markdown": [
       "(Intercept)\n",
       ":   3.3239129312181e-59Time\n",
       ":   4.30629730108402e-17Depth\n",
       ":   1.06381467268956e-182Temperature\n",
       ":   2.13121832591047e-81\n",
       "\n"
      ],
      "text/plain": [
       "  (Intercept)          Time         Depth   Temperature \n",
       " 3.323913e-59  4.306297e-17 1.063815e-182  2.131218e-81 "
      ]
     },
     "metadata": {},
     "output_type": "display_data"
    }
   ],
   "source": [
    "summary(co2_lm)$coefficients[,4]"
   ]
  },
  {
   "cell_type": "code",
   "execution_count": null,
   "metadata": {},
   "outputs": [],
   "source": []
  },
  {
   "cell_type": "code",
   "execution_count": null,
   "metadata": {},
   "outputs": [],
   "source": []
  },
  {
   "cell_type": "code",
   "execution_count": null,
   "metadata": {},
   "outputs": [],
   "source": []
  },
  {
   "cell_type": "code",
   "execution_count": null,
   "metadata": {},
   "outputs": [],
   "source": []
  },
  {
   "cell_type": "code",
   "execution_count": null,
   "metadata": {},
   "outputs": [],
   "source": []
  },
  {
   "cell_type": "markdown",
   "metadata": {},
   "source": [
    "### CO2 emission in cranberry soils in three-layer positions (0-10 cm, 10-20 cm, 20-30 cm) and at three temperatures (10, 20 and 30oC).\n",
    "Here, we use our model `co2_lm` to predict co2 emission trend. In order to do that, we create a new data called `Data_exp` following predicted Co2 column. The trend line was drawn with `data_exp`"
   ]
  },
  {
   "cell_type": "code",
   "execution_count": 20,
   "metadata": {},
   "outputs": [],
   "source": [
    "New.labs <- c(\"Temperature:10°C\", \"Temperature:20°C\", \"Temperature:30°C\")\n",
    "names(New.labs) <- c(\"10\", \"20\", \"30\")\n",
    "\n",
    "New.labs_b <-  c(\"Depth:[0-10] cm\", \"Depth:[10-20] cm\", \"Depth:[20-30] cm\")\n",
    "names(New.labs_b) <- c(\"10\", \"20\", \"30\")\n"
   ]
  },
  {
   "cell_type": "code",
   "execution_count": 21,
   "metadata": {},
   "outputs": [
    {
     "data": {
      "image/png": "[encoded data removed]",
      "text/plain": [
       "plot without title"
      ]
     },
     "metadata": {},
     "output_type": "display_data"
    }
   ],
   "source": [
    "Data_exp <- expand.grid(Time = seq(0, 105, 5), Depth = c(10, 20, 30), Temperature = c(10, 20, 30))\n",
    "Data_exp$Co2 <- 10^predict(co2_lm, newdata = Data_exp, level=0)\n",
    "\n",
    "options(repr.plot.width = 8, repr.plot.height = 8)\n",
    "theme_set(theme_bw())\n",
    "pl <- ggplot(data = data_co2, aes(x = Time, y = Co2)) +\n",
    " facet_grid(Depth ~ Temperature, scales = \"free\", labeller = labeller(`Depth` = New.labs_b, `Temperature` = New.labs)) +\n",
    "  xlab(\"Time (days)\") + ylab(bquote(~CO[2]~ 'emision ('*mu~'g'~ h^-1~g^-1*')'))\n",
    "pl + geom_line(color=\"#993399\", aes(group= Id), alpha=0.15) +\n",
    "  geom_line(data = Data_exp) +\n",
    "  scale_y_log10()\n",
    "ggsave(\"figures/CO2 emission.png\", width = 5, height = 5, dpi = 150)# export plot high resolution"
   ]
  },
  {
   "cell_type": "markdown",
   "metadata": {},
   "source": [
    "### Normality test"
   ]
  },
  {
   "cell_type": "code",
   "execution_count": 22,
   "metadata": {},
   "outputs": [
    {
     "data": {
      "image/png": "[encoded data removed]",
      "text/plain": [
       "Plot with title \"Old Faithful Eruptions\""
      ]
     },
     "metadata": {},
     "output_type": "display_data"
    },
    {
     "data": {
      "image/png": "[encoded data removed]",
      "text/plain": [
       "Plot with title \"Histogram of Residuals\""
      ]
     },
     "metadata": {},
     "output_type": "display_data"
    },
    {
     "data": {
      "image/png": "[encoded data removed]",
      "text/plain": [
       "Plot with title \"Normal Q-Q Plot\""
      ]
     },
     "metadata": {},
     "output_type": "display_data"
    }
   ],
   "source": [
    "options(repr.plot.width=6, repr.plot.height=4)\n",
    "residu <- resid(co2_lm)\n",
    "plot(data_co2$Co2, residu, \n",
    "     ylab=\"Residuals\", xlab=\"Waiting Time\", \n",
    "    main=\"Old Faithful Eruptions\") \n",
    " abline(0, 0)  \n",
    "\n",
    "#Histogram of Residuals\n",
    "hist(residu, main=\"Histogram of Residuals\",\n",
    " ylab=\"Residuals\")\n",
    "\n",
    "#Q-Q Plot\n",
    "qqnorm(residu)\n",
    "qqline(residu)"
   ]
  },
  {
   "cell_type": "markdown",
   "metadata": {},
   "source": [
    "## Relationship between predicted and observed CO2 emission"
   ]
  },
  {
   "cell_type": "code",
   "execution_count": 23,
   "metadata": {},
   "outputs": [
    {
     "data": {
      "image/png": "[encoded data removed]",
      "text/plain": [
       "plot without title"
      ]
     },
     "metadata": {},
     "output_type": "display_data"
    }
   ],
   "source": [
    "options(repr.plot.width = 5, repr.plot.height = 5)\n",
    "plot <- plot(x = data_co2$Co2, y = 10**predict(co2_lm), xlab = (bquote('Observed'~CO[2]~ 'emision ('*mu~'g' ~ h^-1~g^-1*')')),\n",
    "             ylab = (bquote('Predicted'~CO[2]~ 'emision ('*mu~'g' ~ h^-1~g^-1*')'))) \n",
    "abline(0,1, col = \"red\")"
   ]
  },
  {
   "cell_type": "markdown",
   "metadata": {},
   "source": [
    "Fractal"
   ]
  },
  {
   "cell_type": "code",
   "execution_count": 24,
   "metadata": {},
   "outputs": [
    {
     "data": {
      "text/html": [
       "<table>\n",
       "<thead><tr><th scope=col>Id</th><th scope=col>Time</th><th scope=col>Initial CO2 (ppm)</th><th scope=col>Final CO2 (ppm)</th><th scope=col>Time final (h)</th><th scope=col>Sites</th><th scope=col>Total carbon (ppm)</th><th scope=col>Depth</th><th scope=col>Block</th><th scope=col>Temperature</th><th scope=col>...</th><th scope=col>Bulk density (g/mL)</th><th scope=col>Temperature (K)</th><th scope=col>Molar Volume (L/mol)</th><th scope=col>Headspace Volume (mL)</th><th scope=col>Dry soil weight (g)</th><th scope=col>Co2</th><th scope=col>CO2 emission (mg/kg)</th><th scope=col>K</th><th scope=col>lnK</th><th scope=col>1/T</th></tr></thead>\n",
       "<tbody>\n",
       "\t<tr><td>6           </td><td> 7          </td><td>546.3121    </td><td>2158.819    </td><td>22.86       </td><td>A9          </td><td>18428       </td><td>10          </td><td>1           </td><td>10          </td><td>...         </td><td>0.89        </td><td>283         </td><td>23.22223    </td><td>126.0449    </td><td>98.95704    </td><td>0.04642816  </td><td> 7.799931   </td><td>6.047925e-05</td><td> -9.713210  </td><td>0.003533569 </td></tr>\n",
       "\t<tr><td>6           </td><td>14          </td><td>494.4296    </td><td>1871.178    </td><td>25.20       </td><td>A9          </td><td>18428       </td><td>10          </td><td>1           </td><td>10          </td><td>...         </td><td>0.89        </td><td>283         </td><td>23.22223    </td><td>126.0449    </td><td>98.95704    </td><td>0.03595922  </td><td>12.082298   </td><td>4.684743e-05</td><td> -9.968615  </td><td>0.003533569 </td></tr>\n",
       "\t<tr><td>6           </td><td>21          </td><td>500.9711    </td><td>1923.293    </td><td>25.26       </td><td>A9          </td><td>18428       </td><td>10          </td><td>1           </td><td>10          </td><td>...         </td><td>0.89        </td><td>283         </td><td>23.22223    </td><td>126.0449    </td><td>98.95704    </td><td>0.03706130  </td><td>18.678895   </td><td>4.829186e-05</td><td> -9.938248  </td><td>0.003533569 </td></tr>\n",
       "\t<tr><td>6           </td><td>35          </td><td>532.7974    </td><td>1522.628    </td><td>24.14       </td><td>A9          </td><td>18428       </td><td>10          </td><td>1           </td><td>10          </td><td>...         </td><td>0.89        </td><td>283         </td><td>23.22223    </td><td>126.0449    </td><td>98.95704    </td><td>0.02698857  </td><td>22.670403   </td><td>3.517064e-05</td><td>-10.255299  </td><td>0.003533569 </td></tr>\n",
       "\t<tr><td>6           </td><td>49          </td><td>547.5398    </td><td>1668.884    </td><td>24.43       </td><td>A9          </td><td>18428       </td><td>10          </td><td>1           </td><td>10          </td><td>...         </td><td>0.89        </td><td>283         </td><td>23.22223    </td><td>126.0449    </td><td>98.95704    </td><td>0.03021146  </td><td>35.528682   </td><td>3.938436e-05</td><td>-10.142142  </td><td>0.003533569 </td></tr>\n",
       "\t<tr><td>6           </td><td>63          </td><td>538.1963    </td><td>1632.889    </td><td>24.21       </td><td>A9          </td><td>18428       </td><td>10          </td><td>1           </td><td>10          </td><td>...         </td><td>0.89        </td><td>283         </td><td>23.22223    </td><td>126.0449    </td><td>98.95704    </td><td>0.02976141  </td><td>44.999253   </td><td>3.880765e-05</td><td>-10.156893  </td><td>0.003533569 </td></tr>\n",
       "</tbody>\n",
       "</table>\n"
      ],
      "text/latex": [
       "\\begin{tabular}{r|llllllllllllllllllllllll}\n",
       " Id & Time & Initial CO2 (ppm) & Final CO2 (ppm) & Time final (h) & Sites & Total carbon (ppm) & Depth & Block & Temperature & ... & Bulk density (g/mL) & Temperature (K) & Molar Volume (L/mol) & Headspace Volume (mL) & Dry soil weight (g) & Co2 & CO2 emission (mg/kg) & K & lnK & 1/T\\\\\n",
       "\\hline\n",
       "\t 6            &  7           & 546.3121     & 2158.819     & 22.86        & A9           & 18428        & 10           & 1            & 10           & ...          & 0.89         & 283          & 23.22223     & 126.0449     & 98.95704     & 0.04642816   &  7.799931    & 6.047925e-05 &  -9.713210   & 0.003533569 \\\\\n",
       "\t 6            & 14           & 494.4296     & 1871.178     & 25.20        & A9           & 18428        & 10           & 1            & 10           & ...          & 0.89         & 283          & 23.22223     & 126.0449     & 98.95704     & 0.03595922   & 12.082298    & 4.684743e-05 &  -9.968615   & 0.003533569 \\\\\n",
       "\t 6            & 21           & 500.9711     & 1923.293     & 25.26        & A9           & 18428        & 10           & 1            & 10           & ...          & 0.89         & 283          & 23.22223     & 126.0449     & 98.95704     & 0.03706130   & 18.678895    & 4.829186e-05 &  -9.938248   & 0.003533569 \\\\\n",
       "\t 6            & 35           & 532.7974     & 1522.628     & 24.14        & A9           & 18428        & 10           & 1            & 10           & ...          & 0.89         & 283          & 23.22223     & 126.0449     & 98.95704     & 0.02698857   & 22.670403    & 3.517064e-05 & -10.255299   & 0.003533569 \\\\\n",
       "\t 6            & 49           & 547.5398     & 1668.884     & 24.43        & A9           & 18428        & 10           & 1            & 10           & ...          & 0.89         & 283          & 23.22223     & 126.0449     & 98.95704     & 0.03021146   & 35.528682    & 3.938436e-05 & -10.142142   & 0.003533569 \\\\\n",
       "\t 6            & 63           & 538.1963     & 1632.889     & 24.21        & A9           & 18428        & 10           & 1            & 10           & ...          & 0.89         & 283          & 23.22223     & 126.0449     & 98.95704     & 0.02976141   & 44.999253    & 3.880765e-05 & -10.156893   & 0.003533569 \\\\\n",
       "\\end{tabular}\n"
      ],
      "text/markdown": [
       "\n",
       "| Id | Time | Initial CO2 (ppm) | Final CO2 (ppm) | Time final (h) | Sites | Total carbon (ppm) | Depth | Block | Temperature | ... | Bulk density (g/mL) | Temperature (K) | Molar Volume (L/mol) | Headspace Volume (mL) | Dry soil weight (g) | Co2 | CO2 emission (mg/kg) | K | lnK | 1/T |\n",
       "|---|---|---|---|---|---|---|---|---|---|---|---|---|---|---|---|---|---|---|---|---|\n",
       "| 6            |  7           | 546.3121     | 2158.819     | 22.86        | A9           | 18428        | 10           | 1            | 10           | ...          | 0.89         | 283          | 23.22223     | 126.0449     | 98.95704     | 0.04642816   |  7.799931    | 6.047925e-05 |  -9.713210   | 0.003533569  |\n",
       "| 6            | 14           | 494.4296     | 1871.178     | 25.20        | A9           | 18428        | 10           | 1            | 10           | ...          | 0.89         | 283          | 23.22223     | 126.0449     | 98.95704     | 0.03595922   | 12.082298    | 4.684743e-05 |  -9.968615   | 0.003533569  |\n",
       "| 6            | 21           | 500.9711     | 1923.293     | 25.26        | A9           | 18428        | 10           | 1            | 10           | ...          | 0.89         | 283          | 23.22223     | 126.0449     | 98.95704     | 0.03706130   | 18.678895    | 4.829186e-05 |  -9.938248   | 0.003533569  |\n",
       "| 6            | 35           | 532.7974     | 1522.628     | 24.14        | A9           | 18428        | 10           | 1            | 10           | ...          | 0.89         | 283          | 23.22223     | 126.0449     | 98.95704     | 0.02698857   | 22.670403    | 3.517064e-05 | -10.255299   | 0.003533569  |\n",
       "| 6            | 49           | 547.5398     | 1668.884     | 24.43        | A9           | 18428        | 10           | 1            | 10           | ...          | 0.89         | 283          | 23.22223     | 126.0449     | 98.95704     | 0.03021146   | 35.528682    | 3.938436e-05 | -10.142142   | 0.003533569  |\n",
       "| 6            | 63           | 538.1963     | 1632.889     | 24.21        | A9           | 18428        | 10           | 1            | 10           | ...          | 0.89         | 283          | 23.22223     | 126.0449     | 98.95704     | 0.02976141   | 44.999253    | 3.880765e-05 | -10.156893   | 0.003533569  |\n",
       "\n"
      ],
      "text/plain": [
       "  Id Time Initial CO2 (ppm) Final CO2 (ppm) Time final (h) Sites\n",
       "1 6   7   546.3121          2158.819        22.86          A9   \n",
       "2 6  14   494.4296          1871.178        25.20          A9   \n",
       "3 6  21   500.9711          1923.293        25.26          A9   \n",
       "4 6  35   532.7974          1522.628        24.14          A9   \n",
       "5 6  49   547.5398          1668.884        24.43          A9   \n",
       "6 6  63   538.1963          1632.889        24.21          A9   \n",
       "  Total carbon (ppm) Depth Block Temperature ... Bulk density (g/mL)\n",
       "1 18428              10    1     10          ... 0.89               \n",
       "2 18428              10    1     10          ... 0.89               \n",
       "3 18428              10    1     10          ... 0.89               \n",
       "4 18428              10    1     10          ... 0.89               \n",
       "5 18428              10    1     10          ... 0.89               \n",
       "6 18428              10    1     10          ... 0.89               \n",
       "  Temperature (K) Molar Volume (L/mol) Headspace Volume (mL)\n",
       "1 283             23.22223             126.0449             \n",
       "2 283             23.22223             126.0449             \n",
       "3 283             23.22223             126.0449             \n",
       "4 283             23.22223             126.0449             \n",
       "5 283             23.22223             126.0449             \n",
       "6 283             23.22223             126.0449             \n",
       "  Dry soil weight (g) Co2        CO2 emission (mg/kg) K            lnK       \n",
       "1 98.95704            0.04642816  7.799931            6.047925e-05  -9.713210\n",
       "2 98.95704            0.03595922 12.082298            4.684743e-05  -9.968615\n",
       "3 98.95704            0.03706130 18.678895            4.829186e-05  -9.938248\n",
       "4 98.95704            0.02698857 22.670403            3.517064e-05 -10.255299\n",
       "5 98.95704            0.03021146 35.528682            3.938436e-05 -10.142142\n",
       "6 98.95704            0.02976141 44.999253            3.880765e-05 -10.156893\n",
       "  1/T        \n",
       "1 0.003533569\n",
       "2 0.003533569\n",
       "3 0.003533569\n",
       "4 0.003533569\n",
       "5 0.003533569\n",
       "6 0.003533569"
      ]
     },
     "metadata": {},
     "output_type": "display_data"
    }
   ],
   "source": [
    "head(data_co2)"
   ]
  },
  {
   "cell_type": "code",
   "execution_count": 25,
   "metadata": {},
   "outputs": [],
   "source": [
    "data_co2 <- data_co2 %>%\n",
    "  mutate(\n",
    "    # log.time\n",
    "    log.time = log10(Time),\n",
    "  ) %>%\n",
    "  select(`Depth`, `K`,`log.time`, `lnK`, `Time`,`Temperature`)"
   ]
  },
  {
   "cell_type": "code",
   "execution_count": 26,
   "metadata": {},
   "outputs": [
    {
     "data": {
      "text/html": [
       "<table>\n",
       "<thead><tr><th scope=col>Depth</th><th scope=col>K</th><th scope=col>log.time</th><th scope=col>lnK</th><th scope=col>Time</th><th scope=col>Temperature</th></tr></thead>\n",
       "<tbody>\n",
       "\t<tr><td>10          </td><td>6.047925e-05</td><td>0.845098    </td><td> -9.713210  </td><td> 7          </td><td>10          </td></tr>\n",
       "\t<tr><td>10          </td><td>4.684743e-05</td><td>1.146128    </td><td> -9.968615  </td><td>14          </td><td>10          </td></tr>\n",
       "\t<tr><td>10          </td><td>4.829186e-05</td><td>1.322219    </td><td> -9.938248  </td><td>21          </td><td>10          </td></tr>\n",
       "\t<tr><td>10          </td><td>3.517064e-05</td><td>1.544068    </td><td>-10.255299  </td><td>35          </td><td>10          </td></tr>\n",
       "\t<tr><td>10          </td><td>3.938436e-05</td><td>1.690196    </td><td>-10.142142  </td><td>49          </td><td>10          </td></tr>\n",
       "\t<tr><td>10          </td><td>3.880765e-05</td><td>1.799341    </td><td>-10.156893  </td><td>63          </td><td>10          </td></tr>\n",
       "</tbody>\n",
       "</table>\n"
      ],
      "text/latex": [
       "\\begin{tabular}{r|llllll}\n",
       " Depth & K & log.time & lnK & Time & Temperature\\\\\n",
       "\\hline\n",
       "\t 10           & 6.047925e-05 & 0.845098     &  -9.713210   &  7           & 10          \\\\\n",
       "\t 10           & 4.684743e-05 & 1.146128     &  -9.968615   & 14           & 10          \\\\\n",
       "\t 10           & 4.829186e-05 & 1.322219     &  -9.938248   & 21           & 10          \\\\\n",
       "\t 10           & 3.517064e-05 & 1.544068     & -10.255299   & 35           & 10          \\\\\n",
       "\t 10           & 3.938436e-05 & 1.690196     & -10.142142   & 49           & 10          \\\\\n",
       "\t 10           & 3.880765e-05 & 1.799341     & -10.156893   & 63           & 10          \\\\\n",
       "\\end{tabular}\n"
      ],
      "text/markdown": [
       "\n",
       "| Depth | K | log.time | lnK | Time | Temperature |\n",
       "|---|---|---|---|---|---|\n",
       "| 10           | 6.047925e-05 | 0.845098     |  -9.713210   |  7           | 10           |\n",
       "| 10           | 4.684743e-05 | 1.146128     |  -9.968615   | 14           | 10           |\n",
       "| 10           | 4.829186e-05 | 1.322219     |  -9.938248   | 21           | 10           |\n",
       "| 10           | 3.517064e-05 | 1.544068     | -10.255299   | 35           | 10           |\n",
       "| 10           | 3.938436e-05 | 1.690196     | -10.142142   | 49           | 10           |\n",
       "| 10           | 3.880765e-05 | 1.799341     | -10.156893   | 63           | 10           |\n",
       "\n"
      ],
      "text/plain": [
       "  Depth K            log.time lnK        Time Temperature\n",
       "1 10    6.047925e-05 0.845098  -9.713210  7   10         \n",
       "2 10    4.684743e-05 1.146128  -9.968615 14   10         \n",
       "3 10    4.829186e-05 1.322219  -9.938248 21   10         \n",
       "4 10    3.517064e-05 1.544068 -10.255299 35   10         \n",
       "5 10    3.938436e-05 1.690196 -10.142142 49   10         \n",
       "6 10    3.880765e-05 1.799341 -10.156893 63   10         "
      ]
     },
     "metadata": {},
     "output_type": "display_data"
    }
   ],
   "source": [
    "head(data_co2)"
   ]
  },
  {
   "cell_type": "code",
   "execution_count": 27,
   "metadata": {},
   "outputs": [],
   "source": [
    "fractal_kinetics <- tibble(\n",
    "    Depth = c(\"10\", \"20\", \"30\"),\n",
    "    intercept_ll = NA,\n",
    "    intercept = NA,\n",
    "    intercept_ul = NA,\n",
    "    slope_ll = NA,\n",
    "    slope = NA,\n",
    "    slope_ul = NA,\n",
    "    r_sq = NA\n",
    ")"
   ]
  },
  {
   "cell_type": "code",
   "execution_count": 28,
   "metadata": {},
   "outputs": [],
   "source": [
    "data_median_lm_fractal <- aggregate(cbind(log.time, lnK) ~ Time + `Depth`, data = data_co2, FUN = median)"
   ]
  },
  {
   "cell_type": "code",
   "execution_count": 29,
   "metadata": {},
   "outputs": [],
   "source": [
    "conf_level <- 0.95\n",
    "\n",
    "for (i in 1:nrow(fractal_kinetics)) {\n",
    "    \n",
    "    lm_fractal <- data_median_lm_fractal %>%\n",
    "      filter(Depth == fractal_kinetics$Depth[i]) %>%\n",
    "      lm(lnK ~ log.time, data = .)\n",
    "    \n",
    "    # intercept\n",
    "    fractal_kinetics$intercept_ll[i] <- confint(lm_fractal, level = conf_level)[1, 1]\n",
    "    fractal_kinetics$intercept[i] <- coef(lm_fractal)[1]\n",
    "    fractal_kinetics$intercept_ul[i] <- confint(lm_fractal, level = conf_level)[1, 2]\n",
    "    \n",
    "    # Slope\n",
    "    fractal_kinetics$slope_ll[i] <- confint(lm_fractal, level = conf_level)[2, 1]\n",
    "    fractal_kinetics$slope[i] <- coef(lm_fractal)[2]\n",
    "    fractal_kinetics$slope_ul[i] <- confint(lm_fractal, level = conf_level)[2, 2]\n",
    "    \n",
    "    # statistics\n",
    "    fractal_kinetics$r_sq[i] <- summary(lm_fractal)$r.squared\n",
    "}"
   ]
  },
  {
   "cell_type": "code",
   "execution_count": 30,
   "metadata": {},
   "outputs": [
    {
     "data": {
      "text/html": [
       "<table>\n",
       "<thead><tr><th scope=col>Depth</th><th scope=col>intercept_ll</th><th scope=col>intercept</th><th scope=col>intercept_ul</th><th scope=col>slope_ll</th><th scope=col>slope</th><th scope=col>slope_ul</th><th scope=col>r_sq</th></tr></thead>\n",
       "<tbody>\n",
       "\t<tr><td>10        </td><td> -8.147872</td><td> -7.769439</td><td>-7.391007 </td><td>-0.9683440</td><td>-0.7353195</td><td>-0.5022951</td><td>0.8883158 </td></tr>\n",
       "\t<tr><td>20        </td><td> -9.523349</td><td> -9.130532</td><td>-8.737714 </td><td>-0.8809323</td><td>-0.6390501</td><td>-0.3971679</td><td>0.8479216 </td></tr>\n",
       "\t<tr><td>30        </td><td>-11.386113</td><td>-10.365712</td><td>-9.345312 </td><td>-0.9212284</td><td>-0.2929046</td><td> 0.3354192</td><td>0.1479098 </td></tr>\n",
       "</tbody>\n",
       "</table>\n"
      ],
      "text/latex": [
       "\\begin{tabular}{r|llllllll}\n",
       " Depth & intercept\\_ll & intercept & intercept\\_ul & slope\\_ll & slope & slope\\_ul & r\\_sq\\\\\n",
       "\\hline\n",
       "\t 10         &  -8.147872 &  -7.769439 & -7.391007  & -0.9683440 & -0.7353195 & -0.5022951 & 0.8883158 \\\\\n",
       "\t 20         &  -9.523349 &  -9.130532 & -8.737714  & -0.8809323 & -0.6390501 & -0.3971679 & 0.8479216 \\\\\n",
       "\t 30         & -11.386113 & -10.365712 & -9.345312  & -0.9212284 & -0.2929046 &  0.3354192 & 0.1479098 \\\\\n",
       "\\end{tabular}\n"
      ],
      "text/markdown": [
       "\n",
       "| Depth | intercept_ll | intercept | intercept_ul | slope_ll | slope | slope_ul | r_sq |\n",
       "|---|---|---|---|---|---|---|---|\n",
       "| 10         |  -8.147872 |  -7.769439 | -7.391007  | -0.9683440 | -0.7353195 | -0.5022951 | 0.8883158  |\n",
       "| 20         |  -9.523349 |  -9.130532 | -8.737714  | -0.8809323 | -0.6390501 | -0.3971679 | 0.8479216  |\n",
       "| 30         | -11.386113 | -10.365712 | -9.345312  | -0.9212284 | -0.2929046 |  0.3354192 | 0.1479098  |\n",
       "\n"
      ],
      "text/plain": [
       "  Depth intercept_ll intercept  intercept_ul slope_ll   slope      slope_ul  \n",
       "1 10     -8.147872    -7.769439 -7.391007    -0.9683440 -0.7353195 -0.5022951\n",
       "2 20     -9.523349    -9.130532 -8.737714    -0.8809323 -0.6390501 -0.3971679\n",
       "3 30    -11.386113   -10.365712 -9.345312    -0.9212284 -0.2929046  0.3354192\n",
       "  r_sq     \n",
       "1 0.8883158\n",
       "2 0.8479216\n",
       "3 0.1479098"
      ]
     },
     "metadata": {},
     "output_type": "display_data"
    }
   ],
   "source": [
    "fractal_kinetics"
   ]
  },
  {
   "cell_type": "code",
   "execution_count": 31,
   "metadata": {},
   "outputs": [
    {
     "data": {
      "text/html": [
       "<table>\n",
       "<thead><tr><th scope=col>Depth</th><th scope=col>r_sq</th><th scope=col>h_ll</th><th scope=col>h</th><th scope=col>h_ul</th><th scope=col>k1_ll</th><th scope=col>k1</th><th scope=col>k1_ul</th></tr></thead>\n",
       "<tbody>\n",
       "\t<tr><td>10          </td><td>0.8883158   </td><td> 0.5022951  </td><td>0.7353195   </td><td>0.9683440   </td><td>7.114236e-09</td><td>1.700438e-08</td><td>4.064371e-08</td></tr>\n",
       "\t<tr><td>20          </td><td>0.8479216   </td><td> 0.3971679  </td><td>0.6390501   </td><td>0.8809323   </td><td>2.996750e-10</td><td>7.404030e-10</td><td>1.829304e-09</td></tr>\n",
       "\t<tr><td>30          </td><td>0.1479098   </td><td>-0.3354192  </td><td>0.2929046   </td><td>0.9212284   </td><td>4.110431e-12</td><td>4.308118e-11</td><td>4.515313e-10</td></tr>\n",
       "</tbody>\n",
       "</table>\n"
      ],
      "text/latex": [
       "\\begin{tabular}{r|llllllll}\n",
       " Depth & r\\_sq & h\\_ll & h & h\\_ul & k1\\_ll & k1 & k1\\_ul\\\\\n",
       "\\hline\n",
       "\t 10           & 0.8883158    &  0.5022951   & 0.7353195    & 0.9683440    & 7.114236e-09 & 1.700438e-08 & 4.064371e-08\\\\\n",
       "\t 20           & 0.8479216    &  0.3971679   & 0.6390501    & 0.8809323    & 2.996750e-10 & 7.404030e-10 & 1.829304e-09\\\\\n",
       "\t 30           & 0.1479098    & -0.3354192   & 0.2929046    & 0.9212284    & 4.110431e-12 & 4.308118e-11 & 4.515313e-10\\\\\n",
       "\\end{tabular}\n"
      ],
      "text/markdown": [
       "\n",
       "| Depth | r_sq | h_ll | h | h_ul | k1_ll | k1 | k1_ul |\n",
       "|---|---|---|---|---|---|---|---|\n",
       "| 10           | 0.8883158    |  0.5022951   | 0.7353195    | 0.9683440    | 7.114236e-09 | 1.700438e-08 | 4.064371e-08 |\n",
       "| 20           | 0.8479216    |  0.3971679   | 0.6390501    | 0.8809323    | 2.996750e-10 | 7.404030e-10 | 1.829304e-09 |\n",
       "| 30           | 0.1479098    | -0.3354192   | 0.2929046    | 0.9212284    | 4.110431e-12 | 4.308118e-11 | 4.515313e-10 |\n",
       "\n"
      ],
      "text/plain": [
       "  Depth r_sq      h_ll       h         h_ul      k1_ll        k1          \n",
       "1 10    0.8883158  0.5022951 0.7353195 0.9683440 7.114236e-09 1.700438e-08\n",
       "2 20    0.8479216  0.3971679 0.6390501 0.8809323 2.996750e-10 7.404030e-10\n",
       "3 30    0.1479098 -0.3354192 0.2929046 0.9212284 4.110431e-12 4.308118e-11\n",
       "  k1_ul       \n",
       "1 4.064371e-08\n",
       "2 1.829304e-09\n",
       "3 4.515313e-10"
      ]
     },
     "metadata": {},
     "output_type": "display_data"
    }
   ],
   "source": [
    "fractal_kinetics <-  fractal_kinetics %>%\n",
    "  mutate(h_ll = -slope_ul,\n",
    "         h = -slope,\n",
    "         h_ul = -slope_ll,\n",
    "         k1_ll = 10^intercept_ll,\n",
    "         k1 = 10^intercept,\n",
    "        k1_ul = 10^intercept_ul)%>%\n",
    "  select(Depth, r_sq, h_ll, h, h_ul, k1_ll, k1, k1_ul)\n",
    "fractal_kinetics"
   ]
  },
  {
   "cell_type": "code",
   "execution_count": 32,
   "metadata": {},
   "outputs": [],
   "source": [
    "New.labs_b <-  c(\"Depth:[0-10] cm\", \"Depth:[10-20] cm\", \"Depth:[20-30] cm\")\n",
    "names(New.labs_b) <- c(\"10\", \"20\", \"30\")"
   ]
  },
  {
   "cell_type": "code",
   "execution_count": 33,
   "metadata": {},
   "outputs": [
    {
     "data": {
      "image/png": "[encoded data removed]",
      "text/plain": [
       "plot without title"
      ]
     },
     "metadata": {},
     "output_type": "display_data"
    }
   ],
   "source": [
    "options(repr.plot.width = 10, repr.plot.height = 6)\n",
    "data_median_lm_fractal %>%\n",
    "  ggplot(aes(x = log.time, y  = lnK)) +\n",
    "  geom_point() + geom_smooth(method = \"lm\") +\n",
    "  facet_grid(. ~ `Depth`, scales = \"free\", labeller = labeller(`Depth` = New.labs_b)) +\n",
    "  geom_text(data = fractal_kinetics,\n",
    "            parse = TRUE,\n",
    "            aes(label = paste(\"italic(h) ==\", round(h, 1), \"%+-%\", round(h-h_ll, 1))),\n",
    "            x = 1.1, y = -9.4) +\n",
    "  geom_text(data = fractal_kinetics,  \n",
    "            parse = TRUE,\n",
    "            aes(label = paste((\"italic(k[1]) ==\"), round(k1, 11), \"%+-%\", round(k1- k1_ll, 11))),\n",
    "            x = 1.3, y = -9.2) +\n",
    "geom_text(data = fractal_kinetics,\n",
    "          parse = TRUE,\n",
    "            aes(label = paste((\"R^2 ==\"), round(r_sq, 2))),\n",
    "            x = 1.1, y = -9) +\n",
    "labs(x = expression(paste(\"log.\",italic(\"t\"))), y=expression(paste(\"log.\",italic(\"k\")))) +\n",
    "  theme_bw() +\n",
    "ggsave(\"figures/Fractal first order parameters of carbon decomposition across depth.png\", width = 8, height = 6, dpi = 80)"
   ]
  },
  {
   "cell_type": "code",
   "execution_count": null,
   "metadata": {},
   "outputs": [],
   "source": []
  },
  {
   "cell_type": "code",
   "execution_count": null,
   "metadata": {},
   "outputs": [],
   "source": []
  },
  {
   "cell_type": "code",
   "execution_count": 34,
   "metadata": {},
   "outputs": [],
   "source": [
    "fractal_temperature_kinetics <- tibble(\n",
    "    Depth = c(\"10\", \"20\", \"30\",\"10\", \"20\", \"30\", \"10\", \"20\", \"30\" ),\n",
    "    Temperature = c(rep(\"10\", 3), rep(\"20\", 3),  rep(\"30\", 3)),\n",
    "    intercept_ll = NA,\n",
    "    intercept = NA,\n",
    "    intercept_ul = NA,\n",
    "    slope_ll = NA,\n",
    "    slope = NA,\n",
    "    slope_ul = NA,\n",
    "    r_sq = NA\n",
    ")"
   ]
  },
  {
   "cell_type": "code",
   "execution_count": 35,
   "metadata": {},
   "outputs": [],
   "source": [
    "data_median_fractal_temperature <- aggregate(cbind(`log.time`, `lnK`) ~ `Time` + \n",
    "                                             `Depth` + `Temperature`, \n",
    "                                             data = data_co2, \n",
    "                                             FUN = median)"
   ]
  },
  {
   "cell_type": "code",
   "execution_count": null,
   "metadata": {},
   "outputs": [],
   "source": []
  },
  {
   "cell_type": "code",
   "execution_count": 36,
   "metadata": {},
   "outputs": [],
   "source": [
    "conf_level <- 0.95\n",
    "\n",
    "for (i in 1:nrow(fractal_temperature_kinetics)) {\n",
    "    \n",
    "    lm_fractal <- data_median_fractal_temperature %>%\n",
    "      filter((`Depth` == fractal_temperature_kinetics$`Depth`[i]) &\n",
    "             (`Temperature` == fractal_temperature_kinetics$Temperature[i])) %>%\n",
    "      lm(`lnK` ~ `log.time`, data = .)\n",
    "    \n",
    "    # interept\n",
    "    fractal_temperature_kinetics$intercept_ll[i] <- confint(lm_fractal, level = conf_level)[1, 1]\n",
    "    fractal_temperature_kinetics$intercept[i] <- coef(lm_fractal)[1]\n",
    "    fractal_temperature_kinetics$intercept_ul[i] <- confint(lm_fractal, level = conf_level)[1, 2]\n",
    "    \n",
    "    # slope\n",
    "    fractal_temperature_kinetics$slope_ll[i] <- confint(lm_fractal, level = conf_level)[2, 1]\n",
    "    fractal_temperature_kinetics$slope[i] <- coef(lm_fractal)[2]\n",
    "    fractal_temperature_kinetics$slope_ul[i] <- confint(lm_fractal, level = conf_level)[2, 2]\n",
    "    \n",
    "    # statistics\n",
    "    fractal_temperature_kinetics$r_sq[i] <- summary(lm_fractal)$r.squared    \n",
    "}"
   ]
  },
  {
   "cell_type": "code",
   "execution_count": null,
   "metadata": {},
   "outputs": [],
   "source": []
  },
  {
   "cell_type": "code",
   "execution_count": 37,
   "metadata": {},
   "outputs": [
    {
     "data": {
      "text/html": [
       "<table>\n",
       "<thead><tr><th scope=col>Depth</th><th scope=col>Temperature</th><th scope=col>r_sq</th><th scope=col>h_ll</th><th scope=col>h</th><th scope=col>h_ul</th><th scope=col>k1_ll</th><th scope=col>k1</th><th scope=col>k1_ul</th></tr></thead>\n",
       "<tbody>\n",
       "\t<tr><td>10          </td><td>10          </td><td>0.8717506   </td><td> 0.38987373 </td><td>0.5932373   </td><td>0.7966009   </td><td>6.055227e-10</td><td>1.295369e-09</td><td>2.771130e-09</td></tr>\n",
       "\t<tr><td>20          </td><td>10          </td><td>0.2583999   </td><td>-0.26940386 </td><td>0.5240399   </td><td>1.3174837   </td><td>2.601288e-12</td><td>5.055268e-11</td><td>9.824262e-10</td></tr>\n",
       "\t<tr><td>30          </td><td>10          </td><td>0.6684783   </td><td> 0.24811485 </td><td>1.3029740   </td><td>2.3578331   </td><td>1.243065e-12</td><td>6.621256e-11</td><td>3.526848e-09</td></tr>\n",
       "\t<tr><td>10          </td><td>20          </td><td>0.8748589   </td><td> 0.50198870 </td><td>0.7583156   </td><td>1.0146425   </td><td>5.545570e-09</td><td>1.446179e-08</td><td>3.771359e-08</td></tr>\n",
       "\t<tr><td>20          </td><td>20          </td><td>0.7565821   </td><td> 0.27936006 </td><td>0.5665907   </td><td>0.8538214   </td><td>1.893969e-10</td><td>5.544170e-10</td><td>1.622932e-09</td></tr>\n",
       "\t<tr><td>30          </td><td>20          </td><td>0.1783725   </td><td>-0.34427925 </td><td>0.3749634   </td><td>1.0942060   </td><td>3.018594e-12</td><td>4.444854e-11</td><td>6.545008e-10</td></tr>\n",
       "\t<tr><td>10          </td><td>30          </td><td>0.9580157   </td><td> 0.90376816 </td><td>1.1117806   </td><td>1.3197930   </td><td>8.939280e-08</td><td>1.945877e-07</td><td>4.235732e-07</td></tr>\n",
       "\t<tr><td>20          </td><td>30          </td><td>0.6434511   </td><td> 0.18871252 </td><td>0.5638192   </td><td>0.9389258   </td><td>6.433785e-10</td><td>2.616021e-09</td><td>1.063692e-08</td></tr>\n",
       "\t<tr><td>30          </td><td>30          </td><td>0.3652298   </td><td>-0.03750754 </td><td>0.2104182   </td><td>0.4583438   </td><td>1.324430e-10</td><td>3.347044e-10</td><td>8.458507e-10</td></tr>\n",
       "</tbody>\n",
       "</table>\n"
      ],
      "text/latex": [
       "\\begin{tabular}{r|lllllllll}\n",
       " Depth & Temperature & r\\_sq & h\\_ll & h & h\\_ul & k1\\_ll & k1 & k1\\_ul\\\\\n",
       "\\hline\n",
       "\t 10           & 10           & 0.8717506    &  0.38987373  & 0.5932373    & 0.7966009    & 6.055227e-10 & 1.295369e-09 & 2.771130e-09\\\\\n",
       "\t 20           & 10           & 0.2583999    & -0.26940386  & 0.5240399    & 1.3174837    & 2.601288e-12 & 5.055268e-11 & 9.824262e-10\\\\\n",
       "\t 30           & 10           & 0.6684783    &  0.24811485  & 1.3029740    & 2.3578331    & 1.243065e-12 & 6.621256e-11 & 3.526848e-09\\\\\n",
       "\t 10           & 20           & 0.8748589    &  0.50198870  & 0.7583156    & 1.0146425    & 5.545570e-09 & 1.446179e-08 & 3.771359e-08\\\\\n",
       "\t 20           & 20           & 0.7565821    &  0.27936006  & 0.5665907    & 0.8538214    & 1.893969e-10 & 5.544170e-10 & 1.622932e-09\\\\\n",
       "\t 30           & 20           & 0.1783725    & -0.34427925  & 0.3749634    & 1.0942060    & 3.018594e-12 & 4.444854e-11 & 6.545008e-10\\\\\n",
       "\t 10           & 30           & 0.9580157    &  0.90376816  & 1.1117806    & 1.3197930    & 8.939280e-08 & 1.945877e-07 & 4.235732e-07\\\\\n",
       "\t 20           & 30           & 0.6434511    &  0.18871252  & 0.5638192    & 0.9389258    & 6.433785e-10 & 2.616021e-09 & 1.063692e-08\\\\\n",
       "\t 30           & 30           & 0.3652298    & -0.03750754  & 0.2104182    & 0.4583438    & 1.324430e-10 & 3.347044e-10 & 8.458507e-10\\\\\n",
       "\\end{tabular}\n"
      ],
      "text/markdown": [
       "\n",
       "| Depth | Temperature | r_sq | h_ll | h | h_ul | k1_ll | k1 | k1_ul |\n",
       "|---|---|---|---|---|---|---|---|---|\n",
       "| 10           | 10           | 0.8717506    |  0.38987373  | 0.5932373    | 0.7966009    | 6.055227e-10 | 1.295369e-09 | 2.771130e-09 |\n",
       "| 20           | 10           | 0.2583999    | -0.26940386  | 0.5240399    | 1.3174837    | 2.601288e-12 | 5.055268e-11 | 9.824262e-10 |\n",
       "| 30           | 10           | 0.6684783    |  0.24811485  | 1.3029740    | 2.3578331    | 1.243065e-12 | 6.621256e-11 | 3.526848e-09 |\n",
       "| 10           | 20           | 0.8748589    |  0.50198870  | 0.7583156    | 1.0146425    | 5.545570e-09 | 1.446179e-08 | 3.771359e-08 |\n",
       "| 20           | 20           | 0.7565821    |  0.27936006  | 0.5665907    | 0.8538214    | 1.893969e-10 | 5.544170e-10 | 1.622932e-09 |\n",
       "| 30           | 20           | 0.1783725    | -0.34427925  | 0.3749634    | 1.0942060    | 3.018594e-12 | 4.444854e-11 | 6.545008e-10 |\n",
       "| 10           | 30           | 0.9580157    |  0.90376816  | 1.1117806    | 1.3197930    | 8.939280e-08 | 1.945877e-07 | 4.235732e-07 |\n",
       "| 20           | 30           | 0.6434511    |  0.18871252  | 0.5638192    | 0.9389258    | 6.433785e-10 | 2.616021e-09 | 1.063692e-08 |\n",
       "| 30           | 30           | 0.3652298    | -0.03750754  | 0.2104182    | 0.4583438    | 1.324430e-10 | 3.347044e-10 | 8.458507e-10 |\n",
       "\n"
      ],
      "text/plain": [
       "  Depth Temperature r_sq      h_ll        h         h_ul      k1_ll       \n",
       "1 10    10          0.8717506  0.38987373 0.5932373 0.7966009 6.055227e-10\n",
       "2 20    10          0.2583999 -0.26940386 0.5240399 1.3174837 2.601288e-12\n",
       "3 30    10          0.6684783  0.24811485 1.3029740 2.3578331 1.243065e-12\n",
       "4 10    20          0.8748589  0.50198870 0.7583156 1.0146425 5.545570e-09\n",
       "5 20    20          0.7565821  0.27936006 0.5665907 0.8538214 1.893969e-10\n",
       "6 30    20          0.1783725 -0.34427925 0.3749634 1.0942060 3.018594e-12\n",
       "7 10    30          0.9580157  0.90376816 1.1117806 1.3197930 8.939280e-08\n",
       "8 20    30          0.6434511  0.18871252 0.5638192 0.9389258 6.433785e-10\n",
       "9 30    30          0.3652298 -0.03750754 0.2104182 0.4583438 1.324430e-10\n",
       "  k1           k1_ul       \n",
       "1 1.295369e-09 2.771130e-09\n",
       "2 5.055268e-11 9.824262e-10\n",
       "3 6.621256e-11 3.526848e-09\n",
       "4 1.446179e-08 3.771359e-08\n",
       "5 5.544170e-10 1.622932e-09\n",
       "6 4.444854e-11 6.545008e-10\n",
       "7 1.945877e-07 4.235732e-07\n",
       "8 2.616021e-09 1.063692e-08\n",
       "9 3.347044e-10 8.458507e-10"
      ]
     },
     "metadata": {},
     "output_type": "display_data"
    }
   ],
   "source": [
    "fractal_temperature_kinetics <- fractal_temperature_kinetics %>%\n",
    "  mutate(h_ll = -slope_ul,\n",
    "         h = -slope,\n",
    "         h_ul = -slope_ll,\n",
    "         k1_ll = 10^intercept_ll,\n",
    "         k1 = 10^intercept,\n",
    "         k1_ul = 10^intercept_ul) %>%\n",
    "  select(`Depth`,\n",
    "         Temperature,\n",
    "         r_sq,\n",
    "         h_ll, h, h_ul,\n",
    "         k1_ll, k1, k1_ul)\n",
    "fractal_temperature_kinetics"
   ]
  },
  {
   "cell_type": "code",
   "execution_count": 38,
   "metadata": {},
   "outputs": [],
   "source": [
    "New.labs <- c(\"Temperature:10°C\", \"Temperature:20°C\", \"Temperature:30°C\")\n",
    "names(New.labs) <- c(\"10\", \"20\", \"30\")\n",
    "\n",
    "New.labs_b <-  c(\"Depth:[0-10] cm\", \"Depth:[10-20] cm\", \"Depth:[20-30] cm\")\n",
    "names(New.labs_b) <- c(\"10\", \"20\", \"30\")"
   ]
  },
  {
   "cell_type": "code",
   "execution_count": 39,
   "metadata": {},
   "outputs": [
    {
     "data": {
      "image/png": "[encoded data removed]",
      "text/plain": [
       "plot without title"
      ]
     },
     "metadata": {},
     "output_type": "display_data"
    }
   ],
   "source": [
    "options(repr.plot.width = 12, repr.plot.height = 10)\n",
    "plot <- data_median_fractal_temperature %>%\n",
    "  ggplot(aes(x = log.time, y  = lnK)) +\n",
    "  geom_point() + geom_smooth(method = \"lm\") +\n",
    "  facet_grid(`Depth` ~ `Temperature`, labeller = labeller(`Depth` = New.labs_b, `Temperature` = New.labs)) +\n",
    "  geom_text(data = fractal_temperature_kinetics,\n",
    "            parse = TRUE,\n",
    "            aes(label = paste(\"italic(h) ==\", round(h, 1), \"%+-%\", round(h-h_ll, 1))), size = 4.5,\n",
    "            x = 1, y = -12.96) +\n",
    "  geom_text(data = fractal_temperature_kinetics,  \n",
    "            parse = TRUE,\n",
    "            aes(label = paste(\"italic(k[1]) ==\", round(k1, 11), \"%+-%\", round(k1-k1_ll, 11))), size = 4.5,\n",
    "            x = 1.62, y = -12.96) +\n",
    "\n",
    "geom_text(data = fractal_temperature_kinetics,\n",
    "          parse = TRUE,\n",
    "          aes(label = paste((\"R^2 ==\"), round(r_sq, 2))), size = 4.5,                 \n",
    "           x = 1, y = -12) + \n",
    "labs(x = expression(paste(\"log.\", italic(\"t\"))), y = expression(paste(\"log.\", italic(\"k\")))) +\n",
    "  theme_bw()\n",
    "plot +                                                              \n",
    "  theme(strip.text = element_text(size = 16), axis.text=element_text(size=16),\n",
    "        axis.title=element_text(size=16,face=\"bold\")) +\n",
    "\n",
    "ggsave(\"figures/Fractal first order parameters of carbon decomposition across temperature and depth.png\", width = 12, height = 10, dpi = 150)"
   ]
  },
  {
   "cell_type": "code",
   "execution_count": 40,
   "metadata": {},
   "outputs": [],
   "source": [
    "lm_h <- lm(h ~ Temperature + Depth , data = fractal_temperature_kinetics) #[-c(2,6,9),]"
   ]
  },
  {
   "cell_type": "code",
   "execution_count": 41,
   "metadata": {},
   "outputs": [
    {
     "data": {
      "text/html": [
       "<table>\n",
       "<thead><tr><th scope=col>Depth</th><th scope=col>Temperature</th><th scope=col>r_sq</th><th scope=col>h_ll</th><th scope=col>h</th><th scope=col>h_ul</th><th scope=col>k1_ll</th><th scope=col>k1</th><th scope=col>k1_ul</th></tr></thead>\n",
       "<tbody>\n",
       "\t<tr><td>10          </td><td>10          </td><td>0.8717506   </td><td> 0.38987373 </td><td>0.5932373   </td><td>0.7966009   </td><td>6.055227e-10</td><td>1.295369e-09</td><td>2.771130e-09</td></tr>\n",
       "\t<tr><td>20          </td><td>10          </td><td>0.2583999   </td><td>-0.26940386 </td><td>0.5240399   </td><td>1.3174837   </td><td>2.601288e-12</td><td>5.055268e-11</td><td>9.824262e-10</td></tr>\n",
       "\t<tr><td>30          </td><td>10          </td><td>0.6684783   </td><td> 0.24811485 </td><td>1.3029740   </td><td>2.3578331   </td><td>1.243065e-12</td><td>6.621256e-11</td><td>3.526848e-09</td></tr>\n",
       "\t<tr><td>10          </td><td>20          </td><td>0.8748589   </td><td> 0.50198870 </td><td>0.7583156   </td><td>1.0146425   </td><td>5.545570e-09</td><td>1.446179e-08</td><td>3.771359e-08</td></tr>\n",
       "\t<tr><td>20          </td><td>20          </td><td>0.7565821   </td><td> 0.27936006 </td><td>0.5665907   </td><td>0.8538214   </td><td>1.893969e-10</td><td>5.544170e-10</td><td>1.622932e-09</td></tr>\n",
       "\t<tr><td>30          </td><td>20          </td><td>0.1783725   </td><td>-0.34427925 </td><td>0.3749634   </td><td>1.0942060   </td><td>3.018594e-12</td><td>4.444854e-11</td><td>6.545008e-10</td></tr>\n",
       "\t<tr><td>10          </td><td>30          </td><td>0.9580157   </td><td> 0.90376816 </td><td>1.1117806   </td><td>1.3197930   </td><td>8.939280e-08</td><td>1.945877e-07</td><td>4.235732e-07</td></tr>\n",
       "\t<tr><td>20          </td><td>30          </td><td>0.6434511   </td><td> 0.18871252 </td><td>0.5638192   </td><td>0.9389258   </td><td>6.433785e-10</td><td>2.616021e-09</td><td>1.063692e-08</td></tr>\n",
       "\t<tr><td>30          </td><td>30          </td><td>0.3652298   </td><td>-0.03750754 </td><td>0.2104182   </td><td>0.4583438   </td><td>1.324430e-10</td><td>3.347044e-10</td><td>8.458507e-10</td></tr>\n",
       "</tbody>\n",
       "</table>\n"
      ],
      "text/latex": [
       "\\begin{tabular}{r|lllllllll}\n",
       " Depth & Temperature & r\\_sq & h\\_ll & h & h\\_ul & k1\\_ll & k1 & k1\\_ul\\\\\n",
       "\\hline\n",
       "\t 10           & 10           & 0.8717506    &  0.38987373  & 0.5932373    & 0.7966009    & 6.055227e-10 & 1.295369e-09 & 2.771130e-09\\\\\n",
       "\t 20           & 10           & 0.2583999    & -0.26940386  & 0.5240399    & 1.3174837    & 2.601288e-12 & 5.055268e-11 & 9.824262e-10\\\\\n",
       "\t 30           & 10           & 0.6684783    &  0.24811485  & 1.3029740    & 2.3578331    & 1.243065e-12 & 6.621256e-11 & 3.526848e-09\\\\\n",
       "\t 10           & 20           & 0.8748589    &  0.50198870  & 0.7583156    & 1.0146425    & 5.545570e-09 & 1.446179e-08 & 3.771359e-08\\\\\n",
       "\t 20           & 20           & 0.7565821    &  0.27936006  & 0.5665907    & 0.8538214    & 1.893969e-10 & 5.544170e-10 & 1.622932e-09\\\\\n",
       "\t 30           & 20           & 0.1783725    & -0.34427925  & 0.3749634    & 1.0942060    & 3.018594e-12 & 4.444854e-11 & 6.545008e-10\\\\\n",
       "\t 10           & 30           & 0.9580157    &  0.90376816  & 1.1117806    & 1.3197930    & 8.939280e-08 & 1.945877e-07 & 4.235732e-07\\\\\n",
       "\t 20           & 30           & 0.6434511    &  0.18871252  & 0.5638192    & 0.9389258    & 6.433785e-10 & 2.616021e-09 & 1.063692e-08\\\\\n",
       "\t 30           & 30           & 0.3652298    & -0.03750754  & 0.2104182    & 0.4583438    & 1.324430e-10 & 3.347044e-10 & 8.458507e-10\\\\\n",
       "\\end{tabular}\n"
      ],
      "text/markdown": [
       "\n",
       "| Depth | Temperature | r_sq | h_ll | h | h_ul | k1_ll | k1 | k1_ul |\n",
       "|---|---|---|---|---|---|---|---|---|\n",
       "| 10           | 10           | 0.8717506    |  0.38987373  | 0.5932373    | 0.7966009    | 6.055227e-10 | 1.295369e-09 | 2.771130e-09 |\n",
       "| 20           | 10           | 0.2583999    | -0.26940386  | 0.5240399    | 1.3174837    | 2.601288e-12 | 5.055268e-11 | 9.824262e-10 |\n",
       "| 30           | 10           | 0.6684783    |  0.24811485  | 1.3029740    | 2.3578331    | 1.243065e-12 | 6.621256e-11 | 3.526848e-09 |\n",
       "| 10           | 20           | 0.8748589    |  0.50198870  | 0.7583156    | 1.0146425    | 5.545570e-09 | 1.446179e-08 | 3.771359e-08 |\n",
       "| 20           | 20           | 0.7565821    |  0.27936006  | 0.5665907    | 0.8538214    | 1.893969e-10 | 5.544170e-10 | 1.622932e-09 |\n",
       "| 30           | 20           | 0.1783725    | -0.34427925  | 0.3749634    | 1.0942060    | 3.018594e-12 | 4.444854e-11 | 6.545008e-10 |\n",
       "| 10           | 30           | 0.9580157    |  0.90376816  | 1.1117806    | 1.3197930    | 8.939280e-08 | 1.945877e-07 | 4.235732e-07 |\n",
       "| 20           | 30           | 0.6434511    |  0.18871252  | 0.5638192    | 0.9389258    | 6.433785e-10 | 2.616021e-09 | 1.063692e-08 |\n",
       "| 30           | 30           | 0.3652298    | -0.03750754  | 0.2104182    | 0.4583438    | 1.324430e-10 | 3.347044e-10 | 8.458507e-10 |\n",
       "\n"
      ],
      "text/plain": [
       "  Depth Temperature r_sq      h_ll        h         h_ul      k1_ll       \n",
       "1 10    10          0.8717506  0.38987373 0.5932373 0.7966009 6.055227e-10\n",
       "2 20    10          0.2583999 -0.26940386 0.5240399 1.3174837 2.601288e-12\n",
       "3 30    10          0.6684783  0.24811485 1.3029740 2.3578331 1.243065e-12\n",
       "4 10    20          0.8748589  0.50198870 0.7583156 1.0146425 5.545570e-09\n",
       "5 20    20          0.7565821  0.27936006 0.5665907 0.8538214 1.893969e-10\n",
       "6 30    20          0.1783725 -0.34427925 0.3749634 1.0942060 3.018594e-12\n",
       "7 10    30          0.9580157  0.90376816 1.1117806 1.3197930 8.939280e-08\n",
       "8 20    30          0.6434511  0.18871252 0.5638192 0.9389258 6.433785e-10\n",
       "9 30    30          0.3652298 -0.03750754 0.2104182 0.4583438 1.324430e-10\n",
       "  k1           k1_ul       \n",
       "1 1.295369e-09 2.771130e-09\n",
       "2 5.055268e-11 9.824262e-10\n",
       "3 6.621256e-11 3.526848e-09\n",
       "4 1.446179e-08 3.771359e-08\n",
       "5 5.544170e-10 1.622932e-09\n",
       "6 4.444854e-11 6.545008e-10\n",
       "7 1.945877e-07 4.235732e-07\n",
       "8 2.616021e-09 1.063692e-08\n",
       "9 3.347044e-10 8.458507e-10"
      ]
     },
     "metadata": {},
     "output_type": "display_data"
    }
   ],
   "source": [
    "fractal_temperature_kinetics"
   ]
  },
  {
   "cell_type": "code",
   "execution_count": 42,
   "metadata": {},
   "outputs": [
    {
     "ename": "ERROR",
     "evalue": "Error in is.data.frame(data): objet 'df_mm' introuvable\n",
     "output_type": "error",
     "traceback": [
      "Error in is.data.frame(data): objet 'df_mm' introuvable\nTraceback:\n",
      "1. lme(fixed = h ~ Ntype + Ndose * tea, random = ~1 | Farm/Site, \n .     data = df_mm)",
      "2. lme.formula(fixed = h ~ Ntype + Ndose * tea, random = ~1 | Farm/Site, \n .     data = df_mm)",
      "3. is.data.frame(data)"
     ]
    }
   ],
   "source": [
    "lme(fixed = h ~ Ntype + Ndose * tea,\n",
    "                     random = ~ 1 | Farm/Site,\n",
    "                     data = df_mm)"
   ]
  },
  {
   "cell_type": "code",
   "execution_count": null,
   "metadata": {},
   "outputs": [],
   "source": [
    "summary(lm_h)"
   ]
  },
  {
   "cell_type": "code",
   "execution_count": null,
   "metadata": {},
   "outputs": [],
   "source": [
    "summary(lm_h)$coefficients[,4]"
   ]
  },
  {
   "cell_type": "markdown",
   "metadata": {},
   "source": [
    "## Carbon credit"
   ]
  },
  {
   "cell_type": "markdown",
   "metadata": {},
   "source": [
    "### Import data"
   ]
  },
  {
   "cell_type": "code",
   "execution_count": null,
   "metadata": {},
   "outputs": [],
   "source": [
    "data_carbon_credit <- read_csv2('data/data_carbon_credit.csv')"
   ]
  },
  {
   "cell_type": "code",
   "execution_count": null,
   "metadata": {},
   "outputs": [],
   "source": [
    "`Sandy initial C stock(kg ha-1) A9` <- 0.2 * 1507.6 * 10000 * 0.2 / 100 # remplissage siteA9\n",
    "`Sandy initial C stock(kg ha-1) 45` <- 0.2 * 1697.3 * 10000 * 0.2 / 100  # remplissage site45\n",
    "`Sandy initial C stock(kg ha-1) A9`\n",
    "`Sandy initial C stock(kg ha-1) 45`"
   ]
  },
  {
   "cell_type": "code",
   "execution_count": null,
   "metadata": {},
   "outputs": [],
   "source": [
    "data_carbon_credit <- data_carbon_credit %>%\n",
    "mutate(`Soil mass Mg ha-1` = `Bulk density(kg m-3)` * 10 * 0.1 * (1- `Carbone(%)`/100), \n",
    "       `Carbon kg m-2` = `Bulk density(kg m-3)` * 0.1 * `Carbone(%)`/100,\n",
    "       `C stock(kg ha-1)` = `Carbone(%)` * 0.1 * `Bulk density(kg m-3)` * 10000 / 100)"
   ]
  },
  {
   "cell_type": "code",
   "execution_count": null,
   "metadata": {},
   "outputs": [],
   "source": [
    "data_carbon_credit$LogC <- log10(data_carbon_credit$`C stock(kg ha-1)`)"
   ]
  },
  {
   "cell_type": "code",
   "execution_count": null,
   "metadata": {},
   "outputs": [],
   "source": [
    "data_carbon_credit"
   ]
  },
  {
   "cell_type": "markdown",
   "metadata": {},
   "source": [
    "## Linear regression"
   ]
  },
  {
   "cell_type": "code",
   "execution_count": null,
   "metadata": {},
   "outputs": [],
   "source": [
    "data_carbon_credit <- data_carbon_credit %>%\n",
    "  rename(C_stock = `C stock(kg ha-1)`,\n",
    "         Depth = `Deph(cm)`)\n",
    "\n",
    "\n",
    "C_mm <- lme(fixed = LogC ~ Depth,\n",
    "                     random = ~ 1 | Location,\n",
    "                     data = data_carbon_credit)"
   ]
  },
  {
   "cell_type": "code",
   "execution_count": null,
   "metadata": {},
   "outputs": [],
   "source": [
    "summary(C_mm)"
   ]
  },
  {
   "cell_type": "code",
   "execution_count": null,
   "metadata": {},
   "outputs": [],
   "source": [
    "pseudoR2(y = data_carbon_credit$LogC,\n",
    "         y_hat = predict(C_mm, level = 0))\n",
    "\n",
    "pseudoR2(y = data_carbon_credit$LogC,\n",
    "         y_hat = predict(C_mm, level = 1))"
   ]
  },
  {
   "cell_type": "code",
   "execution_count": null,
   "metadata": {},
   "outputs": [],
   "source": [
    "options(repr.plot.width = 6, repr.plot.height = 4)\n",
    "residues(C_mm)"
   ]
  },
  {
   "cell_type": "markdown",
   "metadata": {},
   "source": [
    "Reporting the results of the mixed models"
   ]
  },
  {
   "cell_type": "markdown",
   "metadata": {},
   "source": [
    "I create a table including the results I need: estimates, confidence intervals and p-values."
   ]
  },
  {
   "cell_type": "code",
   "execution_count": null,
   "metadata": {},
   "outputs": [],
   "source": [
    "C_gg <- data.frame(intervals(C_mm, which = \"fixed\")$fixed)\n",
    "C_gg <- C_gg %>%\n",
    "  mutate(variable = rownames(C_gg))\n",
    "C_gg <- C_gg %>%\n",
    "  mutate(pvalue = summary(C_mm)$tTable[, 5],\n",
    "         is_significant = ifelse(pvalue <= 0.05, 'Significant at 0.05 level', 'Not significant at 0.05 level'))\n",
    "C_gg$variable <- c(\"Intercept\", 'Depth[10-20] cm', 'Depth[20-30] cm')\n",
    "C_gg"
   ]
  },
  {
   "cell_type": "markdown",
   "metadata": {},
   "source": [
    "Adding random effects to the table."
   ]
  },
  {
   "cell_type": "code",
   "execution_count": null,
   "metadata": {},
   "outputs": [],
   "source": [
    "C_re <- data.frame(matrix(ncol = ncol(C_gg), nrow = 2))\n",
    "names(C_re) <- names(C_gg)\n",
    "C_re$est. <- c(ranef(C_mm)$`(Intercept)`)\n",
    "C_re$variable <- c(rownames(ranef(C_mm)))\n",
    "C_re\n",
    "\n",
    "C_gg <- bind_rows(C_gg, C_re) # with an if to make sure ranefs are stacked only once"
   ]
  },
  {
   "cell_type": "code",
   "execution_count": null,
   "metadata": {},
   "outputs": [],
   "source": [
    "C_gg"
   ]
  },
  {
   "cell_type": "markdown",
   "metadata": {},
   "source": [
    "Create a facet column to separate effects by effect category in the plot."
   ]
  },
  {
   "cell_type": "code",
   "execution_count": null,
   "metadata": {},
   "outputs": [],
   "source": [
    "C_gg$facet <- factor(c('Intercept',\n",
    "                        'Depth', 'Depth', 'Random effect', 'Random effect'))\n",
    "C_gg <- C_gg %>%\n",
    "  mutate(facet = factor(facet, levels = rev(c(\"Random effect\", \"Depth\"))))"
   ]
  },
  {
   "cell_type": "raw",
   "metadata": {},
   "source": [
    "The `C_gg` table is now set up for the plot."
   ]
  },
  {
   "cell_type": "code",
   "execution_count": null,
   "metadata": {},
   "outputs": [],
   "source": [
    "options(repr.plot.width = 12, repr.plot.height = 6)\n",
    "C_gg %>%\n",
    "  filter(variable != \"Intercept\") %>%\n",
    "  ggplot(aes(x = est., y = variable)) +\n",
    "  facet_grid(facet ~ ., scales = 'free', space = 'free') +\n",
    "  geom_vline(xintercept = 0, colour='grey70') +\n",
    "  geom_point() +\n",
    "  geom_segment(aes(x = lower, xend = upper, y = variable, yend = variable)) +\n",
    "  xlab('Coefficient') +\n",
    "  ylab('') +\n",
    "  theme_bw() +\n",
    "  theme(strip.text.y = element_text(angle=0),\n",
    "        legend.title = element_blank(),\n",
    "        legend.position = \"bottom\",\n",
    "        text = element_text(size = 20)) #+\n",
    "  ggsave(\"figures/mixed-model-C_stock.png\", width = 8, height = 6, dpi = 600)"
   ]
  },
  {
   "cell_type": "code",
   "execution_count": null,
   "metadata": {},
   "outputs": [],
   "source": [
    "data_0_30 <- aggregate(cbind(`Soil mass Mg ha-1`, `C_stock`) ~ Location + `0_30_ID` , data = data_carbon_credit, FUN = sum)\n",
    "data_0_30"
   ]
  },
  {
   "cell_type": "code",
   "execution_count": null,
   "metadata": {},
   "outputs": [],
   "source": [
    "data_0_30"
   ]
  },
  {
   "cell_type": "code",
   "execution_count": null,
   "metadata": {},
   "outputs": [],
   "source": [
    "Mean <- aggregate(cbind(`Soil mass Mg ha-1`, `C_stock`) ~ Location, data = data_0_30, FUN = mean)\n",
    "Mean\n",
    "sd <- aggregate(cbind(`Soil mass Mg ha-1`, `C_stock`) ~ Location, data = data_0_30, FUN = sd)\n",
    "sd"
   ]
  },
  {
   "cell_type": "markdown",
   "metadata": {},
   "source": [
    "## Cranberry sand carbon content"
   ]
  },
  {
   "cell_type": "markdown",
   "metadata": {},
   "source": [
    "### Carbon percentage"
   ]
  },
  {
   "cell_type": "code",
   "execution_count": null,
   "metadata": {},
   "outputs": [],
   "source": [
    "C_perc_A9 <- 0.30\n",
    "C_perc_45 <- 0.14"
   ]
  },
  {
   "cell_type": "markdown",
   "metadata": {},
   "source": [
    "### Ellert Factor"
   ]
  },
  {
   "cell_type": "code",
   "execution_count": null,
   "metadata": {},
   "outputs": [],
   "source": [
    "Ellert_A9 <- Mean[2,2] / (max(data_carbon_credit[1:12,]$`Bulk density(kg m-3)`) * 10 * 0.3 * (1 - C_perc_A9/100))\n",
    "Ellert_45 <- Mean[1,2] / (max(data_carbon_credit[12:24,]$`Bulk density(kg m-3)`) * 10 * 0.3 * (1 - C_perc_A9/100))\n",
    "Ellert_A9\n",
    "Ellert_45"
   ]
  },
  {
   "cell_type": "code",
   "execution_count": null,
   "metadata": {},
   "outputs": [],
   "source": [
    "Sand_carbon_content_A9 <- (max(data_carbon_credit[1:12,]$`Bulk density(kg m-3)`)) * 0.3 * 10000 * (C_perc_A9/100) * Ellert_A9\n",
    "Sand_carbon_content_A9\n",
    "Sand_carbon_content_45 <- (max(data_carbon_credit[12:24,]$`Bulk density(kg m-3)`)) * 0.3 * 10000 * (C_perc_45/100) * Ellert_45\n",
    "Sand_carbon_content_45"
   ]
  },
  {
   "cell_type": "markdown",
   "metadata": {},
   "source": [
    "### Carbon gain "
   ]
  },
  {
   "cell_type": "code",
   "execution_count": null,
   "metadata": {},
   "outputs": [],
   "source": [
    "Gain_A9 <- Mean[2,3] - Carbon_content_A9\n",
    "Gain_A9\n",
    "Gain_45 <- Mean[1,3] - Carbon_content_45\n",
    "Gain_45"
   ]
  },
  {
   "cell_type": "markdown",
   "metadata": {},
   "source": [
    "### Experimental Sites ages"
   ]
  },
  {
   "cell_type": "code",
   "execution_count": null,
   "metadata": {},
   "outputs": [],
   "source": [
    "Site45_age <- 19\n",
    "SiteA9_age <- 14"
   ]
  },
  {
   "cell_type": "markdown",
   "metadata": {},
   "source": [
    "### Carbon accumulation per year"
   ]
  },
  {
   "cell_type": "code",
   "execution_count": null,
   "metadata": {},
   "outputs": [],
   "source": [
    " Gain_45 / Site45_age # Site45 carbon accumulation per year\n",
    " Gain_A9 / SiteA9_age # SiteA9 carbon accumulation per year"
   ]
  },
  {
   "cell_type": "code",
   "execution_count": null,
   "metadata": {},
   "outputs": [],
   "source": [
    "Stock_carbon <- aggregate(`C stock(kg ha-1)` ~ Location + `Deph(cm)` , data = data_carbon_credit, FUN = mean)\n",
    "Stock_carbon"
   ]
  },
  {
   "cell_type": "code",
   "execution_count": null,
   "metadata": {},
   "outputs": [],
   "source": [
    "Stock_carbon_45 <- subset(Stock_carbon, Location == \"Site 45\")\n",
    "Stock_carbon_A9 <- subset(Stock_carbon, Location == \"Site A9\")\n",
    "Stock_carbon_45$`Accumulated carbon (kg ha-1 year-1)` <- (Stock_carbon_45$`C stock(kg ha-1)` - (Sand_carbon_content_45 / 3)) #/ Site45_age\n",
    "Stock_carbon_A9$`Accumulated carbon (kg ha-1 year-1)` <- (Stock_carbon_A9$`C stock(kg ha-1)` - (Sand_carbon_content_A9 / 3)) #/ SiteA9_age\n",
    "Acumulated_carbon <- rbind(Stock_carbon_45, Stock_carbon_A9)\n",
    "Acumulated_carbon"
   ]
  },
  {
   "cell_type": "code",
   "execution_count": null,
   "metadata": {},
   "outputs": [],
   "source": [
    "options(repr.plot.width = 10, repr.plot.height = 6)\n",
    "ggplot(Acumulated_carbon, aes(x = `Deph(cm)`, y = `Accumulated carbon (kg ha-1 year-1)`)) +\n",
    "#geom_point()+\n",
    "geom_bar(stat=\"identity\", position=\"dodge\") +\n",
    "#geom_smooth(method = \"lm\", formula = y ~ poly(x, 6) , color = 'grey', se = FALSE) + \n",
    "#facet_grid(.~ `Years`, scales = 'free') \n",
    "labs(x = \"Deph(cm)\" , y = expression(\"Accumulated total carbon (kg ha\"^\" -1\"~\"year\"^\" -1\"~\")\"))+\n",
    "facet_grid( .~ Location, scales = 'free')+\n",
    "theme(axis.title.x = element_text(size = 14), \n",
    "  axis.title.y = element_text(size = 14),\n",
    "     legend.text=element_text(size=14)) +\n",
    "theme_bw() +\n",
    "#scale_y_reverse() +\n",
    "ggsave(\"figures/Carbon credit.png\", width = 6, height = 4, dpi = 120)"
   ]
  },
  {
   "cell_type": "code",
   "execution_count": null,
   "metadata": {},
   "outputs": [],
   "source": []
  },
  {
   "cell_type": "code",
   "execution_count": null,
   "metadata": {},
   "outputs": [],
   "source": []
  },
  {
   "cell_type": "code",
   "execution_count": null,
   "metadata": {},
   "outputs": [],
   "source": []
  },
  {
   "cell_type": "code",
   "execution_count": null,
   "metadata": {},
   "outputs": [],
   "source": []
  },
  {
   "cell_type": "code",
   "execution_count": null,
   "metadata": {},
   "outputs": [],
   "source": []
  },
  {
   "cell_type": "code",
   "execution_count": null,
   "metadata": {},
   "outputs": [],
   "source": []
  }
 ],
 "metadata": {
  "kernelspec": {
   "display_name": "R",
   "language": "R",
   "name": "ir"
  },
  "language_info": {
   "codemirror_mode": "r",
   "file_extension": ".r",
   "mimetype": "text/x-r-source",
   "name": "R",
   "pygments_lexer": "r",
   "version": "3.6.1"
  }
 },
 "nbformat": 4,
 "nbformat_minor": 4
}
